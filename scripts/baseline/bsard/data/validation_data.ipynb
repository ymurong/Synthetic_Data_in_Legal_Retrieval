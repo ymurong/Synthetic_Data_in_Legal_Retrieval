{
 "cells": [
  {
   "cell_type": "code",
   "execution_count": 4,
   "id": "initial_id",
   "metadata": {
    "collapsed": true,
    "ExecuteTime": {
     "end_time": "2024-05-08T14:39:38.020246100Z",
     "start_time": "2024-05-08T14:39:38.011225700Z"
    }
   },
   "outputs": [],
   "source": [
    "import pandas as pd\n",
    "df_train = pd.read_csv(\"questions_fr_train.csv\")"
   ]
  },
  {
   "cell_type": "code",
   "execution_count": 6,
   "outputs": [],
   "source": [
    "df_train_step_by_step = df_train.sample(frac=0.4,random_state=42) #fraction can be ablated\n",
    "df_validation_step_by_step = df_train[~df_train.index.isin(df_train_step_by_step.index)]"
   ],
   "metadata": {
    "collapsed": false,
    "ExecuteTime": {
     "end_time": "2024-05-08T14:39:57.698233800Z",
     "start_time": "2024-05-08T14:39:57.682600600Z"
    }
   },
   "id": "8ec49c569ce938ce"
  },
  {
   "cell_type": "code",
   "execution_count": 7,
   "outputs": [],
   "source": [
    "df_train_step_by_step.to_csv(\"questions_fr_train_step_by_step_frac_4_6.csv\", index=False)\n",
    "df_validation_step_by_step.to_csv(\"questions_fr_validation_step_by_step_frac_4_6.csv\",index=False)"
   ],
   "metadata": {
    "collapsed": false,
    "ExecuteTime": {
     "end_time": "2024-05-08T14:39:58.109376400Z",
     "start_time": "2024-05-08T14:39:58.077345400Z"
    }
   },
   "id": "7b707201acdec50f"
  },
  {
   "cell_type": "code",
   "execution_count": null,
   "outputs": [],
   "source": [],
   "metadata": {
    "collapsed": false
   },
   "id": "de37ed2006ef0074"
  }
 ],
 "metadata": {
  "kernelspec": {
   "display_name": "Python 3",
   "language": "python",
   "name": "python3"
  },
  "language_info": {
   "codemirror_mode": {
    "name": "ipython",
    "version": 2
   },
   "file_extension": ".py",
   "mimetype": "text/x-python",
   "name": "python",
   "nbconvert_exporter": "python",
   "pygments_lexer": "ipython2",
   "version": "2.7.6"
  }
 },
 "nbformat": 4,
 "nbformat_minor": 5
}
