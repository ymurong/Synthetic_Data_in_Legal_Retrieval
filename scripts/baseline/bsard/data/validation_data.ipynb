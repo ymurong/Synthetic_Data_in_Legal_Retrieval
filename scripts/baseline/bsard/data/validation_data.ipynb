{
 "cells": [
  {
   "cell_type": "code",
   "execution_count": 3,
   "id": "initial_id",
   "metadata": {
    "collapsed": true,
    "ExecuteTime": {
     "end_time": "2024-05-02T20:16:52.360687700Z",
     "start_time": "2024-05-02T20:16:52.334415400Z"
    }
   },
   "outputs": [],
   "source": [
    "import pandas as pd\n",
    "df_train = pd.read_csv(\"questions_fr_train.csv\")"
   ]
  },
  {
   "cell_type": "code",
   "execution_count": 6,
   "outputs": [],
   "source": [
    "df_train_step_by_step = df_train.sample(frac=0.8,random_state=42)\n",
    "df_validation_step_by_step = df_train[~df_train.index.isin(df_train_step_by_step.index)]"
   ],
   "metadata": {
    "collapsed": false,
    "ExecuteTime": {
     "end_time": "2024-05-02T20:19:33.703333500Z",
     "start_time": "2024-05-02T20:19:33.683250400Z"
    }
   },
   "id": "8ec49c569ce938ce"
  },
  {
   "cell_type": "code",
   "execution_count": 9,
   "outputs": [],
   "source": [
    "df_train_step_by_step.to_csv(\"questions_fr_train_step_by_step.csv\", index=False)\n",
    "df_validation_step_by_step.to_csv(\"questions_fr_validation_step_by_step.csv\",index=False)"
   ],
   "metadata": {
    "collapsed": false,
    "ExecuteTime": {
     "end_time": "2024-05-02T20:50:47.373688600Z",
     "start_time": "2024-05-02T20:50:47.358034600Z"
    }
   },
   "id": "7b707201acdec50f"
  },
  {
   "cell_type": "code",
   "execution_count": null,
   "outputs": [],
   "source": [],
   "metadata": {
    "collapsed": false
   },
   "id": "de37ed2006ef0074"
  }
 ],
 "metadata": {
  "kernelspec": {
   "display_name": "Python 3",
   "language": "python",
   "name": "python3"
  },
  "language_info": {
   "codemirror_mode": {
    "name": "ipython",
    "version": 2
   },
   "file_extension": ".py",
   "mimetype": "text/x-python",
   "name": "python",
   "nbconvert_exporter": "python",
   "pygments_lexer": "ipython2",
   "version": "2.7.6"
  }
 },
 "nbformat": 4,
 "nbformat_minor": 5
}
