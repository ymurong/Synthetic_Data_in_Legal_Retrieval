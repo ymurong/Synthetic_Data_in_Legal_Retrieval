{
 "cells": [
  {
   "cell_type": "code",
   "execution_count": 1,
   "id": "initial_id",
   "metadata": {
    "collapsed": true,
    "ExecuteTime": {
     "end_time": "2023-11-04T18:01:30.046447500Z",
     "start_time": "2023-11-04T18:01:29.647123Z"
    }
   },
   "outputs": [],
   "source": [
    "import duckdb\n",
    "from pathlib import Path\n",
    "bsard_project_root = Path().resolve().parent\n",
    "articles_fr = bsard_project_root / \"data\" /\"articles_fr.csv\"\n",
    "train = bsard_project_root / \"data\" /\"questions_fr_train.csv\"\n",
    "test = bsard_project_root / \"data\" /\"questions_fr_test.csv\""
   ]
  },
  {
   "cell_type": "code",
   "execution_count": 2,
   "outputs": [
    {
     "data": {
      "text/plain": "<duckdb.DuckDBPyConnection at 0x15f1568dbb0>"
     },
     "execution_count": 2,
     "metadata": {},
     "output_type": "execute_result"
    }
   ],
   "source": [
    "con = duckdb.connect()\n",
    "con.execute(f\"\"\"\n",
    "    CREATE OR REPLACE TABLE articles_fr AS SELECT * FROM '{articles_fr}';\n",
    "\"\"\")\n",
    "con.execute(f\"\"\"\n",
    "    CREATE OR REPLACE TABLE train AS SELECT * FROM '{train}';\n",
    "\"\"\")\n",
    "con.execute(f\"\"\"\n",
    "    CREATE OR REPLACE TABLE test AS SELECT * FROM '{test}';\n",
    "\"\"\")"
   ],
   "metadata": {
    "collapsed": false,
    "ExecuteTime": {
     "end_time": "2023-11-04T18:01:51.545997700Z",
     "start_time": "2023-11-04T18:01:51.243107600Z"
    }
   },
   "id": "69269e341450e768"
  },
  {
   "cell_type": "code",
   "execution_count": 3,
   "outputs": [
    {
     "data": {
      "text/plain": "   column00  id                                          reference  \\\n0         0   1  Art. 1.1.1, Code Bruxellois de l'Air, du Clima...   \n1         1   2  Art. 1.1.2, Code Bruxellois de l'Air, du Clima...   \n2         2   3  Art. 1.2.1, Code Bruxellois de l'Air, du Clima...   \n3         3   4  Art. 1.3.1, Code Bruxellois de l'Air, du Clima...   \n4         4   5  Art. 1.4.1, Code Bruxellois de l'Air, du Clima...   \n\n                                             article  law_type  \\\n0  Le présent Code règle une matière visée à l'ar...  regional   \n1  Le présent Code transpose en Région de Bruxell...  regional   \n2  Le présent Code poursuit les objectifs suivant...  regional   \n3  Au sens du présent Code, il faut entendre par ...  regional   \n4  Le plan régional Air-Climat-énergie, ci-après ...  regional   \n\n                                                code                   book  \\\n0  Code Bruxellois de l'Air, du Climat et de la M...  Dispositions communes   \n1  Code Bruxellois de l'Air, du Climat et de la M...  Dispositions communes   \n2  Code Bruxellois de l'Air, du Climat et de la M...  Dispositions communes   \n3  Code Bruxellois de l'Air, du Climat et de la M...  Dispositions communes   \n4  Code Bruxellois de l'Air, du Climat et de la M...  Dispositions communes   \n\n  part                               act                    chapter section  \\\n0  NaN                       Généralités                        NaN     NaN   \n1  NaN                       Généralités                        NaN     NaN   \n2  NaN                         Objectifs                        NaN     NaN   \n3  NaN                       Définitions                        NaN     NaN   \n4  NaN  Plan régional air-climat-énergie  Contenu et portée du plan     NaN   \n\n  subsection                                        description  \n0        NaN                 Dispositions communes, Généralités  \n1        NaN                 Dispositions communes, Généralités  \n2        NaN                   Dispositions communes, Objectifs  \n3        NaN                 Dispositions communes, Définitions  \n4        NaN  Dispositions communes, Plan régional air-clima...  ",
      "text/html": "<div>\n<style scoped>\n    .dataframe tbody tr th:only-of-type {\n        vertical-align: middle;\n    }\n\n    .dataframe tbody tr th {\n        vertical-align: top;\n    }\n\n    .dataframe thead th {\n        text-align: right;\n    }\n</style>\n<table border=\"1\" class=\"dataframe\">\n  <thead>\n    <tr style=\"text-align: right;\">\n      <th></th>\n      <th>column00</th>\n      <th>id</th>\n      <th>reference</th>\n      <th>article</th>\n      <th>law_type</th>\n      <th>code</th>\n      <th>book</th>\n      <th>part</th>\n      <th>act</th>\n      <th>chapter</th>\n      <th>section</th>\n      <th>subsection</th>\n      <th>description</th>\n    </tr>\n  </thead>\n  <tbody>\n    <tr>\n      <th>0</th>\n      <td>0</td>\n      <td>1</td>\n      <td>Art. 1.1.1, Code Bruxellois de l'Air, du Clima...</td>\n      <td>Le présent Code règle une matière visée à l'ar...</td>\n      <td>regional</td>\n      <td>Code Bruxellois de l'Air, du Climat et de la M...</td>\n      <td>Dispositions communes</td>\n      <td>NaN</td>\n      <td>Généralités</td>\n      <td>NaN</td>\n      <td>NaN</td>\n      <td>NaN</td>\n      <td>Dispositions communes, Généralités</td>\n    </tr>\n    <tr>\n      <th>1</th>\n      <td>1</td>\n      <td>2</td>\n      <td>Art. 1.1.2, Code Bruxellois de l'Air, du Clima...</td>\n      <td>Le présent Code transpose en Région de Bruxell...</td>\n      <td>regional</td>\n      <td>Code Bruxellois de l'Air, du Climat et de la M...</td>\n      <td>Dispositions communes</td>\n      <td>NaN</td>\n      <td>Généralités</td>\n      <td>NaN</td>\n      <td>NaN</td>\n      <td>NaN</td>\n      <td>Dispositions communes, Généralités</td>\n    </tr>\n    <tr>\n      <th>2</th>\n      <td>2</td>\n      <td>3</td>\n      <td>Art. 1.2.1, Code Bruxellois de l'Air, du Clima...</td>\n      <td>Le présent Code poursuit les objectifs suivant...</td>\n      <td>regional</td>\n      <td>Code Bruxellois de l'Air, du Climat et de la M...</td>\n      <td>Dispositions communes</td>\n      <td>NaN</td>\n      <td>Objectifs</td>\n      <td>NaN</td>\n      <td>NaN</td>\n      <td>NaN</td>\n      <td>Dispositions communes, Objectifs</td>\n    </tr>\n    <tr>\n      <th>3</th>\n      <td>3</td>\n      <td>4</td>\n      <td>Art. 1.3.1, Code Bruxellois de l'Air, du Clima...</td>\n      <td>Au sens du présent Code, il faut entendre par ...</td>\n      <td>regional</td>\n      <td>Code Bruxellois de l'Air, du Climat et de la M...</td>\n      <td>Dispositions communes</td>\n      <td>NaN</td>\n      <td>Définitions</td>\n      <td>NaN</td>\n      <td>NaN</td>\n      <td>NaN</td>\n      <td>Dispositions communes, Définitions</td>\n    </tr>\n    <tr>\n      <th>4</th>\n      <td>4</td>\n      <td>5</td>\n      <td>Art. 1.4.1, Code Bruxellois de l'Air, du Clima...</td>\n      <td>Le plan régional Air-Climat-énergie, ci-après ...</td>\n      <td>regional</td>\n      <td>Code Bruxellois de l'Air, du Climat et de la M...</td>\n      <td>Dispositions communes</td>\n      <td>NaN</td>\n      <td>Plan régional air-climat-énergie</td>\n      <td>Contenu et portée du plan</td>\n      <td>NaN</td>\n      <td>NaN</td>\n      <td>Dispositions communes, Plan régional air-clima...</td>\n    </tr>\n  </tbody>\n</table>\n</div>"
     },
     "execution_count": 3,
     "metadata": {},
     "output_type": "execute_result"
    }
   ],
   "source": [
    "con.execute(\"\"\"\n",
    "    select * from articles_fr limit 5;\n",
    "\"\"\").df()"
   ],
   "metadata": {
    "collapsed": false,
    "ExecuteTime": {
     "end_time": "2023-11-04T18:01:52.738090200Z",
     "start_time": "2023-11-04T18:01:51.710910200Z"
    }
   },
   "id": "9499d4979fab215d"
  },
  {
   "cell_type": "code",
   "execution_count": 4,
   "outputs": [
    {
     "data": {
      "text/plain": "   column0    id  category                      subcategory  \\\n0        0  1102   Travail           Travail et parentalité   \n1        1    91    Argent                           Dettes   \n2        2   474   Famille             Situation de couples   \n3        3   836  Logement             Location en Wallonie   \n4        4  1079   Travail  Maladie - incapacité de travail   \n\n                                            question  \\\n0  Je suis travailleur salarié(e). Puis-je refuse...   \n1                  Peut-on saisir tous mes revenus ?   \n2  Je suis marié(e). Nous sommes mariés. Dois-je ...   \n3  Je mets un kot en location (bail de droit comm...   \n4  Suis-je payé pendant la procédure du trajet de...   \n\n                                   extra_description  \\\n0                               Pendant la grossesse   \n1  Procédures de récupération des dettes, Récupér...   \n2                                            Mariage   \n3  Mettre un logement en location (Wallonie), Doi...   \n4  Rupture du contrat de travail pour force majeu...   \n\n                                         article_ids  \n0  22225,22226,22227,22228,22229,22230,22231,2223...  \n1                                     5853,5854,5855  \n2                      1096,1097,1098,1108,1109,1110  \n3          12012,12030,12031,12032,12033,12034,12035  \n4  21114,21115,21116,21117,21118,21119,21120,2112...  ",
      "text/html": "<div>\n<style scoped>\n    .dataframe tbody tr th:only-of-type {\n        vertical-align: middle;\n    }\n\n    .dataframe tbody tr th {\n        vertical-align: top;\n    }\n\n    .dataframe thead th {\n        text-align: right;\n    }\n</style>\n<table border=\"1\" class=\"dataframe\">\n  <thead>\n    <tr style=\"text-align: right;\">\n      <th></th>\n      <th>column0</th>\n      <th>id</th>\n      <th>category</th>\n      <th>subcategory</th>\n      <th>question</th>\n      <th>extra_description</th>\n      <th>article_ids</th>\n    </tr>\n  </thead>\n  <tbody>\n    <tr>\n      <th>0</th>\n      <td>0</td>\n      <td>1102</td>\n      <td>Travail</td>\n      <td>Travail et parentalité</td>\n      <td>Je suis travailleur salarié(e). Puis-je refuse...</td>\n      <td>Pendant la grossesse</td>\n      <td>22225,22226,22227,22228,22229,22230,22231,2223...</td>\n    </tr>\n    <tr>\n      <th>1</th>\n      <td>1</td>\n      <td>91</td>\n      <td>Argent</td>\n      <td>Dettes</td>\n      <td>Peut-on saisir tous mes revenus ?</td>\n      <td>Procédures de récupération des dettes, Récupér...</td>\n      <td>5853,5854,5855</td>\n    </tr>\n    <tr>\n      <th>2</th>\n      <td>2</td>\n      <td>474</td>\n      <td>Famille</td>\n      <td>Situation de couples</td>\n      <td>Je suis marié(e). Nous sommes mariés. Dois-je ...</td>\n      <td>Mariage</td>\n      <td>1096,1097,1098,1108,1109,1110</td>\n    </tr>\n    <tr>\n      <th>3</th>\n      <td>3</td>\n      <td>836</td>\n      <td>Logement</td>\n      <td>Location en Wallonie</td>\n      <td>Je mets un kot en location (bail de droit comm...</td>\n      <td>Mettre un logement en location (Wallonie), Doi...</td>\n      <td>12012,12030,12031,12032,12033,12034,12035</td>\n    </tr>\n    <tr>\n      <th>4</th>\n      <td>4</td>\n      <td>1079</td>\n      <td>Travail</td>\n      <td>Maladie - incapacité de travail</td>\n      <td>Suis-je payé pendant la procédure du trajet de...</td>\n      <td>Rupture du contrat de travail pour force majeu...</td>\n      <td>21114,21115,21116,21117,21118,21119,21120,2112...</td>\n    </tr>\n  </tbody>\n</table>\n</div>"
     },
     "execution_count": 4,
     "metadata": {},
     "output_type": "execute_result"
    }
   ],
   "source": [
    "con.execute(\"\"\"\n",
    "    select * from train  limit 5;\n",
    "\"\"\").df()"
   ],
   "metadata": {
    "collapsed": false,
    "ExecuteTime": {
     "end_time": "2023-11-04T18:01:52.770798600Z",
     "start_time": "2023-11-04T18:01:52.738090200Z"
    }
   },
   "id": "21ea7c2f3299e903"
  },
  {
   "cell_type": "code",
   "execution_count": 5,
   "outputs": [
    {
     "data": {
      "text/plain": "   column0    id            category              subcategory  \\\n0        0   775            Logement  Insalubrité en Wallonie   \n1        1  1053  Protection sociale   Grossesse et naissance   \n2        2    72              Argent                   Dettes   \n3        3   861            Logement     Location à Bruxelles   \n4        4   786            Logement     Location en Wallonie   \n\n                                            question  \\\n0  Quels sont les critères communaux d'insalubrité ?   \n1  A-t-on droit à l'allocation de naissance en ca...   \n2  Quels frais peut-on ajouter lors d'un recouvre...   \n3     Comment se déroule une expulsion à Bruxelles ?   \n4          Peut-on m'expulser en hiver en Wallonie ?   \n\n                                   extra_description  \\\n0                                                NaN   \n1  Allocations familiales et allocation de naissa...   \n2  Procédures de récupération des dettes, Récupér...   \n3  Bail de résidence principale (Bruxelles), Fin ...   \n4  Bail de résidence principale (Wallonie), Fin e...   \n\n                                article_ids  \n0                                     12024  \n1                                   947,948  \n2                            2041,2119,2138  \n3                  5562,5563,5564,5565,5566  \n4  5561,5562,5563,5564,5565,5566,5567,12124  ",
      "text/html": "<div>\n<style scoped>\n    .dataframe tbody tr th:only-of-type {\n        vertical-align: middle;\n    }\n\n    .dataframe tbody tr th {\n        vertical-align: top;\n    }\n\n    .dataframe thead th {\n        text-align: right;\n    }\n</style>\n<table border=\"1\" class=\"dataframe\">\n  <thead>\n    <tr style=\"text-align: right;\">\n      <th></th>\n      <th>column0</th>\n      <th>id</th>\n      <th>category</th>\n      <th>subcategory</th>\n      <th>question</th>\n      <th>extra_description</th>\n      <th>article_ids</th>\n    </tr>\n  </thead>\n  <tbody>\n    <tr>\n      <th>0</th>\n      <td>0</td>\n      <td>775</td>\n      <td>Logement</td>\n      <td>Insalubrité en Wallonie</td>\n      <td>Quels sont les critères communaux d'insalubrité ?</td>\n      <td>NaN</td>\n      <td>12024</td>\n    </tr>\n    <tr>\n      <th>1</th>\n      <td>1</td>\n      <td>1053</td>\n      <td>Protection sociale</td>\n      <td>Grossesse et naissance</td>\n      <td>A-t-on droit à l'allocation de naissance en ca...</td>\n      <td>Allocations familiales et allocation de naissa...</td>\n      <td>947,948</td>\n    </tr>\n    <tr>\n      <th>2</th>\n      <td>2</td>\n      <td>72</td>\n      <td>Argent</td>\n      <td>Dettes</td>\n      <td>Quels frais peut-on ajouter lors d'un recouvre...</td>\n      <td>Procédures de récupération des dettes, Récupér...</td>\n      <td>2041,2119,2138</td>\n    </tr>\n    <tr>\n      <th>3</th>\n      <td>3</td>\n      <td>861</td>\n      <td>Logement</td>\n      <td>Location à Bruxelles</td>\n      <td>Comment se déroule une expulsion à Bruxelles ?</td>\n      <td>Bail de résidence principale (Bruxelles), Fin ...</td>\n      <td>5562,5563,5564,5565,5566</td>\n    </tr>\n    <tr>\n      <th>4</th>\n      <td>4</td>\n      <td>786</td>\n      <td>Logement</td>\n      <td>Location en Wallonie</td>\n      <td>Peut-on m'expulser en hiver en Wallonie ?</td>\n      <td>Bail de résidence principale (Wallonie), Fin e...</td>\n      <td>5561,5562,5563,5564,5565,5566,5567,12124</td>\n    </tr>\n  </tbody>\n</table>\n</div>"
     },
     "execution_count": 5,
     "metadata": {},
     "output_type": "execute_result"
    }
   ],
   "source": [
    "con.execute(\"\"\"\n",
    "    select * from test  limit 5;\n",
    "\"\"\").df()"
   ],
   "metadata": {
    "collapsed": false,
    "ExecuteTime": {
     "end_time": "2023-11-04T18:01:52.908322200Z",
     "start_time": "2023-11-04T18:01:52.843155700Z"
    }
   },
   "id": "68505aaac87f31d3"
  },
  {
   "cell_type": "code",
   "execution_count": 29,
   "outputs": [],
   "source": [
    "df_articles= con.execute(\"\"\"\n",
    "    select * from articles_fr;\n",
    "\"\"\").df()[['article']]"
   ],
   "metadata": {
    "collapsed": false,
    "ExecuteTime": {
     "end_time": "2023-11-04T18:22:48.453339800Z",
     "start_time": "2023-11-04T18:22:48.313112400Z"
    }
   },
   "id": "a4af7500ec59cb01"
  },
  {
   "cell_type": "code",
   "execution_count": 30,
   "outputs": [],
   "source": [
    "df_articles['article'] = df_articles.article.apply(lambda x: {\"text\": x})"
   ],
   "metadata": {
    "collapsed": false,
    "ExecuteTime": {
     "end_time": "2023-11-04T18:22:49.455151600Z",
     "start_time": "2023-11-04T18:22:49.448458400Z"
    }
   },
   "id": "87d16cfd3fb0900f"
  },
  {
   "cell_type": "code",
   "execution_count": 31,
   "outputs": [],
   "source": [
    "with open(\"corpus.jsonl\", 'w', encoding='utf-8') as file:\n",
    "    df_articles['article'].to_json(file, orient='records', lines=True,force_ascii=False)"
   ],
   "metadata": {
    "collapsed": false,
    "ExecuteTime": {
     "end_time": "2023-11-04T18:22:50.180802100Z",
     "start_time": "2023-11-04T18:22:49.919857100Z"
    }
   },
   "id": "983af325ae976874"
  },
  {
   "cell_type": "code",
   "execution_count": null,
   "outputs": [],
   "source": [],
   "metadata": {
    "collapsed": false
   },
   "id": "35cac308738458bb"
  }
 ],
 "metadata": {
  "kernelspec": {
   "display_name": "Python 3",
   "language": "python",
   "name": "python3"
  },
  "language_info": {
   "codemirror_mode": {
    "name": "ipython",
    "version": 2
   },
   "file_extension": ".py",
   "mimetype": "text/x-python",
   "name": "python",
   "nbconvert_exporter": "python",
   "pygments_lexer": "ipython2",
   "version": "2.7.6"
  }
 },
 "nbformat": 4,
 "nbformat_minor": 5
}
