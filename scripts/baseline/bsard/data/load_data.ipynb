{
 "cells": [
  {
   "cell_type": "code",
   "execution_count": 1,
   "id": "initial_id",
   "metadata": {
    "collapsed": true,
    "ExecuteTime": {
     "end_time": "2023-11-05T11:31:38.437581600Z",
     "start_time": "2023-11-05T11:31:37.887229Z"
    }
   },
   "outputs": [],
   "source": [
    "import duckdb\n",
    "from pathlib import Path\n",
    "bsard_project_root = Path().resolve().parent\n",
    "articles_fr = bsard_project_root / \"data\" /\"articles_fr.csv\"\n",
    "train = bsard_project_root / \"data\" /\"questions_fr_train.csv\"\n",
    "test = bsard_project_root / \"data\" /\"questions_fr_test.csv\""
   ]
  },
  {
   "cell_type": "code",
   "execution_count": 2,
   "outputs": [
    {
     "data": {
      "text/plain": "<duckdb.DuckDBPyConnection at 0x18b8506b870>"
     },
     "execution_count": 2,
     "metadata": {},
     "output_type": "execute_result"
    }
   ],
   "source": [
    "con = duckdb.connect()\n",
    "con.execute(f\"\"\"\n",
    "    CREATE OR REPLACE TABLE articles_fr AS SELECT * FROM '{articles_fr}';\n",
    "\"\"\")\n",
    "con.execute(f\"\"\"\n",
    "    CREATE OR REPLACE TABLE train AS SELECT * FROM '{train}';\n",
    "\"\"\")\n",
    "con.execute(f\"\"\"\n",
    "    CREATE OR REPLACE TABLE test AS SELECT * FROM '{test}';\n",
    "\"\"\")"
   ],
   "metadata": {
    "collapsed": false,
    "ExecuteTime": {
     "end_time": "2023-11-05T11:31:40.371739400Z",
     "start_time": "2023-11-05T11:31:39.903941100Z"
    }
   },
   "id": "69269e341450e768"
  },
  {
   "cell_type": "code",
   "execution_count": 3,
   "outputs": [
    {
     "data": {
      "text/plain": "   column00  id                                          reference  \\\n0         0   1  Art. 1.1.1, Code Bruxellois de l'Air, du Clima...   \n1         1   2  Art. 1.1.2, Code Bruxellois de l'Air, du Clima...   \n2         2   3  Art. 1.2.1, Code Bruxellois de l'Air, du Clima...   \n3         3   4  Art. 1.3.1, Code Bruxellois de l'Air, du Clima...   \n4         4   5  Art. 1.4.1, Code Bruxellois de l'Air, du Clima...   \n\n                                             article  law_type  \\\n0  Le présent Code règle une matière visée à l'ar...  regional   \n1  Le présent Code transpose en Région de Bruxell...  regional   \n2  Le présent Code poursuit les objectifs suivant...  regional   \n3  Au sens du présent Code, il faut entendre par ...  regional   \n4  Le plan régional Air-Climat-énergie, ci-après ...  regional   \n\n                                                code                   book  \\\n0  Code Bruxellois de l'Air, du Climat et de la M...  Dispositions communes   \n1  Code Bruxellois de l'Air, du Climat et de la M...  Dispositions communes   \n2  Code Bruxellois de l'Air, du Climat et de la M...  Dispositions communes   \n3  Code Bruxellois de l'Air, du Climat et de la M...  Dispositions communes   \n4  Code Bruxellois de l'Air, du Climat et de la M...  Dispositions communes   \n\n  part                               act                    chapter section  \\\n0  NaN                       Généralités                        NaN     NaN   \n1  NaN                       Généralités                        NaN     NaN   \n2  NaN                         Objectifs                        NaN     NaN   \n3  NaN                       Définitions                        NaN     NaN   \n4  NaN  Plan régional air-climat-énergie  Contenu et portée du plan     NaN   \n\n  subsection                                        description  \n0        NaN                 Dispositions communes, Généralités  \n1        NaN                 Dispositions communes, Généralités  \n2        NaN                   Dispositions communes, Objectifs  \n3        NaN                 Dispositions communes, Définitions  \n4        NaN  Dispositions communes, Plan régional air-clima...  ",
      "text/html": "<div>\n<style scoped>\n    .dataframe tbody tr th:only-of-type {\n        vertical-align: middle;\n    }\n\n    .dataframe tbody tr th {\n        vertical-align: top;\n    }\n\n    .dataframe thead th {\n        text-align: right;\n    }\n</style>\n<table border=\"1\" class=\"dataframe\">\n  <thead>\n    <tr style=\"text-align: right;\">\n      <th></th>\n      <th>column00</th>\n      <th>id</th>\n      <th>reference</th>\n      <th>article</th>\n      <th>law_type</th>\n      <th>code</th>\n      <th>book</th>\n      <th>part</th>\n      <th>act</th>\n      <th>chapter</th>\n      <th>section</th>\n      <th>subsection</th>\n      <th>description</th>\n    </tr>\n  </thead>\n  <tbody>\n    <tr>\n      <th>0</th>\n      <td>0</td>\n      <td>1</td>\n      <td>Art. 1.1.1, Code Bruxellois de l'Air, du Clima...</td>\n      <td>Le présent Code règle une matière visée à l'ar...</td>\n      <td>regional</td>\n      <td>Code Bruxellois de l'Air, du Climat et de la M...</td>\n      <td>Dispositions communes</td>\n      <td>NaN</td>\n      <td>Généralités</td>\n      <td>NaN</td>\n      <td>NaN</td>\n      <td>NaN</td>\n      <td>Dispositions communes, Généralités</td>\n    </tr>\n    <tr>\n      <th>1</th>\n      <td>1</td>\n      <td>2</td>\n      <td>Art. 1.1.2, Code Bruxellois de l'Air, du Clima...</td>\n      <td>Le présent Code transpose en Région de Bruxell...</td>\n      <td>regional</td>\n      <td>Code Bruxellois de l'Air, du Climat et de la M...</td>\n      <td>Dispositions communes</td>\n      <td>NaN</td>\n      <td>Généralités</td>\n      <td>NaN</td>\n      <td>NaN</td>\n      <td>NaN</td>\n      <td>Dispositions communes, Généralités</td>\n    </tr>\n    <tr>\n      <th>2</th>\n      <td>2</td>\n      <td>3</td>\n      <td>Art. 1.2.1, Code Bruxellois de l'Air, du Clima...</td>\n      <td>Le présent Code poursuit les objectifs suivant...</td>\n      <td>regional</td>\n      <td>Code Bruxellois de l'Air, du Climat et de la M...</td>\n      <td>Dispositions communes</td>\n      <td>NaN</td>\n      <td>Objectifs</td>\n      <td>NaN</td>\n      <td>NaN</td>\n      <td>NaN</td>\n      <td>Dispositions communes, Objectifs</td>\n    </tr>\n    <tr>\n      <th>3</th>\n      <td>3</td>\n      <td>4</td>\n      <td>Art. 1.3.1, Code Bruxellois de l'Air, du Clima...</td>\n      <td>Au sens du présent Code, il faut entendre par ...</td>\n      <td>regional</td>\n      <td>Code Bruxellois de l'Air, du Climat et de la M...</td>\n      <td>Dispositions communes</td>\n      <td>NaN</td>\n      <td>Définitions</td>\n      <td>NaN</td>\n      <td>NaN</td>\n      <td>NaN</td>\n      <td>Dispositions communes, Définitions</td>\n    </tr>\n    <tr>\n      <th>4</th>\n      <td>4</td>\n      <td>5</td>\n      <td>Art. 1.4.1, Code Bruxellois de l'Air, du Clima...</td>\n      <td>Le plan régional Air-Climat-énergie, ci-après ...</td>\n      <td>regional</td>\n      <td>Code Bruxellois de l'Air, du Climat et de la M...</td>\n      <td>Dispositions communes</td>\n      <td>NaN</td>\n      <td>Plan régional air-climat-énergie</td>\n      <td>Contenu et portée du plan</td>\n      <td>NaN</td>\n      <td>NaN</td>\n      <td>Dispositions communes, Plan régional air-clima...</td>\n    </tr>\n  </tbody>\n</table>\n</div>"
     },
     "execution_count": 3,
     "metadata": {},
     "output_type": "execute_result"
    }
   ],
   "source": [
    "con.execute(\"\"\"\n",
    "    select * from articles_fr limit 5;\n",
    "\"\"\").df()"
   ],
   "metadata": {
    "collapsed": false,
    "ExecuteTime": {
     "end_time": "2023-11-05T11:31:46.040748900Z",
     "start_time": "2023-11-05T11:31:40.365528200Z"
    }
   },
   "id": "9499d4979fab215d"
  },
  {
   "cell_type": "code",
   "execution_count": 4,
   "outputs": [
    {
     "data": {
      "text/plain": "   column0    id  category                      subcategory  \\\n0        0  1102   Travail           Travail et parentalité   \n1        1    91    Argent                           Dettes   \n2        2   474   Famille             Situation de couples   \n3        3   836  Logement             Location en Wallonie   \n4        4  1079   Travail  Maladie - incapacité de travail   \n\n                                            question  \\\n0  Je suis travailleur salarié(e). Puis-je refuse...   \n1                  Peut-on saisir tous mes revenus ?   \n2  Je suis marié(e). Nous sommes mariés. Dois-je ...   \n3  Je mets un kot en location (bail de droit comm...   \n4  Suis-je payé pendant la procédure du trajet de...   \n\n                                   extra_description  \\\n0                               Pendant la grossesse   \n1  Procédures de récupération des dettes, Récupér...   \n2                                            Mariage   \n3  Mettre un logement en location (Wallonie), Doi...   \n4  Rupture du contrat de travail pour force majeu...   \n\n                                         article_ids  \n0  22225,22226,22227,22228,22229,22230,22231,2223...  \n1                                     5853,5854,5855  \n2                      1096,1097,1098,1108,1109,1110  \n3          12012,12030,12031,12032,12033,12034,12035  \n4  21114,21115,21116,21117,21118,21119,21120,2112...  ",
      "text/html": "<div>\n<style scoped>\n    .dataframe tbody tr th:only-of-type {\n        vertical-align: middle;\n    }\n\n    .dataframe tbody tr th {\n        vertical-align: top;\n    }\n\n    .dataframe thead th {\n        text-align: right;\n    }\n</style>\n<table border=\"1\" class=\"dataframe\">\n  <thead>\n    <tr style=\"text-align: right;\">\n      <th></th>\n      <th>column0</th>\n      <th>id</th>\n      <th>category</th>\n      <th>subcategory</th>\n      <th>question</th>\n      <th>extra_description</th>\n      <th>article_ids</th>\n    </tr>\n  </thead>\n  <tbody>\n    <tr>\n      <th>0</th>\n      <td>0</td>\n      <td>1102</td>\n      <td>Travail</td>\n      <td>Travail et parentalité</td>\n      <td>Je suis travailleur salarié(e). Puis-je refuse...</td>\n      <td>Pendant la grossesse</td>\n      <td>22225,22226,22227,22228,22229,22230,22231,2223...</td>\n    </tr>\n    <tr>\n      <th>1</th>\n      <td>1</td>\n      <td>91</td>\n      <td>Argent</td>\n      <td>Dettes</td>\n      <td>Peut-on saisir tous mes revenus ?</td>\n      <td>Procédures de récupération des dettes, Récupér...</td>\n      <td>5853,5854,5855</td>\n    </tr>\n    <tr>\n      <th>2</th>\n      <td>2</td>\n      <td>474</td>\n      <td>Famille</td>\n      <td>Situation de couples</td>\n      <td>Je suis marié(e). Nous sommes mariés. Dois-je ...</td>\n      <td>Mariage</td>\n      <td>1096,1097,1098,1108,1109,1110</td>\n    </tr>\n    <tr>\n      <th>3</th>\n      <td>3</td>\n      <td>836</td>\n      <td>Logement</td>\n      <td>Location en Wallonie</td>\n      <td>Je mets un kot en location (bail de droit comm...</td>\n      <td>Mettre un logement en location (Wallonie), Doi...</td>\n      <td>12012,12030,12031,12032,12033,12034,12035</td>\n    </tr>\n    <tr>\n      <th>4</th>\n      <td>4</td>\n      <td>1079</td>\n      <td>Travail</td>\n      <td>Maladie - incapacité de travail</td>\n      <td>Suis-je payé pendant la procédure du trajet de...</td>\n      <td>Rupture du contrat de travail pour force majeu...</td>\n      <td>21114,21115,21116,21117,21118,21119,21120,2112...</td>\n    </tr>\n  </tbody>\n</table>\n</div>"
     },
     "execution_count": 4,
     "metadata": {},
     "output_type": "execute_result"
    }
   ],
   "source": [
    "con.execute(\"\"\"\n",
    "    select * from train  limit 5;\n",
    "\"\"\").df()"
   ],
   "metadata": {
    "collapsed": false,
    "ExecuteTime": {
     "end_time": "2023-11-05T11:31:46.056451Z",
     "start_time": "2023-11-05T11:31:46.040748900Z"
    }
   },
   "id": "21ea7c2f3299e903"
  },
  {
   "cell_type": "code",
   "execution_count": 5,
   "outputs": [
    {
     "data": {
      "text/plain": "   column0    id            category              subcategory  \\\n0        0   775            Logement  Insalubrité en Wallonie   \n1        1  1053  Protection sociale   Grossesse et naissance   \n2        2    72              Argent                   Dettes   \n3        3   861            Logement     Location à Bruxelles   \n4        4   786            Logement     Location en Wallonie   \n\n                                            question  \\\n0  Quels sont les critères communaux d'insalubrité ?   \n1  A-t-on droit à l'allocation de naissance en ca...   \n2  Quels frais peut-on ajouter lors d'un recouvre...   \n3     Comment se déroule une expulsion à Bruxelles ?   \n4          Peut-on m'expulser en hiver en Wallonie ?   \n\n                                   extra_description  \\\n0                                                NaN   \n1  Allocations familiales et allocation de naissa...   \n2  Procédures de récupération des dettes, Récupér...   \n3  Bail de résidence principale (Bruxelles), Fin ...   \n4  Bail de résidence principale (Wallonie), Fin e...   \n\n                                article_ids  \n0                                     12024  \n1                                   947,948  \n2                            2041,2119,2138  \n3                  5562,5563,5564,5565,5566  \n4  5561,5562,5563,5564,5565,5566,5567,12124  ",
      "text/html": "<div>\n<style scoped>\n    .dataframe tbody tr th:only-of-type {\n        vertical-align: middle;\n    }\n\n    .dataframe tbody tr th {\n        vertical-align: top;\n    }\n\n    .dataframe thead th {\n        text-align: right;\n    }\n</style>\n<table border=\"1\" class=\"dataframe\">\n  <thead>\n    <tr style=\"text-align: right;\">\n      <th></th>\n      <th>column0</th>\n      <th>id</th>\n      <th>category</th>\n      <th>subcategory</th>\n      <th>question</th>\n      <th>extra_description</th>\n      <th>article_ids</th>\n    </tr>\n  </thead>\n  <tbody>\n    <tr>\n      <th>0</th>\n      <td>0</td>\n      <td>775</td>\n      <td>Logement</td>\n      <td>Insalubrité en Wallonie</td>\n      <td>Quels sont les critères communaux d'insalubrité ?</td>\n      <td>NaN</td>\n      <td>12024</td>\n    </tr>\n    <tr>\n      <th>1</th>\n      <td>1</td>\n      <td>1053</td>\n      <td>Protection sociale</td>\n      <td>Grossesse et naissance</td>\n      <td>A-t-on droit à l'allocation de naissance en ca...</td>\n      <td>Allocations familiales et allocation de naissa...</td>\n      <td>947,948</td>\n    </tr>\n    <tr>\n      <th>2</th>\n      <td>2</td>\n      <td>72</td>\n      <td>Argent</td>\n      <td>Dettes</td>\n      <td>Quels frais peut-on ajouter lors d'un recouvre...</td>\n      <td>Procédures de récupération des dettes, Récupér...</td>\n      <td>2041,2119,2138</td>\n    </tr>\n    <tr>\n      <th>3</th>\n      <td>3</td>\n      <td>861</td>\n      <td>Logement</td>\n      <td>Location à Bruxelles</td>\n      <td>Comment se déroule une expulsion à Bruxelles ?</td>\n      <td>Bail de résidence principale (Bruxelles), Fin ...</td>\n      <td>5562,5563,5564,5565,5566</td>\n    </tr>\n    <tr>\n      <th>4</th>\n      <td>4</td>\n      <td>786</td>\n      <td>Logement</td>\n      <td>Location en Wallonie</td>\n      <td>Peut-on m'expulser en hiver en Wallonie ?</td>\n      <td>Bail de résidence principale (Wallonie), Fin e...</td>\n      <td>5561,5562,5563,5564,5565,5566,5567,12124</td>\n    </tr>\n  </tbody>\n</table>\n</div>"
     },
     "execution_count": 5,
     "metadata": {},
     "output_type": "execute_result"
    }
   ],
   "source": [
    "con.execute(\"\"\"\n",
    "    select * from test  limit 5;\n",
    "\"\"\").df()"
   ],
   "metadata": {
    "collapsed": false,
    "ExecuteTime": {
     "end_time": "2023-11-05T11:31:46.162658Z",
     "start_time": "2023-11-05T11:31:46.056451Z"
    }
   },
   "id": "68505aaac87f31d3"
  },
  {
   "cell_type": "code",
   "execution_count": 6,
   "outputs": [
    {
     "data": {
      "text/plain": "         _id                                              title  \\\n0          1  Art. 1.1.1, Code Bruxellois de l'Air, du Clima...   \n1          2  Art. 1.1.2, Code Bruxellois de l'Air, du Clima...   \n2          3  Art. 1.2.1, Code Bruxellois de l'Air, du Clima...   \n3          4  Art. 1.3.1, Code Bruxellois de l'Air, du Clima...   \n4          5  Art. 1.4.1, Code Bruxellois de l'Air, du Clima...   \n...      ...                                                ...   \n22628  22629              Art. 194, La Constitution (Titre VII)   \n22629  22630             Art. 195, La Constitution (Titre VIII)   \n22630  22631             Art. 196, La Constitution (Titre VIII)   \n22631  22632             Art. 197, La Constitution (Titre VIII)   \n22632  22633             Art. 198, La Constitution (Titre VIII)   \n\n                                                    text  \n0      Le présent Code règle une matière visée à l'ar...  \n1      Le présent Code transpose en Région de Bruxell...  \n2      Le présent Code poursuit les objectifs suivant...  \n3      Au sens du présent Code, il faut entendre par ...  \n4      Le plan régional Air-Climat-énergie, ci-après ...  \n...                                                  ...  \n22628  La ville de Bruxelles est la capitale de la Be...  \n22629  Le pouvoir législatif fédéral a le droit de dé...  \n22630  Aucune révision de la Constitution ne peut êtr...  \n22631  Pendant une régence, aucun changement ne peut ...  \n22632  D'un commun accord avec le Roi, les Chambres c...  \n\n[22633 rows x 3 columns]",
      "text/html": "<div>\n<style scoped>\n    .dataframe tbody tr th:only-of-type {\n        vertical-align: middle;\n    }\n\n    .dataframe tbody tr th {\n        vertical-align: top;\n    }\n\n    .dataframe thead th {\n        text-align: right;\n    }\n</style>\n<table border=\"1\" class=\"dataframe\">\n  <thead>\n    <tr style=\"text-align: right;\">\n      <th></th>\n      <th>_id</th>\n      <th>title</th>\n      <th>text</th>\n    </tr>\n  </thead>\n  <tbody>\n    <tr>\n      <th>0</th>\n      <td>1</td>\n      <td>Art. 1.1.1, Code Bruxellois de l'Air, du Clima...</td>\n      <td>Le présent Code règle une matière visée à l'ar...</td>\n    </tr>\n    <tr>\n      <th>1</th>\n      <td>2</td>\n      <td>Art. 1.1.2, Code Bruxellois de l'Air, du Clima...</td>\n      <td>Le présent Code transpose en Région de Bruxell...</td>\n    </tr>\n    <tr>\n      <th>2</th>\n      <td>3</td>\n      <td>Art. 1.2.1, Code Bruxellois de l'Air, du Clima...</td>\n      <td>Le présent Code poursuit les objectifs suivant...</td>\n    </tr>\n    <tr>\n      <th>3</th>\n      <td>4</td>\n      <td>Art. 1.3.1, Code Bruxellois de l'Air, du Clima...</td>\n      <td>Au sens du présent Code, il faut entendre par ...</td>\n    </tr>\n    <tr>\n      <th>4</th>\n      <td>5</td>\n      <td>Art. 1.4.1, Code Bruxellois de l'Air, du Clima...</td>\n      <td>Le plan régional Air-Climat-énergie, ci-après ...</td>\n    </tr>\n    <tr>\n      <th>...</th>\n      <td>...</td>\n      <td>...</td>\n      <td>...</td>\n    </tr>\n    <tr>\n      <th>22628</th>\n      <td>22629</td>\n      <td>Art. 194, La Constitution (Titre VII)</td>\n      <td>La ville de Bruxelles est la capitale de la Be...</td>\n    </tr>\n    <tr>\n      <th>22629</th>\n      <td>22630</td>\n      <td>Art. 195, La Constitution (Titre VIII)</td>\n      <td>Le pouvoir législatif fédéral a le droit de dé...</td>\n    </tr>\n    <tr>\n      <th>22630</th>\n      <td>22631</td>\n      <td>Art. 196, La Constitution (Titre VIII)</td>\n      <td>Aucune révision de la Constitution ne peut êtr...</td>\n    </tr>\n    <tr>\n      <th>22631</th>\n      <td>22632</td>\n      <td>Art. 197, La Constitution (Titre VIII)</td>\n      <td>Pendant une régence, aucun changement ne peut ...</td>\n    </tr>\n    <tr>\n      <th>22632</th>\n      <td>22633</td>\n      <td>Art. 198, La Constitution (Titre VIII)</td>\n      <td>D'un commun accord avec le Roi, les Chambres c...</td>\n    </tr>\n  </tbody>\n</table>\n<p>22633 rows × 3 columns</p>\n</div>"
     },
     "execution_count": 6,
     "metadata": {},
     "output_type": "execute_result"
    }
   ],
   "source": [
    "df_articles= con.execute(\"\"\"\n",
    "    select * from articles_fr;\n",
    "\"\"\").df()[['id','reference','article']]\n",
    "df_articles=df_articles.rename(columns={\"id\": \"_id\", \"reference\": \"title\", \"article\":\"text\"})\n",
    "df_articles"
   ],
   "metadata": {
    "collapsed": false,
    "ExecuteTime": {
     "end_time": "2023-11-05T11:31:46.204691200Z",
     "start_time": "2023-11-05T11:31:46.072145800Z"
    }
   },
   "id": "a4af7500ec59cb01"
  },
  {
   "cell_type": "code",
   "execution_count": 8,
   "outputs": [],
   "source": [
    "df_articles[\"_id\"] = df_articles[\"_id\"].apply(str)"
   ],
   "metadata": {
    "collapsed": false,
    "ExecuteTime": {
     "end_time": "2023-11-05T18:27:11.774254Z",
     "start_time": "2023-11-05T18:27:11.726999400Z"
    }
   },
   "id": "39df1febd7ff3b99"
  },
  {
   "cell_type": "code",
   "execution_count": 9,
   "outputs": [],
   "source": [
    "with open(\"corpus.jsonl\", 'w', encoding='utf-8') as file:\n",
    "    df_articles.to_json(file, orient='records', lines=True,force_ascii=False)"
   ],
   "metadata": {
    "collapsed": false,
    "ExecuteTime": {
     "end_time": "2023-11-05T18:27:14.783825500Z",
     "start_time": "2023-11-05T18:27:14.406310Z"
    }
   },
   "id": "983af325ae976874"
  },
  {
   "cell_type": "code",
   "execution_count": 51,
   "outputs": [
    {
     "data": {
      "text/plain": "     column0    id  category                         subcategory  \\\n0          0  1102   Travail              Travail et parentalité   \n1          1    91    Argent                              Dettes   \n2          2   474   Famille                Situation de couples   \n3          3   836  Logement                Location en Wallonie   \n4          4  1079   Travail     Maladie - incapacité de travail   \n..       ...   ...       ...                                 ...   \n881      881   308   Famille                Lien parents/enfants   \n882      882   387   Famille  Personnes à l'autonomie fragilisée   \n883      883   940  Logement                Location à Bruxelles   \n884      884   364   Famille  Personnes à l'autonomie fragilisée   \n885      885    51    Argent                              Dettes   \n\n                                              question  \\\n0    Je suis travailleur salarié(e). Puis-je refuse...   \n1                    Peut-on saisir tous mes revenus ?   \n2    Je suis marié(e). Nous sommes mariés. Dois-je ...   \n3    Je mets un kot en location (bail de droit comm...   \n4    Suis-je payé pendant la procédure du trajet de...   \n..                                                 ...   \n881    Quel est le rôle du tuteur d'un enfant mineur ?   \n882  Peut-on changer d'administrateur de biens et/o...   \n883  Mon propriétaire ne fait pas les réparations n...   \n884  Que faire si le montant des frais et honoraire...   \n885  Si je ne rembourse pas mon crédit hypothécaire...   \n\n                                     extra_description  \\\n0                                 Pendant la grossesse   \n1    Procédures de récupération des dettes, Récupér...   \n2                                              Mariage   \n3    Mettre un logement en location (Wallonie), Doi...   \n4    Rupture du contrat de travail pour force majeu...   \n..                                                 ...   \n881                            Tutelle, Rôle du tuteur   \n882  Administration de biens et/ou de la personne (...   \n883  Bail de résidence principale (Bruxelles), Loye...   \n884  Administration de biens et/ou de la personne (...   \n885              Dettes liées à un crédit hypothécaire   \n\n                                           article_ids  \n0    22225,22226,22227,22228,22229,22230,22231,2223...  \n1                                       5853,5854,5855  \n2                        1096,1097,1098,1108,1109,1110  \n3            12012,12030,12031,12032,12033,12034,12035  \n4    21114,21115,21116,21117,21118,21119,21120,2112...  \n..                                                 ...  \n881            1321,1322,1323,1324,1325,1326,1327,1328  \n882                                               1381  \n883                                               2494  \n884                                               1387  \n885  5861,5862,5863,5864,5865,5866,5867,5868,5869,5...  \n\n[886 rows x 7 columns]",
      "text/html": "<div>\n<style scoped>\n    .dataframe tbody tr th:only-of-type {\n        vertical-align: middle;\n    }\n\n    .dataframe tbody tr th {\n        vertical-align: top;\n    }\n\n    .dataframe thead th {\n        text-align: right;\n    }\n</style>\n<table border=\"1\" class=\"dataframe\">\n  <thead>\n    <tr style=\"text-align: right;\">\n      <th></th>\n      <th>column0</th>\n      <th>id</th>\n      <th>category</th>\n      <th>subcategory</th>\n      <th>question</th>\n      <th>extra_description</th>\n      <th>article_ids</th>\n    </tr>\n  </thead>\n  <tbody>\n    <tr>\n      <th>0</th>\n      <td>0</td>\n      <td>1102</td>\n      <td>Travail</td>\n      <td>Travail et parentalité</td>\n      <td>Je suis travailleur salarié(e). Puis-je refuse...</td>\n      <td>Pendant la grossesse</td>\n      <td>22225,22226,22227,22228,22229,22230,22231,2223...</td>\n    </tr>\n    <tr>\n      <th>1</th>\n      <td>1</td>\n      <td>91</td>\n      <td>Argent</td>\n      <td>Dettes</td>\n      <td>Peut-on saisir tous mes revenus ?</td>\n      <td>Procédures de récupération des dettes, Récupér...</td>\n      <td>5853,5854,5855</td>\n    </tr>\n    <tr>\n      <th>2</th>\n      <td>2</td>\n      <td>474</td>\n      <td>Famille</td>\n      <td>Situation de couples</td>\n      <td>Je suis marié(e). Nous sommes mariés. Dois-je ...</td>\n      <td>Mariage</td>\n      <td>1096,1097,1098,1108,1109,1110</td>\n    </tr>\n    <tr>\n      <th>3</th>\n      <td>3</td>\n      <td>836</td>\n      <td>Logement</td>\n      <td>Location en Wallonie</td>\n      <td>Je mets un kot en location (bail de droit comm...</td>\n      <td>Mettre un logement en location (Wallonie), Doi...</td>\n      <td>12012,12030,12031,12032,12033,12034,12035</td>\n    </tr>\n    <tr>\n      <th>4</th>\n      <td>4</td>\n      <td>1079</td>\n      <td>Travail</td>\n      <td>Maladie - incapacité de travail</td>\n      <td>Suis-je payé pendant la procédure du trajet de...</td>\n      <td>Rupture du contrat de travail pour force majeu...</td>\n      <td>21114,21115,21116,21117,21118,21119,21120,2112...</td>\n    </tr>\n    <tr>\n      <th>...</th>\n      <td>...</td>\n      <td>...</td>\n      <td>...</td>\n      <td>...</td>\n      <td>...</td>\n      <td>...</td>\n      <td>...</td>\n    </tr>\n    <tr>\n      <th>881</th>\n      <td>881</td>\n      <td>308</td>\n      <td>Famille</td>\n      <td>Lien parents/enfants</td>\n      <td>Quel est le rôle du tuteur d'un enfant mineur ?</td>\n      <td>Tutelle, Rôle du tuteur</td>\n      <td>1321,1322,1323,1324,1325,1326,1327,1328</td>\n    </tr>\n    <tr>\n      <th>882</th>\n      <td>882</td>\n      <td>387</td>\n      <td>Famille</td>\n      <td>Personnes à l'autonomie fragilisée</td>\n      <td>Peut-on changer d'administrateur de biens et/o...</td>\n      <td>Administration de biens et/ou de la personne (...</td>\n      <td>1381</td>\n    </tr>\n    <tr>\n      <th>883</th>\n      <td>883</td>\n      <td>940</td>\n      <td>Logement</td>\n      <td>Location à Bruxelles</td>\n      <td>Mon propriétaire ne fait pas les réparations n...</td>\n      <td>Bail de résidence principale (Bruxelles), Loye...</td>\n      <td>2494</td>\n    </tr>\n    <tr>\n      <th>884</th>\n      <td>884</td>\n      <td>364</td>\n      <td>Famille</td>\n      <td>Personnes à l'autonomie fragilisée</td>\n      <td>Que faire si le montant des frais et honoraire...</td>\n      <td>Administration de biens et/ou de la personne (...</td>\n      <td>1387</td>\n    </tr>\n    <tr>\n      <th>885</th>\n      <td>885</td>\n      <td>51</td>\n      <td>Argent</td>\n      <td>Dettes</td>\n      <td>Si je ne rembourse pas mon crédit hypothécaire...</td>\n      <td>Dettes liées à un crédit hypothécaire</td>\n      <td>5861,5862,5863,5864,5865,5866,5867,5868,5869,5...</td>\n    </tr>\n  </tbody>\n</table>\n<p>886 rows × 7 columns</p>\n</div>"
     },
     "execution_count": 51,
     "metadata": {},
     "output_type": "execute_result"
    }
   ],
   "source": [
    "df_queries_train = con.execute(\"\"\"\n",
    "    select * from train;\n",
    "\"\"\").df()\n",
    "df_queries_train"
   ],
   "metadata": {
    "collapsed": false,
    "ExecuteTime": {
     "end_time": "2023-11-05T19:41:26.563516300Z",
     "start_time": "2023-11-05T19:41:26.532198700Z"
    }
   },
   "id": "e8acf845d1f198bd"
  },
  {
   "cell_type": "code",
   "execution_count": 52,
   "outputs": [],
   "source": [
    "seed = 2022\n",
    "def split_train_val(df, train_frac: float):\n",
    "    # Extract the duplicated questions to put them in the training set only.\n",
    "    duplicates = df[df.duplicated(['question'], keep=False)]\n",
    "    uniques = df.drop(duplicates.index)\n",
    "\n",
    "    # Compute the fraction of unique questions to place in training set so that these questions completmented by the duplicates sums up to the given 'train_frac' ratio.\n",
    "    train_frac_unique = (train_frac * df.shape[0] - duplicates.shape[0]) / uniques.shape[0]\n",
    "\n",
    "    # Split the unique questions in train and val sets accordingly.\n",
    "    train_unique = uniques.sample(frac=train_frac_unique, random_state=seed)\n",
    "    val = uniques.drop(train_unique.index).sample(frac=1.0, random_state=seed)\n",
    "\n",
    "    # Add the duplicated questions to the training set.\n",
    "    train = pd.concat([train_unique, duplicates]).sample(frac=1.0, random_state=seed)\n",
    "\n",
    "    # Reset indices and return.\n",
    "    train.reset_index(drop=True, inplace=True)\n",
    "    val.reset_index(drop=True, inplace=True)\n",
    "    return train, val\n",
    "\n",
    "\n",
    "train, val = split_train_val(df_queries_train, train_frac = 0.8)"
   ],
   "metadata": {
    "collapsed": false,
    "ExecuteTime": {
     "end_time": "2023-11-05T19:41:28.557380500Z",
     "start_time": "2023-11-05T19:41:28.549774700Z"
    }
   },
   "id": "d45bda187d2fa1d9"
  },
  {
   "cell_type": "code",
   "execution_count": 79,
   "outputs": [],
   "source": [
    "df_train=train[['id','question']].rename(columns={\"id\": \"_id\", \"question\":\"text\"})\n",
    "df_train.insert(2,\"metadata\", \"\")\n",
    "df_train[\"metadata\"] = df_train.metadata.apply(lambda x: {})\n",
    "with open(\"queries.jsonl\", 'w', encoding='utf-8') as file:\n",
    "    df_train.to_json(file, orient='records', lines=True, force_ascii=False)"
   ],
   "metadata": {
    "collapsed": false,
    "ExecuteTime": {
     "end_time": "2023-11-05T20:03:22.868972200Z",
     "start_time": "2023-11-05T20:03:22.837494800Z"
    }
   },
   "id": "f06971e62c604183"
  },
  {
   "cell_type": "code",
   "execution_count": 53,
   "outputs": [],
   "source": [
    "import pandas as pd\n",
    "df_train_qrel = (train\n",
    " .assign(article_ids=lambda d: d['article_ids'].str.split(','))\n",
    ".set_index(df_queries_train.columns.difference(['article_ids']).tolist())['article_ids']\n",
    ".apply(pd.Series)\n",
    ".stack()\n",
    ".reset_index()\n",
    ".drop(['category', 'subcategory', 'extra_description', 'level_6','question'], axis=1)\n",
    ".rename(columns={0: 'corpus-id', 'id': 'query-id'})[['query-id','corpus-id']]\n",
    ".apply(pd.to_numeric)\n",
    ".sample(frac=1, random_state=42).reset_index(drop=True))\n",
    "df_train_qrel.insert(2,\"score\",1)\n",
    "\n",
    "df_val_qrel  = (val\n",
    " .assign(article_ids=lambda d: d['article_ids'].str.split(','))\n",
    ".set_index(df_queries_train.columns.difference(['article_ids']).tolist())['article_ids']\n",
    ".apply(pd.Series)\n",
    ".stack()\n",
    ".reset_index()\n",
    ".drop(['category', 'subcategory', 'extra_description', 'level_6','question'], axis=1)\n",
    ".rename(columns={0: 'corpus-id', 'id': 'query-id'})[['query-id','corpus-id']]\n",
    ".apply(pd.to_numeric)\n",
    ".sample(frac=1, random_state=42).reset_index(drop=True))\n",
    "df_val_qrel.insert(2,\"score\",1)"
   ],
   "metadata": {
    "collapsed": false,
    "ExecuteTime": {
     "end_time": "2023-11-05T19:41:29.269672800Z",
     "start_time": "2023-11-05T19:41:29.192772Z"
    }
   },
   "id": "32a2e206c466d4f3"
  },
  {
   "cell_type": "code",
   "execution_count": 61,
   "outputs": [],
   "source": [
    "df_train_qrel.to_csv(\"train.tsv\", sep = \"\\t\", index=False)"
   ],
   "metadata": {
    "collapsed": false,
    "ExecuteTime": {
     "end_time": "2023-11-05T19:45:16.576377500Z",
     "start_time": "2023-11-05T19:45:16.562371500Z"
    }
   },
   "id": "4f604f515064ea8b"
  },
  {
   "cell_type": "code",
   "execution_count": 62,
   "outputs": [],
   "source": [
    "df_val_qrel.to_csv(\"dev.tsv\", sep = \"\\t\", index=False)"
   ],
   "metadata": {
    "collapsed": false,
    "ExecuteTime": {
     "end_time": "2023-11-05T19:45:17.223033400Z",
     "start_time": "2023-11-05T19:45:17.215904400Z"
    }
   },
   "id": "66bdb4f0db990b9e"
  },
  {
   "cell_type": "code",
   "execution_count": 64,
   "outputs": [
    {
     "data": {
      "text/plain": "     column0    id            category              subcategory  \\\n0          0   775            Logement  Insalubrité en Wallonie   \n1          1  1053  Protection sociale   Grossesse et naissance   \n2          2    72              Argent                   Dettes   \n3          3   861            Logement     Location à Bruxelles   \n4          4   786            Logement     Location en Wallonie   \n..       ...   ...                 ...                      ...   \n217      217   524             Famille          Vivre en couple   \n218      218    69              Argent                   Dettes   \n219      219   463             Famille     Situation de couples   \n220      220   880            Logement     Location à Bruxelles   \n221      221   512             Famille     Situation de couples   \n\n                                              question  \\\n0    Quels sont les critères communaux d'insalubrité ?   \n1    A-t-on droit à l'allocation de naissance en ca...   \n2    Quels frais peut-on ajouter lors d'un recouvre...   \n3       Comment se déroule une expulsion à Bruxelles ?   \n4            Peut-on m'expulser en hiver en Wallonie ?   \n..                                                 ...   \n217  Je deviens cohabitant légal. Dois-je payer les...   \n218                     A qui dois-je payer ma dette ?   \n219  Je suis marié(e). On prend un logement en loca...   \n220  Est-ce que je peux signer plusieurs baux de co...   \n221  Je suis victime de violences conjugales. En ta...   \n\n                                     extra_description  \\\n0                                                  NaN   \n1    Allocations familiales et allocation de naissa...   \n2    Procédures de récupération des dettes, Récupér...   \n3    Bail de résidence principale (Bruxelles), Fin ...   \n4    Bail de résidence principale (Wallonie), Fin e...   \n..                                                 ...   \n217                                Cohabitation légale   \n218                                Paiement des dettes   \n219                                            Mariage   \n220  Bail de résidence principale (Bruxelles), Fin ...   \n221                               Violences conjugales   \n\n                                  article_ids  \n0                                       12024  \n1                                     947,948  \n2                              2041,2119,2138  \n3                    5562,5563,5564,5565,5566  \n4    5561,5562,5563,5564,5565,5566,5567,12124  \n..                                        ...  \n217                            2328,2329,2330  \n218                                      2127  \n219                                      1073  \n220                                       857  \n221                                 6531,6598  \n\n[222 rows x 7 columns]",
      "text/html": "<div>\n<style scoped>\n    .dataframe tbody tr th:only-of-type {\n        vertical-align: middle;\n    }\n\n    .dataframe tbody tr th {\n        vertical-align: top;\n    }\n\n    .dataframe thead th {\n        text-align: right;\n    }\n</style>\n<table border=\"1\" class=\"dataframe\">\n  <thead>\n    <tr style=\"text-align: right;\">\n      <th></th>\n      <th>column0</th>\n      <th>id</th>\n      <th>category</th>\n      <th>subcategory</th>\n      <th>question</th>\n      <th>extra_description</th>\n      <th>article_ids</th>\n    </tr>\n  </thead>\n  <tbody>\n    <tr>\n      <th>0</th>\n      <td>0</td>\n      <td>775</td>\n      <td>Logement</td>\n      <td>Insalubrité en Wallonie</td>\n      <td>Quels sont les critères communaux d'insalubrité ?</td>\n      <td>NaN</td>\n      <td>12024</td>\n    </tr>\n    <tr>\n      <th>1</th>\n      <td>1</td>\n      <td>1053</td>\n      <td>Protection sociale</td>\n      <td>Grossesse et naissance</td>\n      <td>A-t-on droit à l'allocation de naissance en ca...</td>\n      <td>Allocations familiales et allocation de naissa...</td>\n      <td>947,948</td>\n    </tr>\n    <tr>\n      <th>2</th>\n      <td>2</td>\n      <td>72</td>\n      <td>Argent</td>\n      <td>Dettes</td>\n      <td>Quels frais peut-on ajouter lors d'un recouvre...</td>\n      <td>Procédures de récupération des dettes, Récupér...</td>\n      <td>2041,2119,2138</td>\n    </tr>\n    <tr>\n      <th>3</th>\n      <td>3</td>\n      <td>861</td>\n      <td>Logement</td>\n      <td>Location à Bruxelles</td>\n      <td>Comment se déroule une expulsion à Bruxelles ?</td>\n      <td>Bail de résidence principale (Bruxelles), Fin ...</td>\n      <td>5562,5563,5564,5565,5566</td>\n    </tr>\n    <tr>\n      <th>4</th>\n      <td>4</td>\n      <td>786</td>\n      <td>Logement</td>\n      <td>Location en Wallonie</td>\n      <td>Peut-on m'expulser en hiver en Wallonie ?</td>\n      <td>Bail de résidence principale (Wallonie), Fin e...</td>\n      <td>5561,5562,5563,5564,5565,5566,5567,12124</td>\n    </tr>\n    <tr>\n      <th>...</th>\n      <td>...</td>\n      <td>...</td>\n      <td>...</td>\n      <td>...</td>\n      <td>...</td>\n      <td>...</td>\n      <td>...</td>\n    </tr>\n    <tr>\n      <th>217</th>\n      <td>217</td>\n      <td>524</td>\n      <td>Famille</td>\n      <td>Vivre en couple</td>\n      <td>Je deviens cohabitant légal. Dois-je payer les...</td>\n      <td>Cohabitation légale</td>\n      <td>2328,2329,2330</td>\n    </tr>\n    <tr>\n      <th>218</th>\n      <td>218</td>\n      <td>69</td>\n      <td>Argent</td>\n      <td>Dettes</td>\n      <td>A qui dois-je payer ma dette ?</td>\n      <td>Paiement des dettes</td>\n      <td>2127</td>\n    </tr>\n    <tr>\n      <th>219</th>\n      <td>219</td>\n      <td>463</td>\n      <td>Famille</td>\n      <td>Situation de couples</td>\n      <td>Je suis marié(e). On prend un logement en loca...</td>\n      <td>Mariage</td>\n      <td>1073</td>\n    </tr>\n    <tr>\n      <th>220</th>\n      <td>220</td>\n      <td>880</td>\n      <td>Logement</td>\n      <td>Location à Bruxelles</td>\n      <td>Est-ce que je peux signer plusieurs baux de co...</td>\n      <td>Bail de résidence principale (Bruxelles), Fin ...</td>\n      <td>857</td>\n    </tr>\n    <tr>\n      <th>221</th>\n      <td>221</td>\n      <td>512</td>\n      <td>Famille</td>\n      <td>Situation de couples</td>\n      <td>Je suis victime de violences conjugales. En ta...</td>\n      <td>Violences conjugales</td>\n      <td>6531,6598</td>\n    </tr>\n  </tbody>\n</table>\n<p>222 rows × 7 columns</p>\n</div>"
     },
     "execution_count": 64,
     "metadata": {},
     "output_type": "execute_result"
    }
   ],
   "source": [
    "df_queries_test = con.execute(\"\"\"\n",
    "    select * from test;\n",
    "\"\"\").df()\n",
    "df_queries_test"
   ],
   "metadata": {
    "collapsed": false,
    "ExecuteTime": {
     "end_time": "2023-11-05T19:48:41.472125Z",
     "start_time": "2023-11-05T19:48:41.440922300Z"
    }
   },
   "id": "842d877bf5256c9a"
  },
  {
   "cell_type": "code",
   "execution_count": 66,
   "outputs": [],
   "source": [
    "import pandas as pd\n",
    "df_test_qrel = (df_queries_test\n",
    " .assign(article_ids=lambda d: d['article_ids'].str.split(','))\n",
    ".set_index(df_queries_train.columns.difference(['article_ids']).tolist())['article_ids']\n",
    ".apply(pd.Series)\n",
    ".stack()\n",
    ".reset_index()\n",
    ".drop(['category', 'subcategory', 'extra_description', 'level_6','question'], axis=1)\n",
    ".rename(columns={0: 'corpus-id', 'id': 'query-id'})[['query-id','corpus-id']]\n",
    ".apply(pd.to_numeric)\n",
    ".sample(frac=1, random_state=42).reset_index(drop=True))\n",
    "df_test_qrel.insert(2,\"score\",1)"
   ],
   "metadata": {
    "collapsed": false,
    "ExecuteTime": {
     "end_time": "2023-11-05T19:49:22.944385100Z",
     "start_time": "2023-11-05T19:49:22.900700900Z"
    }
   },
   "id": "5a820b4843459a04"
  },
  {
   "cell_type": "code",
   "execution_count": 67,
   "outputs": [],
   "source": [
    "df_test_qrel.to_csv(\"test.tsv\", sep = \"\\t\", index=False)"
   ],
   "metadata": {
    "collapsed": false,
    "ExecuteTime": {
     "end_time": "2023-11-05T19:49:33.321913Z",
     "start_time": "2023-11-05T19:49:33.304262300Z"
    }
   },
   "id": "ce4cf095332886ea"
  },
  {
   "cell_type": "code",
   "execution_count": null,
   "outputs": [],
   "source": [],
   "metadata": {
    "collapsed": false
   },
   "id": "5b2070e1017f6b3"
  }
 ],
 "metadata": {
  "kernelspec": {
   "display_name": "Python 3",
   "language": "python",
   "name": "python3"
  },
  "language_info": {
   "codemirror_mode": {
    "name": "ipython",
    "version": 2
   },
   "file_extension": ".py",
   "mimetype": "text/x-python",
   "name": "python",
   "nbconvert_exporter": "python",
   "pygments_lexer": "ipython2",
   "version": "2.7.6"
  }
 },
 "nbformat": 4,
 "nbformat_minor": 5
}
