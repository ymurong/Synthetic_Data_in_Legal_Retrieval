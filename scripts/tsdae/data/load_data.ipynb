{
 "cells": [
  {
   "cell_type": "code",
   "execution_count": 2,
   "id": "initial_id",
   "metadata": {
    "collapsed": true,
    "ExecuteTime": {
     "end_time": "2024-02-03T19:44:55.824070Z",
     "start_time": "2024-02-03T19:44:55.748363Z"
    }
   },
   "outputs": [],
   "source": [
    "import duckdb\n",
    "from pathlib import Path\n",
    "bsard_project_root = Path().resolve().parent.parent\n",
    "articles_fr = bsard_project_root / \"baseline\" / \"bsard\" / \"data\" / \"articles_fr.csv\"\n",
    "train = bsard_project_root / \"baseline\" / \"bsard\" / \"data\" / \"questions_fr_train.csv\"\n",
    "test = bsard_project_root / \"baseline\" / \"bsard\" / \"data\" / \"questions_fr_test.csv\""
   ]
  },
  {
   "cell_type": "code",
   "execution_count": 3,
   "outputs": [
    {
     "data": {
      "text/plain": "<duckdb.DuckDBPyConnection at 0x10d4dd830>"
     },
     "execution_count": 3,
     "metadata": {},
     "output_type": "execute_result"
    }
   ],
   "source": [
    "con = duckdb.connect()\n",
    "con.execute(f\"\"\"\n",
    "    CREATE OR REPLACE TABLE articles_fr AS SELECT * FROM '{articles_fr}';\n",
    "\"\"\")\n",
    "con.execute(f\"\"\"\n",
    "    CREATE OR REPLACE TABLE train AS SELECT * FROM '{train}';\n",
    "\"\"\")\n",
    "con.execute(f\"\"\"\n",
    "    CREATE OR REPLACE TABLE test AS SELECT * FROM '{test}';\n",
    "\"\"\")"
   ],
   "metadata": {
    "collapsed": false,
    "ExecuteTime": {
     "end_time": "2024-02-03T19:44:56.865654Z",
     "start_time": "2024-02-03T19:44:56.578817Z"
    }
   },
   "id": "69269e341450e768"
  },
  {
   "cell_type": "code",
   "outputs": [
    {
     "data": {
      "text/plain": "0        Le présent Code règle une matière visée à l'ar...\n1        Le présent Code transpose en Région de Bruxell...\n1        2° la Directive 2010/31/UE du Parlement europé...\n1        3° la Directive 2003/87/CE du Parlement europé...\n1        4° la Directive 2004/107/CE du Parlement europ...\n                               ...                        \n22629     et nul changement ne sera adopté s'il ne réun...\n22630    Aucune révision de la Constitution ne peut êtr...\n22631    Pendant une régence, aucun changement ne peut ...\n22632    D'un commun accord avec le Roi, les Chambres c...\n22632     et les changements ne seront adoptés que si l...\nName: article, Length: 52040, dtype: object"
     },
     "execution_count": 46,
     "metadata": {},
     "output_type": "execute_result"
    }
   ],
   "source": [
    "con.execute(\"\"\"\n",
    "    select article from articles_fr;\n",
    "\"\"\").df()['article'].str.split(';').explode()"
   ],
   "metadata": {
    "collapsed": false,
    "ExecuteTime": {
     "end_time": "2024-02-03T22:02:44.935154Z",
     "start_time": "2024-02-03T22:02:44.723774Z"
    }
   },
   "id": "dbbb4681178f8988",
   "execution_count": 46
  },
  {
   "cell_type": "code",
   "execution_count": 47,
   "outputs": [],
   "source": [
    "con.execute(\"\"\"\n",
    "    select article from articles_fr;\n",
    "\"\"\").df()['article'].str.split(';').explode().to_csv(\"sentences.txt\", columns=[\"article\"], header=False, index=False)"
   ],
   "metadata": {
    "collapsed": false,
    "ExecuteTime": {
     "end_time": "2024-02-03T22:02:51.907547Z",
     "start_time": "2024-02-03T22:02:51.308703Z"
    }
   },
   "id": "9499d4979fab215d"
  },
  {
   "cell_type": "code",
   "outputs": [],
   "source": [],
   "metadata": {
    "collapsed": false
   },
   "id": "5712bf65667be1f8"
  }
 ],
 "metadata": {
  "kernelspec": {
   "display_name": "Python 3",
   "language": "python",
   "name": "python3"
  },
  "language_info": {
   "codemirror_mode": {
    "name": "ipython",
    "version": 2
   },
   "file_extension": ".py",
   "mimetype": "text/x-python",
   "name": "python",
   "nbconvert_exporter": "python",
   "pygments_lexer": "ipython2",
   "version": "2.7.6"
  }
 },
 "nbformat": 4,
 "nbformat_minor": 5
}
