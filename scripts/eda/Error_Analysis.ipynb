{
 "cells": [
  {
   "cell_type": "markdown",
   "source": [
    "# Error Analysis GPL"
   ],
   "metadata": {
    "collapsed": false
   },
   "id": "222a084dd4428598"
  },
  {
   "cell_type": "code",
   "execution_count": 2,
   "id": "initial_id",
   "metadata": {
    "collapsed": true,
    "ExecuteTime": {
     "end_time": "2024-03-04T15:39:36.635389700Z",
     "start_time": "2024-03-04T15:39:34.708995400Z"
    }
   },
   "outputs": [],
   "source": [
    "import pandas as pd\n",
    "import json"
   ]
  },
  {
   "cell_type": "code",
   "execution_count": 55,
   "outputs": [
    {
     "data": {
      "text/plain": "      qid                                      article_ids_x  is_retrieved  \\\n0     499  [14912, 19098, 5383, 22550, 1746, 1282, 1017, ...         False   \n1     411  [15764, 1111, 1878, 1198, 1966, 1701, 15889, 5...         False   \n2     691  [4391, 4374, 5962, 5421, 9870, 4846, 16441, 11...         False   \n3     632  [14591, 15702, 15812, 2205, 4823, 15152, 6047,...         False   \n4     245  [5527, 1356, 10195, 1423, 1300, 5408, 11542, 1...         False   \n..    ...                                                ...           ...   \n217   471  [5650, 3704, 1741, 5494, 1908, 1076, 22100, 12...          True   \n218   116  [15880, 15922, 1334, 2718, 14110, 15821, 20059...          True   \n219   173  [1766, 19116, 1679, 1687, 1821, 2196, 6556, 10...         False   \n220  1086  [4816, 8252, 4566, 4417, 7107, 13604, 21358, 2...         False   \n221   939  [729, 12045, 9381, 9627, 2813, 9591, 8746, 183...          True   \n\n       id  category                                           question  \\\n0     499   Famille  Je vis en union libre. Quels sont les droits d...   \n1     411   Famille  J'ai signé une déclaration de cohabitation lég...   \n2     691   Justice  Ai-je droit à l'aide juridique (ex pro deo) si...   \n3     632   Justice         Puis-je refuser cette transaction pénale ?   \n4     245   Famille  Les père et mère de l'enfant résident séparéme...   \n..    ...       ...                                                ...   \n217   471   Famille  Je suis marié(e). Le propriétaire a envoyé son...   \n218   116    Argent  Le règlement collectif de dettes suspend-il le...   \n219   173    Argent                   Puis-je déshériter mes enfants ?   \n220  1086   Travail  Je reçois les confidences en tant que professi...   \n221   939  Logement  Qu’est-ce que l’indexation du loyer à Bruxelles ?   \n\n                                         article_ids_y  \n0    944,945,946,947,948,949,950,951,1093,1094,1095...  \n1                                            2329,1676  \n2    4478,4479,4480,4481,4482,4483,4484,4485,4486,4...  \n3                                                13520  \n4    1274,1275,1276,1277,1278,1279,1280,1281,1282,1...  \n..                                                 ...  \n217                                               1071  \n218                                               5961  \n219                                               1818  \n220                                               6617  \n221                                                842  \n\n[222 rows x 7 columns]",
      "text/html": "<div>\n<style scoped>\n    .dataframe tbody tr th:only-of-type {\n        vertical-align: middle;\n    }\n\n    .dataframe tbody tr th {\n        vertical-align: top;\n    }\n\n    .dataframe thead th {\n        text-align: right;\n    }\n</style>\n<table border=\"1\" class=\"dataframe\">\n  <thead>\n    <tr style=\"text-align: right;\">\n      <th></th>\n      <th>qid</th>\n      <th>article_ids_x</th>\n      <th>is_retrieved</th>\n      <th>id</th>\n      <th>category</th>\n      <th>question</th>\n      <th>article_ids_y</th>\n    </tr>\n  </thead>\n  <tbody>\n    <tr>\n      <th>0</th>\n      <td>499</td>\n      <td>[14912, 19098, 5383, 22550, 1746, 1282, 1017, ...</td>\n      <td>False</td>\n      <td>499</td>\n      <td>Famille</td>\n      <td>Je vis en union libre. Quels sont les droits d...</td>\n      <td>944,945,946,947,948,949,950,951,1093,1094,1095...</td>\n    </tr>\n    <tr>\n      <th>1</th>\n      <td>411</td>\n      <td>[15764, 1111, 1878, 1198, 1966, 1701, 15889, 5...</td>\n      <td>False</td>\n      <td>411</td>\n      <td>Famille</td>\n      <td>J'ai signé une déclaration de cohabitation lég...</td>\n      <td>2329,1676</td>\n    </tr>\n    <tr>\n      <th>2</th>\n      <td>691</td>\n      <td>[4391, 4374, 5962, 5421, 9870, 4846, 16441, 11...</td>\n      <td>False</td>\n      <td>691</td>\n      <td>Justice</td>\n      <td>Ai-je droit à l'aide juridique (ex pro deo) si...</td>\n      <td>4478,4479,4480,4481,4482,4483,4484,4485,4486,4...</td>\n    </tr>\n    <tr>\n      <th>3</th>\n      <td>632</td>\n      <td>[14591, 15702, 15812, 2205, 4823, 15152, 6047,...</td>\n      <td>False</td>\n      <td>632</td>\n      <td>Justice</td>\n      <td>Puis-je refuser cette transaction pénale ?</td>\n      <td>13520</td>\n    </tr>\n    <tr>\n      <th>4</th>\n      <td>245</td>\n      <td>[5527, 1356, 10195, 1423, 1300, 5408, 11542, 1...</td>\n      <td>False</td>\n      <td>245</td>\n      <td>Famille</td>\n      <td>Les père et mère de l'enfant résident séparéme...</td>\n      <td>1274,1275,1276,1277,1278,1279,1280,1281,1282,1...</td>\n    </tr>\n    <tr>\n      <th>...</th>\n      <td>...</td>\n      <td>...</td>\n      <td>...</td>\n      <td>...</td>\n      <td>...</td>\n      <td>...</td>\n      <td>...</td>\n    </tr>\n    <tr>\n      <th>217</th>\n      <td>471</td>\n      <td>[5650, 3704, 1741, 5494, 1908, 1076, 22100, 12...</td>\n      <td>True</td>\n      <td>471</td>\n      <td>Famille</td>\n      <td>Je suis marié(e). Le propriétaire a envoyé son...</td>\n      <td>1071</td>\n    </tr>\n    <tr>\n      <th>218</th>\n      <td>116</td>\n      <td>[15880, 15922, 1334, 2718, 14110, 15821, 20059...</td>\n      <td>True</td>\n      <td>116</td>\n      <td>Argent</td>\n      <td>Le règlement collectif de dettes suspend-il le...</td>\n      <td>5961</td>\n    </tr>\n    <tr>\n      <th>219</th>\n      <td>173</td>\n      <td>[1766, 19116, 1679, 1687, 1821, 2196, 6556, 10...</td>\n      <td>False</td>\n      <td>173</td>\n      <td>Argent</td>\n      <td>Puis-je déshériter mes enfants ?</td>\n      <td>1818</td>\n    </tr>\n    <tr>\n      <th>220</th>\n      <td>1086</td>\n      <td>[4816, 8252, 4566, 4417, 7107, 13604, 21358, 2...</td>\n      <td>False</td>\n      <td>1086</td>\n      <td>Travail</td>\n      <td>Je reçois les confidences en tant que professi...</td>\n      <td>6617</td>\n    </tr>\n    <tr>\n      <th>221</th>\n      <td>939</td>\n      <td>[729, 12045, 9381, 9627, 2813, 9591, 8746, 183...</td>\n      <td>True</td>\n      <td>939</td>\n      <td>Logement</td>\n      <td>Qu’est-ce que l’indexation du loyer à Bruxelles ?</td>\n      <td>842</td>\n    </tr>\n  </tbody>\n</table>\n<p>222 rows × 7 columns</p>\n</div>"
     },
     "execution_count": 55,
     "metadata": {},
     "output_type": "execute_result"
    }
   ],
   "source": [
    "with open('./data/gpl_zeroshot_retrieve_results.json') as f:\n",
    "    d_retrieval_results = json.load(f)\n",
    "\n",
    "d_retrieval_map = {}\n",
    "for qid, value in d_retrieval_results.items():\n",
    "    d_retrieval_map[qid] = list(value.keys())\n",
    "df_retrieval = pd.DataFrame(list(d_retrieval_map.items()), columns=['qid', 'article_ids'])\n",
    "df_test_golden = pd.read_csv('./data/questions_fr_test.csv')\n",
    "\n",
    "def verify_recall(row):\n",
    "    golden_articles = df_test_golden[df_test_golden[\"id\"] == int(row[\"qid\"])][\"article_ids\"].values.tolist()\n",
    "    return any(i in golden_articles for i in row[\"article_ids\"])\n",
    "\n",
    "df_retrieval[\"is_retrieved\"] = df_retrieval.apply(verify_recall, axis=1)\n",
    "df_retrieval[\"qid\"] = df_retrieval[\"qid\"].astype('int')\n",
    "df_retrieval_all = df_retrieval.merge(df_test_golden[[\"id\", \"category\",\"question\", \"article_ids\"]],left_on=\"qid\", right_on=\"id\", how='inner')\n",
    "df_retrieval_all"
   ],
   "metadata": {
    "collapsed": false,
    "ExecuteTime": {
     "end_time": "2024-03-04T17:32:46.821482800Z",
     "start_time": "2024-03-04T17:32:46.742966Z"
    }
   },
   "id": "1875df874f3d1a56"
  },
  {
   "cell_type": "code",
   "execution_count": 58,
   "outputs": [
    {
     "data": {
      "text/plain": "      qid                                      article_ids_x  is_retrieved  \\\n0     499  [14912, 19098, 5383, 22550, 1746, 1282, 1017, ...         False   \n1     411  [15764, 1111, 1878, 1198, 1966, 1701, 15889, 5...         False   \n2     691  [4391, 4374, 5962, 5421, 9870, 4846, 16441, 11...         False   \n3     632  [14591, 15702, 15812, 2205, 4823, 15152, 6047,...         False   \n4     245  [5527, 1356, 10195, 1423, 1300, 5408, 11542, 1...         False   \n..    ...                                                ...           ...   \n213   771  [585, 411, 12206, 14467, 611, 8983, 637, 7583,...         False   \n215   934  [15798, 241, 623, 758, 12938, 616, 12997, 355,...         False   \n216   819  [9354, 12752, 5882, 3417, 1508, 12030, 5795, 3...         False   \n219   173  [1766, 19116, 1679, 1687, 1821, 2196, 6556, 10...         False   \n220  1086  [4816, 8252, 4566, 4417, 7107, 13604, 21358, 2...         False   \n\n       id  category                                           question  \\\n0     499   Famille  Je vis en union libre. Quels sont les droits d...   \n1     411   Famille  J'ai signé une déclaration de cohabitation lég...   \n2     691   Justice  Ai-je droit à l'aide juridique (ex pro deo) si...   \n3     632   Justice         Puis-je refuser cette transaction pénale ?   \n4     245   Famille  Les père et mère de l'enfant résident séparéme...   \n..    ...       ...                                                ...   \n213   771  Logement  Je pense que mon logement est insalubre. Je m'...   \n215   934  Logement  Mon propriétaire peut-il fixer librement le pr...   \n216   819  Logement  Je m'assure que le propriétaire a obtenu un pe...   \n219   173    Argent                   Puis-je déshériter mes enfants ?   \n220  1086   Travail  Je reçois les confidences en tant que professi...   \n\n                                         article_ids_y  \n0    944,945,946,947,948,949,950,951,1093,1094,1095...  \n1                                            2329,1676  \n2    4478,4479,4480,4481,4482,4483,4484,4485,4486,4...  \n3                                                13520  \n4    1274,1275,1276,1277,1278,1279,1280,1281,1282,1...  \n..                                                 ...  \n213                                        12016,12017  \n215                                                861  \n216                                        12031,12033  \n219                                               1818  \n220                                               6617  \n\n[169 rows x 7 columns]",
      "text/html": "<div>\n<style scoped>\n    .dataframe tbody tr th:only-of-type {\n        vertical-align: middle;\n    }\n\n    .dataframe tbody tr th {\n        vertical-align: top;\n    }\n\n    .dataframe thead th {\n        text-align: right;\n    }\n</style>\n<table border=\"1\" class=\"dataframe\">\n  <thead>\n    <tr style=\"text-align: right;\">\n      <th></th>\n      <th>qid</th>\n      <th>article_ids_x</th>\n      <th>is_retrieved</th>\n      <th>id</th>\n      <th>category</th>\n      <th>question</th>\n      <th>article_ids_y</th>\n    </tr>\n  </thead>\n  <tbody>\n    <tr>\n      <th>0</th>\n      <td>499</td>\n      <td>[14912, 19098, 5383, 22550, 1746, 1282, 1017, ...</td>\n      <td>False</td>\n      <td>499</td>\n      <td>Famille</td>\n      <td>Je vis en union libre. Quels sont les droits d...</td>\n      <td>944,945,946,947,948,949,950,951,1093,1094,1095...</td>\n    </tr>\n    <tr>\n      <th>1</th>\n      <td>411</td>\n      <td>[15764, 1111, 1878, 1198, 1966, 1701, 15889, 5...</td>\n      <td>False</td>\n      <td>411</td>\n      <td>Famille</td>\n      <td>J'ai signé une déclaration de cohabitation lég...</td>\n      <td>2329,1676</td>\n    </tr>\n    <tr>\n      <th>2</th>\n      <td>691</td>\n      <td>[4391, 4374, 5962, 5421, 9870, 4846, 16441, 11...</td>\n      <td>False</td>\n      <td>691</td>\n      <td>Justice</td>\n      <td>Ai-je droit à l'aide juridique (ex pro deo) si...</td>\n      <td>4478,4479,4480,4481,4482,4483,4484,4485,4486,4...</td>\n    </tr>\n    <tr>\n      <th>3</th>\n      <td>632</td>\n      <td>[14591, 15702, 15812, 2205, 4823, 15152, 6047,...</td>\n      <td>False</td>\n      <td>632</td>\n      <td>Justice</td>\n      <td>Puis-je refuser cette transaction pénale ?</td>\n      <td>13520</td>\n    </tr>\n    <tr>\n      <th>4</th>\n      <td>245</td>\n      <td>[5527, 1356, 10195, 1423, 1300, 5408, 11542, 1...</td>\n      <td>False</td>\n      <td>245</td>\n      <td>Famille</td>\n      <td>Les père et mère de l'enfant résident séparéme...</td>\n      <td>1274,1275,1276,1277,1278,1279,1280,1281,1282,1...</td>\n    </tr>\n    <tr>\n      <th>...</th>\n      <td>...</td>\n      <td>...</td>\n      <td>...</td>\n      <td>...</td>\n      <td>...</td>\n      <td>...</td>\n      <td>...</td>\n    </tr>\n    <tr>\n      <th>213</th>\n      <td>771</td>\n      <td>[585, 411, 12206, 14467, 611, 8983, 637, 7583,...</td>\n      <td>False</td>\n      <td>771</td>\n      <td>Logement</td>\n      <td>Je pense que mon logement est insalubre. Je m'...</td>\n      <td>12016,12017</td>\n    </tr>\n    <tr>\n      <th>215</th>\n      <td>934</td>\n      <td>[15798, 241, 623, 758, 12938, 616, 12997, 355,...</td>\n      <td>False</td>\n      <td>934</td>\n      <td>Logement</td>\n      <td>Mon propriétaire peut-il fixer librement le pr...</td>\n      <td>861</td>\n    </tr>\n    <tr>\n      <th>216</th>\n      <td>819</td>\n      <td>[9354, 12752, 5882, 3417, 1508, 12030, 5795, 3...</td>\n      <td>False</td>\n      <td>819</td>\n      <td>Logement</td>\n      <td>Je m'assure que le propriétaire a obtenu un pe...</td>\n      <td>12031,12033</td>\n    </tr>\n    <tr>\n      <th>219</th>\n      <td>173</td>\n      <td>[1766, 19116, 1679, 1687, 1821, 2196, 6556, 10...</td>\n      <td>False</td>\n      <td>173</td>\n      <td>Argent</td>\n      <td>Puis-je déshériter mes enfants ?</td>\n      <td>1818</td>\n    </tr>\n    <tr>\n      <th>220</th>\n      <td>1086</td>\n      <td>[4816, 8252, 4566, 4417, 7107, 13604, 21358, 2...</td>\n      <td>False</td>\n      <td>1086</td>\n      <td>Travail</td>\n      <td>Je reçois les confidences en tant que professi...</td>\n      <td>6617</td>\n    </tr>\n  </tbody>\n</table>\n<p>169 rows × 7 columns</p>\n</div>"
     },
     "execution_count": 58,
     "metadata": {},
     "output_type": "execute_result"
    }
   ],
   "source": [
    "df_retrieval_failed_recall_100 = df_retrieval_all[df_retrieval_all[\"is_retrieved\"] == False]\n",
    "df_retrieval_failed_recall_100"
   ],
   "metadata": {
    "collapsed": false,
    "ExecuteTime": {
     "end_time": "2024-03-04T20:53:57.691321100Z",
     "start_time": "2024-03-04T20:53:57.657061100Z"
    }
   },
   "id": "135e7a1650e6b35a"
  },
  {
   "cell_type": "code",
   "execution_count": null,
   "outputs": [],
   "source": [],
   "metadata": {
    "collapsed": false
   },
   "id": "5514c5d1c38b7273"
  }
 ],
 "metadata": {
  "kernelspec": {
   "display_name": "Python 3",
   "language": "python",
   "name": "python3"
  },
  "language_info": {
   "codemirror_mode": {
    "name": "ipython",
    "version": 2
   },
   "file_extension": ".py",
   "mimetype": "text/x-python",
   "name": "python",
   "nbconvert_exporter": "python",
   "pygments_lexer": "ipython2",
   "version": "2.7.6"
  }
 },
 "nbformat": 4,
 "nbformat_minor": 5
}
