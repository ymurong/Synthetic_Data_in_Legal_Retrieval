{
 "cells": [
  {
   "cell_type": "code",
   "execution_count": 2,
   "id": "initial_id",
   "metadata": {
    "collapsed": true,
    "ExecuteTime": {
     "end_time": "2024-05-01T21:29:04.981236500Z",
     "start_time": "2024-05-01T21:29:04.339649100Z"
    }
   },
   "outputs": [],
   "source": [
    "import spacy\n",
    "from zss import Node, simple_distance\n",
    "from functools import partial\n",
    "# Imports\n",
    "import numpy as np\n",
    "import duckdb\n",
    "import pandas as pd\n",
    "import matplotlib.pyplot as plt\n",
    "import spacy\n",
    "from tqdm import tqdm\n",
    "tqdm.pandas(desc='Processing text')\n",
    "nlp = spacy.load(\"fr_core_news_sm\")"
   ]
  },
  {
   "cell_type": "code",
   "execution_count": 3,
   "outputs": [],
   "source": [
    "import spacy\n",
    "from zss import Node, simple_distance\n",
    "from functools import partial\n",
    "\n",
    "# Load the French language model\n",
    "nlp = spacy.load(\"fr_core_news_md\")\n",
    "\n",
    "# Function to convert a spaCy token to a zss Node recursively\n",
    "def token_to_zss_node(mode, token):\n",
    "    if mode==\"dep\":\n",
    "        node = Node(token.dep_)\n",
    "    elif mode==\"text\":\n",
    "        node = Node(token.orth_)\n",
    "    elif mode==\"pos\":\n",
    "        node = Node(token.pos_)\n",
    "        \n",
    "    for child in token.children:\n",
    "        node.addkid(token_to_zss_node(mode=mode, token=child))\n",
    "    return node\n",
    "\n",
    "def build_zss_tree(spacy_doc, zss_parser):\n",
    "    root = Node(\"ROOT\")\n",
    "    for sent in spacy_doc.sents:\n",
    "        root.addkid(zss_parser(sent.root))\n",
    "    return root\n",
    "\n",
    "# Function to compute tree edit distance between two documents\n",
    "def compute_tree_edit_distance(parsed_doc1, parsed_doc2, zss_parser):\n",
    "    root1 = build_zss_tree(spacy_doc=parsed_doc1,zss_parser=zss_parser)\n",
    "    root2 = build_zss_tree(spacy_doc=parsed_doc2,zss_parser=zss_parser)\n",
    "    # Compute the tree edit distance using zss\n",
    "    return simple_distance(root1, root2)\n",
    "\n",
    "def _remove_stop_words(doc):\n",
    "    return \" \".join([str(t) for t in doc if not t.is_stop])\n",
    "\n",
    "def semantic_similarity(doc1, doc2):\n",
    "    return doc1.similarity(doc2)\n",
    "\n",
    "# zss parser\n",
    "zss_dependency_parser= partial(token_to_zss_node,'dep')"
   ],
   "metadata": {
    "collapsed": false,
    "ExecuteTime": {
     "end_time": "2024-05-01T21:29:08.036776300Z",
     "start_time": "2024-05-01T21:29:06.761622700Z"
    }
   },
   "id": "1d1867c12d82eb5c"
  },
  {
   "cell_type": "markdown",
   "source": [
    "# Construct Questions Entries"
   ],
   "metadata": {
    "collapsed": false
   },
   "id": "e3964bee1c36540"
  },
  {
   "cell_type": "code",
   "execution_count": 4,
   "outputs": [],
   "source": [
    "conn = duckdb.connect(database=\"test.db\", read_only=False)\n",
    "cur = conn.cursor()"
   ],
   "metadata": {
    "collapsed": false,
    "ExecuteTime": {
     "end_time": "2024-05-01T21:29:12.325859800Z",
     "start_time": "2024-05-01T21:29:12.310823500Z"
    }
   },
   "id": "8687d4bf759ef6b9"
  },
  {
   "cell_type": "code",
   "execution_count": 13,
   "outputs": [
    {
     "data": {
      "text/plain": "<duckdb.DuckDBPyConnection at 0x2c782dd32b0>"
     },
     "execution_count": 13,
     "metadata": {},
     "output_type": "execute_result"
    }
   ],
   "source": [
    "cur.execute(\"CREATE OR REPLACE TABLE questions AS SELECT * FROM './data/questions_fr_train.csv';\")\n",
    "cur.execute(\"CREATE OR REPLACE TABLE questions_simple AS SELECT * FROM './data/questions_syn_simple_ask.csv';\")\n",
    "cur.execute(\"CREATE OR REPLACE TABLE questions_simple_tc AS SELECT * FROM './data/questions_syn_simple_ask_qcc.csv';\")\n",
    "cur.execute(\"CREATE OR REPLACE TABLE questions_simple_tc_fewshots AS SELECT * FROM './data/questions_syn_simple_ask_qcc_fewshots.csv';\")\n",
    "cur.execute(\"CREATE OR REPLACE TABLE questions_describe AS SELECT * FROM './data/questions_syn_describe_then_ask.csv';\")\n",
    "cur.execute(\"CREATE OR REPLACE TABLE questions_describe_tc AS SELECT * FROM './data/questions_syn_describe_then_ask_qcc.csv';\")\n",
    "cur.execute(\"CREATE OR REPLACE TABLE questions_describe_fewshots AS SELECT * FROM './data/questions_syn_describe_then_ask_fewshots.csv';\")\n",
    "cur.execute(\"CREATE OR REPLACE TABLE questions_describe_tc_fewshots AS SELECT * FROM './data/questions_syn_describe_then_ask_qcc_fewshots.csv';\")"
   ],
   "metadata": {
    "collapsed": false,
    "ExecuteTime": {
     "end_time": "2024-05-01T21:49:17.203852200Z",
     "start_time": "2024-05-01T21:49:16.378405500Z"
    }
   },
   "id": "654eb68f5c0ef5e4"
  },
  {
   "cell_type": "code",
   "execution_count": 49,
   "outputs": [
    {
     "data": {
      "text/plain": "     article_ids                                           question\n0          22225  Je suis travailleur salarié(e). Puis-je refuse...\n1          22226  Je suis travailleur salarié(e). Puis-je refuse...\n2          22227  Je suis travailleur salarié(e). Puis-je refuse...\n3          22228  Je suis travailleur salarié(e). Puis-je refuse...\n4          22229  Je suis travailleur salarié(e). Puis-je refuse...\n...          ...                                                ...\n5779       14479  Si je ne rembourse pas mon crédit hypothécaire...\n5780       14480  Si je ne rembourse pas mon crédit hypothécaire...\n5781       14481  Si je ne rembourse pas mon crédit hypothécaire...\n5782       14482  Si je ne rembourse pas mon crédit hypothécaire...\n5783       14483  Si je ne rembourse pas mon crédit hypothécaire...\n\n[5784 rows x 2 columns]",
      "text/html": "<div>\n<style scoped>\n    .dataframe tbody tr th:only-of-type {\n        vertical-align: middle;\n    }\n\n    .dataframe tbody tr th {\n        vertical-align: top;\n    }\n\n    .dataframe thead th {\n        text-align: right;\n    }\n</style>\n<table border=\"1\" class=\"dataframe\">\n  <thead>\n    <tr style=\"text-align: right;\">\n      <th></th>\n      <th>article_ids</th>\n      <th>question</th>\n    </tr>\n  </thead>\n  <tbody>\n    <tr>\n      <th>0</th>\n      <td>22225</td>\n      <td>Je suis travailleur salarié(e). Puis-je refuse...</td>\n    </tr>\n    <tr>\n      <th>1</th>\n      <td>22226</td>\n      <td>Je suis travailleur salarié(e). Puis-je refuse...</td>\n    </tr>\n    <tr>\n      <th>2</th>\n      <td>22227</td>\n      <td>Je suis travailleur salarié(e). Puis-je refuse...</td>\n    </tr>\n    <tr>\n      <th>3</th>\n      <td>22228</td>\n      <td>Je suis travailleur salarié(e). Puis-je refuse...</td>\n    </tr>\n    <tr>\n      <th>4</th>\n      <td>22229</td>\n      <td>Je suis travailleur salarié(e). Puis-je refuse...</td>\n    </tr>\n    <tr>\n      <th>...</th>\n      <td>...</td>\n      <td>...</td>\n    </tr>\n    <tr>\n      <th>5779</th>\n      <td>14479</td>\n      <td>Si je ne rembourse pas mon crédit hypothécaire...</td>\n    </tr>\n    <tr>\n      <th>5780</th>\n      <td>14480</td>\n      <td>Si je ne rembourse pas mon crédit hypothécaire...</td>\n    </tr>\n    <tr>\n      <th>5781</th>\n      <td>14481</td>\n      <td>Si je ne rembourse pas mon crédit hypothécaire...</td>\n    </tr>\n    <tr>\n      <th>5782</th>\n      <td>14482</td>\n      <td>Si je ne rembourse pas mon crédit hypothécaire...</td>\n    </tr>\n    <tr>\n      <th>5783</th>\n      <td>14483</td>\n      <td>Si je ne rembourse pas mon crédit hypothécaire...</td>\n    </tr>\n  </tbody>\n</table>\n<p>5784 rows × 2 columns</p>\n</div>"
     },
     "execution_count": 49,
     "metadata": {},
     "output_type": "execute_result"
    }
   ],
   "source": [
    "dfQ = cur.execute(\"\"\"\n",
    "SELECT questions.article_ids, question\n",
    "FROM questions\n",
    "\"\"\").df()\n",
    "\n",
    "dfQ['article_ids'] = dfQ['article_ids'].str.split(',')\n",
    "dfQ = dfQ.explode('article_ids')\n",
    "\n",
    "cur.execute(\"\"\"\n",
    "CREATE OR REPLACE TABLE questions AS \n",
    "SELECT * FROM dfQ\n",
    "\"\"\")\n",
    "\n",
    "cur.execute(\"\"\"\n",
    "SELECT * FROM questions\n",
    "\"\"\").df()"
   ],
   "metadata": {
    "collapsed": false,
    "ExecuteTime": {
     "end_time": "2024-05-01T22:09:02.719784Z",
     "start_time": "2024-05-01T22:09:02.672320700Z"
    }
   },
   "id": "7e17d5203e192338"
  },
  {
   "cell_type": "code",
   "execution_count": 50,
   "outputs": [
    {
     "data": {
      "text/plain": "<duckdb.DuckDBPyConnection at 0x2c782dd32b0>"
     },
     "execution_count": 50,
     "metadata": {},
     "output_type": "execute_result"
    }
   ],
   "source": [
    "cur.execute(\"\"\"\n",
    "    CREATE OR REPLACE TABLE questions_summary as \n",
    "    (SELECT questions.article_ids, question, \n",
    "    questions_simple.synthetic_question as questions_simple, \n",
    "    questions_simple_tc.synthetic_question as questions_simple_tc, \n",
    "    questions_simple_tc_fewshots.synthetic_question as questions_simple_tc_fewshots,\n",
    "    questions_describe.synthetic_question as questions_describe, \n",
    "    questions_describe_tc.synthetic_question as questions_describe_tc, \n",
    "    questions_describe_fewshots.synthetic_question as questions_describe_fewshots, \n",
    "    questions_describe_tc_fewshots.synthetic_question as questions_describe_tc_fewshots\n",
    "    FROM questions, questions_simple, questions_simple_tc, questions_simple_tc_fewshots, questions_describe, questions_describe_tc, questions_describe_fewshots, questions_describe_tc_fewshots\n",
    "    where questions.article_ids not like '%,%'\n",
    "    and questions.article_ids = questions_simple.article_ids\n",
    "    and questions.article_ids = questions_simple_tc.article_ids\n",
    "    and questions.article_ids = questions_simple_tc_fewshots.article_ids\n",
    "    and questions.article_ids = questions_describe.article_ids\n",
    "    and questions.article_ids = questions_describe_tc.article_ids\n",
    "    and questions.article_ids = questions_describe_fewshots.article_ids\n",
    "    and questions.article_ids = questions_describe_tc_fewshots.article_ids)\n",
    "\"\"\")"
   ],
   "metadata": {
    "collapsed": false,
    "ExecuteTime": {
     "end_time": "2024-05-01T22:09:05.098694600Z",
     "start_time": "2024-05-01T22:09:04.956230900Z"
    }
   },
   "id": "ff275b10ac33ac98"
  },
  {
   "cell_type": "code",
   "execution_count": 131,
   "outputs": [
    {
     "data": {
      "text/plain": "     article_ids                                           question  \\\n0           1115  Les parents ne sont pas mariés ensemble. La mè...   \n1           4462  Quels recours exercer contre les abus lors d'u...   \n2           1823  Puis-je faire une donation de tous mes biens à...   \n3           1064     Qui doit payer les frais de dernière maladie ?   \n4           4768  Quels documents dois-je remettre au bureau d'a...   \n...          ...                                                ...   \n4590       14471              Qu'est-ce qu'un crédit hypothécaire ?   \n4591        1381  Peut-on changer d'administrateur de biens et/o...   \n4592        1381  Les régimes de protection des personnes fragil...   \n4593        5556  Qu'est-ce qu'une procédure sommaire d'injoncti...   \n4594        1381  Les régimes de protection des personnes fragil...   \n\n                                       questions_simple  \\\n0     Quels sont les modes de preuve de la filiation...   \n1     Quel est l'organe chargé de représenter l'ordr...   \n2     Quelles sont les conditions pour que la quotit...   \n3     Quels critères sont pris en compte pour déterm...   \n4     Quelle autorité est chargée de prévenir le gre...   \n...                                                 ...   \n4590  Quelles informations doit communiquer le prête...   \n4591  Dans quels cas le juge de paix est-il autorisé...   \n4592  Dans quels cas le juge de paix est-il autorisé...   \n4593  Quelles sont les informations obligatoires dev...   \n4594  Dans quels cas le juge de paix est-il autorisé...   \n\n                                    questions_simple_tc  \\\n0     Quel est le critère principal pour prouver la ...   \n1     Est-ce que le Conseil d'administration représe...   \n2     Quels sont les bénéficiaires qui peuvent recev...   \n3     Combien de critères sont pris en compte pour a...   \n4     Quand le greffier notifie-t-il l'administratio...   \n...                                                 ...   \n4590  Est-ce que le prêteur est légalement tenu de c...   \n4591  Dans quelles circonstances le juge de paix peu...   \n4592  Dans quelles circonstances le juge de paix peu...   \n4593  Est-ce que la requête doit être adressée au ju...   \n4594  Dans quelles circonstances le juge de paix peu...   \n\n                           questions_simple_tc_fewshots  \\\n0     La coparente prétendue peut-elle prouver sa fi...   \n1     Est-ce que le Conseil d'administration représe...   \n2     La disposition de la quotité disponible aux en...   \n3     Les aliments peuvent-ils être accordés de mani...   \n4     Lorsqu'une décision d'assistance est accordée,...   \n...                                                 ...   \n4590  Lors de mon refus de crédit, le prêteur est-il...   \n4591  Peut-on demander au juge de paix de modifier l...   \n4592  Peut-on demander au juge de paix de modifier l...   \n4593  À quel moment et de quelle manière doit être a...   \n4594  Peut-on demander au juge de paix de modifier l...   \n\n                                     questions_describe  \\\n0     Une personne revendique la filiation à l'égard...   \n1     Le Conseil d'administration d'un ordre profess...   \n2     Un parent souhaite organiser sa succession en ...   \n3     Un particulier a intenté une action en justice...   \n4     Dans le cadre d'une affaire judiciaire impliqu...   \n...                                                 ...   \n4590  Un consommateur a récemment essuyé un refus de...   \n4591  Un individu a été placé sous protection juridi...   \n4592  Un individu a été placé sous protection juridi...   \n4593  Un requérant souhaite adresser une demande au ...   \n4594  Un individu a été placé sous protection juridi...   \n\n                                  questions_describe_tc  \\\n0     Un couple a recours à un service de médiation ...   \n1     Un consommateur a un litige avec une entrepris...   \n2     Un consommateur belge a un litige avec un four...   \n3     Un individu a entamé une procédure d'arbitrage...   \n4     Un consommateur a déposé une demande de règlem...   \n...                                                 ...   \n4590  Un consommateur a vu sa demande de crédit refu...   \n4591  Dans le cadre d'une situation impliquant une p...   \n4592  Dans le cadre d'une situation impliquant une p...   \n4593  Un consommateur a eu un litige avec une entrep...   \n4594  Dans le cadre d'une situation impliquant une p...   \n\n                            questions_describe_fewshots  \\\n0     Une personne prétend être le parent d'un enfan...   \n1     Un avocat agit au nom de son ordre professionn...   \n2     Un parent souhaite donner une part de son patr...   \n3     Deux époux sont en instance de divorce et l'un...   \n4     J'ai obtenu une décision d'assistance, suite à...   \n...                                                 ...   \n4590  Je viens de me voir refuser un crédit. Quelles...   \n4591  Une personne qui a été placée sous administrat...   \n4592  Une personne qui a été placée sous administrat...   \n4593  J'ai une réclamation à déposer devant un tribu...   \n4594  Une personne qui a été placée sous administrat...   \n\n                         questions_describe_tc_fewshots  \n0     La filiation d'un enfant est contestée par une...  \n1     Un avocat souhaite engager des poursuites judi...  \n2     Un individu souhaite faire une donation à ses ...  \n3     Un individu réclame des aliments à une autre p...  \n4     Une personne a demandé une assistance sous cer...  \n...                                                 ...  \n4590  Je viens de me voir refuser un crédit par une ...  \n4591  Une personne sous protection légale souhaite m...  \n4592  Une personne sous protection légale souhaite m...  \n4593  Un demandeur souhaite introduire une requête e...  \n4594  Une personne sous protection légale souhaite m...  \n\n[4595 rows x 9 columns]",
      "text/html": "<div>\n<style scoped>\n    .dataframe tbody tr th:only-of-type {\n        vertical-align: middle;\n    }\n\n    .dataframe tbody tr th {\n        vertical-align: top;\n    }\n\n    .dataframe thead th {\n        text-align: right;\n    }\n</style>\n<table border=\"1\" class=\"dataframe\">\n  <thead>\n    <tr style=\"text-align: right;\">\n      <th></th>\n      <th>article_ids</th>\n      <th>question</th>\n      <th>questions_simple</th>\n      <th>questions_simple_tc</th>\n      <th>questions_simple_tc_fewshots</th>\n      <th>questions_describe</th>\n      <th>questions_describe_tc</th>\n      <th>questions_describe_fewshots</th>\n      <th>questions_describe_tc_fewshots</th>\n    </tr>\n  </thead>\n  <tbody>\n    <tr>\n      <th>0</th>\n      <td>1115</td>\n      <td>Les parents ne sont pas mariés ensemble. La mè...</td>\n      <td>Quels sont les modes de preuve de la filiation...</td>\n      <td>Quel est le critère principal pour prouver la ...</td>\n      <td>La coparente prétendue peut-elle prouver sa fi...</td>\n      <td>Une personne revendique la filiation à l'égard...</td>\n      <td>Un couple a recours à un service de médiation ...</td>\n      <td>Une personne prétend être le parent d'un enfan...</td>\n      <td>La filiation d'un enfant est contestée par une...</td>\n    </tr>\n    <tr>\n      <th>1</th>\n      <td>4462</td>\n      <td>Quels recours exercer contre les abus lors d'u...</td>\n      <td>Quel est l'organe chargé de représenter l'ordr...</td>\n      <td>Est-ce que le Conseil d'administration représe...</td>\n      <td>Est-ce que le Conseil d'administration représe...</td>\n      <td>Le Conseil d'administration d'un ordre profess...</td>\n      <td>Un consommateur a un litige avec une entrepris...</td>\n      <td>Un avocat agit au nom de son ordre professionn...</td>\n      <td>Un avocat souhaite engager des poursuites judi...</td>\n    </tr>\n    <tr>\n      <th>2</th>\n      <td>1823</td>\n      <td>Puis-je faire une donation de tous mes biens à...</td>\n      <td>Quelles sont les conditions pour que la quotit...</td>\n      <td>Quels sont les bénéficiaires qui peuvent recev...</td>\n      <td>La disposition de la quotité disponible aux en...</td>\n      <td>Un parent souhaite organiser sa succession en ...</td>\n      <td>Un consommateur belge a un litige avec un four...</td>\n      <td>Un parent souhaite donner une part de son patr...</td>\n      <td>Un individu souhaite faire une donation à ses ...</td>\n    </tr>\n    <tr>\n      <th>3</th>\n      <td>1064</td>\n      <td>Qui doit payer les frais de dernière maladie ?</td>\n      <td>Quels critères sont pris en compte pour déterm...</td>\n      <td>Combien de critères sont pris en compte pour a...</td>\n      <td>Les aliments peuvent-ils être accordés de mani...</td>\n      <td>Un particulier a intenté une action en justice...</td>\n      <td>Un individu a entamé une procédure d'arbitrage...</td>\n      <td>Deux époux sont en instance de divorce et l'un...</td>\n      <td>Un individu réclame des aliments à une autre p...</td>\n    </tr>\n    <tr>\n      <th>4</th>\n      <td>4768</td>\n      <td>Quels documents dois-je remettre au bureau d'a...</td>\n      <td>Quelle autorité est chargée de prévenir le gre...</td>\n      <td>Quand le greffier notifie-t-il l'administratio...</td>\n      <td>Lorsqu'une décision d'assistance est accordée,...</td>\n      <td>Dans le cadre d'une affaire judiciaire impliqu...</td>\n      <td>Un consommateur a déposé une demande de règlem...</td>\n      <td>J'ai obtenu une décision d'assistance, suite à...</td>\n      <td>Une personne a demandé une assistance sous cer...</td>\n    </tr>\n    <tr>\n      <th>...</th>\n      <td>...</td>\n      <td>...</td>\n      <td>...</td>\n      <td>...</td>\n      <td>...</td>\n      <td>...</td>\n      <td>...</td>\n      <td>...</td>\n      <td>...</td>\n    </tr>\n    <tr>\n      <th>4590</th>\n      <td>14471</td>\n      <td>Qu'est-ce qu'un crédit hypothécaire ?</td>\n      <td>Quelles informations doit communiquer le prête...</td>\n      <td>Est-ce que le prêteur est légalement tenu de c...</td>\n      <td>Lors de mon refus de crédit, le prêteur est-il...</td>\n      <td>Un consommateur a récemment essuyé un refus de...</td>\n      <td>Un consommateur a vu sa demande de crédit refu...</td>\n      <td>Je viens de me voir refuser un crédit. Quelles...</td>\n      <td>Je viens de me voir refuser un crédit par une ...</td>\n    </tr>\n    <tr>\n      <th>4591</th>\n      <td>1381</td>\n      <td>Peut-on changer d'administrateur de biens et/o...</td>\n      <td>Dans quels cas le juge de paix est-il autorisé...</td>\n      <td>Dans quelles circonstances le juge de paix peu...</td>\n      <td>Peut-on demander au juge de paix de modifier l...</td>\n      <td>Un individu a été placé sous protection juridi...</td>\n      <td>Dans le cadre d'une situation impliquant une p...</td>\n      <td>Une personne qui a été placée sous administrat...</td>\n      <td>Une personne sous protection légale souhaite m...</td>\n    </tr>\n    <tr>\n      <th>4592</th>\n      <td>1381</td>\n      <td>Les régimes de protection des personnes fragil...</td>\n      <td>Dans quels cas le juge de paix est-il autorisé...</td>\n      <td>Dans quelles circonstances le juge de paix peu...</td>\n      <td>Peut-on demander au juge de paix de modifier l...</td>\n      <td>Un individu a été placé sous protection juridi...</td>\n      <td>Dans le cadre d'une situation impliquant une p...</td>\n      <td>Une personne qui a été placée sous administrat...</td>\n      <td>Une personne sous protection légale souhaite m...</td>\n    </tr>\n    <tr>\n      <th>4593</th>\n      <td>5556</td>\n      <td>Qu'est-ce qu'une procédure sommaire d'injoncti...</td>\n      <td>Quelles sont les informations obligatoires dev...</td>\n      <td>Est-ce que la requête doit être adressée au ju...</td>\n      <td>À quel moment et de quelle manière doit être a...</td>\n      <td>Un requérant souhaite adresser une demande au ...</td>\n      <td>Un consommateur a eu un litige avec une entrep...</td>\n      <td>J'ai une réclamation à déposer devant un tribu...</td>\n      <td>Un demandeur souhaite introduire une requête e...</td>\n    </tr>\n    <tr>\n      <th>4594</th>\n      <td>1381</td>\n      <td>Les régimes de protection des personnes fragil...</td>\n      <td>Dans quels cas le juge de paix est-il autorisé...</td>\n      <td>Dans quelles circonstances le juge de paix peu...</td>\n      <td>Peut-on demander au juge de paix de modifier l...</td>\n      <td>Un individu a été placé sous protection juridi...</td>\n      <td>Dans le cadre d'une situation impliquant une p...</td>\n      <td>Une personne qui a été placée sous administrat...</td>\n      <td>Une personne sous protection légale souhaite m...</td>\n    </tr>\n  </tbody>\n</table>\n<p>4595 rows × 9 columns</p>\n</div>"
     },
     "execution_count": 131,
     "metadata": {},
     "output_type": "execute_result"
    }
   ],
   "source": [
    "dfQ_summary = cur.execute(\"\"\"\n",
    "    SELECT *\n",
    "    FROM questions_summary\n",
    "\"\"\").df()\n",
    "dfQ_summary"
   ],
   "metadata": {
    "collapsed": false,
    "ExecuteTime": {
     "end_time": "2024-05-02T14:57:00.317023100Z",
     "start_time": "2024-05-02T14:57:00.255721300Z"
    }
   },
   "id": "d9ebb82fa56a8850"
  },
  {
   "cell_type": "code",
   "execution_count": 132,
   "outputs": [],
   "source": [
    "dfQ_summary = dfQ_summary.sample(n=2000,random_state=42)"
   ],
   "metadata": {
    "collapsed": false,
    "ExecuteTime": {
     "end_time": "2024-05-02T14:57:01.131241700Z",
     "start_time": "2024-05-02T14:57:01.119015200Z"
    }
   },
   "id": "a0914163d98298ea"
  },
  {
   "cell_type": "code",
   "execution_count": 133,
   "outputs": [],
   "source": [
    "dfQ_summary['simple_tree_edit_distance'] = dfQ_summary.apply(lambda row: compute_tree_edit_distance(nlp(row['question']), nlp(row['questions_simple']),zss_parser=zss_dependency_parser), axis=1)"
   ],
   "metadata": {
    "collapsed": false,
    "ExecuteTime": {
     "end_time": "2024-05-02T14:57:50.638256600Z",
     "start_time": "2024-05-02T14:57:05.268549700Z"
    }
   },
   "id": "434bd5d73c1e5398"
  },
  {
   "cell_type": "code",
   "execution_count": 134,
   "outputs": [],
   "source": [
    "dfQ_summary['simple_tc_fewshots_tree_edit_distance'] = dfQ_summary.apply(lambda row: compute_tree_edit_distance(nlp(row['question']), nlp(row['questions_simple_tc_fewshots']),zss_parser=zss_dependency_parser), axis=1)\n",
    "\n",
    "dfQ_summary['simple_tc_tree_edit_distance'] = dfQ_summary.apply(lambda row: compute_tree_edit_distance(nlp(row['question']), nlp(row['questions_simple_tc']),zss_parser=zss_dependency_parser), axis=1)"
   ],
   "metadata": {
    "collapsed": false,
    "ExecuteTime": {
     "end_time": "2024-05-02T14:59:10.909793400Z",
     "start_time": "2024-05-02T14:57:50.640234500Z"
    }
   },
   "id": "dc9922f3a5848d2e"
  },
  {
   "cell_type": "code",
   "execution_count": 135,
   "outputs": [],
   "source": [
    "dfQ_summary['describe_tree_edit_distance'] = dfQ_summary.apply(lambda row: compute_tree_edit_distance(nlp(row['question']), nlp(row['questions_describe']),zss_parser=zss_dependency_parser), axis=1)\n",
    "\n",
    "dfQ_summary['describe_tc_tree_edit_distance'] = dfQ_summary.apply(lambda row: compute_tree_edit_distance(nlp(row['question']), nlp(row['questions_describe_tc']),zss_parser=zss_dependency_parser), axis=1)"
   ],
   "metadata": {
    "collapsed": false,
    "ExecuteTime": {
     "end_time": "2024-05-02T15:01:58.690360400Z",
     "start_time": "2024-05-02T14:59:10.909793400Z"
    }
   },
   "id": "336ad2c89dd9c7b6"
  },
  {
   "cell_type": "code",
   "execution_count": 136,
   "outputs": [],
   "source": [
    "dfQ_summary['describe_fewshots_tree_edit_distance'] = dfQ_summary.apply(lambda row: compute_tree_edit_distance(nlp(row['question']), nlp(row['questions_describe_fewshots']),zss_parser=zss_dependency_parser), axis=1)\n",
    "\n",
    "dfQ_summary['describe_tc_fewshots_tree_edit_distance'] = dfQ_summary.apply(lambda row: compute_tree_edit_distance(nlp(row['question']), nlp(row['questions_describe_tc_fewshots']),zss_parser=zss_dependency_parser), axis=1)"
   ],
   "metadata": {
    "collapsed": false,
    "ExecuteTime": {
     "end_time": "2024-05-02T15:03:53.821427500Z",
     "start_time": "2024-05-02T15:01:58.697088200Z"
    }
   },
   "id": "e2329cae64f2825"
  },
  {
   "cell_type": "code",
   "execution_count": 137,
   "outputs": [
    {
     "data": {
      "text/plain": "     article_ids                                           question  \\\n3201        6517  Je me suis bagarré à la fin d’une soirée, qu’e...   \n2820        4767  Puis-je avoir l'assistance gratuite d'un avoca...   \n1616        1282  Les père et mère de l'enfant résident ensemble...   \n2696        2845  Puis-je invoquer la prescription pour ne pas p...   \n3488        4480  Ai-je droit à l'aide juridique (ex pro deo) si...   \n...          ...                                                ...   \n4375        1276  Que faire si je ne peux pas me mettre d'accord...   \n3058        4506  Quels sont les revenus pris en compte pour l'a...   \n2905        1334     Qui contrôle le fonctionnement de la tutelle ?   \n1727         869  Que faire si le propriétaire refuse de libérer...   \n867        21124  Comment se passe la procédure du trajet de réi...   \n\n                                       questions_simple  \\\n3201  Quelles sont les peines prévues pour une perso...   \n2820  La question pourrait être:\\n\\nQuels frais la p...   \n1616  Quels droits a le parent qui n'exerce pas conj...   \n2696  Quel est le délai de prescription pour l'actio...   \n3488  Quels sont les arrondissements judiciaires où ...   \n...                                                 ...   \n4375  Quels sont les recours disponibles pour un par...   \n3058  Quels sont les pourcentages maximaux prévus po...   \n2905  À partir de quelle date les intérêts commencen...   \n1727  Quelles sont les conséquences pour le bailleur...   \n867   Quels types de formulaires le Ministre peut-il...   \n\n                                    questions_simple_tc  \\\n3201  Quelle est la peine encourue si les coups ou l...   \n2820  Quelle est la procédure pour obtenir l'expédit...   \n1616  Est-ce que chacun des parents est réputé agir ...   \n2696  Quand débute le délai de prescription pour l'a...   \n3488  Est-ce que la Commission d'aide juridique fran...   \n...                                                 ...   \n4375  Est-ce que chaque parent est réputé agir avec ...   \n3058  La décision du bureau d'aide juridique concern...   \n2905  Quand les intérêts relatifs au reliquat dû par...   \n1727  Quels sont les taux d'intérêt applicables en c...   \n867   Quel est le processus pour remplir les formula...   \n\n                           questions_simple_tc_fewshots  \\\n3201  Les coups ou blessures causant une maladie ou ...   \n2820  Les décisions rendues par le tribunal sont-ell...   \n1616  L'un des parents décide seul d'effectuer une t...   \n2696  Les prestataires de soins ont fourni des servi...   \n3488  Comment est composée la Commission d'aide juri...   \n...                                                 ...   \n4375  Les parents ne vivent pas ensemble. Doivent-il...   \n3058  Un avocat a permis à son client de percevoir u...   \n2905  Le reliquat dû par le tuteur à partir du momen...   \n1727  Le bailleur a reçu ma garantie mais n'a pas la...   \n867   Le Ministre peut-il établir des modèles de for...   \n\n                                     questions_describe  \\\n3201  Un individu a été agressé et a subi des blessu...   \n2820  Un particulier a intenté une action en justice...   \n1616  Deux parents exercent conjointement l'autorité...   \n2696  Un médecin a fourni des prestations médicales ...   \n3488  Dans le cadre de l'accès à la justice en Belgi...   \n...                                                 ...   \n4375  Deux parents vivent ensemble mais se trouvent ...   \n3058  Un avocat a réussi à obtenir des sommes d'arge...   \n2905  Contexte: Le tuteur légal d'un mineur a pris e...   \n1727  Un propriétaire de bien immobilier a encaissé ...   \n867   Un employé a été en arrêt maladie depuis plusi...   \n\n                                  questions_describe_tc  \\\n3201  Une personne a agressé physiquement une autre,...   \n2820  Un consommateur a entamé une procédure de règl...   \n1616  Deux parents exercent conjointement l'autorité...   \n2696  Un patient a reçu des prestations médicales d'...   \n3488  Dans le cadre du règlement extrajudiciaire des...   \n...                                                 ...   \n4375  Un couple non marié a un enfant ensemble. Ils ...   \n3058  Un avocat a aidé un bénéficiaire à percevoir d...   \n2905  Un mineur sous tutelle a des montants dus à so...   \n1727  Un consommateur a introduit une demande de règ...   \n867   Un employé a été victime d'un accident du trav...   \n\n                            questions_describe_fewshots  \\\n3201  Une dispute familiale a conduit à des coups et...   \n2820  Une décision a été rendue par un tribunal. Est...   \n1616  Les parents exercent conjointement l'autorité ...   \n2696  Un patient a reçu des services médicaux d'un p...   \n3488  Je suis confronté à des difficultés juridiques...   \n...                                                 ...   \n4375  Les parents vivent ensemble mais n'arrivent pa...   \n3058  J'ai obtenu un règlement grâce à l'interventio...   \n2905  Je suis tuteur légal d'un mineur. Le compte de...   \n1727  Le bailleur a reçu une garantie de la part du ...   \n867   Un employé est en arrêt maladie depuis plusieu...   \n\n                         questions_describe_tc_fewshots  \\\n3201  Après avoir reçu des coups d'une tierce person...   \n2820  Après avoir obtenu une décision, la partie req...   \n1616  Les parents de l'enfant ne vivent plus ensembl...   \n2696  J'ai reçu des prestations médicales en mars 20...   \n3488  Je suis confronté à des problèmes juridiques m...   \n...                                                 ...   \n4375  Deux parents vivent ensemble et exercent conjo...   \n3058  Un avocat a aidé un client à obtenir des somme...   \n2905  Un mineur a de l'argent placé sous la tutelle ...   \n1727  Le bailleur a reçu la garantie mais ne l'a pas...   \n867   Un employé licencié a fait une demande de réin...   \n\n      simple_tree_edit_distance  simple_tc_fewshots_tree_edit_distance  \\\n3201                       24.0                                   22.0   \n2820                       29.0                                   23.0   \n1616                       33.0                                   31.0   \n2696                       27.0                                   30.0   \n3488                       16.0                                   15.0   \n...                         ...                                    ...   \n4375                       19.0                                   41.0   \n3058                       19.0                                   45.0   \n2905                       18.0                                   16.0   \n1727                       24.0                                   27.0   \n867                        11.0                                    9.0   \n\n      simple_tc_tree_edit_distance  describe_tree_edit_distance  \\\n3201                          19.0                         32.0   \n2820                          18.0                         56.0   \n1616                          34.0                         50.0   \n2696                          15.0                         68.0   \n3488                          20.0                         45.0   \n...                            ...                          ...   \n4375                          33.0                         47.0   \n3058                          22.0                         76.0   \n2905                          15.0                         72.0   \n1727                          29.0                         33.0   \n867                            9.0                         44.0   \n\n      describe_tc_tree_edit_distance  describe_fewshots_tree_edit_distance  \\\n3201                            32.0                                  33.0   \n2820                            32.0                                  29.0   \n1616                            76.0                                  23.0   \n2696                            63.0                                  29.0   \n3488                            73.0                                  35.0   \n...                              ...                                   ...   \n4375                            55.0                                  45.0   \n3058                            40.0                                  38.0   \n2905                            54.0                                  37.0   \n1727                            52.0                                  43.0   \n867                             52.0                                  29.0   \n\n      describe_tc_fewshots_tree_edit_distance  \n3201                                     41.0  \n2820                                     26.0  \n1616                                     36.0  \n2696                                     26.0  \n3488                                     37.0  \n...                                       ...  \n4375                                     42.0  \n3058                                     28.0  \n2905                                     41.0  \n1727                                     31.0  \n867                                      18.0  \n\n[2000 rows x 16 columns]",
      "text/html": "<div>\n<style scoped>\n    .dataframe tbody tr th:only-of-type {\n        vertical-align: middle;\n    }\n\n    .dataframe tbody tr th {\n        vertical-align: top;\n    }\n\n    .dataframe thead th {\n        text-align: right;\n    }\n</style>\n<table border=\"1\" class=\"dataframe\">\n  <thead>\n    <tr style=\"text-align: right;\">\n      <th></th>\n      <th>article_ids</th>\n      <th>question</th>\n      <th>questions_simple</th>\n      <th>questions_simple_tc</th>\n      <th>questions_simple_tc_fewshots</th>\n      <th>questions_describe</th>\n      <th>questions_describe_tc</th>\n      <th>questions_describe_fewshots</th>\n      <th>questions_describe_tc_fewshots</th>\n      <th>simple_tree_edit_distance</th>\n      <th>simple_tc_fewshots_tree_edit_distance</th>\n      <th>simple_tc_tree_edit_distance</th>\n      <th>describe_tree_edit_distance</th>\n      <th>describe_tc_tree_edit_distance</th>\n      <th>describe_fewshots_tree_edit_distance</th>\n      <th>describe_tc_fewshots_tree_edit_distance</th>\n    </tr>\n  </thead>\n  <tbody>\n    <tr>\n      <th>3201</th>\n      <td>6517</td>\n      <td>Je me suis bagarré à la fin d’une soirée, qu’e...</td>\n      <td>Quelles sont les peines prévues pour une perso...</td>\n      <td>Quelle est la peine encourue si les coups ou l...</td>\n      <td>Les coups ou blessures causant une maladie ou ...</td>\n      <td>Un individu a été agressé et a subi des blessu...</td>\n      <td>Une personne a agressé physiquement une autre,...</td>\n      <td>Une dispute familiale a conduit à des coups et...</td>\n      <td>Après avoir reçu des coups d'une tierce person...</td>\n      <td>24.0</td>\n      <td>22.0</td>\n      <td>19.0</td>\n      <td>32.0</td>\n      <td>32.0</td>\n      <td>33.0</td>\n      <td>41.0</td>\n    </tr>\n    <tr>\n      <th>2820</th>\n      <td>4767</td>\n      <td>Puis-je avoir l'assistance gratuite d'un avoca...</td>\n      <td>La question pourrait être:\\n\\nQuels frais la p...</td>\n      <td>Quelle est la procédure pour obtenir l'expédit...</td>\n      <td>Les décisions rendues par le tribunal sont-ell...</td>\n      <td>Un particulier a intenté une action en justice...</td>\n      <td>Un consommateur a entamé une procédure de règl...</td>\n      <td>Une décision a été rendue par un tribunal. Est...</td>\n      <td>Après avoir obtenu une décision, la partie req...</td>\n      <td>29.0</td>\n      <td>23.0</td>\n      <td>18.0</td>\n      <td>56.0</td>\n      <td>32.0</td>\n      <td>29.0</td>\n      <td>26.0</td>\n    </tr>\n    <tr>\n      <th>1616</th>\n      <td>1282</td>\n      <td>Les père et mère de l'enfant résident ensemble...</td>\n      <td>Quels droits a le parent qui n'exerce pas conj...</td>\n      <td>Est-ce que chacun des parents est réputé agir ...</td>\n      <td>L'un des parents décide seul d'effectuer une t...</td>\n      <td>Deux parents exercent conjointement l'autorité...</td>\n      <td>Deux parents exercent conjointement l'autorité...</td>\n      <td>Les parents exercent conjointement l'autorité ...</td>\n      <td>Les parents de l'enfant ne vivent plus ensembl...</td>\n      <td>33.0</td>\n      <td>31.0</td>\n      <td>34.0</td>\n      <td>50.0</td>\n      <td>76.0</td>\n      <td>23.0</td>\n      <td>36.0</td>\n    </tr>\n    <tr>\n      <th>2696</th>\n      <td>2845</td>\n      <td>Puis-je invoquer la prescription pour ne pas p...</td>\n      <td>Quel est le délai de prescription pour l'actio...</td>\n      <td>Quand débute le délai de prescription pour l'a...</td>\n      <td>Les prestataires de soins ont fourni des servi...</td>\n      <td>Un médecin a fourni des prestations médicales ...</td>\n      <td>Un patient a reçu des prestations médicales d'...</td>\n      <td>Un patient a reçu des services médicaux d'un p...</td>\n      <td>J'ai reçu des prestations médicales en mars 20...</td>\n      <td>27.0</td>\n      <td>30.0</td>\n      <td>15.0</td>\n      <td>68.0</td>\n      <td>63.0</td>\n      <td>29.0</td>\n      <td>26.0</td>\n    </tr>\n    <tr>\n      <th>3488</th>\n      <td>4480</td>\n      <td>Ai-je droit à l'aide juridique (ex pro deo) si...</td>\n      <td>Quels sont les arrondissements judiciaires où ...</td>\n      <td>Est-ce que la Commission d'aide juridique fran...</td>\n      <td>Comment est composée la Commission d'aide juri...</td>\n      <td>Dans le cadre de l'accès à la justice en Belgi...</td>\n      <td>Dans le cadre du règlement extrajudiciaire des...</td>\n      <td>Je suis confronté à des difficultés juridiques...</td>\n      <td>Je suis confronté à des problèmes juridiques m...</td>\n      <td>16.0</td>\n      <td>15.0</td>\n      <td>20.0</td>\n      <td>45.0</td>\n      <td>73.0</td>\n      <td>35.0</td>\n      <td>37.0</td>\n    </tr>\n    <tr>\n      <th>...</th>\n      <td>...</td>\n      <td>...</td>\n      <td>...</td>\n      <td>...</td>\n      <td>...</td>\n      <td>...</td>\n      <td>...</td>\n      <td>...</td>\n      <td>...</td>\n      <td>...</td>\n      <td>...</td>\n      <td>...</td>\n      <td>...</td>\n      <td>...</td>\n      <td>...</td>\n      <td>...</td>\n    </tr>\n    <tr>\n      <th>4375</th>\n      <td>1276</td>\n      <td>Que faire si je ne peux pas me mettre d'accord...</td>\n      <td>Quels sont les recours disponibles pour un par...</td>\n      <td>Est-ce que chaque parent est réputé agir avec ...</td>\n      <td>Les parents ne vivent pas ensemble. Doivent-il...</td>\n      <td>Deux parents vivent ensemble mais se trouvent ...</td>\n      <td>Un couple non marié a un enfant ensemble. Ils ...</td>\n      <td>Les parents vivent ensemble mais n'arrivent pa...</td>\n      <td>Deux parents vivent ensemble et exercent conjo...</td>\n      <td>19.0</td>\n      <td>41.0</td>\n      <td>33.0</td>\n      <td>47.0</td>\n      <td>55.0</td>\n      <td>45.0</td>\n      <td>42.0</td>\n    </tr>\n    <tr>\n      <th>3058</th>\n      <td>4506</td>\n      <td>Quels sont les revenus pris en compte pour l'a...</td>\n      <td>Quels sont les pourcentages maximaux prévus po...</td>\n      <td>La décision du bureau d'aide juridique concern...</td>\n      <td>Un avocat a permis à son client de percevoir u...</td>\n      <td>Un avocat a réussi à obtenir des sommes d'arge...</td>\n      <td>Un avocat a aidé un bénéficiaire à percevoir d...</td>\n      <td>J'ai obtenu un règlement grâce à l'interventio...</td>\n      <td>Un avocat a aidé un client à obtenir des somme...</td>\n      <td>19.0</td>\n      <td>45.0</td>\n      <td>22.0</td>\n      <td>76.0</td>\n      <td>40.0</td>\n      <td>38.0</td>\n      <td>28.0</td>\n    </tr>\n    <tr>\n      <th>2905</th>\n      <td>1334</td>\n      <td>Qui contrôle le fonctionnement de la tutelle ?</td>\n      <td>À partir de quelle date les intérêts commencen...</td>\n      <td>Quand les intérêts relatifs au reliquat dû par...</td>\n      <td>Le reliquat dû par le tuteur à partir du momen...</td>\n      <td>Contexte: Le tuteur légal d'un mineur a pris e...</td>\n      <td>Un mineur sous tutelle a des montants dus à so...</td>\n      <td>Je suis tuteur légal d'un mineur. Le compte de...</td>\n      <td>Un mineur a de l'argent placé sous la tutelle ...</td>\n      <td>18.0</td>\n      <td>16.0</td>\n      <td>15.0</td>\n      <td>72.0</td>\n      <td>54.0</td>\n      <td>37.0</td>\n      <td>41.0</td>\n    </tr>\n    <tr>\n      <th>1727</th>\n      <td>869</td>\n      <td>Que faire si le propriétaire refuse de libérer...</td>\n      <td>Quelles sont les conséquences pour le bailleur...</td>\n      <td>Quels sont les taux d'intérêt applicables en c...</td>\n      <td>Le bailleur a reçu ma garantie mais n'a pas la...</td>\n      <td>Un propriétaire de bien immobilier a encaissé ...</td>\n      <td>Un consommateur a introduit une demande de règ...</td>\n      <td>Le bailleur a reçu une garantie de la part du ...</td>\n      <td>Le bailleur a reçu la garantie mais ne l'a pas...</td>\n      <td>24.0</td>\n      <td>27.0</td>\n      <td>29.0</td>\n      <td>33.0</td>\n      <td>52.0</td>\n      <td>43.0</td>\n      <td>31.0</td>\n    </tr>\n    <tr>\n      <th>867</th>\n      <td>21124</td>\n      <td>Comment se passe la procédure du trajet de réi...</td>\n      <td>Quels types de formulaires le Ministre peut-il...</td>\n      <td>Quel est le processus pour remplir les formula...</td>\n      <td>Le Ministre peut-il établir des modèles de for...</td>\n      <td>Un employé a été en arrêt maladie depuis plusi...</td>\n      <td>Un employé a été victime d'un accident du trav...</td>\n      <td>Un employé est en arrêt maladie depuis plusieu...</td>\n      <td>Un employé licencié a fait une demande de réin...</td>\n      <td>11.0</td>\n      <td>9.0</td>\n      <td>9.0</td>\n      <td>44.0</td>\n      <td>52.0</td>\n      <td>29.0</td>\n      <td>18.0</td>\n    </tr>\n  </tbody>\n</table>\n<p>2000 rows × 16 columns</p>\n</div>"
     },
     "execution_count": 137,
     "metadata": {},
     "output_type": "execute_result"
    }
   ],
   "source": [
    "dfQ_summary"
   ],
   "metadata": {
    "collapsed": false,
    "ExecuteTime": {
     "end_time": "2024-05-02T15:03:53.841862Z",
     "start_time": "2024-05-02T15:03:53.833896400Z"
    }
   },
   "id": "947dd4825051b94f"
  },
  {
   "cell_type": "code",
   "execution_count": 138,
   "outputs": [
    {
     "data": {
      "text/plain": "22.7875"
     },
     "execution_count": 138,
     "metadata": {},
     "output_type": "execute_result"
    }
   ],
   "source": [
    "dfQ_summary['simple_tree_edit_distance'].mean()"
   ],
   "metadata": {
    "collapsed": false,
    "ExecuteTime": {
     "end_time": "2024-05-02T15:03:53.873242200Z",
     "start_time": "2024-05-02T15:03:53.840877300Z"
    }
   },
   "id": "cd3d5db5812737d7"
  },
  {
   "cell_type": "code",
   "execution_count": 139,
   "outputs": [
    {
     "data": {
      "text/plain": "23.953"
     },
     "execution_count": 139,
     "metadata": {},
     "output_type": "execute_result"
    }
   ],
   "source": [
    "dfQ_summary['simple_tc_tree_edit_distance'].mean()"
   ],
   "metadata": {
    "collapsed": false,
    "ExecuteTime": {
     "end_time": "2024-05-02T15:03:53.919898300Z",
     "start_time": "2024-05-02T15:03:53.857646Z"
    }
   },
   "id": "79f826b1bd997b90"
  },
  {
   "cell_type": "code",
   "execution_count": 140,
   "outputs": [
    {
     "data": {
      "text/plain": "25.211"
     },
     "execution_count": 140,
     "metadata": {},
     "output_type": "execute_result"
    }
   ],
   "source": [
    "dfQ_summary['simple_tc_fewshots_tree_edit_distance'].mean()"
   ],
   "metadata": {
    "collapsed": false,
    "ExecuteTime": {
     "end_time": "2024-05-02T15:03:53.936692400Z",
     "start_time": "2024-05-02T15:03:53.873242200Z"
    }
   },
   "id": "c6073894ed743ccf"
  },
  {
   "cell_type": "code",
   "execution_count": 141,
   "outputs": [
    {
     "data": {
      "text/plain": "55.5865"
     },
     "execution_count": 141,
     "metadata": {},
     "output_type": "execute_result"
    }
   ],
   "source": [
    "dfQ_summary['describe_tree_edit_distance'].mean()"
   ],
   "metadata": {
    "collapsed": false,
    "ExecuteTime": {
     "end_time": "2024-05-02T15:03:53.983098500Z",
     "start_time": "2024-05-02T15:03:53.888804Z"
    }
   },
   "id": "f2d9a4a1cf1b6e37"
  },
  {
   "cell_type": "code",
   "execution_count": 142,
   "outputs": [
    {
     "data": {
      "text/plain": "50.4745"
     },
     "execution_count": 142,
     "metadata": {},
     "output_type": "execute_result"
    }
   ],
   "source": [
    "dfQ_summary['describe_tc_tree_edit_distance'].mean()"
   ],
   "metadata": {
    "collapsed": false,
    "ExecuteTime": {
     "end_time": "2024-05-02T15:03:54.049933900Z",
     "start_time": "2024-05-02T15:03:53.909729300Z"
    }
   },
   "id": "e3870aa687cca8e9"
  },
  {
   "cell_type": "code",
   "execution_count": 143,
   "outputs": [
    {
     "data": {
      "text/plain": "32.899"
     },
     "execution_count": 143,
     "metadata": {},
     "output_type": "execute_result"
    }
   ],
   "source": [
    "dfQ_summary['describe_fewshots_tree_edit_distance'].mean()"
   ],
   "metadata": {
    "collapsed": false,
    "ExecuteTime": {
     "end_time": "2024-05-02T15:03:54.065919400Z",
     "start_time": "2024-05-02T15:03:53.919898300Z"
    }
   },
   "id": "c37105cf93f4beb3"
  },
  {
   "cell_type": "code",
   "execution_count": 144,
   "outputs": [
    {
     "data": {
      "text/plain": "32.9725"
     },
     "execution_count": 144,
     "metadata": {},
     "output_type": "execute_result"
    }
   ],
   "source": [
    "dfQ_summary['describe_tc_fewshots_tree_edit_distance'].mean()"
   ],
   "metadata": {
    "collapsed": false,
    "ExecuteTime": {
     "end_time": "2024-05-02T15:03:54.081821800Z",
     "start_time": "2024-05-02T15:03:53.936692400Z"
    }
   },
   "id": "e899f9b2322946f"
  },
  {
   "cell_type": "markdown",
   "source": [
    "# semantic "
   ],
   "metadata": {
    "collapsed": false
   },
   "id": "14eda01555665472"
  },
  {
   "cell_type": "code",
   "execution_count": 86,
   "outputs": [],
   "source": [
    "dfQ_summary['simple_tc_fewshots_semantic_similarity'] = dfQ_summary.apply(lambda row: semantic_similarity(nlp(_remove_stop_words(nlp(row['question']))), nlp(_remove_stop_words(nlp(row['questions_simple_tc_fewshots'])))), axis=1)\n",
    "\n",
    "dfQ_summary['simple_tc_semantic_similarity'] = dfQ_summary.apply(lambda row: semantic_similarity(nlp(_remove_stop_words(nlp(row['question']))), nlp(_remove_stop_words(nlp(row['questions_simple_tc'])))), axis=1)"
   ],
   "metadata": {
    "collapsed": false,
    "ExecuteTime": {
     "end_time": "2024-05-02T13:37:07.099306700Z",
     "start_time": "2024-05-02T13:36:39.895825100Z"
    }
   },
   "id": "6a14372906c30011"
  },
  {
   "cell_type": "code",
   "execution_count": 87,
   "outputs": [],
   "source": [
    "dfQ_summary['simple_semantic_similarity'] = dfQ_summary.apply(lambda row: semantic_similarity(nlp(_remove_stop_words(nlp(row['question']))), nlp(_remove_stop_words(nlp(row['questions_simple'])))), axis=1)"
   ],
   "metadata": {
    "collapsed": false,
    "ExecuteTime": {
     "end_time": "2024-05-02T13:37:19.756822300Z",
     "start_time": "2024-05-02T13:37:07.099306700Z"
    }
   },
   "id": "cc84de473f688ef6"
  },
  {
   "cell_type": "code",
   "execution_count": 70,
   "outputs": [],
   "source": [
    "dfQ_summary['describe_semantic_similarity'] = dfQ_summary.apply(lambda row: semantic_similarity(nlp(_remove_stop_words(nlp(row['question']))), nlp(_remove_stop_words(nlp(row['questions_describe'])))), axis=1)\n",
    "\n",
    "dfQ_summary['describe_tc_semantic_similarity'] = dfQ_summary.apply(lambda row: semantic_similarity(nlp(_remove_stop_words(nlp(row['question']))), nlp(_remove_stop_words(nlp(row['questions_describe_tc'])))), axis=1)\n",
    "\n",
    "dfQ_summary['describe_fewshots_semantic_similarity'] = dfQ_summary.apply(lambda row: semantic_similarity(nlp(_remove_stop_words(nlp(row['question']))), nlp(_remove_stop_words(nlp(row['questions_describe_fewshots'])))), axis=1)\n",
    "\n",
    "dfQ_summary['describe_tc_fewshots_semantic_similarity'] = dfQ_summary.apply(lambda row: semantic_similarity(nlp(_remove_stop_words(nlp(row['question']))), nlp(_remove_stop_words(nlp(row['questions_describe_tc_fewshots'])))), axis=1)"
   ],
   "metadata": {
    "collapsed": false,
    "ExecuteTime": {
     "end_time": "2024-05-01T22:40:52.553374900Z",
     "start_time": "2024-05-01T22:39:49.507171Z"
    }
   },
   "id": "741238eb36b05c74"
  },
  {
   "cell_type": "code",
   "execution_count": 71,
   "outputs": [
    {
     "data": {
      "text/plain": "0.5535614752042263"
     },
     "execution_count": 71,
     "metadata": {},
     "output_type": "execute_result"
    }
   ],
   "source": [
    "dfQ_summary['describe_semantic_similarity'].mean()"
   ],
   "metadata": {
    "collapsed": false,
    "ExecuteTime": {
     "end_time": "2024-05-01T22:41:44.736700500Z",
     "start_time": "2024-05-01T22:41:44.718553500Z"
    }
   },
   "id": "8200ec4711d994f3"
  },
  {
   "cell_type": "code",
   "execution_count": 72,
   "outputs": [
    {
     "data": {
      "text/plain": "0.5656643756623633"
     },
     "execution_count": 72,
     "metadata": {},
     "output_type": "execute_result"
    }
   ],
   "source": [
    "dfQ_summary['describe_tc_semantic_similarity'].mean()"
   ],
   "metadata": {
    "collapsed": false,
    "ExecuteTime": {
     "end_time": "2024-05-01T22:41:44.904500200Z",
     "start_time": "2024-05-01T22:41:44.885384500Z"
    }
   },
   "id": "9361b63b9cf8c3c5"
  },
  {
   "cell_type": "code",
   "execution_count": 73,
   "outputs": [
    {
     "data": {
      "text/plain": "0.603698511885458"
     },
     "execution_count": 73,
     "metadata": {},
     "output_type": "execute_result"
    }
   ],
   "source": [
    "dfQ_summary['describe_fewshots_semantic_similarity'].mean()"
   ],
   "metadata": {
    "collapsed": false,
    "ExecuteTime": {
     "end_time": "2024-05-01T22:41:45.090266500Z",
     "start_time": "2024-05-01T22:41:45.027911Z"
    }
   },
   "id": "64f4008cc3c3bda3"
  },
  {
   "cell_type": "code",
   "execution_count": 74,
   "outputs": [
    {
     "data": {
      "text/plain": "0.6085111030132824"
     },
     "execution_count": 74,
     "metadata": {},
     "output_type": "execute_result"
    }
   ],
   "source": [
    "dfQ_summary['describe_tc_fewshots_semantic_similarity'].mean()"
   ],
   "metadata": {
    "collapsed": false,
    "ExecuteTime": {
     "end_time": "2024-05-01T22:41:46.133697400Z",
     "start_time": "2024-05-01T22:41:46.102429800Z"
    }
   },
   "id": "85a485e871fe6c23"
  },
  {
   "cell_type": "code",
   "execution_count": 81,
   "outputs": [
    {
     "data": {
      "text/plain": "0.5915320833611377"
     },
     "execution_count": 81,
     "metadata": {},
     "output_type": "execute_result"
    }
   ],
   "source": [
    "dfQ_summary['simple_tc_fewshots_semantic_similarity'].mean()"
   ],
   "metadata": {
    "collapsed": false,
    "ExecuteTime": {
     "end_time": "2024-05-02T13:32:46.728446400Z",
     "start_time": "2024-05-02T13:32:46.692143200Z"
    }
   },
   "id": "401d6eb304ca7ac7"
  },
  {
   "cell_type": "code",
   "execution_count": 89,
   "outputs": [
    {
     "data": {
      "text/plain": "0.5464909524748509"
     },
     "execution_count": 89,
     "metadata": {},
     "output_type": "execute_result"
    }
   ],
   "source": [
    "dfQ_summary['simple_semantic_similarity'].mean()"
   ],
   "metadata": {
    "collapsed": false,
    "ExecuteTime": {
     "end_time": "2024-05-02T13:38:01.074201500Z",
     "start_time": "2024-05-02T13:38:01.058557900Z"
    }
   },
   "id": "c3bd56dbf0fa5ad0"
  },
  {
   "cell_type": "code",
   "execution_count": 90,
   "outputs": [
    {
     "data": {
      "text/plain": "0.576864490860546"
     },
     "execution_count": 90,
     "metadata": {},
     "output_type": "execute_result"
    }
   ],
   "source": [
    "dfQ_summary['simple_tc_semantic_similarity'].mean()"
   ],
   "metadata": {
    "collapsed": false,
    "ExecuteTime": {
     "end_time": "2024-05-02T13:38:10.579249900Z",
     "start_time": "2024-05-02T13:38:10.535512700Z"
    }
   },
   "id": "5f6a1c224672721c"
  },
  {
   "cell_type": "code",
   "execution_count": 93,
   "outputs": [
    {
     "data": {
      "text/plain": "0.5915320833611377"
     },
     "execution_count": 93,
     "metadata": {},
     "output_type": "execute_result"
    }
   ],
   "source": [
    "dfQ_summary['simple_tc_fewshots_semantic_similarity'].mean()"
   ],
   "metadata": {
    "collapsed": false,
    "ExecuteTime": {
     "end_time": "2024-05-02T13:47:56.926742300Z",
     "start_time": "2024-05-02T13:47:56.895482900Z"
    }
   },
   "id": "a3ff13d10d8c8ecf"
  },
  {
   "cell_type": "markdown",
   "source": [
    "# sentence length difference normalization"
   ],
   "metadata": {
    "collapsed": false
   },
   "id": "45dbc7ca4383d7bc"
  },
  {
   "cell_type": "code",
   "execution_count": 145,
   "outputs": [],
   "source": [
    "dfQ_summary['simple_length_diff'] = dfQ_summary.apply(lambda row: len(row['questions_simple'].split(\" \")) - len(row['question'].split(\" \")), axis=1)"
   ],
   "metadata": {
    "collapsed": false,
    "ExecuteTime": {
     "end_time": "2024-05-02T15:03:54.081821800Z",
     "start_time": "2024-05-02T15:03:53.951702200Z"
    }
   },
   "id": "9b3b197324035788"
  },
  {
   "cell_type": "code",
   "execution_count": 146,
   "outputs": [],
   "source": [
    "dfQ_summary['simple_tc_length_diff'] = dfQ_summary.apply(lambda row: len(row['questions_simple_tc'].split(\" \")) - len(row['question'].split(\" \")), axis=1)"
   ],
   "metadata": {
    "collapsed": false,
    "ExecuteTime": {
     "end_time": "2024-05-02T15:03:54.097515600Z",
     "start_time": "2024-05-02T15:03:53.983098500Z"
    }
   },
   "id": "db1f5b9e6edb55ca"
  },
  {
   "cell_type": "code",
   "execution_count": 147,
   "outputs": [],
   "source": [
    "dfQ_summary['simple_tc_fewshots_length_diff'] = dfQ_summary.apply(lambda row: len(row['questions_simple_tc_fewshots'].split(\" \")) - len(row['question'].split(\" \")), axis=1)"
   ],
   "metadata": {
    "collapsed": false,
    "ExecuteTime": {
     "end_time": "2024-05-02T15:03:54.113166400Z",
     "start_time": "2024-05-02T15:03:54.014249Z"
    }
   },
   "id": "57f75d036a8438e1"
  },
  {
   "cell_type": "code",
   "execution_count": 148,
   "outputs": [],
   "source": [
    "dfQ_summary['describe_length_diff'] = dfQ_summary.apply(lambda row: len(row['questions_describe'].split(\" \")) - len(row['question'].split(\" \")), axis=1)"
   ],
   "metadata": {
    "collapsed": false,
    "ExecuteTime": {
     "end_time": "2024-05-02T15:03:54.160541600Z",
     "start_time": "2024-05-02T15:03:54.050868200Z"
    }
   },
   "id": "3777f28e69f900b0"
  },
  {
   "cell_type": "code",
   "execution_count": 149,
   "outputs": [],
   "source": [
    "dfQ_summary['describe_fewshots_length_diff'] = dfQ_summary.apply(lambda row: len(row['questions_describe_fewshots'].split(\" \")) - len(row['question'].split(\" \")), axis=1)"
   ],
   "metadata": {
    "collapsed": false,
    "ExecuteTime": {
     "end_time": "2024-05-02T15:03:54.160541600Z",
     "start_time": "2024-05-02T15:03:54.081821800Z"
    }
   },
   "id": "d536913dee4c24b1"
  },
  {
   "cell_type": "code",
   "execution_count": 150,
   "outputs": [],
   "source": [
    "dfQ_summary['describe_tc_length_diff'] = dfQ_summary.apply(lambda row: len(row['questions_describe_tc'].split(\" \")) - len(row['question'].split(\" \")), axis=1)"
   ],
   "metadata": {
    "collapsed": false,
    "ExecuteTime": {
     "end_time": "2024-05-02T15:03:54.160541600Z",
     "start_time": "2024-05-02T15:03:54.113166400Z"
    }
   },
   "id": "4a874416843e1a50"
  },
  {
   "cell_type": "code",
   "execution_count": 151,
   "outputs": [],
   "source": [
    "dfQ_summary['describe_tc_fewshots_length_diff'] = dfQ_summary.apply(lambda row: len(row['questions_describe_tc_fewshots'].split(\" \")) - len(row['question'].split(\" \")), axis=1)"
   ],
   "metadata": {
    "collapsed": false,
    "ExecuteTime": {
     "end_time": "2024-05-02T15:03:54.191778700Z",
     "start_time": "2024-05-02T15:03:54.144813400Z"
    }
   },
   "id": "c29516891a7f4744"
  },
  {
   "cell_type": "code",
   "execution_count": 152,
   "outputs": [
    {
     "data": {
      "text/plain": "     article_ids                                           question  \\\n3201        6517  Je me suis bagarré à la fin d’une soirée, qu’e...   \n2820        4767  Puis-je avoir l'assistance gratuite d'un avoca...   \n1616        1282  Les père et mère de l'enfant résident ensemble...   \n2696        2845  Puis-je invoquer la prescription pour ne pas p...   \n3488        4480  Ai-je droit à l'aide juridique (ex pro deo) si...   \n...          ...                                                ...   \n4375        1276  Que faire si je ne peux pas me mettre d'accord...   \n3058        4506  Quels sont les revenus pris en compte pour l'a...   \n2905        1334     Qui contrôle le fonctionnement de la tutelle ?   \n1727         869  Que faire si le propriétaire refuse de libérer...   \n867        21124  Comment se passe la procédure du trajet de réi...   \n\n                                       questions_simple  \\\n3201  Quelles sont les peines prévues pour une perso...   \n2820  La question pourrait être:\\n\\nQuels frais la p...   \n1616  Quels droits a le parent qui n'exerce pas conj...   \n2696  Quel est le délai de prescription pour l'actio...   \n3488  Quels sont les arrondissements judiciaires où ...   \n...                                                 ...   \n4375  Quels sont les recours disponibles pour un par...   \n3058  Quels sont les pourcentages maximaux prévus po...   \n2905  À partir de quelle date les intérêts commencen...   \n1727  Quelles sont les conséquences pour le bailleur...   \n867   Quels types de formulaires le Ministre peut-il...   \n\n                                    questions_simple_tc  \\\n3201  Quelle est la peine encourue si les coups ou l...   \n2820  Quelle est la procédure pour obtenir l'expédit...   \n1616  Est-ce que chacun des parents est réputé agir ...   \n2696  Quand débute le délai de prescription pour l'a...   \n3488  Est-ce que la Commission d'aide juridique fran...   \n...                                                 ...   \n4375  Est-ce que chaque parent est réputé agir avec ...   \n3058  La décision du bureau d'aide juridique concern...   \n2905  Quand les intérêts relatifs au reliquat dû par...   \n1727  Quels sont les taux d'intérêt applicables en c...   \n867   Quel est le processus pour remplir les formula...   \n\n                           questions_simple_tc_fewshots  \\\n3201  Les coups ou blessures causant une maladie ou ...   \n2820  Les décisions rendues par le tribunal sont-ell...   \n1616  L'un des parents décide seul d'effectuer une t...   \n2696  Les prestataires de soins ont fourni des servi...   \n3488  Comment est composée la Commission d'aide juri...   \n...                                                 ...   \n4375  Les parents ne vivent pas ensemble. Doivent-il...   \n3058  Un avocat a permis à son client de percevoir u...   \n2905  Le reliquat dû par le tuteur à partir du momen...   \n1727  Le bailleur a reçu ma garantie mais n'a pas la...   \n867   Le Ministre peut-il établir des modèles de for...   \n\n                                     questions_describe  \\\n3201  Un individu a été agressé et a subi des blessu...   \n2820  Un particulier a intenté une action en justice...   \n1616  Deux parents exercent conjointement l'autorité...   \n2696  Un médecin a fourni des prestations médicales ...   \n3488  Dans le cadre de l'accès à la justice en Belgi...   \n...                                                 ...   \n4375  Deux parents vivent ensemble mais se trouvent ...   \n3058  Un avocat a réussi à obtenir des sommes d'arge...   \n2905  Contexte: Le tuteur légal d'un mineur a pris e...   \n1727  Un propriétaire de bien immobilier a encaissé ...   \n867   Un employé a été en arrêt maladie depuis plusi...   \n\n                                  questions_describe_tc  \\\n3201  Une personne a agressé physiquement une autre,...   \n2820  Un consommateur a entamé une procédure de règl...   \n1616  Deux parents exercent conjointement l'autorité...   \n2696  Un patient a reçu des prestations médicales d'...   \n3488  Dans le cadre du règlement extrajudiciaire des...   \n...                                                 ...   \n4375  Un couple non marié a un enfant ensemble. Ils ...   \n3058  Un avocat a aidé un bénéficiaire à percevoir d...   \n2905  Un mineur sous tutelle a des montants dus à so...   \n1727  Un consommateur a introduit une demande de règ...   \n867   Un employé a été victime d'un accident du trav...   \n\n                            questions_describe_fewshots  \\\n3201  Une dispute familiale a conduit à des coups et...   \n2820  Une décision a été rendue par un tribunal. Est...   \n1616  Les parents exercent conjointement l'autorité ...   \n2696  Un patient a reçu des services médicaux d'un p...   \n3488  Je suis confronté à des difficultés juridiques...   \n...                                                 ...   \n4375  Les parents vivent ensemble mais n'arrivent pa...   \n3058  J'ai obtenu un règlement grâce à l'interventio...   \n2905  Je suis tuteur légal d'un mineur. Le compte de...   \n1727  Le bailleur a reçu une garantie de la part du ...   \n867   Un employé est en arrêt maladie depuis plusieu...   \n\n                         questions_describe_tc_fewshots  \\\n3201  Après avoir reçu des coups d'une tierce person...   \n2820  Après avoir obtenu une décision, la partie req...   \n1616  Les parents de l'enfant ne vivent plus ensembl...   \n2696  J'ai reçu des prestations médicales en mars 20...   \n3488  Je suis confronté à des problèmes juridiques m...   \n...                                                 ...   \n4375  Deux parents vivent ensemble et exercent conjo...   \n3058  Un avocat a aidé un client à obtenir des somme...   \n2905  Un mineur a de l'argent placé sous la tutelle ...   \n1727  Le bailleur a reçu la garantie mais ne l'a pas...   \n867   Un employé licencié a fait une demande de réin...   \n\n      simple_tree_edit_distance  ...  describe_tc_tree_edit_distance  \\\n3201                       24.0  ...                            32.0   \n2820                       29.0  ...                            32.0   \n1616                       33.0  ...                            76.0   \n2696                       27.0  ...                            63.0   \n3488                       16.0  ...                            73.0   \n...                         ...  ...                             ...   \n4375                       19.0  ...                            55.0   \n3058                       19.0  ...                            40.0   \n2905                       18.0  ...                            54.0   \n1727                       24.0  ...                            52.0   \n867                        11.0  ...                            52.0   \n\n      describe_fewshots_tree_edit_distance  \\\n3201                                  33.0   \n2820                                  29.0   \n1616                                  23.0   \n2696                                  29.0   \n3488                                  35.0   \n...                                    ...   \n4375                                  45.0   \n3058                                  38.0   \n2905                                  37.0   \n1727                                  43.0   \n867                                   29.0   \n\n      describe_tc_fewshots_tree_edit_distance  simple_length_diff  \\\n3201                                     41.0                  11   \n2820                                     26.0                   8   \n1616                                     36.0                   9   \n2696                                     26.0                  16   \n3488                                     37.0                   0   \n...                                       ...                 ...   \n4375                                     42.0                  -4   \n3058                                     28.0                   6   \n2905                                     41.0                  15   \n1727                                     31.0                  11   \n867                                      18.0                   3   \n\n      simple_tc_length_diff  simple_tc_fewshots_length_diff  \\\n3201                      6                               4   \n2820                     -4                               2   \n1616                      8                              10   \n2696                      6                              22   \n3488                      7                               1   \n...                     ...                             ...   \n4375                      9                              15   \n3058                      5                              25   \n2905                     12                              12   \n1727                     13                              14   \n867                       7                               4   \n\n      describe_length_diff  describe_fewshots_length_diff  \\\n3201                    18                             22   \n2820                    46                             11   \n1616                    31                              6   \n2696                    58                             20   \n3488                    32                             20   \n...                    ...                            ...   \n4375                    29                             25   \n3058                    59                             21   \n2905                    63                             31   \n1727                    26                             34   \n867                     39                             26   \n\n      describe_tc_length_diff  describe_tc_fewshots_length_diff  \n3201                       16                                27  \n2820                       20                                 8  \n1616                       54                                21  \n2696                       52                                15  \n3488                       58                                27  \n...                       ...                               ...  \n4375                       33                                19  \n3058                       21                                13  \n2905                       46                                33  \n1727                       40                                21  \n867                        39                                14  \n\n[2000 rows x 23 columns]",
      "text/html": "<div>\n<style scoped>\n    .dataframe tbody tr th:only-of-type {\n        vertical-align: middle;\n    }\n\n    .dataframe tbody tr th {\n        vertical-align: top;\n    }\n\n    .dataframe thead th {\n        text-align: right;\n    }\n</style>\n<table border=\"1\" class=\"dataframe\">\n  <thead>\n    <tr style=\"text-align: right;\">\n      <th></th>\n      <th>article_ids</th>\n      <th>question</th>\n      <th>questions_simple</th>\n      <th>questions_simple_tc</th>\n      <th>questions_simple_tc_fewshots</th>\n      <th>questions_describe</th>\n      <th>questions_describe_tc</th>\n      <th>questions_describe_fewshots</th>\n      <th>questions_describe_tc_fewshots</th>\n      <th>simple_tree_edit_distance</th>\n      <th>...</th>\n      <th>describe_tc_tree_edit_distance</th>\n      <th>describe_fewshots_tree_edit_distance</th>\n      <th>describe_tc_fewshots_tree_edit_distance</th>\n      <th>simple_length_diff</th>\n      <th>simple_tc_length_diff</th>\n      <th>simple_tc_fewshots_length_diff</th>\n      <th>describe_length_diff</th>\n      <th>describe_fewshots_length_diff</th>\n      <th>describe_tc_length_diff</th>\n      <th>describe_tc_fewshots_length_diff</th>\n    </tr>\n  </thead>\n  <tbody>\n    <tr>\n      <th>3201</th>\n      <td>6517</td>\n      <td>Je me suis bagarré à la fin d’une soirée, qu’e...</td>\n      <td>Quelles sont les peines prévues pour une perso...</td>\n      <td>Quelle est la peine encourue si les coups ou l...</td>\n      <td>Les coups ou blessures causant une maladie ou ...</td>\n      <td>Un individu a été agressé et a subi des blessu...</td>\n      <td>Une personne a agressé physiquement une autre,...</td>\n      <td>Une dispute familiale a conduit à des coups et...</td>\n      <td>Après avoir reçu des coups d'une tierce person...</td>\n      <td>24.0</td>\n      <td>...</td>\n      <td>32.0</td>\n      <td>33.0</td>\n      <td>41.0</td>\n      <td>11</td>\n      <td>6</td>\n      <td>4</td>\n      <td>18</td>\n      <td>22</td>\n      <td>16</td>\n      <td>27</td>\n    </tr>\n    <tr>\n      <th>2820</th>\n      <td>4767</td>\n      <td>Puis-je avoir l'assistance gratuite d'un avoca...</td>\n      <td>La question pourrait être:\\n\\nQuels frais la p...</td>\n      <td>Quelle est la procédure pour obtenir l'expédit...</td>\n      <td>Les décisions rendues par le tribunal sont-ell...</td>\n      <td>Un particulier a intenté une action en justice...</td>\n      <td>Un consommateur a entamé une procédure de règl...</td>\n      <td>Une décision a été rendue par un tribunal. Est...</td>\n      <td>Après avoir obtenu une décision, la partie req...</td>\n      <td>29.0</td>\n      <td>...</td>\n      <td>32.0</td>\n      <td>29.0</td>\n      <td>26.0</td>\n      <td>8</td>\n      <td>-4</td>\n      <td>2</td>\n      <td>46</td>\n      <td>11</td>\n      <td>20</td>\n      <td>8</td>\n    </tr>\n    <tr>\n      <th>1616</th>\n      <td>1282</td>\n      <td>Les père et mère de l'enfant résident ensemble...</td>\n      <td>Quels droits a le parent qui n'exerce pas conj...</td>\n      <td>Est-ce que chacun des parents est réputé agir ...</td>\n      <td>L'un des parents décide seul d'effectuer une t...</td>\n      <td>Deux parents exercent conjointement l'autorité...</td>\n      <td>Deux parents exercent conjointement l'autorité...</td>\n      <td>Les parents exercent conjointement l'autorité ...</td>\n      <td>Les parents de l'enfant ne vivent plus ensembl...</td>\n      <td>33.0</td>\n      <td>...</td>\n      <td>76.0</td>\n      <td>23.0</td>\n      <td>36.0</td>\n      <td>9</td>\n      <td>8</td>\n      <td>10</td>\n      <td>31</td>\n      <td>6</td>\n      <td>54</td>\n      <td>21</td>\n    </tr>\n    <tr>\n      <th>2696</th>\n      <td>2845</td>\n      <td>Puis-je invoquer la prescription pour ne pas p...</td>\n      <td>Quel est le délai de prescription pour l'actio...</td>\n      <td>Quand débute le délai de prescription pour l'a...</td>\n      <td>Les prestataires de soins ont fourni des servi...</td>\n      <td>Un médecin a fourni des prestations médicales ...</td>\n      <td>Un patient a reçu des prestations médicales d'...</td>\n      <td>Un patient a reçu des services médicaux d'un p...</td>\n      <td>J'ai reçu des prestations médicales en mars 20...</td>\n      <td>27.0</td>\n      <td>...</td>\n      <td>63.0</td>\n      <td>29.0</td>\n      <td>26.0</td>\n      <td>16</td>\n      <td>6</td>\n      <td>22</td>\n      <td>58</td>\n      <td>20</td>\n      <td>52</td>\n      <td>15</td>\n    </tr>\n    <tr>\n      <th>3488</th>\n      <td>4480</td>\n      <td>Ai-je droit à l'aide juridique (ex pro deo) si...</td>\n      <td>Quels sont les arrondissements judiciaires où ...</td>\n      <td>Est-ce que la Commission d'aide juridique fran...</td>\n      <td>Comment est composée la Commission d'aide juri...</td>\n      <td>Dans le cadre de l'accès à la justice en Belgi...</td>\n      <td>Dans le cadre du règlement extrajudiciaire des...</td>\n      <td>Je suis confronté à des difficultés juridiques...</td>\n      <td>Je suis confronté à des problèmes juridiques m...</td>\n      <td>16.0</td>\n      <td>...</td>\n      <td>73.0</td>\n      <td>35.0</td>\n      <td>37.0</td>\n      <td>0</td>\n      <td>7</td>\n      <td>1</td>\n      <td>32</td>\n      <td>20</td>\n      <td>58</td>\n      <td>27</td>\n    </tr>\n    <tr>\n      <th>...</th>\n      <td>...</td>\n      <td>...</td>\n      <td>...</td>\n      <td>...</td>\n      <td>...</td>\n      <td>...</td>\n      <td>...</td>\n      <td>...</td>\n      <td>...</td>\n      <td>...</td>\n      <td>...</td>\n      <td>...</td>\n      <td>...</td>\n      <td>...</td>\n      <td>...</td>\n      <td>...</td>\n      <td>...</td>\n      <td>...</td>\n      <td>...</td>\n      <td>...</td>\n      <td>...</td>\n    </tr>\n    <tr>\n      <th>4375</th>\n      <td>1276</td>\n      <td>Que faire si je ne peux pas me mettre d'accord...</td>\n      <td>Quels sont les recours disponibles pour un par...</td>\n      <td>Est-ce que chaque parent est réputé agir avec ...</td>\n      <td>Les parents ne vivent pas ensemble. Doivent-il...</td>\n      <td>Deux parents vivent ensemble mais se trouvent ...</td>\n      <td>Un couple non marié a un enfant ensemble. Ils ...</td>\n      <td>Les parents vivent ensemble mais n'arrivent pa...</td>\n      <td>Deux parents vivent ensemble et exercent conjo...</td>\n      <td>19.0</td>\n      <td>...</td>\n      <td>55.0</td>\n      <td>45.0</td>\n      <td>42.0</td>\n      <td>-4</td>\n      <td>9</td>\n      <td>15</td>\n      <td>29</td>\n      <td>25</td>\n      <td>33</td>\n      <td>19</td>\n    </tr>\n    <tr>\n      <th>3058</th>\n      <td>4506</td>\n      <td>Quels sont les revenus pris en compte pour l'a...</td>\n      <td>Quels sont les pourcentages maximaux prévus po...</td>\n      <td>La décision du bureau d'aide juridique concern...</td>\n      <td>Un avocat a permis à son client de percevoir u...</td>\n      <td>Un avocat a réussi à obtenir des sommes d'arge...</td>\n      <td>Un avocat a aidé un bénéficiaire à percevoir d...</td>\n      <td>J'ai obtenu un règlement grâce à l'interventio...</td>\n      <td>Un avocat a aidé un client à obtenir des somme...</td>\n      <td>19.0</td>\n      <td>...</td>\n      <td>40.0</td>\n      <td>38.0</td>\n      <td>28.0</td>\n      <td>6</td>\n      <td>5</td>\n      <td>25</td>\n      <td>59</td>\n      <td>21</td>\n      <td>21</td>\n      <td>13</td>\n    </tr>\n    <tr>\n      <th>2905</th>\n      <td>1334</td>\n      <td>Qui contrôle le fonctionnement de la tutelle ?</td>\n      <td>À partir de quelle date les intérêts commencen...</td>\n      <td>Quand les intérêts relatifs au reliquat dû par...</td>\n      <td>Le reliquat dû par le tuteur à partir du momen...</td>\n      <td>Contexte: Le tuteur légal d'un mineur a pris e...</td>\n      <td>Un mineur sous tutelle a des montants dus à so...</td>\n      <td>Je suis tuteur légal d'un mineur. Le compte de...</td>\n      <td>Un mineur a de l'argent placé sous la tutelle ...</td>\n      <td>18.0</td>\n      <td>...</td>\n      <td>54.0</td>\n      <td>37.0</td>\n      <td>41.0</td>\n      <td>15</td>\n      <td>12</td>\n      <td>12</td>\n      <td>63</td>\n      <td>31</td>\n      <td>46</td>\n      <td>33</td>\n    </tr>\n    <tr>\n      <th>1727</th>\n      <td>869</td>\n      <td>Que faire si le propriétaire refuse de libérer...</td>\n      <td>Quelles sont les conséquences pour le bailleur...</td>\n      <td>Quels sont les taux d'intérêt applicables en c...</td>\n      <td>Le bailleur a reçu ma garantie mais n'a pas la...</td>\n      <td>Un propriétaire de bien immobilier a encaissé ...</td>\n      <td>Un consommateur a introduit une demande de règ...</td>\n      <td>Le bailleur a reçu une garantie de la part du ...</td>\n      <td>Le bailleur a reçu la garantie mais ne l'a pas...</td>\n      <td>24.0</td>\n      <td>...</td>\n      <td>52.0</td>\n      <td>43.0</td>\n      <td>31.0</td>\n      <td>11</td>\n      <td>13</td>\n      <td>14</td>\n      <td>26</td>\n      <td>34</td>\n      <td>40</td>\n      <td>21</td>\n    </tr>\n    <tr>\n      <th>867</th>\n      <td>21124</td>\n      <td>Comment se passe la procédure du trajet de réi...</td>\n      <td>Quels types de formulaires le Ministre peut-il...</td>\n      <td>Quel est le processus pour remplir les formula...</td>\n      <td>Le Ministre peut-il établir des modèles de for...</td>\n      <td>Un employé a été en arrêt maladie depuis plusi...</td>\n      <td>Un employé a été victime d'un accident du trav...</td>\n      <td>Un employé est en arrêt maladie depuis plusieu...</td>\n      <td>Un employé licencié a fait une demande de réin...</td>\n      <td>11.0</td>\n      <td>...</td>\n      <td>52.0</td>\n      <td>29.0</td>\n      <td>18.0</td>\n      <td>3</td>\n      <td>7</td>\n      <td>4</td>\n      <td>39</td>\n      <td>26</td>\n      <td>39</td>\n      <td>14</td>\n    </tr>\n  </tbody>\n</table>\n<p>2000 rows × 23 columns</p>\n</div>"
     },
     "execution_count": 152,
     "metadata": {},
     "output_type": "execute_result"
    }
   ],
   "source": [
    "dfQ_summary"
   ],
   "metadata": {
    "collapsed": false,
    "ExecuteTime": {
     "end_time": "2024-05-02T15:03:54.207359300Z",
     "start_time": "2024-05-02T15:03:54.176107100Z"
    }
   },
   "id": "6fefcdf8176d24b1"
  },
  {
   "cell_type": "code",
   "execution_count": 153,
   "outputs": [],
   "source": [
    "dfQ_summary['simple_tree_edit_distance_norm'] = dfQ_summary['simple_tree_edit_distance'] - dfQ_summary['simple_length_diff']"
   ],
   "metadata": {
    "collapsed": false,
    "ExecuteTime": {
     "end_time": "2024-05-02T15:03:54.223040900Z",
     "start_time": "2024-05-02T15:03:54.207359300Z"
    }
   },
   "id": "ebb377649d207e75"
  },
  {
   "cell_type": "code",
   "execution_count": 154,
   "outputs": [],
   "source": [
    "dfQ_summary['simple_tc_tree_edit_distance_norm'] = dfQ_summary['simple_tc_tree_edit_distance'] - dfQ_summary['simple_tc_length_diff']"
   ],
   "metadata": {
    "collapsed": false,
    "ExecuteTime": {
     "end_time": "2024-05-02T15:03:54.243601100Z",
     "start_time": "2024-05-02T15:03:54.223040900Z"
    }
   },
   "id": "445eeb3548920cde"
  },
  {
   "cell_type": "code",
   "execution_count": 155,
   "outputs": [],
   "source": [
    "dfQ_summary['simple_tc_fewshots_tree_edit_distance_norm'] = dfQ_summary['simple_tc_fewshots_tree_edit_distance'] - dfQ_summary['simple_tc_fewshots_length_diff']"
   ],
   "metadata": {
    "collapsed": false,
    "ExecuteTime": {
     "end_time": "2024-05-02T15:03:54.306681Z",
     "start_time": "2024-05-02T15:03:54.242558600Z"
    }
   },
   "id": "5076beb073bbccea"
  },
  {
   "cell_type": "code",
   "execution_count": 156,
   "outputs": [],
   "source": [
    "dfQ_summary['describe_tree_edit_distance_norm'] = dfQ_summary['describe_tree_edit_distance'] - dfQ_summary[\n",
    "    'describe_length_diff']"
   ],
   "metadata": {
    "collapsed": false,
    "ExecuteTime": {
     "end_time": "2024-05-02T15:03:54.320789500Z",
     "start_time": "2024-05-02T15:03:54.259347100Z"
    }
   },
   "id": "95fef23f4cebaffb"
  },
  {
   "cell_type": "code",
   "execution_count": 157,
   "outputs": [],
   "source": [
    "dfQ_summary['describe_fewshots_tree_edit_distance_norm'] = dfQ_summary['describe_fewshots_tree_edit_distance'] - dfQ_summary['describe_fewshots_length_diff']"
   ],
   "metadata": {
    "collapsed": false,
    "ExecuteTime": {
     "end_time": "2024-05-02T15:03:54.352503Z",
     "start_time": "2024-05-02T15:03:54.274984200Z"
    }
   },
   "id": "47aa6b2d59297cdb"
  },
  {
   "cell_type": "code",
   "execution_count": 158,
   "outputs": [],
   "source": [
    "dfQ_summary['describe_tc_tree_edit_distance_norm'] = dfQ_summary['describe_tc_tree_edit_distance'] - dfQ_summary['describe_tc_length_diff']"
   ],
   "metadata": {
    "collapsed": false,
    "ExecuteTime": {
     "end_time": "2024-05-02T15:03:54.368857800Z",
     "start_time": "2024-05-02T15:03:54.290564100Z"
    }
   },
   "id": "52a0b43cb6c76072"
  },
  {
   "cell_type": "code",
   "execution_count": 159,
   "outputs": [],
   "source": [
    "dfQ_summary['describe_tc_fewshots_tree_edit_distance_norm'] = dfQ_summary['describe_tc_fewshots_tree_edit_distance'] - dfQ_summary['describe_tc_fewshots_length_diff']"
   ],
   "metadata": {
    "collapsed": false,
    "ExecuteTime": {
     "end_time": "2024-05-02T15:03:54.368857800Z",
     "start_time": "2024-05-02T15:03:54.308678200Z"
    }
   },
   "id": "bafdc6f6d066430d"
  },
  {
   "cell_type": "code",
   "execution_count": 160,
   "outputs": [
    {
     "data": {
      "text/plain": "12.938"
     },
     "execution_count": 160,
     "metadata": {},
     "output_type": "execute_result"
    }
   ],
   "source": [
    "dfQ_summary['simple_tree_edit_distance_norm'].mean()"
   ],
   "metadata": {
    "collapsed": false,
    "ExecuteTime": {
     "end_time": "2024-05-02T15:03:54.368857800Z",
     "start_time": "2024-05-02T15:03:54.337451400Z"
    }
   },
   "id": "477674de1d9d9b45"
  },
  {
   "cell_type": "code",
   "execution_count": 161,
   "outputs": [
    {
     "data": {
      "text/plain": "13.8785"
     },
     "execution_count": 161,
     "metadata": {},
     "output_type": "execute_result"
    }
   ],
   "source": [
    "dfQ_summary['simple_tc_tree_edit_distance_norm'].mean()"
   ],
   "metadata": {
    "collapsed": false,
    "ExecuteTime": {
     "end_time": "2024-05-02T15:03:54.368857800Z",
     "start_time": "2024-05-02T15:03:54.352503Z"
    }
   },
   "id": "5f0f1d7b3ef51f24"
  },
  {
   "cell_type": "code",
   "execution_count": 162,
   "outputs": [
    {
     "data": {
      "text/plain": "13.0885"
     },
     "execution_count": 162,
     "metadata": {},
     "output_type": "execute_result"
    }
   ],
   "source": [
    "dfQ_summary['simple_tc_fewshots_tree_edit_distance_norm'].mean()"
   ],
   "metadata": {
    "collapsed": false,
    "ExecuteTime": {
     "end_time": "2024-05-02T15:03:54.472814Z",
     "start_time": "2024-05-02T15:03:54.368857800Z"
    }
   },
   "id": "bfc7cb10de33fdc5"
  },
  {
   "cell_type": "code",
   "execution_count": 163,
   "outputs": [
    {
     "data": {
      "text/plain": "12.442"
     },
     "execution_count": 163,
     "metadata": {},
     "output_type": "execute_result"
    }
   ],
   "source": [
    "dfQ_summary['describe_tree_edit_distance_norm'].mean()"
   ],
   "metadata": {
    "collapsed": false,
    "ExecuteTime": {
     "end_time": "2024-05-02T15:03:54.475336500Z",
     "start_time": "2024-05-02T15:03:54.405258400Z"
    }
   },
   "id": "a433e28eb988427b"
  },
  {
   "cell_type": "code",
   "execution_count": 164,
   "outputs": [
    {
     "data": {
      "text/plain": "11.669"
     },
     "execution_count": 164,
     "metadata": {},
     "output_type": "execute_result"
    }
   ],
   "source": [
    "dfQ_summary['describe_fewshots_tree_edit_distance_norm'].mean()"
   ],
   "metadata": {
    "collapsed": false,
    "ExecuteTime": {
     "end_time": "2024-05-02T15:03:54.475336500Z",
     "start_time": "2024-05-02T15:03:54.421018Z"
    }
   },
   "id": "3a6d6900cbf9e904"
  },
  {
   "cell_type": "code",
   "execution_count": 165,
   "outputs": [
    {
     "data": {
      "text/plain": "13.208"
     },
     "execution_count": 165,
     "metadata": {},
     "output_type": "execute_result"
    }
   ],
   "source": [
    "dfQ_summary['describe_tc_tree_edit_distance_norm'].mean()"
   ],
   "metadata": {
    "collapsed": false,
    "ExecuteTime": {
     "end_time": "2024-05-02T15:03:54.475336500Z",
     "start_time": "2024-05-02T15:03:54.440478800Z"
    }
   },
   "id": "87689ddb447a7f8"
  },
  {
   "cell_type": "code",
   "execution_count": 166,
   "outputs": [
    {
     "data": {
      "text/plain": "11.9575"
     },
     "execution_count": 166,
     "metadata": {},
     "output_type": "execute_result"
    }
   ],
   "source": [
    "dfQ_summary['describe_tc_fewshots_tree_edit_distance_norm'].mean()"
   ],
   "metadata": {
    "collapsed": false,
    "ExecuteTime": {
     "end_time": "2024-05-02T15:03:54.488853400Z",
     "start_time": "2024-05-02T15:03:54.457217800Z"
    }
   },
   "id": "8d6b8241927b6b6d"
  },
  {
   "cell_type": "code",
   "execution_count": null,
   "outputs": [],
   "source": [],
   "metadata": {
    "collapsed": false
   },
   "id": "e27e098b3cdd2a7d"
  }
 ],
 "metadata": {
  "kernelspec": {
   "display_name": "Python 3",
   "language": "python",
   "name": "python3"
  },
  "language_info": {
   "codemirror_mode": {
    "name": "ipython",
    "version": 2
   },
   "file_extension": ".py",
   "mimetype": "text/x-python",
   "name": "python",
   "nbconvert_exporter": "python",
   "pygments_lexer": "ipython2",
   "version": "2.7.6"
  }
 },
 "nbformat": 4,
 "nbformat_minor": 5
}
