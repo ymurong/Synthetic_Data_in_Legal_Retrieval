{
 "cells": [
  {
   "cell_type": "code",
   "execution_count": 1,
   "id": "initial_id",
   "metadata": {
    "collapsed": true,
    "ExecuteTime": {
     "end_time": "2024-05-19T10:10:38.063025500Z",
     "start_time": "2024-05-19T10:10:24.902899700Z"
    }
   },
   "outputs": [],
   "source": [
    "import spacy\n",
    "from zss import Node, simple_distance\n",
    "from functools import partial\n",
    "# Imports\n",
    "import numpy as np\n",
    "import duckdb\n",
    "import pandas as pd\n",
    "import matplotlib.pyplot as plt\n",
    "import spacy\n",
    "from tqdm import tqdm\n",
    "tqdm.pandas(desc='Processing text')\n",
    "# Load the French language model\n",
    "nlp = spacy.load(\"fr_core_news_md\")"
   ]
  },
  {
   "cell_type": "code",
   "execution_count": 2,
   "outputs": [],
   "source": [
    "import spacy\n",
    "from zss import Node, simple_distance\n",
    "from functools import partial\n",
    "\n",
    "# Function to convert a spaCy token to a zss Node recursively\n",
    "def token_to_zss_node(mode, token):\n",
    "    if mode==\"dep\":\n",
    "        node = Node(token.dep_)\n",
    "    elif mode==\"text\":\n",
    "        node = Node(token.orth_)\n",
    "    elif mode==\"pos\":\n",
    "        node = Node(token.pos_)\n",
    "        \n",
    "    for child in token.children:\n",
    "        node.addkid(token_to_zss_node(mode=mode, token=child))\n",
    "    return node\n",
    "\n",
    "def build_zss_tree(spacy_doc, zss_parser):\n",
    "    root = Node(\"ROOT\")\n",
    "    for sent in spacy_doc.sents:\n",
    "        root.addkid(zss_parser(sent.root))\n",
    "    return root\n",
    "\n",
    "# Function to compute tree edit distance between two documents\n",
    "def compute_tree_edit_distance(parsed_doc1, parsed_doc2, zss_parser):\n",
    "    root1 = build_zss_tree(spacy_doc=parsed_doc1,zss_parser=zss_parser)\n",
    "    root2 = build_zss_tree(spacy_doc=parsed_doc2,zss_parser=zss_parser)\n",
    "    # Compute the tree edit distance using zss\n",
    "    return simple_distance(root1, root2)\n",
    "\n",
    "def _remove_stop_words(doc):\n",
    "    return \" \".join([str(t) for t in doc if not t.is_stop])\n",
    "\n",
    "def semantic_similarity(doc1, doc2):\n",
    "    return doc1.similarity(doc2)\n",
    "\n",
    "# zss parser\n",
    "zss_dependency_parser= partial(token_to_zss_node,'dep')"
   ],
   "metadata": {
    "collapsed": false,
    "ExecuteTime": {
     "end_time": "2024-05-19T10:10:39.882352600Z",
     "start_time": "2024-05-19T10:10:39.674546500Z"
    }
   },
   "id": "1d1867c12d82eb5c"
  },
  {
   "cell_type": "markdown",
   "source": [
    "# Construct Questions Entries"
   ],
   "metadata": {
    "collapsed": false
   },
   "id": "e3964bee1c36540"
  },
  {
   "cell_type": "code",
   "execution_count": 3,
   "outputs": [
    {
     "data": {
      "text/plain": "<duckdb.DuckDBPyConnection at 0x158e4099eb0>"
     },
     "execution_count": 3,
     "metadata": {},
     "output_type": "execute_result"
    }
   ],
   "source": [
    "conn = duckdb.connect(database=\"test.db\", read_only=False)\n",
    "cur = conn.cursor()\n",
    "cur.execute(\"CREATE OR REPLACE TABLE questions AS SELECT * FROM './data/questions_fr_train.csv';\")"
   ],
   "metadata": {
    "collapsed": false,
    "ExecuteTime": {
     "end_time": "2024-05-19T10:10:42.857461400Z",
     "start_time": "2024-05-19T10:10:42.732971Z"
    }
   },
   "id": "8687d4bf759ef6b9"
  },
  {
   "cell_type": "code",
   "execution_count": 17,
   "outputs": [
    {
     "data": {
      "text/plain": "<duckdb.DuckDBPyConnection at 0x1f46e297ef0>"
     },
     "execution_count": 17,
     "metadata": {},
     "output_type": "execute_result"
    }
   ],
   "source": [
    "cur.execute(\"CREATE OR REPLACE TABLE questions_simple AS SELECT * FROM './data/questions_syn_simple_ask.csv';\")\n",
    "cur.execute(\"CREATE OR REPLACE TABLE questions_simple_tc AS SELECT * FROM './data/questions_syn_simple_ask_qcc.csv';\")\n",
    "cur.execute(\"CREATE OR REPLACE TABLE questions_simple_tc_fewshots AS SELECT * FROM './data/questions_syn_simple_ask_qcc_fewshots.csv';\")\n",
    "cur.execute(\"CREATE OR REPLACE TABLE questions_describe AS SELECT * FROM './data/questions_syn_describe_then_ask.csv';\")\n",
    "cur.execute(\"CREATE OR REPLACE TABLE questions_describe_tc AS SELECT * FROM './data/questions_syn_describe_then_ask_qcc.csv';\")\n",
    "cur.execute(\"CREATE OR REPLACE TABLE questions_describe_fewshots AS SELECT * FROM './data/questions_syn_describe_then_ask_fewshots.csv';\")\n",
    "cur.execute(\"CREATE OR REPLACE TABLE questions_describe_tc_fewshots AS SELECT * FROM './data/questions_syn_describe_then_ask_qcc_fewshots.csv';\")"
   ],
   "metadata": {
    "collapsed": false,
    "ExecuteTime": {
     "end_time": "2024-05-19T08:36:23.132630700Z",
     "start_time": "2024-05-19T08:36:22.094897Z"
    }
   },
   "id": "654eb68f5c0ef5e4"
  },
  {
   "cell_type": "code",
   "execution_count": 75,
   "outputs": [
    {
     "data": {
      "text/plain": "<duckdb.DuckDBPyConnection at 0x158e4099eb0>"
     },
     "execution_count": 75,
     "metadata": {},
     "output_type": "execute_result"
    }
   ],
   "source": [
    "cur.execute(\"CREATE OR REPLACE TABLE questions_syn_extrapolation AS SELECT * FROM './data/questions_syn_extrapolation.csv';\")\n",
    "cur.execute(\"CREATE OR REPLACE TABLE questions_syn_extrapolation_10_seed_data AS SELECT * FROM './data/questions_syn_extrapolation_10_seed_data.csv';\")\n",
    "cur.execute(\"CREATE OR REPLACE TABLE questions_syn_extrapolation_50_seed_data_round_0 AS SELECT * FROM './data/questions_syn_extrapolation_50_seed_data_round_0.csv';\")"
   ],
   "metadata": {
    "collapsed": false,
    "ExecuteTime": {
     "end_time": "2024-05-19T11:03:45.490092200Z",
     "start_time": "2024-05-19T11:03:45.297825300Z"
    }
   },
   "id": "6dc9eb1fa900cf7b"
  },
  {
   "cell_type": "code",
   "execution_count": 76,
   "outputs": [
    {
     "data": {
      "text/plain": "     article_ids                                           question\n0          22225  Je suis travailleur salarié(e). Puis-je refuse...\n1          22226  Je suis travailleur salarié(e). Puis-je refuse...\n2          22227  Je suis travailleur salarié(e). Puis-je refuse...\n3          22228  Je suis travailleur salarié(e). Puis-je refuse...\n4          22229  Je suis travailleur salarié(e). Puis-je refuse...\n...          ...                                                ...\n5779       14479  Si je ne rembourse pas mon crédit hypothécaire...\n5780       14480  Si je ne rembourse pas mon crédit hypothécaire...\n5781       14481  Si je ne rembourse pas mon crédit hypothécaire...\n5782       14482  Si je ne rembourse pas mon crédit hypothécaire...\n5783       14483  Si je ne rembourse pas mon crédit hypothécaire...\n\n[5784 rows x 2 columns]",
      "text/html": "<div>\n<style scoped>\n    .dataframe tbody tr th:only-of-type {\n        vertical-align: middle;\n    }\n\n    .dataframe tbody tr th {\n        vertical-align: top;\n    }\n\n    .dataframe thead th {\n        text-align: right;\n    }\n</style>\n<table border=\"1\" class=\"dataframe\">\n  <thead>\n    <tr style=\"text-align: right;\">\n      <th></th>\n      <th>article_ids</th>\n      <th>question</th>\n    </tr>\n  </thead>\n  <tbody>\n    <tr>\n      <th>0</th>\n      <td>22225</td>\n      <td>Je suis travailleur salarié(e). Puis-je refuse...</td>\n    </tr>\n    <tr>\n      <th>1</th>\n      <td>22226</td>\n      <td>Je suis travailleur salarié(e). Puis-je refuse...</td>\n    </tr>\n    <tr>\n      <th>2</th>\n      <td>22227</td>\n      <td>Je suis travailleur salarié(e). Puis-je refuse...</td>\n    </tr>\n    <tr>\n      <th>3</th>\n      <td>22228</td>\n      <td>Je suis travailleur salarié(e). Puis-je refuse...</td>\n    </tr>\n    <tr>\n      <th>4</th>\n      <td>22229</td>\n      <td>Je suis travailleur salarié(e). Puis-je refuse...</td>\n    </tr>\n    <tr>\n      <th>...</th>\n      <td>...</td>\n      <td>...</td>\n    </tr>\n    <tr>\n      <th>5779</th>\n      <td>14479</td>\n      <td>Si je ne rembourse pas mon crédit hypothécaire...</td>\n    </tr>\n    <tr>\n      <th>5780</th>\n      <td>14480</td>\n      <td>Si je ne rembourse pas mon crédit hypothécaire...</td>\n    </tr>\n    <tr>\n      <th>5781</th>\n      <td>14481</td>\n      <td>Si je ne rembourse pas mon crédit hypothécaire...</td>\n    </tr>\n    <tr>\n      <th>5782</th>\n      <td>14482</td>\n      <td>Si je ne rembourse pas mon crédit hypothécaire...</td>\n    </tr>\n    <tr>\n      <th>5783</th>\n      <td>14483</td>\n      <td>Si je ne rembourse pas mon crédit hypothécaire...</td>\n    </tr>\n  </tbody>\n</table>\n<p>5784 rows × 2 columns</p>\n</div>"
     },
     "execution_count": 76,
     "metadata": {},
     "output_type": "execute_result"
    }
   ],
   "source": [
    "dfQ = cur.execute(\"\"\"\n",
    "SELECT questions.article_ids, question\n",
    "FROM questions\n",
    "\"\"\").df()\n",
    "\n",
    "dfQ['article_ids'] = dfQ['article_ids'].str.split(',')\n",
    "dfQ = dfQ.explode('article_ids')\n",
    "\n",
    "cur.execute(\"\"\"\n",
    "CREATE OR REPLACE TABLE questions AS \n",
    "SELECT * FROM dfQ\n",
    "\"\"\")\n",
    "\n",
    "cur.execute(\"\"\"\n",
    "SELECT * FROM questions\n",
    "\"\"\").df()"
   ],
   "metadata": {
    "collapsed": false,
    "ExecuteTime": {
     "end_time": "2024-05-19T11:03:48.405354800Z",
     "start_time": "2024-05-19T11:03:48.374083900Z"
    }
   },
   "id": "7e17d5203e192338"
  },
  {
   "cell_type": "code",
   "execution_count": 78,
   "outputs": [
    {
     "data": {
      "text/plain": "<duckdb.DuckDBPyConnection at 0x158e4099eb0>"
     },
     "execution_count": 78,
     "metadata": {},
     "output_type": "execute_result"
    }
   ],
   "source": [
    "cur.execute(\"\"\"\n",
    "    CREATE OR REPLACE TABLE questions_summary as \n",
    "    (SELECT questions.article_ids, questions.question,\n",
    "    questions_simple.synthetic_question as questions_simple, \n",
    "    questions_simple_tc.synthetic_question as questions_simple_tc, \n",
    "    questions_simple_tc_fewshots.synthetic_question as questions_simple_tc_fewshots,\n",
    "    questions_describe.synthetic_question as questions_describe, \n",
    "    questions_describe_tc.synthetic_question as questions_describe_tc, \n",
    "    questions_describe_fewshots.synthetic_question as questions_describe_fewshots, \n",
    "    questions_describe_tc_fewshots.synthetic_question as questions_describe_tc_fewshots,\n",
    "    questions_syn_extrapolation.synthetic_question as questions_syn_extrapolation,\n",
    "    questions_syn_extrapolation_10_seed_data.synthetic_question as questions_syn_extrapolation_10_seed_data,\n",
    "    questions_syn_extrapolation_50_seed_data_round_0.synthetic_question as questions_syn_extrapolation_50_seed_data_round_0\n",
    "    FROM questions, questions_simple, questions_simple_tc, questions_simple_tc_fewshots, questions_describe, questions_describe_tc, questions_describe_fewshots, questions_describe_tc_fewshots, questions_syn_extrapolation,questions_syn_extrapolation_10_seed_data, questions_syn_extrapolation_50_seed_data_round_0\n",
    "    where questions.article_ids not like '%,%'\n",
    "    and questions.article_ids = questions_simple.article_ids\n",
    "    and questions.article_ids = questions_simple_tc.article_ids\n",
    "    and questions.article_ids = questions_simple_tc_fewshots.article_ids\n",
    "    and questions.article_ids = questions_describe.article_ids\n",
    "    and questions.article_ids = questions_describe_tc.article_ids\n",
    "    and questions.article_ids = questions_describe_fewshots.article_ids\n",
    "    and questions.article_ids = questions_describe_tc_fewshots.article_ids\n",
    "    and questions.article_ids = questions_syn_extrapolation.article_ids\n",
    "    and questions.article_ids = questions_syn_extrapolation_10_seed_data.article_ids\n",
    "    and questions.article_ids = questions_syn_extrapolation_50_seed_data_round_0.article_ids\n",
    "    )\n",
    "\"\"\")"
   ],
   "metadata": {
    "collapsed": false,
    "ExecuteTime": {
     "end_time": "2024-05-19T11:04:11.990281600Z",
     "start_time": "2024-05-19T11:04:11.137196900Z"
    }
   },
   "id": "ff275b10ac33ac98"
  },
  {
   "cell_type": "code",
   "execution_count": 79,
   "outputs": [
    {
     "data": {
      "text/plain": "      article_ids                                           question  \\\n0            1115  Les parents ne sont pas mariés ensemble. La mè...   \n1            2535  Je loue un garage. Quelles règles s'appliquent...   \n2            4462  Quels recours exercer contre les abus lors d'u...   \n3            4557        Quel est le coût de l'huissier de justice ?   \n4            1093  Quelles démarches effectuer après l'accoucheme...   \n...           ...                                                ...   \n37144        5955  Qu'est-ce que le règlement collectif de dettes...   \n37145        5955  Comment demander un règlement collectif de det...   \n37146        5955  Comment demander un règlement collectif de det...   \n37147        5955  Comment demander un règlement collectif de det...   \n37148        5955  Comment demander un règlement collectif de det...   \n\n                                        questions_simple  \\\n0      Quels sont les modes de preuve de la filiation...   \n1      Quelles conséquences juridiques entraîne l'ins...   \n2      Quel est l'organe chargé de représenter l'ordr...   \n3      Quelles sont les fonctions spécifiques des mem...   \n4      Quelles personnes peuvent contester la filiati...   \n...                                                  ...   \n37144  Quelles informations doivent être incluses dan...   \n37145  Quelles informations doivent être incluses dan...   \n37146  Quelles informations doivent être incluses dan...   \n37147  Quelles informations doivent être incluses dan...   \n37148  Quelles informations doivent être incluses dan...   \n\n                                     questions_simple_tc  \\\n0      Quel est le critère principal pour prouver la ...   \n1      Quel est l'effet de la clause résolutoire expr...   \n2      Est-ce que le Conseil d'administration représe...   \n3      La question serait : \"Est-il obligatoire qu'au...   \n4      Est-ce que la contestation de la filiation mat...   \n...                                                  ...   \n37144  Quelles sont les mentions obligatoires qui doi...   \n37145  Quelles sont les mentions obligatoires qui doi...   \n37146  Quelles sont les mentions obligatoires qui doi...   \n37147  Quelles sont les mentions obligatoires qui doi...   \n37148  Quelles sont les mentions obligatoires qui doi...   \n\n                            questions_simple_tc_fewshots  \\\n0      La coparente prétendue peut-elle prouver sa fi...   \n1      La résolution d’un contrat commercial peut-ell...   \n2      Est-ce que le Conseil d'administration représe...   \n3      Les membres du conseil de la chambre d'arrondi...   \n4      Peut-on contester la filiation maternelle étab...   \n...                                                  ...   \n37144  Voulez-vous introduire une demande de règlemen...   \n37145  Voulez-vous introduire une demande de règlemen...   \n37146  Voulez-vous introduire une demande de règlemen...   \n37147  Voulez-vous introduire une demande de règlemen...   \n37148  Voulez-vous introduire une demande de règlemen...   \n\n                                      questions_describe  \\\n0      Une personne revendique la filiation à l'égard...   \n1      Un locataire a signé un bail commercial avec u...   \n2      Le Conseil d'administration d'un ordre profess...   \n3      Il s'agit des dispositions légales relatives à...   \n4      Un homme découvre que la filiation maternelle ...   \n...                                                  ...   \n37144  Un particulier a accumulé des dettes et souhai...   \n37145  Un particulier a accumulé des dettes et souhai...   \n37146  Un particulier a accumulé des dettes et souhai...   \n37147  Un particulier a accumulé des dettes et souhai...   \n37148  Un particulier a accumulé des dettes et souhai...   \n\n                                   questions_describe_tc  \\\n0      Un couple a recours à un service de médiation ...   \n1      Un consommateur a engagé une procédure de règl...   \n2      Un consommateur a un litige avec une entrepris...   \n3      Dans le cadre du règlement des litiges de cons...   \n4      Une femme découvre que la filiation maternelle...   \n...                                                  ...   \n37144  Un individu souhaite introduire une demande de...   \n37145  Un individu souhaite introduire une demande de...   \n37146  Un individu souhaite introduire une demande de...   \n37147  Un individu souhaite introduire une demande de...   \n37148  Un individu souhaite introduire une demande de...   \n\n                             questions_describe_fewshots  \\\n0      Une personne prétend être le parent d'un enfan...   \n1      Vous avez conclu un contrat comportant une cla...   \n2      Un avocat agit au nom de son ordre professionn...   \n3      Le conseil de la chambre d'arrondissement des ...   \n4      Une personne pense que la filiation maternelle...   \n...                                                  ...   \n37144  Je cherche à déposer une demande de règlement ...   \n37145  Je cherche à déposer une demande de règlement ...   \n37146  Je cherche à déposer une demande de règlement ...   \n37147  Je cherche à déposer une demande de règlement ...   \n37148  Je cherche à déposer une demande de règlement ...   \n\n                          questions_describe_tc_fewshots  \\\n0      La filiation d'un enfant est contestée par une...   \n1      Deux parties ont inclus une clause résolutoire...   \n2      Un avocat souhaite engager des poursuites judi...   \n3      Dans une chambre d'arrondissement des huissier...   \n4      Une personne prétend que la filiation maternel...   \n...                                                  ...   \n37144  Je souhaite introduire une demande de règlemen...   \n37145  Je souhaite introduire une demande de règlemen...   \n37146  Je souhaite introduire une demande de règlemen...   \n37147  Je souhaite introduire une demande de règlemen...   \n37148  Je souhaite introduire une demande de règlemen...   \n\n                             questions_syn_extrapolation  \\\n0      La filiation d'un enfant est contestée par une...   \n1      Deux parties ont inclus une clause résolutoire...   \n2      Un avocat souhaite engager des poursuites judi...   \n3      Dans une chambre d'arrondissement des huissier...   \n4      Une personne prétend que la filiation maternel...   \n...                                                  ...   \n37144  Je fais une demande de règlement collectif de ...   \n37145  Je rencontre des difficultés financières impor...   \n37146  Je suis confronté à des difficultés financière...   \n37147  Je suis en difficulté financière et je souhait...   \n37148  Je fais une demande de règlement collectif de ...   \n\n                questions_syn_extrapolation_10_seed_data  \\\n0      La filiation d'un enfant est contestée par une...   \n1      Deux parties ont inclus une clause résolutoire...   \n2      Un avocat souhaite engager des poursuites judi...   \n3      Dans une chambre d'arrondissement des huissier...   \n4      Je suis le père de l'enfant et la mère de l'en...   \n...                                                  ...   \n37144  Je rencontre des difficultés financières et je...   \n37145  Je rencontre des difficultés financières et je...   \n37146  Je rencontre des difficultés financières et je...   \n37147  Je rencontre des difficultés financières et je...   \n37148  Je rencontre des difficultés financières et je...   \n\n        questions_syn_extrapolation_50_seed_data_round_0  \n0      La filiation d'un enfant est contestée par une...  \n1      Deux parties ont inclus une clause résolutoire...  \n2      Un avocat souhaite engager des poursuites judi...  \n3      Dans une chambre d'arrondissement des huissier...  \n4      Une personne prétend que la filiation maternel...  \n...                                                  ...  \n37144  Je souhaite introduire une demande de règlemen...  \n37145  Je souhaite introduire une demande de règlemen...  \n37146  Je souhaite introduire une demande de règlemen...  \n37147  Je souhaite introduire une demande de règlemen...  \n37148  Je souhaite introduire une demande de règlemen...  \n\n[37149 rows x 12 columns]",
      "text/html": "<div>\n<style scoped>\n    .dataframe tbody tr th:only-of-type {\n        vertical-align: middle;\n    }\n\n    .dataframe tbody tr th {\n        vertical-align: top;\n    }\n\n    .dataframe thead th {\n        text-align: right;\n    }\n</style>\n<table border=\"1\" class=\"dataframe\">\n  <thead>\n    <tr style=\"text-align: right;\">\n      <th></th>\n      <th>article_ids</th>\n      <th>question</th>\n      <th>questions_simple</th>\n      <th>questions_simple_tc</th>\n      <th>questions_simple_tc_fewshots</th>\n      <th>questions_describe</th>\n      <th>questions_describe_tc</th>\n      <th>questions_describe_fewshots</th>\n      <th>questions_describe_tc_fewshots</th>\n      <th>questions_syn_extrapolation</th>\n      <th>questions_syn_extrapolation_10_seed_data</th>\n      <th>questions_syn_extrapolation_50_seed_data_round_0</th>\n    </tr>\n  </thead>\n  <tbody>\n    <tr>\n      <th>0</th>\n      <td>1115</td>\n      <td>Les parents ne sont pas mariés ensemble. La mè...</td>\n      <td>Quels sont les modes de preuve de la filiation...</td>\n      <td>Quel est le critère principal pour prouver la ...</td>\n      <td>La coparente prétendue peut-elle prouver sa fi...</td>\n      <td>Une personne revendique la filiation à l'égard...</td>\n      <td>Un couple a recours à un service de médiation ...</td>\n      <td>Une personne prétend être le parent d'un enfan...</td>\n      <td>La filiation d'un enfant est contestée par une...</td>\n      <td>La filiation d'un enfant est contestée par une...</td>\n      <td>La filiation d'un enfant est contestée par une...</td>\n      <td>La filiation d'un enfant est contestée par une...</td>\n    </tr>\n    <tr>\n      <th>1</th>\n      <td>2535</td>\n      <td>Je loue un garage. Quelles règles s'appliquent...</td>\n      <td>Quelles conséquences juridiques entraîne l'ins...</td>\n      <td>Quel est l'effet de la clause résolutoire expr...</td>\n      <td>La résolution d’un contrat commercial peut-ell...</td>\n      <td>Un locataire a signé un bail commercial avec u...</td>\n      <td>Un consommateur a engagé une procédure de règl...</td>\n      <td>Vous avez conclu un contrat comportant une cla...</td>\n      <td>Deux parties ont inclus une clause résolutoire...</td>\n      <td>Deux parties ont inclus une clause résolutoire...</td>\n      <td>Deux parties ont inclus une clause résolutoire...</td>\n      <td>Deux parties ont inclus une clause résolutoire...</td>\n    </tr>\n    <tr>\n      <th>2</th>\n      <td>4462</td>\n      <td>Quels recours exercer contre les abus lors d'u...</td>\n      <td>Quel est l'organe chargé de représenter l'ordr...</td>\n      <td>Est-ce que le Conseil d'administration représe...</td>\n      <td>Est-ce que le Conseil d'administration représe...</td>\n      <td>Le Conseil d'administration d'un ordre profess...</td>\n      <td>Un consommateur a un litige avec une entrepris...</td>\n      <td>Un avocat agit au nom de son ordre professionn...</td>\n      <td>Un avocat souhaite engager des poursuites judi...</td>\n      <td>Un avocat souhaite engager des poursuites judi...</td>\n      <td>Un avocat souhaite engager des poursuites judi...</td>\n      <td>Un avocat souhaite engager des poursuites judi...</td>\n    </tr>\n    <tr>\n      <th>3</th>\n      <td>4557</td>\n      <td>Quel est le coût de l'huissier de justice ?</td>\n      <td>Quelles sont les fonctions spécifiques des mem...</td>\n      <td>La question serait : \"Est-il obligatoire qu'au...</td>\n      <td>Les membres du conseil de la chambre d'arrondi...</td>\n      <td>Il s'agit des dispositions légales relatives à...</td>\n      <td>Dans le cadre du règlement des litiges de cons...</td>\n      <td>Le conseil de la chambre d'arrondissement des ...</td>\n      <td>Dans une chambre d'arrondissement des huissier...</td>\n      <td>Dans une chambre d'arrondissement des huissier...</td>\n      <td>Dans une chambre d'arrondissement des huissier...</td>\n      <td>Dans une chambre d'arrondissement des huissier...</td>\n    </tr>\n    <tr>\n      <th>4</th>\n      <td>1093</td>\n      <td>Quelles démarches effectuer après l'accoucheme...</td>\n      <td>Quelles personnes peuvent contester la filiati...</td>\n      <td>Est-ce que la contestation de la filiation mat...</td>\n      <td>Peut-on contester la filiation maternelle étab...</td>\n      <td>Un homme découvre que la filiation maternelle ...</td>\n      <td>Une femme découvre que la filiation maternelle...</td>\n      <td>Une personne pense que la filiation maternelle...</td>\n      <td>Une personne prétend que la filiation maternel...</td>\n      <td>Une personne prétend que la filiation maternel...</td>\n      <td>Je suis le père de l'enfant et la mère de l'en...</td>\n      <td>Une personne prétend que la filiation maternel...</td>\n    </tr>\n    <tr>\n      <th>...</th>\n      <td>...</td>\n      <td>...</td>\n      <td>...</td>\n      <td>...</td>\n      <td>...</td>\n      <td>...</td>\n      <td>...</td>\n      <td>...</td>\n      <td>...</td>\n      <td>...</td>\n      <td>...</td>\n      <td>...</td>\n    </tr>\n    <tr>\n      <th>37144</th>\n      <td>5955</td>\n      <td>Qu'est-ce que le règlement collectif de dettes...</td>\n      <td>Quelles informations doivent être incluses dan...</td>\n      <td>Quelles sont les mentions obligatoires qui doi...</td>\n      <td>Voulez-vous introduire une demande de règlemen...</td>\n      <td>Un particulier a accumulé des dettes et souhai...</td>\n      <td>Un individu souhaite introduire une demande de...</td>\n      <td>Je cherche à déposer une demande de règlement ...</td>\n      <td>Je souhaite introduire une demande de règlemen...</td>\n      <td>Je fais une demande de règlement collectif de ...</td>\n      <td>Je rencontre des difficultés financières et je...</td>\n      <td>Je souhaite introduire une demande de règlemen...</td>\n    </tr>\n    <tr>\n      <th>37145</th>\n      <td>5955</td>\n      <td>Comment demander un règlement collectif de det...</td>\n      <td>Quelles informations doivent être incluses dan...</td>\n      <td>Quelles sont les mentions obligatoires qui doi...</td>\n      <td>Voulez-vous introduire une demande de règlemen...</td>\n      <td>Un particulier a accumulé des dettes et souhai...</td>\n      <td>Un individu souhaite introduire une demande de...</td>\n      <td>Je cherche à déposer une demande de règlement ...</td>\n      <td>Je souhaite introduire une demande de règlemen...</td>\n      <td>Je rencontre des difficultés financières impor...</td>\n      <td>Je rencontre des difficultés financières et je...</td>\n      <td>Je souhaite introduire une demande de règlemen...</td>\n    </tr>\n    <tr>\n      <th>37146</th>\n      <td>5955</td>\n      <td>Comment demander un règlement collectif de det...</td>\n      <td>Quelles informations doivent être incluses dan...</td>\n      <td>Quelles sont les mentions obligatoires qui doi...</td>\n      <td>Voulez-vous introduire une demande de règlemen...</td>\n      <td>Un particulier a accumulé des dettes et souhai...</td>\n      <td>Un individu souhaite introduire une demande de...</td>\n      <td>Je cherche à déposer une demande de règlement ...</td>\n      <td>Je souhaite introduire une demande de règlemen...</td>\n      <td>Je suis confronté à des difficultés financière...</td>\n      <td>Je rencontre des difficultés financières et je...</td>\n      <td>Je souhaite introduire une demande de règlemen...</td>\n    </tr>\n    <tr>\n      <th>37147</th>\n      <td>5955</td>\n      <td>Comment demander un règlement collectif de det...</td>\n      <td>Quelles informations doivent être incluses dan...</td>\n      <td>Quelles sont les mentions obligatoires qui doi...</td>\n      <td>Voulez-vous introduire une demande de règlemen...</td>\n      <td>Un particulier a accumulé des dettes et souhai...</td>\n      <td>Un individu souhaite introduire une demande de...</td>\n      <td>Je cherche à déposer une demande de règlement ...</td>\n      <td>Je souhaite introduire une demande de règlemen...</td>\n      <td>Je suis en difficulté financière et je souhait...</td>\n      <td>Je rencontre des difficultés financières et je...</td>\n      <td>Je souhaite introduire une demande de règlemen...</td>\n    </tr>\n    <tr>\n      <th>37148</th>\n      <td>5955</td>\n      <td>Comment demander un règlement collectif de det...</td>\n      <td>Quelles informations doivent être incluses dan...</td>\n      <td>Quelles sont les mentions obligatoires qui doi...</td>\n      <td>Voulez-vous introduire une demande de règlemen...</td>\n      <td>Un particulier a accumulé des dettes et souhai...</td>\n      <td>Un individu souhaite introduire une demande de...</td>\n      <td>Je cherche à déposer une demande de règlement ...</td>\n      <td>Je souhaite introduire une demande de règlemen...</td>\n      <td>Je fais une demande de règlement collectif de ...</td>\n      <td>Je rencontre des difficultés financières et je...</td>\n      <td>Je souhaite introduire une demande de règlemen...</td>\n    </tr>\n  </tbody>\n</table>\n<p>37149 rows × 12 columns</p>\n</div>"
     },
     "execution_count": 79,
     "metadata": {},
     "output_type": "execute_result"
    }
   ],
   "source": [
    "dfQ_summary = cur.execute(\"\"\"\n",
    "    SELECT *\n",
    "    FROM questions_summary\n",
    "\"\"\").df()\n",
    "dfQ_summary"
   ],
   "metadata": {
    "collapsed": false,
    "ExecuteTime": {
     "end_time": "2024-05-19T11:04:12.779937200Z",
     "start_time": "2024-05-19T11:04:12.574507700Z"
    }
   },
   "id": "d9ebb82fa56a8850"
  },
  {
   "cell_type": "code",
   "execution_count": 80,
   "outputs": [],
   "source": [
    "dfQ_summary = dfQ_summary.sample(n=2000,random_state=42)"
   ],
   "metadata": {
    "collapsed": false,
    "ExecuteTime": {
     "end_time": "2024-05-19T11:04:13.277909100Z",
     "start_time": "2024-05-19T11:04:13.215410200Z"
    }
   },
   "id": "a0914163d98298ea"
  },
  {
   "cell_type": "code",
   "execution_count": 133,
   "outputs": [],
   "source": [
    "dfQ_summary['simple_tree_edit_distance'] = dfQ_summary.apply(lambda row: compute_tree_edit_distance(nlp(row['question']), nlp(row['questions_simple']),zss_parser=zss_dependency_parser), axis=1)"
   ],
   "metadata": {
    "collapsed": false,
    "ExecuteTime": {
     "end_time": "2024-05-02T14:57:50.638256600Z",
     "start_time": "2024-05-02T14:57:05.268549700Z"
    }
   },
   "id": "434bd5d73c1e5398"
  },
  {
   "cell_type": "code",
   "execution_count": 134,
   "outputs": [],
   "source": [
    "dfQ_summary['simple_tc_fewshots_tree_edit_distance'] = dfQ_summary.apply(lambda row: compute_tree_edit_distance(nlp(row['question']), nlp(row['questions_simple_tc_fewshots']),zss_parser=zss_dependency_parser), axis=1)\n",
    "\n",
    "dfQ_summary['simple_tc_tree_edit_distance'] = dfQ_summary.apply(lambda row: compute_tree_edit_distance(nlp(row['question']), nlp(row['questions_simple_tc']),zss_parser=zss_dependency_parser), axis=1)"
   ],
   "metadata": {
    "collapsed": false,
    "ExecuteTime": {
     "end_time": "2024-05-02T14:59:10.909793400Z",
     "start_time": "2024-05-02T14:57:50.640234500Z"
    }
   },
   "id": "dc9922f3a5848d2e"
  },
  {
   "cell_type": "code",
   "execution_count": 135,
   "outputs": [],
   "source": [
    "dfQ_summary['describe_tree_edit_distance'] = dfQ_summary.apply(lambda row: compute_tree_edit_distance(nlp(row['question']), nlp(row['questions_describe']),zss_parser=zss_dependency_parser), axis=1)\n",
    "\n",
    "dfQ_summary['describe_tc_tree_edit_distance'] = dfQ_summary.apply(lambda row: compute_tree_edit_distance(nlp(row['question']), nlp(row['questions_describe_tc']),zss_parser=zss_dependency_parser), axis=1)"
   ],
   "metadata": {
    "collapsed": false,
    "ExecuteTime": {
     "end_time": "2024-05-02T15:01:58.690360400Z",
     "start_time": "2024-05-02T14:59:10.909793400Z"
    }
   },
   "id": "336ad2c89dd9c7b6"
  },
  {
   "cell_type": "code",
   "execution_count": 136,
   "outputs": [],
   "source": [
    "dfQ_summary['describe_fewshots_tree_edit_distance'] = dfQ_summary.apply(lambda row: compute_tree_edit_distance(nlp(row['question']), nlp(row['questions_describe_fewshots']),zss_parser=zss_dependency_parser), axis=1)\n",
    "\n",
    "dfQ_summary['describe_tc_fewshots_tree_edit_distance'] = dfQ_summary.apply(lambda row: compute_tree_edit_distance(nlp(row['question']), nlp(row['questions_describe_tc_fewshots']),zss_parser=zss_dependency_parser), axis=1)"
   ],
   "metadata": {
    "collapsed": false,
    "ExecuteTime": {
     "end_time": "2024-05-02T15:03:53.821427500Z",
     "start_time": "2024-05-02T15:01:58.697088200Z"
    }
   },
   "id": "e2329cae64f2825"
  },
  {
   "cell_type": "code",
   "execution_count": 17,
   "outputs": [],
   "source": [
    "dfQ_summary['questions_syn_extrapolation_tree_edit_distance'] = dfQ_summary.apply(lambda row: compute_tree_edit_distance(nlp(row['question']), nlp(row['questions_syn_extrapolation']),zss_parser=zss_dependency_parser), axis=1)"
   ],
   "metadata": {
    "collapsed": false,
    "ExecuteTime": {
     "end_time": "2024-05-19T10:15:08.176748500Z",
     "start_time": "2024-05-19T10:13:48.755396200Z"
    }
   },
   "id": "b1a05a93ca5a0ed1"
  },
  {
   "cell_type": "code",
   "execution_count": 42,
   "outputs": [],
   "source": [
    "dfQ_summary['questions_syn_extrapolation_10_seed_data_tree_edit_distance'] = dfQ_summary.apply(lambda row: compute_tree_edit_distance(nlp(row['question']), nlp(row['questions_syn_extrapolation_10_seed_data']),zss_parser=zss_dependency_parser), axis=1)"
   ],
   "metadata": {
    "collapsed": false,
    "ExecuteTime": {
     "end_time": "2024-05-19T10:41:14.891928300Z",
     "start_time": "2024-05-19T10:40:13.783105600Z"
    }
   },
   "id": "ddff2b2bc00d2fc4"
  },
  {
   "cell_type": "code",
   "execution_count": 81,
   "outputs": [],
   "source": [
    "dfQ_summary['questions_syn_extrapolation_50_seed_data_round_0_tree_edit_distance'] = dfQ_summary.apply(lambda row: compute_tree_edit_distance(nlp(row['question']), nlp(row['questions_syn_extrapolation_50_seed_data_round_0']),zss_parser=zss_dependency_parser), axis=1)"
   ],
   "metadata": {
    "collapsed": false,
    "ExecuteTime": {
     "end_time": "2024-05-19T11:05:46.807519800Z",
     "start_time": "2024-05-19T11:04:39.549174800Z"
    }
   },
   "id": "c8b28fba67c0211d"
  },
  {
   "cell_type": "code",
   "execution_count": 82,
   "outputs": [
    {
     "data": {
      "text/plain": "      article_ids                                           question  \\\n70            858  Le propriétaire peut-il mettre fin au bail non...   \n12503        1098  Nous sommes mariés. Nous sommes séparés, vais-...   \n35580        4702  Comment savoir quel est le tribunal de la fami...   \n24112         881  Peut-on réclamer un loyer à un colocataire qui...   \n25030         881  Un colocataire seul peut-il mettre fin au bail...   \n...           ...                                                ...   \n31854        2334  Je me sépare. On se sépare, qui doit payer le ...   \n30001        2334  Mon cohabitant légal est décédé. Quels sont me...   \n16758        1676  Mon cohabitant légal est décédé. Quels sont me...   \n28743         870  Comment se déroule la procédure judiciaire en ...   \n6956          857  Les colocataires tous ensemble peuvent-ils met...   \n\n                                        questions_simple  \\\n70     Quelles sont les conditions permettant au pren...   \n12503  Est-ce que la présomption de paternité prévue ...   \n35580  Quel tribunal est compétent pour traiter des d...   \n24112  Quelles sont les règles applicables en cas de ...   \n25030  Quelles sont les règles applicables en cas de ...   \n...                                                  ...   \n31854  Quelles sont les obligations financières des c...   \n30001  Quelles sont les obligations financières des c...   \n16758  Quel est le droit du cohabitant légal survivan...   \n28743  Quelles conditions doivent être remplies pour ...   \n6956   Quelle est la durée maximale que peut avoir un...   \n\n                                     questions_simple_tc  \\\n70     Est-ce que le preneur d'un contrat de bail de ...   \n12503  Est-ce que la présomption de paternité visée à...   \n35580  La résidence habituelle d'un enfant est-elle d...   \n24112  Est-ce que le bailleur peut mettre fin au bail...   \n25030  Est-ce que le bailleur peut mettre fin au bail...   \n...                                                  ...   \n31854  Est-ce que les cohabitants légaux sont tenus d...   \n30001  Est-ce que les cohabitants légaux sont tenus d...   \n16758  Est-ce que le cohabitant légal survivant recue...   \n28743  Quelles sont les circonstances exceptionnelles...   \n6956   Est-il possible de conclure un bail de courte ...   \n\n                            questions_simple_tc_fewshots  \\\n70     Peut un locataire d'un bail de courte durée, é...   \n12503  Les parents ont fait une déclaration conjointe...   \n35580  Si des parents séparés ont des enfants communs...   \n24112  Est-ce que tous les colocataires doivent signe...   \n25030  Est-ce que tous les colocataires doivent signe...   \n...                                                  ...   \n31854  Est-ce que les cohabitants légaux sont tenus d...   \n30001  Est-ce que les cohabitants légaux sont tenus d...   \n16758  Le cohabitant légal survivant a-t-il le droit ...   \n28743  Puis-je demander une prorogation de mon bail e...   \n6956   Le bail que j'ai signé pour une durée inférieu...   \n\n                                      questions_describe  \\\n70     En raison de la crise sanitaire liée au Covid-...   \n12503  Deux époux ont décidé de résider séparément su...   \n35580  Deux anciens cohabitants légaux souhaitent rég...   \n24112  Deux colocataires partageant un appartement dé...   \n25030  Deux colocataires partageant un appartement dé...   \n...                                                  ...   \n31854  Deux personnes vivent en tant que cohabitants ...   \n30001  Deux personnes vivent en tant que cohabitants ...   \n16758  Après le décès d'un cohabitant légal, ses héri...   \n28743  Un locataire se trouve dans une situation diff...   \n6956   Un locataire et un propriétaire ont conclu un ...   \n\n                                   questions_describe_tc  \\\n70     Un étudiant locataire sous bail de courte duré...   \n12503  Deux adultes habitant ensemble depuis plusieur...   \n35580  Un couple marié envisage de faire appel au tri...   \n24112  Un colocataire souhaite sortir anticipativemen...   \n25030  Un colocataire souhaite sortir anticipativemen...   \n...                                                  ...   \n31854  Deux cohabitants légaux partagent une vie comm...   \n30001  Deux cohabitants légaux partagent une vie comm...   \n16758  Suite au décès d'un cohabitant légal, la quest...   \n28743  Un locataire dont le bail prend fin souhaite d...   \n6956   Un consommateur a soumis une demande de règlem...   \n\n                             questions_describe_fewshots  \\\n70     En raison de la crise sanitaire du Covid-19, u...   \n12503  Un couple n'a pas fait de déclaration conjoint...   \n35580  Les parents sont en conflit concernant l'héber...   \n24112  Je vis en colocation et je souhaite quitter l'...   \n25030  Je vis en colocation et je souhaite quitter l'...   \n...                                                  ...   \n31854  Deux personnes vivent ensemble en tant que coh...   \n30001  Deux personnes vivent ensemble en tant que coh...   \n16758  Un couple non marié vient de divorcer, et l'un...   \n28743  Mon bail résidentiel arrive à échéance, mais j...   \n6956   J'ai signé un bail de courte durée pour un app...   \n\n                          questions_describe_tc_fewshots  \\\n70     En raison de la crise sanitaire causée par le ...   \n12503  Les époux ont vécu séparément un certain temps...   \n35580  Une personne souhaite entamer une procédure ju...   \n24112  Je vis en colocation avec d'autres personnes. ...   \n25030  Je vis en colocation avec d'autres personnes. ...   \n...                                                  ...   \n31854  Deux personnes vivent en cohabitation légale e...   \n30001  Deux personnes vivent en cohabitation légale e...   \n16758  Après le décès de mon cohabitant légal, je sui...   \n28743  Mon bailleur souhaite mettre fin au bail, mais...   \n6956   Je loue un appartement en Belgique pour une du...   \n\n                             questions_syn_extrapolation  \\\n70     En raison de la crise sanitaire causée par le ...   \n12503  Les époux ont vécu séparément un certain temps...   \n35580  Une personne souhaite entamer une procédure ju...   \n24112  Je souhaite quitter ma colocation en Belgique....   \n25030  Trois colocataires ont signé un bail de coloca...   \n...                                                  ...   \n31854  Deux cohabitants légaux se séparent et ont des...   \n30001  Deux personnes vivent en cohabitation légale e...   \n16758  Après le décès de mon cohabitant légal, je sui...   \n28743  Je suis locataire en Wallonie et je fais face ...   \n6956   Je loue un appartement à Bruxelles depuis cinq...   \n\n                questions_syn_extrapolation_10_seed_data  \\\n70     Je loue un appartement à Bruxelles depuis janv...   \n12503  Un enfant est né lorsque les parents étaient s...   \n35580  Je souhaite entamer une action en matière de f...   \n24112  Une personne désire partir en cours de bail en...   \n25030  Je souhaite sortir anticipativement d'un bail ...   \n...                                                  ...   \n31854  Deux cohabitants légaux se séparent après avoi...   \n30001  Deux personnes vivent en cohabitation légale e...   \n16758  Deux cohabitants légaux achètent ensemble une ...   \n28743  Mon bail résidentiel arrive à expiration et je...   \n6956   Je souhaite louer un appartement à Bruxelles p...   \n\n        questions_syn_extrapolation_50_seed_data_round_0  \\\n70     En raison de la crise sanitaire causée par le ...   \n12503  Les époux ont vécu séparément un certain temps...   \n35580  Une personne souhaite entamer une procédure ju...   \n24112  Je vis en colocation avec d'autres personnes. ...   \n25030  Je vis en colocation avec d'autres personnes. ...   \n...                                                  ...   \n31854  Deux personnes vivent en cohabitation légale e...   \n30001  Deux personnes vivent en cohabitation légale e...   \n16758  Après le décès de mon cohabitant légal, je sui...   \n28743  Mon bailleur souhaite mettre fin au bail, mais...   \n6956   Je loue un appartement en Belgique pour une du...   \n\n       questions_syn_extrapolation_50_seed_data_round_0_tree_edit_distance  \n70                                                  66.0                    \n12503                                               32.0                    \n35580                                               32.0                    \n24112                                               33.0                    \n25030                                               33.0                    \n...                                                  ...                    \n31854                                               39.0                    \n30001                                               38.0                    \n16758                                               38.0                    \n28743                                               30.0                    \n6956                                                42.0                    \n\n[2000 rows x 13 columns]",
      "text/html": "<div>\n<style scoped>\n    .dataframe tbody tr th:only-of-type {\n        vertical-align: middle;\n    }\n\n    .dataframe tbody tr th {\n        vertical-align: top;\n    }\n\n    .dataframe thead th {\n        text-align: right;\n    }\n</style>\n<table border=\"1\" class=\"dataframe\">\n  <thead>\n    <tr style=\"text-align: right;\">\n      <th></th>\n      <th>article_ids</th>\n      <th>question</th>\n      <th>questions_simple</th>\n      <th>questions_simple_tc</th>\n      <th>questions_simple_tc_fewshots</th>\n      <th>questions_describe</th>\n      <th>questions_describe_tc</th>\n      <th>questions_describe_fewshots</th>\n      <th>questions_describe_tc_fewshots</th>\n      <th>questions_syn_extrapolation</th>\n      <th>questions_syn_extrapolation_10_seed_data</th>\n      <th>questions_syn_extrapolation_50_seed_data_round_0</th>\n      <th>questions_syn_extrapolation_50_seed_data_round_0_tree_edit_distance</th>\n    </tr>\n  </thead>\n  <tbody>\n    <tr>\n      <th>70</th>\n      <td>858</td>\n      <td>Le propriétaire peut-il mettre fin au bail non...</td>\n      <td>Quelles sont les conditions permettant au pren...</td>\n      <td>Est-ce que le preneur d'un contrat de bail de ...</td>\n      <td>Peut un locataire d'un bail de courte durée, é...</td>\n      <td>En raison de la crise sanitaire liée au Covid-...</td>\n      <td>Un étudiant locataire sous bail de courte duré...</td>\n      <td>En raison de la crise sanitaire du Covid-19, u...</td>\n      <td>En raison de la crise sanitaire causée par le ...</td>\n      <td>En raison de la crise sanitaire causée par le ...</td>\n      <td>Je loue un appartement à Bruxelles depuis janv...</td>\n      <td>En raison de la crise sanitaire causée par le ...</td>\n      <td>66.0</td>\n    </tr>\n    <tr>\n      <th>12503</th>\n      <td>1098</td>\n      <td>Nous sommes mariés. Nous sommes séparés, vais-...</td>\n      <td>Est-ce que la présomption de paternité prévue ...</td>\n      <td>Est-ce que la présomption de paternité visée à...</td>\n      <td>Les parents ont fait une déclaration conjointe...</td>\n      <td>Deux époux ont décidé de résider séparément su...</td>\n      <td>Deux adultes habitant ensemble depuis plusieur...</td>\n      <td>Un couple n'a pas fait de déclaration conjoint...</td>\n      <td>Les époux ont vécu séparément un certain temps...</td>\n      <td>Les époux ont vécu séparément un certain temps...</td>\n      <td>Un enfant est né lorsque les parents étaient s...</td>\n      <td>Les époux ont vécu séparément un certain temps...</td>\n      <td>32.0</td>\n    </tr>\n    <tr>\n      <th>35580</th>\n      <td>4702</td>\n      <td>Comment savoir quel est le tribunal de la fami...</td>\n      <td>Quel tribunal est compétent pour traiter des d...</td>\n      <td>La résidence habituelle d'un enfant est-elle d...</td>\n      <td>Si des parents séparés ont des enfants communs...</td>\n      <td>Deux anciens cohabitants légaux souhaitent rég...</td>\n      <td>Un couple marié envisage de faire appel au tri...</td>\n      <td>Les parents sont en conflit concernant l'héber...</td>\n      <td>Une personne souhaite entamer une procédure ju...</td>\n      <td>Une personne souhaite entamer une procédure ju...</td>\n      <td>Je souhaite entamer une action en matière de f...</td>\n      <td>Une personne souhaite entamer une procédure ju...</td>\n      <td>32.0</td>\n    </tr>\n    <tr>\n      <th>24112</th>\n      <td>881</td>\n      <td>Peut-on réclamer un loyer à un colocataire qui...</td>\n      <td>Quelles sont les règles applicables en cas de ...</td>\n      <td>Est-ce que le bailleur peut mettre fin au bail...</td>\n      <td>Est-ce que tous les colocataires doivent signe...</td>\n      <td>Deux colocataires partageant un appartement dé...</td>\n      <td>Un colocataire souhaite sortir anticipativemen...</td>\n      <td>Je vis en colocation et je souhaite quitter l'...</td>\n      <td>Je vis en colocation avec d'autres personnes. ...</td>\n      <td>Je souhaite quitter ma colocation en Belgique....</td>\n      <td>Une personne désire partir en cours de bail en...</td>\n      <td>Je vis en colocation avec d'autres personnes. ...</td>\n      <td>33.0</td>\n    </tr>\n    <tr>\n      <th>25030</th>\n      <td>881</td>\n      <td>Un colocataire seul peut-il mettre fin au bail...</td>\n      <td>Quelles sont les règles applicables en cas de ...</td>\n      <td>Est-ce que le bailleur peut mettre fin au bail...</td>\n      <td>Est-ce que tous les colocataires doivent signe...</td>\n      <td>Deux colocataires partageant un appartement dé...</td>\n      <td>Un colocataire souhaite sortir anticipativemen...</td>\n      <td>Je vis en colocation et je souhaite quitter l'...</td>\n      <td>Je vis en colocation avec d'autres personnes. ...</td>\n      <td>Trois colocataires ont signé un bail de coloca...</td>\n      <td>Je souhaite sortir anticipativement d'un bail ...</td>\n      <td>Je vis en colocation avec d'autres personnes. ...</td>\n      <td>33.0</td>\n    </tr>\n    <tr>\n      <th>...</th>\n      <td>...</td>\n      <td>...</td>\n      <td>...</td>\n      <td>...</td>\n      <td>...</td>\n      <td>...</td>\n      <td>...</td>\n      <td>...</td>\n      <td>...</td>\n      <td>...</td>\n      <td>...</td>\n      <td>...</td>\n      <td>...</td>\n    </tr>\n    <tr>\n      <th>31854</th>\n      <td>2334</td>\n      <td>Je me sépare. On se sépare, qui doit payer le ...</td>\n      <td>Quelles sont les obligations financières des c...</td>\n      <td>Est-ce que les cohabitants légaux sont tenus d...</td>\n      <td>Est-ce que les cohabitants légaux sont tenus d...</td>\n      <td>Deux personnes vivent en tant que cohabitants ...</td>\n      <td>Deux cohabitants légaux partagent une vie comm...</td>\n      <td>Deux personnes vivent ensemble en tant que coh...</td>\n      <td>Deux personnes vivent en cohabitation légale e...</td>\n      <td>Deux cohabitants légaux se séparent et ont des...</td>\n      <td>Deux cohabitants légaux se séparent après avoi...</td>\n      <td>Deux personnes vivent en cohabitation légale e...</td>\n      <td>39.0</td>\n    </tr>\n    <tr>\n      <th>30001</th>\n      <td>2334</td>\n      <td>Mon cohabitant légal est décédé. Quels sont me...</td>\n      <td>Quelles sont les obligations financières des c...</td>\n      <td>Est-ce que les cohabitants légaux sont tenus d...</td>\n      <td>Est-ce que les cohabitants légaux sont tenus d...</td>\n      <td>Deux personnes vivent en tant que cohabitants ...</td>\n      <td>Deux cohabitants légaux partagent une vie comm...</td>\n      <td>Deux personnes vivent ensemble en tant que coh...</td>\n      <td>Deux personnes vivent en cohabitation légale e...</td>\n      <td>Deux personnes vivent en cohabitation légale e...</td>\n      <td>Deux personnes vivent en cohabitation légale e...</td>\n      <td>Deux personnes vivent en cohabitation légale e...</td>\n      <td>38.0</td>\n    </tr>\n    <tr>\n      <th>16758</th>\n      <td>1676</td>\n      <td>Mon cohabitant légal est décédé. Quels sont me...</td>\n      <td>Quel est le droit du cohabitant légal survivan...</td>\n      <td>Est-ce que le cohabitant légal survivant recue...</td>\n      <td>Le cohabitant légal survivant a-t-il le droit ...</td>\n      <td>Après le décès d'un cohabitant légal, ses héri...</td>\n      <td>Suite au décès d'un cohabitant légal, la quest...</td>\n      <td>Un couple non marié vient de divorcer, et l'un...</td>\n      <td>Après le décès de mon cohabitant légal, je sui...</td>\n      <td>Après le décès de mon cohabitant légal, je sui...</td>\n      <td>Deux cohabitants légaux achètent ensemble une ...</td>\n      <td>Après le décès de mon cohabitant légal, je sui...</td>\n      <td>38.0</td>\n    </tr>\n    <tr>\n      <th>28743</th>\n      <td>870</td>\n      <td>Comment se déroule la procédure judiciaire en ...</td>\n      <td>Quelles conditions doivent être remplies pour ...</td>\n      <td>Quelles sont les circonstances exceptionnelles...</td>\n      <td>Puis-je demander une prorogation de mon bail e...</td>\n      <td>Un locataire se trouve dans une situation diff...</td>\n      <td>Un locataire dont le bail prend fin souhaite d...</td>\n      <td>Mon bail résidentiel arrive à échéance, mais j...</td>\n      <td>Mon bailleur souhaite mettre fin au bail, mais...</td>\n      <td>Je suis locataire en Wallonie et je fais face ...</td>\n      <td>Mon bail résidentiel arrive à expiration et je...</td>\n      <td>Mon bailleur souhaite mettre fin au bail, mais...</td>\n      <td>30.0</td>\n    </tr>\n    <tr>\n      <th>6956</th>\n      <td>857</td>\n      <td>Les colocataires tous ensemble peuvent-ils met...</td>\n      <td>Quelle est la durée maximale que peut avoir un...</td>\n      <td>Est-il possible de conclure un bail de courte ...</td>\n      <td>Le bail que j'ai signé pour une durée inférieu...</td>\n      <td>Un locataire et un propriétaire ont conclu un ...</td>\n      <td>Un consommateur a soumis une demande de règlem...</td>\n      <td>J'ai signé un bail de courte durée pour un app...</td>\n      <td>Je loue un appartement en Belgique pour une du...</td>\n      <td>Je loue un appartement à Bruxelles depuis cinq...</td>\n      <td>Je souhaite louer un appartement à Bruxelles p...</td>\n      <td>Je loue un appartement en Belgique pour une du...</td>\n      <td>42.0</td>\n    </tr>\n  </tbody>\n</table>\n<p>2000 rows × 13 columns</p>\n</div>"
     },
     "execution_count": 82,
     "metadata": {},
     "output_type": "execute_result"
    }
   ],
   "source": [
    "dfQ_summary"
   ],
   "metadata": {
    "collapsed": false,
    "ExecuteTime": {
     "end_time": "2024-05-19T11:05:46.823346200Z",
     "start_time": "2024-05-19T11:05:46.817645Z"
    }
   },
   "id": "947dd4825051b94f"
  },
  {
   "cell_type": "code",
   "execution_count": 138,
   "outputs": [
    {
     "data": {
      "text/plain": "22.7875"
     },
     "execution_count": 138,
     "metadata": {},
     "output_type": "execute_result"
    }
   ],
   "source": [
    "dfQ_summary['simple_tree_edit_distance'].mean()"
   ],
   "metadata": {
    "collapsed": false,
    "ExecuteTime": {
     "end_time": "2024-05-02T15:03:53.873242200Z",
     "start_time": "2024-05-02T15:03:53.840877300Z"
    }
   },
   "id": "cd3d5db5812737d7"
  },
  {
   "cell_type": "code",
   "execution_count": 139,
   "outputs": [
    {
     "data": {
      "text/plain": "23.953"
     },
     "execution_count": 139,
     "metadata": {},
     "output_type": "execute_result"
    }
   ],
   "source": [
    "dfQ_summary['simple_tc_tree_edit_distance'].mean()"
   ],
   "metadata": {
    "collapsed": false,
    "ExecuteTime": {
     "end_time": "2024-05-02T15:03:53.919898300Z",
     "start_time": "2024-05-02T15:03:53.857646Z"
    }
   },
   "id": "79f826b1bd997b90"
  },
  {
   "cell_type": "code",
   "execution_count": 140,
   "outputs": [
    {
     "data": {
      "text/plain": "25.211"
     },
     "execution_count": 140,
     "metadata": {},
     "output_type": "execute_result"
    }
   ],
   "source": [
    "dfQ_summary['simple_tc_fewshots_tree_edit_distance'].mean()"
   ],
   "metadata": {
    "collapsed": false,
    "ExecuteTime": {
     "end_time": "2024-05-02T15:03:53.936692400Z",
     "start_time": "2024-05-02T15:03:53.873242200Z"
    }
   },
   "id": "c6073894ed743ccf"
  },
  {
   "cell_type": "code",
   "execution_count": 141,
   "outputs": [
    {
     "data": {
      "text/plain": "55.5865"
     },
     "execution_count": 141,
     "metadata": {},
     "output_type": "execute_result"
    }
   ],
   "source": [
    "dfQ_summary['describe_tree_edit_distance'].mean()"
   ],
   "metadata": {
    "collapsed": false,
    "ExecuteTime": {
     "end_time": "2024-05-02T15:03:53.983098500Z",
     "start_time": "2024-05-02T15:03:53.888804Z"
    }
   },
   "id": "f2d9a4a1cf1b6e37"
  },
  {
   "cell_type": "code",
   "execution_count": 142,
   "outputs": [
    {
     "data": {
      "text/plain": "50.4745"
     },
     "execution_count": 142,
     "metadata": {},
     "output_type": "execute_result"
    }
   ],
   "source": [
    "dfQ_summary['describe_tc_tree_edit_distance'].mean()"
   ],
   "metadata": {
    "collapsed": false,
    "ExecuteTime": {
     "end_time": "2024-05-02T15:03:54.049933900Z",
     "start_time": "2024-05-02T15:03:53.909729300Z"
    }
   },
   "id": "e3870aa687cca8e9"
  },
  {
   "cell_type": "code",
   "execution_count": 143,
   "outputs": [
    {
     "data": {
      "text/plain": "32.899"
     },
     "execution_count": 143,
     "metadata": {},
     "output_type": "execute_result"
    }
   ],
   "source": [
    "dfQ_summary['describe_fewshots_tree_edit_distance'].mean()"
   ],
   "metadata": {
    "collapsed": false,
    "ExecuteTime": {
     "end_time": "2024-05-02T15:03:54.065919400Z",
     "start_time": "2024-05-02T15:03:53.919898300Z"
    }
   },
   "id": "c37105cf93f4beb3"
  },
  {
   "cell_type": "code",
   "execution_count": 144,
   "outputs": [
    {
     "data": {
      "text/plain": "32.9725"
     },
     "execution_count": 144,
     "metadata": {},
     "output_type": "execute_result"
    }
   ],
   "source": [
    "dfQ_summary['describe_tc_fewshots_tree_edit_distance'].mean()"
   ],
   "metadata": {
    "collapsed": false,
    "ExecuteTime": {
     "end_time": "2024-05-02T15:03:54.081821800Z",
     "start_time": "2024-05-02T15:03:53.936692400Z"
    }
   },
   "id": "e899f9b2322946f"
  },
  {
   "cell_type": "code",
   "execution_count": 19,
   "outputs": [
    {
     "data": {
      "text/plain": "33.3115"
     },
     "execution_count": 19,
     "metadata": {},
     "output_type": "execute_result"
    }
   ],
   "source": [
    "dfQ_summary['questions_syn_extrapolation_tree_edit_distance'].mean()"
   ],
   "metadata": {
    "collapsed": false,
    "ExecuteTime": {
     "end_time": "2024-05-19T10:15:08.249198500Z",
     "start_time": "2024-05-19T10:15:08.198119300Z"
    }
   },
   "id": "f4c10b0d5665a293"
  },
  {
   "cell_type": "code",
   "execution_count": 88,
   "outputs": [
    {
     "data": {
      "text/plain": "35.9235"
     },
     "execution_count": 88,
     "metadata": {},
     "output_type": "execute_result"
    }
   ],
   "source": [
    "dfQ_summary['questions_syn_extrapolation_50_seed_data_round_0_tree_edit_distance'].mean()"
   ],
   "metadata": {
    "collapsed": false,
    "ExecuteTime": {
     "end_time": "2024-05-19T11:06:26.394690700Z",
     "start_time": "2024-05-19T11:06:26.365416200Z"
    }
   },
   "id": "f42809ba4efdad43"
  },
  {
   "cell_type": "markdown",
   "source": [
    "# semantic "
   ],
   "metadata": {
    "collapsed": false
   },
   "id": "14eda01555665472"
  },
  {
   "cell_type": "code",
   "execution_count": 86,
   "outputs": [],
   "source": [
    "dfQ_summary['simple_tc_fewshots_semantic_similarity'] = dfQ_summary.apply(lambda row: semantic_similarity(nlp(_remove_stop_words(nlp(row['question']))), nlp(_remove_stop_words(nlp(row['questions_simple_tc_fewshots'])))), axis=1)\n",
    "\n",
    "dfQ_summary['simple_tc_semantic_similarity'] = dfQ_summary.apply(lambda row: semantic_similarity(nlp(_remove_stop_words(nlp(row['question']))), nlp(_remove_stop_words(nlp(row['questions_simple_tc'])))), axis=1)"
   ],
   "metadata": {
    "collapsed": false,
    "ExecuteTime": {
     "end_time": "2024-05-02T13:37:07.099306700Z",
     "start_time": "2024-05-02T13:36:39.895825100Z"
    }
   },
   "id": "6a14372906c30011"
  },
  {
   "cell_type": "code",
   "execution_count": 87,
   "outputs": [],
   "source": [
    "dfQ_summary['simple_semantic_similarity'] = dfQ_summary.apply(lambda row: semantic_similarity(nlp(_remove_stop_words(nlp(row['question']))), nlp(_remove_stop_words(nlp(row['questions_simple'])))), axis=1)"
   ],
   "metadata": {
    "collapsed": false,
    "ExecuteTime": {
     "end_time": "2024-05-02T13:37:19.756822300Z",
     "start_time": "2024-05-02T13:37:07.099306700Z"
    }
   },
   "id": "cc84de473f688ef6"
  },
  {
   "cell_type": "code",
   "execution_count": 70,
   "outputs": [],
   "source": [
    "dfQ_summary['describe_semantic_similarity'] = dfQ_summary.apply(lambda row: semantic_similarity(nlp(_remove_stop_words(nlp(row['question']))), nlp(_remove_stop_words(nlp(row['questions_describe'])))), axis=1)\n",
    "\n",
    "dfQ_summary['describe_tc_semantic_similarity'] = dfQ_summary.apply(lambda row: semantic_similarity(nlp(_remove_stop_words(nlp(row['question']))), nlp(_remove_stop_words(nlp(row['questions_describe_tc'])))), axis=1)\n",
    "\n",
    "dfQ_summary['describe_fewshots_semantic_similarity'] = dfQ_summary.apply(lambda row: semantic_similarity(nlp(_remove_stop_words(nlp(row['question']))), nlp(_remove_stop_words(nlp(row['questions_describe_fewshots'])))), axis=1)\n",
    "\n",
    "dfQ_summary['describe_tc_fewshots_semantic_similarity'] = dfQ_summary.apply(lambda row: semantic_similarity(nlp(_remove_stop_words(nlp(row['question']))), nlp(_remove_stop_words(nlp(row['questions_describe_tc_fewshots'])))), axis=1)"
   ],
   "metadata": {
    "collapsed": false,
    "ExecuteTime": {
     "end_time": "2024-05-01T22:40:52.553374900Z",
     "start_time": "2024-05-01T22:39:49.507171Z"
    }
   },
   "id": "741238eb36b05c74"
  },
  {
   "cell_type": "code",
   "execution_count": 25,
   "outputs": [],
   "source": [
    "dfQ_summary['questions_syn_extrapolation_semantic_similarity'] = dfQ_summary.apply(lambda row: semantic_similarity(nlp(_remove_stop_words(nlp(row['question']))), nlp(_remove_stop_words(nlp(row['questions_syn_extrapolation'])))), axis=1)"
   ],
   "metadata": {
    "collapsed": false,
    "ExecuteTime": {
     "end_time": "2024-05-19T10:18:21.233234Z",
     "start_time": "2024-05-19T10:17:50.982945300Z"
    }
   },
   "id": "ff446689ff93026c"
  },
  {
   "cell_type": "code",
   "execution_count": 96,
   "outputs": [],
   "source": [
    "dfQ_summary['questions_syn_extrapolation_50_seed_data_round_0_semantic_similarity'] = dfQ_summary.apply(lambda row: semantic_similarity(nlp(_remove_stop_words(nlp(row['question']))), nlp(_remove_stop_words(nlp(row['questions_syn_extrapolation_50_seed_data_round_0'])))), axis=1)"
   ],
   "metadata": {
    "collapsed": false,
    "ExecuteTime": {
     "end_time": "2024-05-19T11:11:09.663659300Z",
     "start_time": "2024-05-19T11:10:39.087001800Z"
    }
   },
   "id": "5658b1b93f2c467a"
  },
  {
   "cell_type": "code",
   "execution_count": 71,
   "outputs": [
    {
     "data": {
      "text/plain": "0.5535614752042263"
     },
     "execution_count": 71,
     "metadata": {},
     "output_type": "execute_result"
    }
   ],
   "source": [
    "dfQ_summary['describe_semantic_similarity'].mean()"
   ],
   "metadata": {
    "collapsed": false,
    "ExecuteTime": {
     "end_time": "2024-05-01T22:41:44.736700500Z",
     "start_time": "2024-05-01T22:41:44.718553500Z"
    }
   },
   "id": "8200ec4711d994f3"
  },
  {
   "cell_type": "code",
   "execution_count": 72,
   "outputs": [
    {
     "data": {
      "text/plain": "0.5656643756623633"
     },
     "execution_count": 72,
     "metadata": {},
     "output_type": "execute_result"
    }
   ],
   "source": [
    "dfQ_summary['describe_tc_semantic_similarity'].mean()"
   ],
   "metadata": {
    "collapsed": false,
    "ExecuteTime": {
     "end_time": "2024-05-01T22:41:44.904500200Z",
     "start_time": "2024-05-01T22:41:44.885384500Z"
    }
   },
   "id": "9361b63b9cf8c3c5"
  },
  {
   "cell_type": "code",
   "execution_count": 73,
   "outputs": [
    {
     "data": {
      "text/plain": "0.603698511885458"
     },
     "execution_count": 73,
     "metadata": {},
     "output_type": "execute_result"
    }
   ],
   "source": [
    "dfQ_summary['describe_fewshots_semantic_similarity'].mean()"
   ],
   "metadata": {
    "collapsed": false,
    "ExecuteTime": {
     "end_time": "2024-05-01T22:41:45.090266500Z",
     "start_time": "2024-05-01T22:41:45.027911Z"
    }
   },
   "id": "64f4008cc3c3bda3"
  },
  {
   "cell_type": "code",
   "execution_count": 74,
   "outputs": [
    {
     "data": {
      "text/plain": "0.6085111030132824"
     },
     "execution_count": 74,
     "metadata": {},
     "output_type": "execute_result"
    }
   ],
   "source": [
    "dfQ_summary['describe_tc_fewshots_semantic_similarity'].mean()"
   ],
   "metadata": {
    "collapsed": false,
    "ExecuteTime": {
     "end_time": "2024-05-01T22:41:46.133697400Z",
     "start_time": "2024-05-01T22:41:46.102429800Z"
    }
   },
   "id": "85a485e871fe6c23"
  },
  {
   "cell_type": "code",
   "execution_count": 81,
   "outputs": [
    {
     "data": {
      "text/plain": "0.5915320833611377"
     },
     "execution_count": 81,
     "metadata": {},
     "output_type": "execute_result"
    }
   ],
   "source": [
    "dfQ_summary['simple_tc_fewshots_semantic_similarity'].mean()"
   ],
   "metadata": {
    "collapsed": false,
    "ExecuteTime": {
     "end_time": "2024-05-02T13:32:46.728446400Z",
     "start_time": "2024-05-02T13:32:46.692143200Z"
    }
   },
   "id": "401d6eb304ca7ac7"
  },
  {
   "cell_type": "code",
   "execution_count": 89,
   "outputs": [
    {
     "data": {
      "text/plain": "0.5464909524748509"
     },
     "execution_count": 89,
     "metadata": {},
     "output_type": "execute_result"
    }
   ],
   "source": [
    "dfQ_summary['simple_semantic_similarity'].mean()"
   ],
   "metadata": {
    "collapsed": false,
    "ExecuteTime": {
     "end_time": "2024-05-02T13:38:01.074201500Z",
     "start_time": "2024-05-02T13:38:01.058557900Z"
    }
   },
   "id": "c3bd56dbf0fa5ad0"
  },
  {
   "cell_type": "code",
   "execution_count": 90,
   "outputs": [
    {
     "data": {
      "text/plain": "0.576864490860546"
     },
     "execution_count": 90,
     "metadata": {},
     "output_type": "execute_result"
    }
   ],
   "source": [
    "dfQ_summary['simple_tc_semantic_similarity'].mean()"
   ],
   "metadata": {
    "collapsed": false,
    "ExecuteTime": {
     "end_time": "2024-05-02T13:38:10.579249900Z",
     "start_time": "2024-05-02T13:38:10.535512700Z"
    }
   },
   "id": "5f6a1c224672721c"
  },
  {
   "cell_type": "code",
   "execution_count": 93,
   "outputs": [
    {
     "data": {
      "text/plain": "0.5915320833611377"
     },
     "execution_count": 93,
     "metadata": {},
     "output_type": "execute_result"
    }
   ],
   "source": [
    "dfQ_summary['simple_tc_fewshots_semantic_similarity'].mean()"
   ],
   "metadata": {
    "collapsed": false,
    "ExecuteTime": {
     "end_time": "2024-05-02T13:47:56.926742300Z",
     "start_time": "2024-05-02T13:47:56.895482900Z"
    }
   },
   "id": "a3ff13d10d8c8ecf"
  },
  {
   "cell_type": "code",
   "execution_count": 26,
   "outputs": [
    {
     "data": {
      "text/plain": "0.6528104574938352"
     },
     "execution_count": 26,
     "metadata": {},
     "output_type": "execute_result"
    }
   ],
   "source": [
    "dfQ_summary['questions_syn_extrapolation_semantic_similarity'].mean()"
   ],
   "metadata": {
    "collapsed": false,
    "ExecuteTime": {
     "end_time": "2024-05-19T10:18:21.249286Z",
     "start_time": "2024-05-19T10:18:21.233234Z"
    }
   },
   "id": "25fe9f04de70fa38"
  },
  {
   "cell_type": "code",
   "execution_count": 97,
   "outputs": [
    {
     "data": {
      "text/plain": "0.6874022130523638"
     },
     "execution_count": 97,
     "metadata": {},
     "output_type": "execute_result"
    }
   ],
   "source": [
    "dfQ_summary['questions_syn_extrapolation_50_seed_data_round_0_semantic_similarity'].mean()"
   ],
   "metadata": {
    "collapsed": false,
    "ExecuteTime": {
     "end_time": "2024-05-19T11:11:18.326548800Z",
     "start_time": "2024-05-19T11:11:18.310868300Z"
    }
   },
   "id": "c8eda5dadb0ac7c3"
  },
  {
   "cell_type": "markdown",
   "source": [
    "# sentence length difference normalization"
   ],
   "metadata": {
    "collapsed": false
   },
   "id": "45dbc7ca4383d7bc"
  },
  {
   "cell_type": "code",
   "execution_count": 145,
   "outputs": [],
   "source": [
    "dfQ_summary['simple_length_diff'] = dfQ_summary.apply(lambda row: len(row['questions_simple'].split(\" \")) - len(row['question'].split(\" \")), axis=1)"
   ],
   "metadata": {
    "collapsed": false,
    "ExecuteTime": {
     "end_time": "2024-05-02T15:03:54.081821800Z",
     "start_time": "2024-05-02T15:03:53.951702200Z"
    }
   },
   "id": "9b3b197324035788"
  },
  {
   "cell_type": "code",
   "execution_count": 146,
   "outputs": [],
   "source": [
    "dfQ_summary['simple_tc_length_diff'] = dfQ_summary.apply(lambda row: len(row['questions_simple_tc'].split(\" \")) - len(row['question'].split(\" \")), axis=1)"
   ],
   "metadata": {
    "collapsed": false,
    "ExecuteTime": {
     "end_time": "2024-05-02T15:03:54.097515600Z",
     "start_time": "2024-05-02T15:03:53.983098500Z"
    }
   },
   "id": "db1f5b9e6edb55ca"
  },
  {
   "cell_type": "code",
   "execution_count": 147,
   "outputs": [],
   "source": [
    "dfQ_summary['simple_tc_fewshots_length_diff'] = dfQ_summary.apply(lambda row: len(row['questions_simple_tc_fewshots'].split(\" \")) - len(row['question'].split(\" \")), axis=1)"
   ],
   "metadata": {
    "collapsed": false,
    "ExecuteTime": {
     "end_time": "2024-05-02T15:03:54.113166400Z",
     "start_time": "2024-05-02T15:03:54.014249Z"
    }
   },
   "id": "57f75d036a8438e1"
  },
  {
   "cell_type": "code",
   "execution_count": 148,
   "outputs": [],
   "source": [
    "dfQ_summary['describe_length_diff'] = dfQ_summary.apply(lambda row: len(row['questions_describe'].split(\" \")) - len(row['question'].split(\" \")), axis=1)"
   ],
   "metadata": {
    "collapsed": false,
    "ExecuteTime": {
     "end_time": "2024-05-02T15:03:54.160541600Z",
     "start_time": "2024-05-02T15:03:54.050868200Z"
    }
   },
   "id": "3777f28e69f900b0"
  },
  {
   "cell_type": "code",
   "execution_count": 149,
   "outputs": [],
   "source": [
    "dfQ_summary['describe_fewshots_length_diff'] = dfQ_summary.apply(lambda row: len(row['questions_describe_fewshots'].split(\" \")) - len(row['question'].split(\" \")), axis=1)"
   ],
   "metadata": {
    "collapsed": false,
    "ExecuteTime": {
     "end_time": "2024-05-02T15:03:54.160541600Z",
     "start_time": "2024-05-02T15:03:54.081821800Z"
    }
   },
   "id": "d536913dee4c24b1"
  },
  {
   "cell_type": "code",
   "execution_count": 150,
   "outputs": [],
   "source": [
    "dfQ_summary['describe_tc_length_diff'] = dfQ_summary.apply(lambda row: len(row['questions_describe_tc'].split(\" \")) - len(row['question'].split(\" \")), axis=1)"
   ],
   "metadata": {
    "collapsed": false,
    "ExecuteTime": {
     "end_time": "2024-05-02T15:03:54.160541600Z",
     "start_time": "2024-05-02T15:03:54.113166400Z"
    }
   },
   "id": "4a874416843e1a50"
  },
  {
   "cell_type": "code",
   "execution_count": 151,
   "outputs": [],
   "source": [
    "dfQ_summary['describe_tc_fewshots_length_diff'] = dfQ_summary.apply(lambda row: len(row['questions_describe_tc_fewshots'].split(\" \")) - len(row['question'].split(\" \")), axis=1)"
   ],
   "metadata": {
    "collapsed": false,
    "ExecuteTime": {
     "end_time": "2024-05-02T15:03:54.191778700Z",
     "start_time": "2024-05-02T15:03:54.144813400Z"
    }
   },
   "id": "c29516891a7f4744"
  },
  {
   "cell_type": "code",
   "execution_count": 20,
   "outputs": [],
   "source": [
    "dfQ_summary['questions_syn_extrapolation_length_diff'] = dfQ_summary.apply(lambda row: len(row['questions_syn_extrapolation'].split(\" \")) - len(row['question'].split(\" \")), axis=1)"
   ],
   "metadata": {
    "collapsed": false,
    "ExecuteTime": {
     "end_time": "2024-05-19T10:15:17.851025400Z",
     "start_time": "2024-05-19T10:15:17.781315300Z"
    }
   },
   "id": "2cb3a3e4c867fe85"
  },
  {
   "cell_type": "code",
   "execution_count": 48,
   "outputs": [],
   "source": [
    "dfQ_summary['questions_syn_extrapolation_10_seed_data_length_diff'] = dfQ_summary.apply(lambda row: len(row['questions_syn_extrapolation_10_seed_data'].split(\" \")) - len(row['question'].split(\" \")), axis=1)"
   ],
   "metadata": {
    "collapsed": false,
    "ExecuteTime": {
     "end_time": "2024-05-19T10:42:01.254166100Z",
     "start_time": "2024-05-19T10:42:01.234113200Z"
    }
   },
   "id": "c514ec4199ff653"
  },
  {
   "cell_type": "code",
   "execution_count": 89,
   "outputs": [],
   "source": [
    "dfQ_summary['questions_syn_extrapolation_50_seed_data_round_0_length_diff'] = dfQ_summary.apply(lambda row: len(row['questions_syn_extrapolation_50_seed_data_round_0'].split(\" \")) - len(row['question'].split(\" \")), axis=1)"
   ],
   "metadata": {
    "collapsed": false,
    "ExecuteTime": {
     "end_time": "2024-05-19T11:07:39.184000200Z",
     "start_time": "2024-05-19T11:07:39.142141300Z"
    }
   },
   "id": "893859a8d3618b13"
  },
  {
   "cell_type": "code",
   "execution_count": 85,
   "outputs": [
    {
     "data": {
      "text/plain": "      article_ids                                           question  \\\n70            858  Le propriétaire peut-il mettre fin au bail non...   \n12503        1098  Nous sommes mariés. Nous sommes séparés, vais-...   \n35580        4702  Comment savoir quel est le tribunal de la fami...   \n24112         881  Peut-on réclamer un loyer à un colocataire qui...   \n25030         881  Un colocataire seul peut-il mettre fin au bail...   \n...           ...                                                ...   \n31854        2334  Je me sépare. On se sépare, qui doit payer le ...   \n30001        2334  Mon cohabitant légal est décédé. Quels sont me...   \n16758        1676  Mon cohabitant légal est décédé. Quels sont me...   \n28743         870  Comment se déroule la procédure judiciaire en ...   \n6956          857  Les colocataires tous ensemble peuvent-ils met...   \n\n                                        questions_simple  \\\n70     Quelles sont les conditions permettant au pren...   \n12503  Est-ce que la présomption de paternité prévue ...   \n35580  Quel tribunal est compétent pour traiter des d...   \n24112  Quelles sont les règles applicables en cas de ...   \n25030  Quelles sont les règles applicables en cas de ...   \n...                                                  ...   \n31854  Quelles sont les obligations financières des c...   \n30001  Quelles sont les obligations financières des c...   \n16758  Quel est le droit du cohabitant légal survivan...   \n28743  Quelles conditions doivent être remplies pour ...   \n6956   Quelle est la durée maximale que peut avoir un...   \n\n                                     questions_simple_tc  \\\n70     Est-ce que le preneur d'un contrat de bail de ...   \n12503  Est-ce que la présomption de paternité visée à...   \n35580  La résidence habituelle d'un enfant est-elle d...   \n24112  Est-ce que le bailleur peut mettre fin au bail...   \n25030  Est-ce que le bailleur peut mettre fin au bail...   \n...                                                  ...   \n31854  Est-ce que les cohabitants légaux sont tenus d...   \n30001  Est-ce que les cohabitants légaux sont tenus d...   \n16758  Est-ce que le cohabitant légal survivant recue...   \n28743  Quelles sont les circonstances exceptionnelles...   \n6956   Est-il possible de conclure un bail de courte ...   \n\n                            questions_simple_tc_fewshots  \\\n70     Peut un locataire d'un bail de courte durée, é...   \n12503  Les parents ont fait une déclaration conjointe...   \n35580  Si des parents séparés ont des enfants communs...   \n24112  Est-ce que tous les colocataires doivent signe...   \n25030  Est-ce que tous les colocataires doivent signe...   \n...                                                  ...   \n31854  Est-ce que les cohabitants légaux sont tenus d...   \n30001  Est-ce que les cohabitants légaux sont tenus d...   \n16758  Le cohabitant légal survivant a-t-il le droit ...   \n28743  Puis-je demander une prorogation de mon bail e...   \n6956   Le bail que j'ai signé pour une durée inférieu...   \n\n                                      questions_describe  \\\n70     En raison de la crise sanitaire liée au Covid-...   \n12503  Deux époux ont décidé de résider séparément su...   \n35580  Deux anciens cohabitants légaux souhaitent rég...   \n24112  Deux colocataires partageant un appartement dé...   \n25030  Deux colocataires partageant un appartement dé...   \n...                                                  ...   \n31854  Deux personnes vivent en tant que cohabitants ...   \n30001  Deux personnes vivent en tant que cohabitants ...   \n16758  Après le décès d'un cohabitant légal, ses héri...   \n28743  Un locataire se trouve dans une situation diff...   \n6956   Un locataire et un propriétaire ont conclu un ...   \n\n                                   questions_describe_tc  \\\n70     Un étudiant locataire sous bail de courte duré...   \n12503  Deux adultes habitant ensemble depuis plusieur...   \n35580  Un couple marié envisage de faire appel au tri...   \n24112  Un colocataire souhaite sortir anticipativemen...   \n25030  Un colocataire souhaite sortir anticipativemen...   \n...                                                  ...   \n31854  Deux cohabitants légaux partagent une vie comm...   \n30001  Deux cohabitants légaux partagent une vie comm...   \n16758  Suite au décès d'un cohabitant légal, la quest...   \n28743  Un locataire dont le bail prend fin souhaite d...   \n6956   Un consommateur a soumis une demande de règlem...   \n\n                             questions_describe_fewshots  \\\n70     En raison de la crise sanitaire du Covid-19, u...   \n12503  Un couple n'a pas fait de déclaration conjoint...   \n35580  Les parents sont en conflit concernant l'héber...   \n24112  Je vis en colocation et je souhaite quitter l'...   \n25030  Je vis en colocation et je souhaite quitter l'...   \n...                                                  ...   \n31854  Deux personnes vivent ensemble en tant que coh...   \n30001  Deux personnes vivent ensemble en tant que coh...   \n16758  Un couple non marié vient de divorcer, et l'un...   \n28743  Mon bail résidentiel arrive à échéance, mais j...   \n6956   J'ai signé un bail de courte durée pour un app...   \n\n                          questions_describe_tc_fewshots  \\\n70     En raison de la crise sanitaire causée par le ...   \n12503  Les époux ont vécu séparément un certain temps...   \n35580  Une personne souhaite entamer une procédure ju...   \n24112  Je vis en colocation avec d'autres personnes. ...   \n25030  Je vis en colocation avec d'autres personnes. ...   \n...                                                  ...   \n31854  Deux personnes vivent en cohabitation légale e...   \n30001  Deux personnes vivent en cohabitation légale e...   \n16758  Après le décès de mon cohabitant légal, je sui...   \n28743  Mon bailleur souhaite mettre fin au bail, mais...   \n6956   Je loue un appartement en Belgique pour une du...   \n\n                             questions_syn_extrapolation  \\\n70     En raison de la crise sanitaire causée par le ...   \n12503  Les époux ont vécu séparément un certain temps...   \n35580  Une personne souhaite entamer une procédure ju...   \n24112  Je souhaite quitter ma colocation en Belgique....   \n25030  Trois colocataires ont signé un bail de coloca...   \n...                                                  ...   \n31854  Deux cohabitants légaux se séparent et ont des...   \n30001  Deux personnes vivent en cohabitation légale e...   \n16758  Après le décès de mon cohabitant légal, je sui...   \n28743  Je suis locataire en Wallonie et je fais face ...   \n6956   Je loue un appartement à Bruxelles depuis cinq...   \n\n                questions_syn_extrapolation_10_seed_data  \\\n70     Je loue un appartement à Bruxelles depuis janv...   \n12503  Un enfant est né lorsque les parents étaient s...   \n35580  Je souhaite entamer une action en matière de f...   \n24112  Une personne désire partir en cours de bail en...   \n25030  Je souhaite sortir anticipativement d'un bail ...   \n...                                                  ...   \n31854  Deux cohabitants légaux se séparent après avoi...   \n30001  Deux personnes vivent en cohabitation légale e...   \n16758  Deux cohabitants légaux achètent ensemble une ...   \n28743  Mon bail résidentiel arrive à expiration et je...   \n6956   Je souhaite louer un appartement à Bruxelles p...   \n\n        questions_syn_extrapolation_50_seed_data_round_0  \\\n70     En raison de la crise sanitaire causée par le ...   \n12503  Les époux ont vécu séparément un certain temps...   \n35580  Une personne souhaite entamer une procédure ju...   \n24112  Je vis en colocation avec d'autres personnes. ...   \n25030  Je vis en colocation avec d'autres personnes. ...   \n...                                                  ...   \n31854  Deux personnes vivent en cohabitation légale e...   \n30001  Deux personnes vivent en cohabitation légale e...   \n16758  Après le décès de mon cohabitant légal, je sui...   \n28743  Mon bailleur souhaite mettre fin au bail, mais...   \n6956   Je loue un appartement en Belgique pour une du...   \n\n       questions_syn_extrapolation_50_seed_data_round_0_tree_edit_distance  \\\n70                                                  66.0                     \n12503                                               32.0                     \n35580                                               32.0                     \n24112                                               33.0                     \n25030                                               33.0                     \n...                                                  ...                     \n31854                                               39.0                     \n30001                                               38.0                     \n16758                                               38.0                     \n28743                                               30.0                     \n6956                                                42.0                     \n\n       questions_syn_extrapolation_50_seed_data_round_0_length_diff  \n70                                                    51             \n12503                                                 21             \n35580                                                 20             \n24112                                                 18             \n25030                                                 15             \n...                                                  ...             \n31854                                                 28             \n30001                                                 27             \n16758                                                 29             \n28743                                                 18             \n6956                                                  30             \n\n[2000 rows x 14 columns]",
      "text/html": "<div>\n<style scoped>\n    .dataframe tbody tr th:only-of-type {\n        vertical-align: middle;\n    }\n\n    .dataframe tbody tr th {\n        vertical-align: top;\n    }\n\n    .dataframe thead th {\n        text-align: right;\n    }\n</style>\n<table border=\"1\" class=\"dataframe\">\n  <thead>\n    <tr style=\"text-align: right;\">\n      <th></th>\n      <th>article_ids</th>\n      <th>question</th>\n      <th>questions_simple</th>\n      <th>questions_simple_tc</th>\n      <th>questions_simple_tc_fewshots</th>\n      <th>questions_describe</th>\n      <th>questions_describe_tc</th>\n      <th>questions_describe_fewshots</th>\n      <th>questions_describe_tc_fewshots</th>\n      <th>questions_syn_extrapolation</th>\n      <th>questions_syn_extrapolation_10_seed_data</th>\n      <th>questions_syn_extrapolation_50_seed_data_round_0</th>\n      <th>questions_syn_extrapolation_50_seed_data_round_0_tree_edit_distance</th>\n      <th>questions_syn_extrapolation_50_seed_data_round_0_length_diff</th>\n    </tr>\n  </thead>\n  <tbody>\n    <tr>\n      <th>70</th>\n      <td>858</td>\n      <td>Le propriétaire peut-il mettre fin au bail non...</td>\n      <td>Quelles sont les conditions permettant au pren...</td>\n      <td>Est-ce que le preneur d'un contrat de bail de ...</td>\n      <td>Peut un locataire d'un bail de courte durée, é...</td>\n      <td>En raison de la crise sanitaire liée au Covid-...</td>\n      <td>Un étudiant locataire sous bail de courte duré...</td>\n      <td>En raison de la crise sanitaire du Covid-19, u...</td>\n      <td>En raison de la crise sanitaire causée par le ...</td>\n      <td>En raison de la crise sanitaire causée par le ...</td>\n      <td>Je loue un appartement à Bruxelles depuis janv...</td>\n      <td>En raison de la crise sanitaire causée par le ...</td>\n      <td>66.0</td>\n      <td>51</td>\n    </tr>\n    <tr>\n      <th>12503</th>\n      <td>1098</td>\n      <td>Nous sommes mariés. Nous sommes séparés, vais-...</td>\n      <td>Est-ce que la présomption de paternité prévue ...</td>\n      <td>Est-ce que la présomption de paternité visée à...</td>\n      <td>Les parents ont fait une déclaration conjointe...</td>\n      <td>Deux époux ont décidé de résider séparément su...</td>\n      <td>Deux adultes habitant ensemble depuis plusieur...</td>\n      <td>Un couple n'a pas fait de déclaration conjoint...</td>\n      <td>Les époux ont vécu séparément un certain temps...</td>\n      <td>Les époux ont vécu séparément un certain temps...</td>\n      <td>Un enfant est né lorsque les parents étaient s...</td>\n      <td>Les époux ont vécu séparément un certain temps...</td>\n      <td>32.0</td>\n      <td>21</td>\n    </tr>\n    <tr>\n      <th>35580</th>\n      <td>4702</td>\n      <td>Comment savoir quel est le tribunal de la fami...</td>\n      <td>Quel tribunal est compétent pour traiter des d...</td>\n      <td>La résidence habituelle d'un enfant est-elle d...</td>\n      <td>Si des parents séparés ont des enfants communs...</td>\n      <td>Deux anciens cohabitants légaux souhaitent rég...</td>\n      <td>Un couple marié envisage de faire appel au tri...</td>\n      <td>Les parents sont en conflit concernant l'héber...</td>\n      <td>Une personne souhaite entamer une procédure ju...</td>\n      <td>Une personne souhaite entamer une procédure ju...</td>\n      <td>Je souhaite entamer une action en matière de f...</td>\n      <td>Une personne souhaite entamer une procédure ju...</td>\n      <td>32.0</td>\n      <td>20</td>\n    </tr>\n    <tr>\n      <th>24112</th>\n      <td>881</td>\n      <td>Peut-on réclamer un loyer à un colocataire qui...</td>\n      <td>Quelles sont les règles applicables en cas de ...</td>\n      <td>Est-ce que le bailleur peut mettre fin au bail...</td>\n      <td>Est-ce que tous les colocataires doivent signe...</td>\n      <td>Deux colocataires partageant un appartement dé...</td>\n      <td>Un colocataire souhaite sortir anticipativemen...</td>\n      <td>Je vis en colocation et je souhaite quitter l'...</td>\n      <td>Je vis en colocation avec d'autres personnes. ...</td>\n      <td>Je souhaite quitter ma colocation en Belgique....</td>\n      <td>Une personne désire partir en cours de bail en...</td>\n      <td>Je vis en colocation avec d'autres personnes. ...</td>\n      <td>33.0</td>\n      <td>18</td>\n    </tr>\n    <tr>\n      <th>25030</th>\n      <td>881</td>\n      <td>Un colocataire seul peut-il mettre fin au bail...</td>\n      <td>Quelles sont les règles applicables en cas de ...</td>\n      <td>Est-ce que le bailleur peut mettre fin au bail...</td>\n      <td>Est-ce que tous les colocataires doivent signe...</td>\n      <td>Deux colocataires partageant un appartement dé...</td>\n      <td>Un colocataire souhaite sortir anticipativemen...</td>\n      <td>Je vis en colocation et je souhaite quitter l'...</td>\n      <td>Je vis en colocation avec d'autres personnes. ...</td>\n      <td>Trois colocataires ont signé un bail de coloca...</td>\n      <td>Je souhaite sortir anticipativement d'un bail ...</td>\n      <td>Je vis en colocation avec d'autres personnes. ...</td>\n      <td>33.0</td>\n      <td>15</td>\n    </tr>\n    <tr>\n      <th>...</th>\n      <td>...</td>\n      <td>...</td>\n      <td>...</td>\n      <td>...</td>\n      <td>...</td>\n      <td>...</td>\n      <td>...</td>\n      <td>...</td>\n      <td>...</td>\n      <td>...</td>\n      <td>...</td>\n      <td>...</td>\n      <td>...</td>\n      <td>...</td>\n    </tr>\n    <tr>\n      <th>31854</th>\n      <td>2334</td>\n      <td>Je me sépare. On se sépare, qui doit payer le ...</td>\n      <td>Quelles sont les obligations financières des c...</td>\n      <td>Est-ce que les cohabitants légaux sont tenus d...</td>\n      <td>Est-ce que les cohabitants légaux sont tenus d...</td>\n      <td>Deux personnes vivent en tant que cohabitants ...</td>\n      <td>Deux cohabitants légaux partagent une vie comm...</td>\n      <td>Deux personnes vivent ensemble en tant que coh...</td>\n      <td>Deux personnes vivent en cohabitation légale e...</td>\n      <td>Deux cohabitants légaux se séparent et ont des...</td>\n      <td>Deux cohabitants légaux se séparent après avoi...</td>\n      <td>Deux personnes vivent en cohabitation légale e...</td>\n      <td>39.0</td>\n      <td>28</td>\n    </tr>\n    <tr>\n      <th>30001</th>\n      <td>2334</td>\n      <td>Mon cohabitant légal est décédé. Quels sont me...</td>\n      <td>Quelles sont les obligations financières des c...</td>\n      <td>Est-ce que les cohabitants légaux sont tenus d...</td>\n      <td>Est-ce que les cohabitants légaux sont tenus d...</td>\n      <td>Deux personnes vivent en tant que cohabitants ...</td>\n      <td>Deux cohabitants légaux partagent une vie comm...</td>\n      <td>Deux personnes vivent ensemble en tant que coh...</td>\n      <td>Deux personnes vivent en cohabitation légale e...</td>\n      <td>Deux personnes vivent en cohabitation légale e...</td>\n      <td>Deux personnes vivent en cohabitation légale e...</td>\n      <td>Deux personnes vivent en cohabitation légale e...</td>\n      <td>38.0</td>\n      <td>27</td>\n    </tr>\n    <tr>\n      <th>16758</th>\n      <td>1676</td>\n      <td>Mon cohabitant légal est décédé. Quels sont me...</td>\n      <td>Quel est le droit du cohabitant légal survivan...</td>\n      <td>Est-ce que le cohabitant légal survivant recue...</td>\n      <td>Le cohabitant légal survivant a-t-il le droit ...</td>\n      <td>Après le décès d'un cohabitant légal, ses héri...</td>\n      <td>Suite au décès d'un cohabitant légal, la quest...</td>\n      <td>Un couple non marié vient de divorcer, et l'un...</td>\n      <td>Après le décès de mon cohabitant légal, je sui...</td>\n      <td>Après le décès de mon cohabitant légal, je sui...</td>\n      <td>Deux cohabitants légaux achètent ensemble une ...</td>\n      <td>Après le décès de mon cohabitant légal, je sui...</td>\n      <td>38.0</td>\n      <td>29</td>\n    </tr>\n    <tr>\n      <th>28743</th>\n      <td>870</td>\n      <td>Comment se déroule la procédure judiciaire en ...</td>\n      <td>Quelles conditions doivent être remplies pour ...</td>\n      <td>Quelles sont les circonstances exceptionnelles...</td>\n      <td>Puis-je demander une prorogation de mon bail e...</td>\n      <td>Un locataire se trouve dans une situation diff...</td>\n      <td>Un locataire dont le bail prend fin souhaite d...</td>\n      <td>Mon bail résidentiel arrive à échéance, mais j...</td>\n      <td>Mon bailleur souhaite mettre fin au bail, mais...</td>\n      <td>Je suis locataire en Wallonie et je fais face ...</td>\n      <td>Mon bail résidentiel arrive à expiration et je...</td>\n      <td>Mon bailleur souhaite mettre fin au bail, mais...</td>\n      <td>30.0</td>\n      <td>18</td>\n    </tr>\n    <tr>\n      <th>6956</th>\n      <td>857</td>\n      <td>Les colocataires tous ensemble peuvent-ils met...</td>\n      <td>Quelle est la durée maximale que peut avoir un...</td>\n      <td>Est-il possible de conclure un bail de courte ...</td>\n      <td>Le bail que j'ai signé pour une durée inférieu...</td>\n      <td>Un locataire et un propriétaire ont conclu un ...</td>\n      <td>Un consommateur a soumis une demande de règlem...</td>\n      <td>J'ai signé un bail de courte durée pour un app...</td>\n      <td>Je loue un appartement en Belgique pour une du...</td>\n      <td>Je loue un appartement à Bruxelles depuis cinq...</td>\n      <td>Je souhaite louer un appartement à Bruxelles p...</td>\n      <td>Je loue un appartement en Belgique pour une du...</td>\n      <td>42.0</td>\n      <td>30</td>\n    </tr>\n  </tbody>\n</table>\n<p>2000 rows × 14 columns</p>\n</div>"
     },
     "execution_count": 85,
     "metadata": {},
     "output_type": "execute_result"
    }
   ],
   "source": [
    "dfQ_summary"
   ],
   "metadata": {
    "collapsed": false,
    "ExecuteTime": {
     "end_time": "2024-05-19T11:05:54.273942800Z",
     "start_time": "2024-05-19T11:05:54.226392900Z"
    }
   },
   "id": "6fefcdf8176d24b1"
  },
  {
   "cell_type": "code",
   "execution_count": 153,
   "outputs": [],
   "source": [
    "dfQ_summary['simple_tree_edit_distance_norm'] = dfQ_summary['simple_tree_edit_distance'] - dfQ_summary['simple_length_diff']"
   ],
   "metadata": {
    "collapsed": false,
    "ExecuteTime": {
     "end_time": "2024-05-02T15:03:54.223040900Z",
     "start_time": "2024-05-02T15:03:54.207359300Z"
    }
   },
   "id": "ebb377649d207e75"
  },
  {
   "cell_type": "code",
   "execution_count": 154,
   "outputs": [],
   "source": [
    "dfQ_summary['simple_tc_tree_edit_distance_norm'] = dfQ_summary['simple_tc_tree_edit_distance'] - dfQ_summary['simple_tc_length_diff']"
   ],
   "metadata": {
    "collapsed": false,
    "ExecuteTime": {
     "end_time": "2024-05-02T15:03:54.243601100Z",
     "start_time": "2024-05-02T15:03:54.223040900Z"
    }
   },
   "id": "445eeb3548920cde"
  },
  {
   "cell_type": "code",
   "execution_count": 155,
   "outputs": [],
   "source": [
    "dfQ_summary['simple_tc_fewshots_tree_edit_distance_norm'] = dfQ_summary['simple_tc_fewshots_tree_edit_distance'] - dfQ_summary['simple_tc_fewshots_length_diff']"
   ],
   "metadata": {
    "collapsed": false,
    "ExecuteTime": {
     "end_time": "2024-05-02T15:03:54.306681Z",
     "start_time": "2024-05-02T15:03:54.242558600Z"
    }
   },
   "id": "5076beb073bbccea"
  },
  {
   "cell_type": "code",
   "execution_count": 156,
   "outputs": [],
   "source": [
    "dfQ_summary['describe_tree_edit_distance_norm'] = dfQ_summary['describe_tree_edit_distance'] - dfQ_summary[\n",
    "    'describe_length_diff']"
   ],
   "metadata": {
    "collapsed": false,
    "ExecuteTime": {
     "end_time": "2024-05-02T15:03:54.320789500Z",
     "start_time": "2024-05-02T15:03:54.259347100Z"
    }
   },
   "id": "95fef23f4cebaffb"
  },
  {
   "cell_type": "code",
   "execution_count": 157,
   "outputs": [],
   "source": [
    "dfQ_summary['describe_fewshots_tree_edit_distance_norm'] = dfQ_summary['describe_fewshots_tree_edit_distance'] - dfQ_summary['describe_fewshots_length_diff']"
   ],
   "metadata": {
    "collapsed": false,
    "ExecuteTime": {
     "end_time": "2024-05-02T15:03:54.352503Z",
     "start_time": "2024-05-02T15:03:54.274984200Z"
    }
   },
   "id": "47aa6b2d59297cdb"
  },
  {
   "cell_type": "code",
   "execution_count": 158,
   "outputs": [],
   "source": [
    "dfQ_summary['describe_tc_tree_edit_distance_norm'] = dfQ_summary['describe_tc_tree_edit_distance'] - dfQ_summary['describe_tc_length_diff']"
   ],
   "metadata": {
    "collapsed": false,
    "ExecuteTime": {
     "end_time": "2024-05-02T15:03:54.368857800Z",
     "start_time": "2024-05-02T15:03:54.290564100Z"
    }
   },
   "id": "52a0b43cb6c76072"
  },
  {
   "cell_type": "code",
   "execution_count": 159,
   "outputs": [],
   "source": [
    "dfQ_summary['describe_tc_fewshots_tree_edit_distance_norm'] = dfQ_summary['describe_tc_fewshots_tree_edit_distance'] - dfQ_summary['describe_tc_fewshots_length_diff']"
   ],
   "metadata": {
    "collapsed": false,
    "ExecuteTime": {
     "end_time": "2024-05-02T15:03:54.368857800Z",
     "start_time": "2024-05-02T15:03:54.308678200Z"
    }
   },
   "id": "bafdc6f6d066430d"
  },
  {
   "cell_type": "code",
   "execution_count": 23,
   "outputs": [],
   "source": [
    "dfQ_summary['questions_syn_extrapolation_tree_edit_distance_norm'] = dfQ_summary['questions_syn_extrapolation_tree_edit_distance'] - dfQ_summary['questions_syn_extrapolation_length_diff']"
   ],
   "metadata": {
    "collapsed": false,
    "ExecuteTime": {
     "end_time": "2024-05-19T10:16:11.994295300Z",
     "start_time": "2024-05-19T10:16:11.961989700Z"
    }
   },
   "id": "5c11a04e7d37857"
  },
  {
   "cell_type": "code",
   "execution_count": 91,
   "outputs": [],
   "source": [
    "dfQ_summary['questions_syn_extrapolation_50_seed_data_round_0_tree_edit_distance_norm'] = dfQ_summary['questions_syn_extrapolation_50_seed_data_round_0_tree_edit_distance'] - dfQ_summary['questions_syn_extrapolation_50_seed_data_round_0_length_diff']"
   ],
   "metadata": {
    "collapsed": false,
    "ExecuteTime": {
     "end_time": "2024-05-19T11:07:56.915803200Z",
     "start_time": "2024-05-19T11:07:56.888877Z"
    }
   },
   "id": "8216bcc8833d6951"
  },
  {
   "cell_type": "code",
   "execution_count": 160,
   "outputs": [
    {
     "data": {
      "text/plain": "12.938"
     },
     "execution_count": 160,
     "metadata": {},
     "output_type": "execute_result"
    }
   ],
   "source": [
    "dfQ_summary['simple_tree_edit_distance_norm'].mean()"
   ],
   "metadata": {
    "collapsed": false,
    "ExecuteTime": {
     "end_time": "2024-05-02T15:03:54.368857800Z",
     "start_time": "2024-05-02T15:03:54.337451400Z"
    }
   },
   "id": "477674de1d9d9b45"
  },
  {
   "cell_type": "code",
   "execution_count": 161,
   "outputs": [
    {
     "data": {
      "text/plain": "13.8785"
     },
     "execution_count": 161,
     "metadata": {},
     "output_type": "execute_result"
    }
   ],
   "source": [
    "dfQ_summary['simple_tc_tree_edit_distance_norm'].mean()"
   ],
   "metadata": {
    "collapsed": false,
    "ExecuteTime": {
     "end_time": "2024-05-02T15:03:54.368857800Z",
     "start_time": "2024-05-02T15:03:54.352503Z"
    }
   },
   "id": "5f0f1d7b3ef51f24"
  },
  {
   "cell_type": "code",
   "execution_count": 162,
   "outputs": [
    {
     "data": {
      "text/plain": "13.0885"
     },
     "execution_count": 162,
     "metadata": {},
     "output_type": "execute_result"
    }
   ],
   "source": [
    "dfQ_summary['simple_tc_fewshots_tree_edit_distance_norm'].mean()"
   ],
   "metadata": {
    "collapsed": false,
    "ExecuteTime": {
     "end_time": "2024-05-02T15:03:54.472814Z",
     "start_time": "2024-05-02T15:03:54.368857800Z"
    }
   },
   "id": "bfc7cb10de33fdc5"
  },
  {
   "cell_type": "code",
   "execution_count": 163,
   "outputs": [
    {
     "data": {
      "text/plain": "12.442"
     },
     "execution_count": 163,
     "metadata": {},
     "output_type": "execute_result"
    }
   ],
   "source": [
    "dfQ_summary['describe_tree_edit_distance_norm'].mean()"
   ],
   "metadata": {
    "collapsed": false,
    "ExecuteTime": {
     "end_time": "2024-05-02T15:03:54.475336500Z",
     "start_time": "2024-05-02T15:03:54.405258400Z"
    }
   },
   "id": "a433e28eb988427b"
  },
  {
   "cell_type": "code",
   "execution_count": 164,
   "outputs": [
    {
     "data": {
      "text/plain": "11.669"
     },
     "execution_count": 164,
     "metadata": {},
     "output_type": "execute_result"
    }
   ],
   "source": [
    "dfQ_summary['describe_fewshots_tree_edit_distance_norm'].mean()"
   ],
   "metadata": {
    "collapsed": false,
    "ExecuteTime": {
     "end_time": "2024-05-02T15:03:54.475336500Z",
     "start_time": "2024-05-02T15:03:54.421018Z"
    }
   },
   "id": "3a6d6900cbf9e904"
  },
  {
   "cell_type": "code",
   "execution_count": 165,
   "outputs": [
    {
     "data": {
      "text/plain": "13.208"
     },
     "execution_count": 165,
     "metadata": {},
     "output_type": "execute_result"
    }
   ],
   "source": [
    "dfQ_summary['describe_tc_tree_edit_distance_norm'].mean()"
   ],
   "metadata": {
    "collapsed": false,
    "ExecuteTime": {
     "end_time": "2024-05-02T15:03:54.475336500Z",
     "start_time": "2024-05-02T15:03:54.440478800Z"
    }
   },
   "id": "87689ddb447a7f8"
  },
  {
   "cell_type": "code",
   "execution_count": 166,
   "outputs": [
    {
     "data": {
      "text/plain": "11.9575"
     },
     "execution_count": 166,
     "metadata": {},
     "output_type": "execute_result"
    }
   ],
   "source": [
    "dfQ_summary['describe_tc_fewshots_tree_edit_distance_norm'].mean()"
   ],
   "metadata": {
    "collapsed": false,
    "ExecuteTime": {
     "end_time": "2024-05-02T15:03:54.488853400Z",
     "start_time": "2024-05-02T15:03:54.457217800Z"
    }
   },
   "id": "8d6b8241927b6b6d"
  },
  {
   "cell_type": "code",
   "execution_count": 24,
   "outputs": [
    {
     "data": {
      "text/plain": "12.6595"
     },
     "execution_count": 24,
     "metadata": {},
     "output_type": "execute_result"
    }
   ],
   "source": [
    "dfQ_summary['questions_syn_extrapolation_tree_edit_distance_norm'].mean()"
   ],
   "metadata": {
    "collapsed": false,
    "ExecuteTime": {
     "end_time": "2024-05-19T10:16:15.923110600Z",
     "start_time": "2024-05-19T10:16:15.908102200Z"
    }
   },
   "id": "e27e098b3cdd2a7d"
  },
  {
   "cell_type": "code",
   "execution_count": 52,
   "outputs": [
    {
     "data": {
      "text/plain": "11.9355"
     },
     "execution_count": 52,
     "metadata": {},
     "output_type": "execute_result"
    }
   ],
   "source": [
    "dfQ_summary['questions_syn_extrapolation_10_seed_data_tree_edit_distance_norm'].mean()"
   ],
   "metadata": {
    "collapsed": false,
    "ExecuteTime": {
     "end_time": "2024-05-19T10:42:32.758482500Z",
     "start_time": "2024-05-19T10:42:32.741818400Z"
    }
   },
   "id": "12437ead6e179d8f"
  },
  {
   "cell_type": "code",
   "execution_count": 92,
   "outputs": [
    {
     "data": {
      "text/plain": "11.9245"
     },
     "execution_count": 92,
     "metadata": {},
     "output_type": "execute_result"
    }
   ],
   "source": [
    "dfQ_summary['questions_syn_extrapolation_50_seed_data_round_0_tree_edit_distance_norm'].mean()"
   ],
   "metadata": {
    "collapsed": false,
    "ExecuteTime": {
     "end_time": "2024-05-19T11:07:59.607891Z",
     "start_time": "2024-05-19T11:07:59.576501900Z"
    }
   },
   "id": "a57978c9aa1bec9d"
  },
  {
   "cell_type": "code",
   "execution_count": null,
   "outputs": [],
   "source": [],
   "metadata": {
    "collapsed": false
   },
   "id": "ca1a845ca0db872"
  }
 ],
 "metadata": {
  "kernelspec": {
   "display_name": "Python 3",
   "language": "python",
   "name": "python3"
  },
  "language_info": {
   "codemirror_mode": {
    "name": "ipython",
    "version": 2
   },
   "file_extension": ".py",
   "mimetype": "text/x-python",
   "name": "python",
   "nbconvert_exporter": "python",
   "pygments_lexer": "ipython2",
   "version": "2.7.6"
  }
 },
 "nbformat": 4,
 "nbformat_minor": 5
}
