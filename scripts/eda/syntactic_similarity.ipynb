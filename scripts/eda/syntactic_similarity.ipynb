{
 "cells": [
  {
   "cell_type": "code",
   "execution_count": 3,
   "id": "initial_id",
   "metadata": {
    "collapsed": true,
    "ExecuteTime": {
     "end_time": "2024-03-31T20:50:49.613767700Z",
     "start_time": "2024-03-31T20:50:04.876856600Z"
    }
   },
   "outputs": [
    {
     "name": "stdout",
     "output_type": "stream",
     "text": [
      "==============syntactically similar but semantically very different===============\n",
      "Human Question: Je vis en union libre. Quels sont les droits de mon partenaire sur nos enfants nés en union libre ?\n",
      "Generated Question: Je travaille en tant qu'indépendant. Quels sont les droits de mon associé sur notre entreprise fondée ensemble?\n",
      "Dependency Tree edit distance between the documents: 9.0\n",
      "Syntactic similarity between the documents: 0.1\n",
      "Semantic similarity between the documents: 0.7520130196301145\n",
      "===============semantically similar but syntactically very different==============\n",
      "Human Question: Je vis en union libre. Quels sont les droits de mon partenaire sur nos enfants nés en union libre ?\n",
      "Generated Question: Concernant les enfants nés en union libre, quels droits reviennent au partenaire non marié ?\n",
      "Dependency Tree edit distance between the documents: 18.0\n",
      "Syntactic similarity between the documents: 0.125\n",
      "Semantic similarity between the documents: 0.8995861539208164\n"
     ]
    }
   ],
   "source": [
    "import spacy\n",
    "from zss import Node, simple_distance\n",
    "from functools import partial\n",
    "\n",
    "# Load the French language model\n",
    "nlp = spacy.load(\"fr_core_news_md\")\n",
    "\n",
    "# Function to convert a spaCy token to a zss Node recursively\n",
    "def token_to_zss_node(mode, token):\n",
    "    if mode==\"dep\":\n",
    "        node = Node(token.dep_)\n",
    "    elif mode==\"text\":\n",
    "        node = Node(token.orth_)\n",
    "    elif mode==\"pos\":\n",
    "        node = Node(token.pos_)\n",
    "        \n",
    "    for child in token.children:\n",
    "        node.addkid(token_to_zss_node(mode=mode, token=child))\n",
    "    return node\n",
    "\n",
    "def build_zss_tree(spacy_doc, zss_parser):\n",
    "    root = Node(\"ROOT\")\n",
    "    for sent in spacy_doc.sents:\n",
    "        root.addkid(zss_parser(sent.root))\n",
    "    return root\n",
    "\n",
    "# Function to compute tree edit distance between two documents\n",
    "def compute_tree_edit_distance(parsed_doc1, parsed_doc2, zss_parser):\n",
    "    root1 = build_zss_tree(spacy_doc=parsed_doc1,zss_parser=zss_parser)\n",
    "    root2 = build_zss_tree(spacy_doc=parsed_doc2,zss_parser=zss_parser)\n",
    "    # Compute the tree edit distance using zss\n",
    "    return simple_distance(root1, root2)\n",
    "\n",
    "# Function to compare syntactic similarity (simple example)\n",
    "def syntactic_similarity(doc1, doc2):\n",
    "    # Compare the dependency tags between the two docs\n",
    "    matches = 0\n",
    "    for token1, token2 in zip(doc1, doc2):\n",
    "        if token1.dep_ == token2.dep_:\n",
    "            matches += 1\n",
    "    # Calculate similarity as the proportion of matching dependency tags\n",
    "    similarity = matches / min(len(doc1), len(doc2))\n",
    "    return similarity\n",
    "\n",
    "def _remove_stop_words(doc):\n",
    "    return \" \".join([str(t) for t in doc if not t.is_stop])\n",
    "\n",
    "def semantic_similarity(doc1, doc2):\n",
    "    return doc1.similarity(doc2)\n",
    "    \n",
    "# zss parser\n",
    "zss_dependency_parser= partial(token_to_zss_node,'dep')\n",
    "zss_token_text_parser= partial(token_to_zss_node,'text')\n",
    "zss_part_of_speech_parser= partial(token_to_zss_node,'pos')\n",
    "\n",
    "###################################################################\n",
    "# syntactically similar but semantically very different\n",
    "doc1_text = \"Je vis en union libre. Quels sont les droits de mon partenaire sur nos enfants nés en union libre ?\"\n",
    "doc2_text = \"Je travaille en tant qu'indépendant. Quels sont les droits de mon associé sur notre entreprise fondée ensemble?\"\n",
    "parsed_doc1 = nlp(doc1_text)\n",
    "parsed_doc2 = nlp(doc2_text)\n",
    "preprocessed_parsed_doc1 =  nlp(_remove_stop_words(parsed_doc1))\n",
    "preprocessed_parsed_doc2 = nlp(_remove_stop_words(parsed_doc2))\n",
    "\n",
    "\n",
    "print(f\"==============syntactically similar but semantically very different===============\")\n",
    "print(f\"Human Question: {doc1_text}\")\n",
    "print(f\"Generated Question: {doc2_text}\")\n",
    "dependency_distance = compute_tree_edit_distance(parsed_doc1, parsed_doc2,zss_parser=zss_dependency_parser)\n",
    "syntactic_similarity_count = syntactic_similarity(parsed_doc1, parsed_doc2)\n",
    "semantic_similarity_score = semantic_similarity(preprocessed_parsed_doc1, preprocessed_parsed_doc2)\n",
    "print(f\"Dependency Tree edit distance between the documents: {dependency_distance}\")\n",
    "print(f\"Syntactic similarity between the documents: {syntactic_similarity_count}\")\n",
    "print(f\"Semantic similarity between the documents: {semantic_similarity_score}\")\n",
    "\n",
    "\n",
    "# semantically similar but syntactically very different\n",
    "doc1_text = \"Je vis en union libre. Quels sont les droits de mon partenaire sur nos enfants nés en union libre ?\"\n",
    "doc2_text = \"Concernant les enfants nés en union libre, quels droits reviennent au partenaire non marié ?\"\n",
    "parsed_doc1 = nlp(doc1_text)\n",
    "parsed_doc2 = nlp(doc2_text)\n",
    "preprocessed_parsed_doc1 =  nlp(_remove_stop_words(parsed_doc1))\n",
    "preprocessed_parsed_doc2 = nlp(_remove_stop_words(parsed_doc2))\n",
    "\n",
    "print(f\"===============semantically similar but syntactically very different==============\")\n",
    "print(f\"Human Question: {doc1_text}\")\n",
    "print(f\"Generated Question: {doc2_text}\")\n",
    "dependency_distance = compute_tree_edit_distance(parsed_doc1, parsed_doc2,zss_parser=zss_dependency_parser)\n",
    "syntactic_similarity_count = syntactic_similarity(parsed_doc1, parsed_doc2)\n",
    "semantic_similarity_score = semantic_similarity(preprocessed_parsed_doc1, preprocessed_parsed_doc2)\n",
    "print(f\"Dependency Tree edit distance between the documents: {dependency_distance}\")\n",
    "print(f\"Syntactic similarity between the documents: {syntactic_similarity_count}\")\n",
    "print(f\"Semantic similarity between the documents: {semantic_similarity_score}\")"
   ]
  },
  {
   "cell_type": "code",
   "execution_count": 102,
   "outputs": [
    {
     "data": {
      "text/plain": "<IPython.core.display.HTML object>",
      "text/html": "<span class=\"tex2jax_ignore\"><svg xmlns=\"http://www.w3.org/2000/svg\" xmlns:xlink=\"http://www.w3.org/1999/xlink\" xml:lang=\"fr\" id=\"d76e909996404f7a9d2e53a5e7af3654-0\" class=\"displacy\" width=\"1950\" height=\"287.0\" direction=\"ltr\" style=\"max-width: none; height: 287.0px; color: #000000; background: #ffffff; font-family: Arial; direction: ltr\">\n<text class=\"displacy-token\" fill=\"currentColor\" text-anchor=\"middle\" y=\"197.0\">\n    <tspan class=\"displacy-word\" fill=\"currentColor\" x=\"50\">Je</tspan>\n    <tspan class=\"displacy-tag\" dy=\"2em\" fill=\"currentColor\" x=\"50\">PRON</tspan>\n</text>\n\n<text class=\"displacy-token\" fill=\"currentColor\" text-anchor=\"middle\" y=\"197.0\">\n    <tspan class=\"displacy-word\" fill=\"currentColor\" x=\"150\">vis</tspan>\n    <tspan class=\"displacy-tag\" dy=\"2em\" fill=\"currentColor\" x=\"150\">VERB</tspan>\n</text>\n\n<text class=\"displacy-token\" fill=\"currentColor\" text-anchor=\"middle\" y=\"197.0\">\n    <tspan class=\"displacy-word\" fill=\"currentColor\" x=\"250\">en</tspan>\n    <tspan class=\"displacy-tag\" dy=\"2em\" fill=\"currentColor\" x=\"250\">ADP</tspan>\n</text>\n\n<text class=\"displacy-token\" fill=\"currentColor\" text-anchor=\"middle\" y=\"197.0\">\n    <tspan class=\"displacy-word\" fill=\"currentColor\" x=\"350\">union</tspan>\n    <tspan class=\"displacy-tag\" dy=\"2em\" fill=\"currentColor\" x=\"350\">NOUN</tspan>\n</text>\n\n<text class=\"displacy-token\" fill=\"currentColor\" text-anchor=\"middle\" y=\"197.0\">\n    <tspan class=\"displacy-word\" fill=\"currentColor\" x=\"450\">libre.</tspan>\n    <tspan class=\"displacy-tag\" dy=\"2em\" fill=\"currentColor\" x=\"450\">ADJ</tspan>\n</text>\n\n<text class=\"displacy-token\" fill=\"currentColor\" text-anchor=\"middle\" y=\"197.0\">\n    <tspan class=\"displacy-word\" fill=\"currentColor\" x=\"550\">Quels</tspan>\n    <tspan class=\"displacy-tag\" dy=\"2em\" fill=\"currentColor\" x=\"550\">ADJ</tspan>\n</text>\n\n<text class=\"displacy-token\" fill=\"currentColor\" text-anchor=\"middle\" y=\"197.0\">\n    <tspan class=\"displacy-word\" fill=\"currentColor\" x=\"650\">sont</tspan>\n    <tspan class=\"displacy-tag\" dy=\"2em\" fill=\"currentColor\" x=\"650\">AUX</tspan>\n</text>\n\n<text class=\"displacy-token\" fill=\"currentColor\" text-anchor=\"middle\" y=\"197.0\">\n    <tspan class=\"displacy-word\" fill=\"currentColor\" x=\"750\">les</tspan>\n    <tspan class=\"displacy-tag\" dy=\"2em\" fill=\"currentColor\" x=\"750\">DET</tspan>\n</text>\n\n<text class=\"displacy-token\" fill=\"currentColor\" text-anchor=\"middle\" y=\"197.0\">\n    <tspan class=\"displacy-word\" fill=\"currentColor\" x=\"850\">droits</tspan>\n    <tspan class=\"displacy-tag\" dy=\"2em\" fill=\"currentColor\" x=\"850\">NOUN</tspan>\n</text>\n\n<text class=\"displacy-token\" fill=\"currentColor\" text-anchor=\"middle\" y=\"197.0\">\n    <tspan class=\"displacy-word\" fill=\"currentColor\" x=\"950\">de</tspan>\n    <tspan class=\"displacy-tag\" dy=\"2em\" fill=\"currentColor\" x=\"950\">ADP</tspan>\n</text>\n\n<text class=\"displacy-token\" fill=\"currentColor\" text-anchor=\"middle\" y=\"197.0\">\n    <tspan class=\"displacy-word\" fill=\"currentColor\" x=\"1050\">mon</tspan>\n    <tspan class=\"displacy-tag\" dy=\"2em\" fill=\"currentColor\" x=\"1050\">DET</tspan>\n</text>\n\n<text class=\"displacy-token\" fill=\"currentColor\" text-anchor=\"middle\" y=\"197.0\">\n    <tspan class=\"displacy-word\" fill=\"currentColor\" x=\"1150\">partenaire</tspan>\n    <tspan class=\"displacy-tag\" dy=\"2em\" fill=\"currentColor\" x=\"1150\">NOUN</tspan>\n</text>\n\n<text class=\"displacy-token\" fill=\"currentColor\" text-anchor=\"middle\" y=\"197.0\">\n    <tspan class=\"displacy-word\" fill=\"currentColor\" x=\"1250\">sur</tspan>\n    <tspan class=\"displacy-tag\" dy=\"2em\" fill=\"currentColor\" x=\"1250\">ADP</tspan>\n</text>\n\n<text class=\"displacy-token\" fill=\"currentColor\" text-anchor=\"middle\" y=\"197.0\">\n    <tspan class=\"displacy-word\" fill=\"currentColor\" x=\"1350\">nos</tspan>\n    <tspan class=\"displacy-tag\" dy=\"2em\" fill=\"currentColor\" x=\"1350\">DET</tspan>\n</text>\n\n<text class=\"displacy-token\" fill=\"currentColor\" text-anchor=\"middle\" y=\"197.0\">\n    <tspan class=\"displacy-word\" fill=\"currentColor\" x=\"1450\">enfants</tspan>\n    <tspan class=\"displacy-tag\" dy=\"2em\" fill=\"currentColor\" x=\"1450\">NOUN</tspan>\n</text>\n\n<text class=\"displacy-token\" fill=\"currentColor\" text-anchor=\"middle\" y=\"197.0\">\n    <tspan class=\"displacy-word\" fill=\"currentColor\" x=\"1550\">nés</tspan>\n    <tspan class=\"displacy-tag\" dy=\"2em\" fill=\"currentColor\" x=\"1550\">VERB</tspan>\n</text>\n\n<text class=\"displacy-token\" fill=\"currentColor\" text-anchor=\"middle\" y=\"197.0\">\n    <tspan class=\"displacy-word\" fill=\"currentColor\" x=\"1650\">en</tspan>\n    <tspan class=\"displacy-tag\" dy=\"2em\" fill=\"currentColor\" x=\"1650\">ADP</tspan>\n</text>\n\n<text class=\"displacy-token\" fill=\"currentColor\" text-anchor=\"middle\" y=\"197.0\">\n    <tspan class=\"displacy-word\" fill=\"currentColor\" x=\"1750\">union</tspan>\n    <tspan class=\"displacy-tag\" dy=\"2em\" fill=\"currentColor\" x=\"1750\">NOUN</tspan>\n</text>\n\n<text class=\"displacy-token\" fill=\"currentColor\" text-anchor=\"middle\" y=\"197.0\">\n    <tspan class=\"displacy-word\" fill=\"currentColor\" x=\"1850\">libre ?</tspan>\n    <tspan class=\"displacy-tag\" dy=\"2em\" fill=\"currentColor\" x=\"1850\">ADJ</tspan>\n</text>\n\n<g class=\"displacy-arrow\">\n    <path class=\"displacy-arc\" id=\"arrow-d76e909996404f7a9d2e53a5e7af3654-0-0\" stroke-width=\"2px\" d=\"M62,152.0 62,135.33333333333334 144.0,135.33333333333334 144.0,152.0\" fill=\"none\" stroke=\"currentColor\"/>\n    <text dy=\"1.25em\" style=\"font-size: 0.8em; letter-spacing: 1px\">\n        <textPath xlink:href=\"#arrow-d76e909996404f7a9d2e53a5e7af3654-0-0\" class=\"displacy-label\" startOffset=\"50%\" side=\"left\" fill=\"currentColor\" text-anchor=\"middle\">nsubj</textPath>\n    </text>\n    <path class=\"displacy-arrowhead\" d=\"M62,154.0 L58,146.0 66,146.0\" fill=\"currentColor\"/>\n</g>\n\n<g class=\"displacy-arrow\">\n    <path class=\"displacy-arc\" id=\"arrow-d76e909996404f7a9d2e53a5e7af3654-0-1\" stroke-width=\"2px\" d=\"M262,152.0 262,135.33333333333334 344.0,135.33333333333334 344.0,152.0\" fill=\"none\" stroke=\"currentColor\"/>\n    <text dy=\"1.25em\" style=\"font-size: 0.8em; letter-spacing: 1px\">\n        <textPath xlink:href=\"#arrow-d76e909996404f7a9d2e53a5e7af3654-0-1\" class=\"displacy-label\" startOffset=\"50%\" side=\"left\" fill=\"currentColor\" text-anchor=\"middle\">case</textPath>\n    </text>\n    <path class=\"displacy-arrowhead\" d=\"M262,154.0 L258,146.0 266,146.0\" fill=\"currentColor\"/>\n</g>\n\n<g class=\"displacy-arrow\">\n    <path class=\"displacy-arc\" id=\"arrow-d76e909996404f7a9d2e53a5e7af3654-0-2\" stroke-width=\"2px\" d=\"M162,152.0 162,118.66666666666666 347.0,118.66666666666666 347.0,152.0\" fill=\"none\" stroke=\"currentColor\"/>\n    <text dy=\"1.25em\" style=\"font-size: 0.8em; letter-spacing: 1px\">\n        <textPath xlink:href=\"#arrow-d76e909996404f7a9d2e53a5e7af3654-0-2\" class=\"displacy-label\" startOffset=\"50%\" side=\"left\" fill=\"currentColor\" text-anchor=\"middle\">obl:arg</textPath>\n    </text>\n    <path class=\"displacy-arrowhead\" d=\"M347.0,154.0 L351.0,146.0 343.0,146.0\" fill=\"currentColor\"/>\n</g>\n\n<g class=\"displacy-arrow\">\n    <path class=\"displacy-arc\" id=\"arrow-d76e909996404f7a9d2e53a5e7af3654-0-3\" stroke-width=\"2px\" d=\"M162,152.0 162,102.0 450.0,102.0 450.0,152.0\" fill=\"none\" stroke=\"currentColor\"/>\n    <text dy=\"1.25em\" style=\"font-size: 0.8em; letter-spacing: 1px\">\n        <textPath xlink:href=\"#arrow-d76e909996404f7a9d2e53a5e7af3654-0-3\" class=\"displacy-label\" startOffset=\"50%\" side=\"left\" fill=\"currentColor\" text-anchor=\"middle\">advmod</textPath>\n    </text>\n    <path class=\"displacy-arrowhead\" d=\"M450.0,154.0 L454.0,146.0 446.0,146.0\" fill=\"currentColor\"/>\n</g>\n\n<g class=\"displacy-arrow\">\n    <path class=\"displacy-arc\" id=\"arrow-d76e909996404f7a9d2e53a5e7af3654-0-4\" stroke-width=\"2px\" d=\"M562,152.0 562,135.33333333333334 644.0,135.33333333333334 644.0,152.0\" fill=\"none\" stroke=\"currentColor\"/>\n    <text dy=\"1.25em\" style=\"font-size: 0.8em; letter-spacing: 1px\">\n        <textPath xlink:href=\"#arrow-d76e909996404f7a9d2e53a5e7af3654-0-4\" class=\"displacy-label\" startOffset=\"50%\" side=\"left\" fill=\"currentColor\" text-anchor=\"middle\">dep</textPath>\n    </text>\n    <path class=\"displacy-arrowhead\" d=\"M644.0,154.0 L648.0,146.0 640.0,146.0\" fill=\"currentColor\"/>\n</g>\n\n<g class=\"displacy-arrow\">\n    <path class=\"displacy-arc\" id=\"arrow-d76e909996404f7a9d2e53a5e7af3654-0-5\" stroke-width=\"2px\" d=\"M762,152.0 762,135.33333333333334 844.0,135.33333333333334 844.0,152.0\" fill=\"none\" stroke=\"currentColor\"/>\n    <text dy=\"1.25em\" style=\"font-size: 0.8em; letter-spacing: 1px\">\n        <textPath xlink:href=\"#arrow-d76e909996404f7a9d2e53a5e7af3654-0-5\" class=\"displacy-label\" startOffset=\"50%\" side=\"left\" fill=\"currentColor\" text-anchor=\"middle\">det</textPath>\n    </text>\n    <path class=\"displacy-arrowhead\" d=\"M762,154.0 L758,146.0 766,146.0\" fill=\"currentColor\"/>\n</g>\n\n<g class=\"displacy-arrow\">\n    <path class=\"displacy-arc\" id=\"arrow-d76e909996404f7a9d2e53a5e7af3654-0-6\" stroke-width=\"2px\" d=\"M562,152.0 562,118.66666666666666 847.0,118.66666666666666 847.0,152.0\" fill=\"none\" stroke=\"currentColor\"/>\n    <text dy=\"1.25em\" style=\"font-size: 0.8em; letter-spacing: 1px\">\n        <textPath xlink:href=\"#arrow-d76e909996404f7a9d2e53a5e7af3654-0-6\" class=\"displacy-label\" startOffset=\"50%\" side=\"left\" fill=\"currentColor\" text-anchor=\"middle\">nsubj</textPath>\n    </text>\n    <path class=\"displacy-arrowhead\" d=\"M847.0,154.0 L851.0,146.0 843.0,146.0\" fill=\"currentColor\"/>\n</g>\n\n<g class=\"displacy-arrow\">\n    <path class=\"displacy-arc\" id=\"arrow-d76e909996404f7a9d2e53a5e7af3654-0-7\" stroke-width=\"2px\" d=\"M962,152.0 962,118.66666666666666 1147.0,118.66666666666666 1147.0,152.0\" fill=\"none\" stroke=\"currentColor\"/>\n    <text dy=\"1.25em\" style=\"font-size: 0.8em; letter-spacing: 1px\">\n        <textPath xlink:href=\"#arrow-d76e909996404f7a9d2e53a5e7af3654-0-7\" class=\"displacy-label\" startOffset=\"50%\" side=\"left\" fill=\"currentColor\" text-anchor=\"middle\">case</textPath>\n    </text>\n    <path class=\"displacy-arrowhead\" d=\"M962,154.0 L958,146.0 966,146.0\" fill=\"currentColor\"/>\n</g>\n\n<g class=\"displacy-arrow\">\n    <path class=\"displacy-arc\" id=\"arrow-d76e909996404f7a9d2e53a5e7af3654-0-8\" stroke-width=\"2px\" d=\"M1062,152.0 1062,135.33333333333334 1144.0,135.33333333333334 1144.0,152.0\" fill=\"none\" stroke=\"currentColor\"/>\n    <text dy=\"1.25em\" style=\"font-size: 0.8em; letter-spacing: 1px\">\n        <textPath xlink:href=\"#arrow-d76e909996404f7a9d2e53a5e7af3654-0-8\" class=\"displacy-label\" startOffset=\"50%\" side=\"left\" fill=\"currentColor\" text-anchor=\"middle\">det</textPath>\n    </text>\n    <path class=\"displacy-arrowhead\" d=\"M1062,154.0 L1058,146.0 1066,146.0\" fill=\"currentColor\"/>\n</g>\n\n<g class=\"displacy-arrow\">\n    <path class=\"displacy-arc\" id=\"arrow-d76e909996404f7a9d2e53a5e7af3654-0-9\" stroke-width=\"2px\" d=\"M862,152.0 862,102.0 1150.0,102.0 1150.0,152.0\" fill=\"none\" stroke=\"currentColor\"/>\n    <text dy=\"1.25em\" style=\"font-size: 0.8em; letter-spacing: 1px\">\n        <textPath xlink:href=\"#arrow-d76e909996404f7a9d2e53a5e7af3654-0-9\" class=\"displacy-label\" startOffset=\"50%\" side=\"left\" fill=\"currentColor\" text-anchor=\"middle\">nmod</textPath>\n    </text>\n    <path class=\"displacy-arrowhead\" d=\"M1150.0,154.0 L1154.0,146.0 1146.0,146.0\" fill=\"currentColor\"/>\n</g>\n\n<g class=\"displacy-arrow\">\n    <path class=\"displacy-arc\" id=\"arrow-d76e909996404f7a9d2e53a5e7af3654-0-10\" stroke-width=\"2px\" d=\"M1262,152.0 1262,118.66666666666666 1447.0,118.66666666666666 1447.0,152.0\" fill=\"none\" stroke=\"currentColor\"/>\n    <text dy=\"1.25em\" style=\"font-size: 0.8em; letter-spacing: 1px\">\n        <textPath xlink:href=\"#arrow-d76e909996404f7a9d2e53a5e7af3654-0-10\" class=\"displacy-label\" startOffset=\"50%\" side=\"left\" fill=\"currentColor\" text-anchor=\"middle\">case</textPath>\n    </text>\n    <path class=\"displacy-arrowhead\" d=\"M1262,154.0 L1258,146.0 1266,146.0\" fill=\"currentColor\"/>\n</g>\n\n<g class=\"displacy-arrow\">\n    <path class=\"displacy-arc\" id=\"arrow-d76e909996404f7a9d2e53a5e7af3654-0-11\" stroke-width=\"2px\" d=\"M1362,152.0 1362,135.33333333333334 1444.0,135.33333333333334 1444.0,152.0\" fill=\"none\" stroke=\"currentColor\"/>\n    <text dy=\"1.25em\" style=\"font-size: 0.8em; letter-spacing: 1px\">\n        <textPath xlink:href=\"#arrow-d76e909996404f7a9d2e53a5e7af3654-0-11\" class=\"displacy-label\" startOffset=\"50%\" side=\"left\" fill=\"currentColor\" text-anchor=\"middle\">det</textPath>\n    </text>\n    <path class=\"displacy-arrowhead\" d=\"M1362,154.0 L1358,146.0 1366,146.0\" fill=\"currentColor\"/>\n</g>\n\n<g class=\"displacy-arrow\">\n    <path class=\"displacy-arc\" id=\"arrow-d76e909996404f7a9d2e53a5e7af3654-0-12\" stroke-width=\"2px\" d=\"M1162,152.0 1162,102.0 1450.0,102.0 1450.0,152.0\" fill=\"none\" stroke=\"currentColor\"/>\n    <text dy=\"1.25em\" style=\"font-size: 0.8em; letter-spacing: 1px\">\n        <textPath xlink:href=\"#arrow-d76e909996404f7a9d2e53a5e7af3654-0-12\" class=\"displacy-label\" startOffset=\"50%\" side=\"left\" fill=\"currentColor\" text-anchor=\"middle\">nmod</textPath>\n    </text>\n    <path class=\"displacy-arrowhead\" d=\"M1450.0,154.0 L1454.0,146.0 1446.0,146.0\" fill=\"currentColor\"/>\n</g>\n\n<g class=\"displacy-arrow\">\n    <path class=\"displacy-arc\" id=\"arrow-d76e909996404f7a9d2e53a5e7af3654-0-13\" stroke-width=\"2px\" d=\"M1462,152.0 1462,135.33333333333334 1544.0,135.33333333333334 1544.0,152.0\" fill=\"none\" stroke=\"currentColor\"/>\n    <text dy=\"1.25em\" style=\"font-size: 0.8em; letter-spacing: 1px\">\n        <textPath xlink:href=\"#arrow-d76e909996404f7a9d2e53a5e7af3654-0-13\" class=\"displacy-label\" startOffset=\"50%\" side=\"left\" fill=\"currentColor\" text-anchor=\"middle\">acl</textPath>\n    </text>\n    <path class=\"displacy-arrowhead\" d=\"M1544.0,154.0 L1548.0,146.0 1540.0,146.0\" fill=\"currentColor\"/>\n</g>\n\n<g class=\"displacy-arrow\">\n    <path class=\"displacy-arc\" id=\"arrow-d76e909996404f7a9d2e53a5e7af3654-0-14\" stroke-width=\"2px\" d=\"M1662,152.0 1662,135.33333333333334 1744.0,135.33333333333334 1744.0,152.0\" fill=\"none\" stroke=\"currentColor\"/>\n    <text dy=\"1.25em\" style=\"font-size: 0.8em; letter-spacing: 1px\">\n        <textPath xlink:href=\"#arrow-d76e909996404f7a9d2e53a5e7af3654-0-14\" class=\"displacy-label\" startOffset=\"50%\" side=\"left\" fill=\"currentColor\" text-anchor=\"middle\">case</textPath>\n    </text>\n    <path class=\"displacy-arrowhead\" d=\"M1662,154.0 L1658,146.0 1666,146.0\" fill=\"currentColor\"/>\n</g>\n\n<g class=\"displacy-arrow\">\n    <path class=\"displacy-arc\" id=\"arrow-d76e909996404f7a9d2e53a5e7af3654-0-15\" stroke-width=\"2px\" d=\"M1562,152.0 1562,118.66666666666666 1747.0,118.66666666666666 1747.0,152.0\" fill=\"none\" stroke=\"currentColor\"/>\n    <text dy=\"1.25em\" style=\"font-size: 0.8em; letter-spacing: 1px\">\n        <textPath xlink:href=\"#arrow-d76e909996404f7a9d2e53a5e7af3654-0-15\" class=\"displacy-label\" startOffset=\"50%\" side=\"left\" fill=\"currentColor\" text-anchor=\"middle\">obl:mod</textPath>\n    </text>\n    <path class=\"displacy-arrowhead\" d=\"M1747.0,154.0 L1751.0,146.0 1743.0,146.0\" fill=\"currentColor\"/>\n</g>\n\n<g class=\"displacy-arrow\">\n    <path class=\"displacy-arc\" id=\"arrow-d76e909996404f7a9d2e53a5e7af3654-0-16\" stroke-width=\"2px\" d=\"M1762,152.0 1762,135.33333333333334 1844.0,135.33333333333334 1844.0,152.0\" fill=\"none\" stroke=\"currentColor\"/>\n    <text dy=\"1.25em\" style=\"font-size: 0.8em; letter-spacing: 1px\">\n        <textPath xlink:href=\"#arrow-d76e909996404f7a9d2e53a5e7af3654-0-16\" class=\"displacy-label\" startOffset=\"50%\" side=\"left\" fill=\"currentColor\" text-anchor=\"middle\">amod</textPath>\n    </text>\n    <path class=\"displacy-arrowhead\" d=\"M1844.0,154.0 L1848.0,146.0 1840.0,146.0\" fill=\"currentColor\"/>\n</g>\n</svg></span>"
     },
     "metadata": {},
     "output_type": "display_data"
    }
   ],
   "source": [
    "# Visualize the dependency parse of the document\n",
    "\n",
    "# Set the options for rendering\n",
    "options = {\n",
    "    'compact': True,  # Makes the layout more compact\n",
    "    'distance': 100,  # Controls the distance between tokens\n",
    "    'add_lemma': False,  # Whether to include lemmas\n",
    "}\n",
    "\n",
    "spacy.displacy.render(parsed_doc1, style='dep',jupyter=True, options=options)"
   ],
   "metadata": {
    "collapsed": false,
    "ExecuteTime": {
     "end_time": "2024-03-09T22:24:00.407913400Z",
     "start_time": "2024-03-09T22:24:00.380637500Z"
    }
   },
   "id": "b627aa032743cb69"
  },
  {
   "cell_type": "code",
   "execution_count": 103,
   "outputs": [
    {
     "data": {
      "text/plain": "<IPython.core.display.HTML object>",
      "text/html": "<span class=\"tex2jax_ignore\"><svg xmlns=\"http://www.w3.org/2000/svg\" xmlns:xlink=\"http://www.w3.org/1999/xlink\" xml:lang=\"fr\" id=\"1cb41240371848bebe90a050ecffdf09-0\" class=\"displacy\" width=\"1450\" height=\"337.0\" direction=\"ltr\" style=\"max-width: none; height: 337.0px; color: #000000; background: #ffffff; font-family: Arial; direction: ltr\">\n<text class=\"displacy-token\" fill=\"currentColor\" text-anchor=\"middle\" y=\"247.0\">\n    <tspan class=\"displacy-word\" fill=\"currentColor\" x=\"50\">Concernant</tspan>\n    <tspan class=\"displacy-tag\" dy=\"2em\" fill=\"currentColor\" x=\"50\">VERB</tspan>\n</text>\n\n<text class=\"displacy-token\" fill=\"currentColor\" text-anchor=\"middle\" y=\"247.0\">\n    <tspan class=\"displacy-word\" fill=\"currentColor\" x=\"150\">les</tspan>\n    <tspan class=\"displacy-tag\" dy=\"2em\" fill=\"currentColor\" x=\"150\">DET</tspan>\n</text>\n\n<text class=\"displacy-token\" fill=\"currentColor\" text-anchor=\"middle\" y=\"247.0\">\n    <tspan class=\"displacy-word\" fill=\"currentColor\" x=\"250\">enfants</tspan>\n    <tspan class=\"displacy-tag\" dy=\"2em\" fill=\"currentColor\" x=\"250\">NOUN</tspan>\n</text>\n\n<text class=\"displacy-token\" fill=\"currentColor\" text-anchor=\"middle\" y=\"247.0\">\n    <tspan class=\"displacy-word\" fill=\"currentColor\" x=\"350\">nés</tspan>\n    <tspan class=\"displacy-tag\" dy=\"2em\" fill=\"currentColor\" x=\"350\">VERB</tspan>\n</text>\n\n<text class=\"displacy-token\" fill=\"currentColor\" text-anchor=\"middle\" y=\"247.0\">\n    <tspan class=\"displacy-word\" fill=\"currentColor\" x=\"450\">en</tspan>\n    <tspan class=\"displacy-tag\" dy=\"2em\" fill=\"currentColor\" x=\"450\">ADP</tspan>\n</text>\n\n<text class=\"displacy-token\" fill=\"currentColor\" text-anchor=\"middle\" y=\"247.0\">\n    <tspan class=\"displacy-word\" fill=\"currentColor\" x=\"550\">union</tspan>\n    <tspan class=\"displacy-tag\" dy=\"2em\" fill=\"currentColor\" x=\"550\">NOUN</tspan>\n</text>\n\n<text class=\"displacy-token\" fill=\"currentColor\" text-anchor=\"middle\" y=\"247.0\">\n    <tspan class=\"displacy-word\" fill=\"currentColor\" x=\"650\">libre,</tspan>\n    <tspan class=\"displacy-tag\" dy=\"2em\" fill=\"currentColor\" x=\"650\">ADJ</tspan>\n</text>\n\n<text class=\"displacy-token\" fill=\"currentColor\" text-anchor=\"middle\" y=\"247.0\">\n    <tspan class=\"displacy-word\" fill=\"currentColor\" x=\"750\">quels</tspan>\n    <tspan class=\"displacy-tag\" dy=\"2em\" fill=\"currentColor\" x=\"750\">ADJ</tspan>\n</text>\n\n<text class=\"displacy-token\" fill=\"currentColor\" text-anchor=\"middle\" y=\"247.0\">\n    <tspan class=\"displacy-word\" fill=\"currentColor\" x=\"850\">droits</tspan>\n    <tspan class=\"displacy-tag\" dy=\"2em\" fill=\"currentColor\" x=\"850\">NOUN</tspan>\n</text>\n\n<text class=\"displacy-token\" fill=\"currentColor\" text-anchor=\"middle\" y=\"247.0\">\n    <tspan class=\"displacy-word\" fill=\"currentColor\" x=\"950\">reviennent</tspan>\n    <tspan class=\"displacy-tag\" dy=\"2em\" fill=\"currentColor\" x=\"950\">ADV</tspan>\n</text>\n\n<text class=\"displacy-token\" fill=\"currentColor\" text-anchor=\"middle\" y=\"247.0\">\n    <tspan class=\"displacy-word\" fill=\"currentColor\" x=\"1050\">au</tspan>\n    <tspan class=\"displacy-tag\" dy=\"2em\" fill=\"currentColor\" x=\"1050\">ADP</tspan>\n</text>\n\n<text class=\"displacy-token\" fill=\"currentColor\" text-anchor=\"middle\" y=\"247.0\">\n    <tspan class=\"displacy-word\" fill=\"currentColor\" x=\"1150\">partenaire</tspan>\n    <tspan class=\"displacy-tag\" dy=\"2em\" fill=\"currentColor\" x=\"1150\">NOUN</tspan>\n</text>\n\n<text class=\"displacy-token\" fill=\"currentColor\" text-anchor=\"middle\" y=\"247.0\">\n    <tspan class=\"displacy-word\" fill=\"currentColor\" x=\"1250\">non</tspan>\n    <tspan class=\"displacy-tag\" dy=\"2em\" fill=\"currentColor\" x=\"1250\">ADV</tspan>\n</text>\n\n<text class=\"displacy-token\" fill=\"currentColor\" text-anchor=\"middle\" y=\"247.0\">\n    <tspan class=\"displacy-word\" fill=\"currentColor\" x=\"1350\">marié ?</tspan>\n    <tspan class=\"displacy-tag\" dy=\"2em\" fill=\"currentColor\" x=\"1350\">ADJ</tspan>\n</text>\n\n<g class=\"displacy-arrow\">\n    <path class=\"displacy-arc\" id=\"arrow-1cb41240371848bebe90a050ecffdf09-0-0\" stroke-width=\"2px\" d=\"M162,202.0 162,185.33333333333334 241.0,185.33333333333334 241.0,202.0\" fill=\"none\" stroke=\"currentColor\"/>\n    <text dy=\"1.25em\" style=\"font-size: 0.8em; letter-spacing: 1px\">\n        <textPath xlink:href=\"#arrow-1cb41240371848bebe90a050ecffdf09-0-0\" class=\"displacy-label\" startOffset=\"50%\" side=\"left\" fill=\"currentColor\" text-anchor=\"middle\">det</textPath>\n    </text>\n    <path class=\"displacy-arrowhead\" d=\"M162,204.0 L158,196.0 166,196.0\" fill=\"currentColor\"/>\n</g>\n\n<g class=\"displacy-arrow\">\n    <path class=\"displacy-arc\" id=\"arrow-1cb41240371848bebe90a050ecffdf09-0-1\" stroke-width=\"2px\" d=\"M62,202.0 62,168.66666666666666 244.0,168.66666666666666 244.0,202.0\" fill=\"none\" stroke=\"currentColor\"/>\n    <text dy=\"1.25em\" style=\"font-size: 0.8em; letter-spacing: 1px\">\n        <textPath xlink:href=\"#arrow-1cb41240371848bebe90a050ecffdf09-0-1\" class=\"displacy-label\" startOffset=\"50%\" side=\"left\" fill=\"currentColor\" text-anchor=\"middle\">obj</textPath>\n    </text>\n    <path class=\"displacy-arrowhead\" d=\"M244.0,204.0 L248.0,196.0 240.0,196.0\" fill=\"currentColor\"/>\n</g>\n\n<g class=\"displacy-arrow\">\n    <path class=\"displacy-arc\" id=\"arrow-1cb41240371848bebe90a050ecffdf09-0-2\" stroke-width=\"2px\" d=\"M262,202.0 262,185.33333333333334 341.0,185.33333333333334 341.0,202.0\" fill=\"none\" stroke=\"currentColor\"/>\n    <text dy=\"1.25em\" style=\"font-size: 0.8em; letter-spacing: 1px\">\n        <textPath xlink:href=\"#arrow-1cb41240371848bebe90a050ecffdf09-0-2\" class=\"displacy-label\" startOffset=\"50%\" side=\"left\" fill=\"currentColor\" text-anchor=\"middle\">acl</textPath>\n    </text>\n    <path class=\"displacy-arrowhead\" d=\"M341.0,204.0 L345.0,196.0 337.0,196.0\" fill=\"currentColor\"/>\n</g>\n\n<g class=\"displacy-arrow\">\n    <path class=\"displacy-arc\" id=\"arrow-1cb41240371848bebe90a050ecffdf09-0-3\" stroke-width=\"2px\" d=\"M462,202.0 462,185.33333333333334 541.0,185.33333333333334 541.0,202.0\" fill=\"none\" stroke=\"currentColor\"/>\n    <text dy=\"1.25em\" style=\"font-size: 0.8em; letter-spacing: 1px\">\n        <textPath xlink:href=\"#arrow-1cb41240371848bebe90a050ecffdf09-0-3\" class=\"displacy-label\" startOffset=\"50%\" side=\"left\" fill=\"currentColor\" text-anchor=\"middle\">case</textPath>\n    </text>\n    <path class=\"displacy-arrowhead\" d=\"M462,204.0 L458,196.0 466,196.0\" fill=\"currentColor\"/>\n</g>\n\n<g class=\"displacy-arrow\">\n    <path class=\"displacy-arc\" id=\"arrow-1cb41240371848bebe90a050ecffdf09-0-4\" stroke-width=\"2px\" d=\"M362,202.0 362,168.66666666666666 544.0,168.66666666666666 544.0,202.0\" fill=\"none\" stroke=\"currentColor\"/>\n    <text dy=\"1.25em\" style=\"font-size: 0.8em; letter-spacing: 1px\">\n        <textPath xlink:href=\"#arrow-1cb41240371848bebe90a050ecffdf09-0-4\" class=\"displacy-label\" startOffset=\"50%\" side=\"left\" fill=\"currentColor\" text-anchor=\"middle\">obl:mod</textPath>\n    </text>\n    <path class=\"displacy-arrowhead\" d=\"M544.0,204.0 L548.0,196.0 540.0,196.0\" fill=\"currentColor\"/>\n</g>\n\n<g class=\"displacy-arrow\">\n    <path class=\"displacy-arc\" id=\"arrow-1cb41240371848bebe90a050ecffdf09-0-5\" stroke-width=\"2px\" d=\"M562,202.0 562,185.33333333333334 641.0,185.33333333333334 641.0,202.0\" fill=\"none\" stroke=\"currentColor\"/>\n    <text dy=\"1.25em\" style=\"font-size: 0.8em; letter-spacing: 1px\">\n        <textPath xlink:href=\"#arrow-1cb41240371848bebe90a050ecffdf09-0-5\" class=\"displacy-label\" startOffset=\"50%\" side=\"left\" fill=\"currentColor\" text-anchor=\"middle\">amod</textPath>\n    </text>\n    <path class=\"displacy-arrowhead\" d=\"M641.0,204.0 L645.0,196.0 637.0,196.0\" fill=\"currentColor\"/>\n</g>\n\n<g class=\"displacy-arrow\">\n    <path class=\"displacy-arc\" id=\"arrow-1cb41240371848bebe90a050ecffdf09-0-6\" stroke-width=\"2px\" d=\"M762,202.0 762,185.33333333333334 841.0,185.33333333333334 841.0,202.0\" fill=\"none\" stroke=\"currentColor\"/>\n    <text dy=\"1.25em\" style=\"font-size: 0.8em; letter-spacing: 1px\">\n        <textPath xlink:href=\"#arrow-1cb41240371848bebe90a050ecffdf09-0-6\" class=\"displacy-label\" startOffset=\"50%\" side=\"left\" fill=\"currentColor\" text-anchor=\"middle\">amod</textPath>\n    </text>\n    <path class=\"displacy-arrowhead\" d=\"M762,204.0 L758,196.0 766,196.0\" fill=\"currentColor\"/>\n</g>\n\n<g class=\"displacy-arrow\">\n    <path class=\"displacy-arc\" id=\"arrow-1cb41240371848bebe90a050ecffdf09-0-7\" stroke-width=\"2px\" d=\"M862,202.0 862,185.33333333333334 941.0,185.33333333333334 941.0,202.0\" fill=\"none\" stroke=\"currentColor\"/>\n    <text dy=\"1.25em\" style=\"font-size: 0.8em; letter-spacing: 1px\">\n        <textPath xlink:href=\"#arrow-1cb41240371848bebe90a050ecffdf09-0-7\" class=\"displacy-label\" startOffset=\"50%\" side=\"left\" fill=\"currentColor\" text-anchor=\"middle\">nsubj</textPath>\n    </text>\n    <path class=\"displacy-arrowhead\" d=\"M862,204.0 L858,196.0 866,196.0\" fill=\"currentColor\"/>\n</g>\n\n<g class=\"displacy-arrow\">\n    <path class=\"displacy-arc\" id=\"arrow-1cb41240371848bebe90a050ecffdf09-0-8\" stroke-width=\"2px\" d=\"M262,202.0 262,152.0 947.0,152.0 947.0,202.0\" fill=\"none\" stroke=\"currentColor\"/>\n    <text dy=\"1.25em\" style=\"font-size: 0.8em; letter-spacing: 1px\">\n        <textPath xlink:href=\"#arrow-1cb41240371848bebe90a050ecffdf09-0-8\" class=\"displacy-label\" startOffset=\"50%\" side=\"left\" fill=\"currentColor\" text-anchor=\"middle\">amod</textPath>\n    </text>\n    <path class=\"displacy-arrowhead\" d=\"M947.0,204.0 L951.0,196.0 943.0,196.0\" fill=\"currentColor\"/>\n</g>\n\n<g class=\"displacy-arrow\">\n    <path class=\"displacy-arc\" id=\"arrow-1cb41240371848bebe90a050ecffdf09-0-9\" stroke-width=\"2px\" d=\"M1062,202.0 1062,185.33333333333334 1141.0,185.33333333333334 1141.0,202.0\" fill=\"none\" stroke=\"currentColor\"/>\n    <text dy=\"1.25em\" style=\"font-size: 0.8em; letter-spacing: 1px\">\n        <textPath xlink:href=\"#arrow-1cb41240371848bebe90a050ecffdf09-0-9\" class=\"displacy-label\" startOffset=\"50%\" side=\"left\" fill=\"currentColor\" text-anchor=\"middle\">case</textPath>\n    </text>\n    <path class=\"displacy-arrowhead\" d=\"M1062,204.0 L1058,196.0 1066,196.0\" fill=\"currentColor\"/>\n</g>\n\n<g class=\"displacy-arrow\">\n    <path class=\"displacy-arc\" id=\"arrow-1cb41240371848bebe90a050ecffdf09-0-10\" stroke-width=\"2px\" d=\"M62,202.0 62,135.33333333333331 1150.0,135.33333333333331 1150.0,202.0\" fill=\"none\" stroke=\"currentColor\"/>\n    <text dy=\"1.25em\" style=\"font-size: 0.8em; letter-spacing: 1px\">\n        <textPath xlink:href=\"#arrow-1cb41240371848bebe90a050ecffdf09-0-10\" class=\"displacy-label\" startOffset=\"50%\" side=\"left\" fill=\"currentColor\" text-anchor=\"middle\">xcomp</textPath>\n    </text>\n    <path class=\"displacy-arrowhead\" d=\"M1150.0,204.0 L1154.0,196.0 1146.0,196.0\" fill=\"currentColor\"/>\n</g>\n\n<g class=\"displacy-arrow\">\n    <path class=\"displacy-arc\" id=\"arrow-1cb41240371848bebe90a050ecffdf09-0-11\" stroke-width=\"2px\" d=\"M1262,202.0 1262,185.33333333333334 1341.0,185.33333333333334 1341.0,202.0\" fill=\"none\" stroke=\"currentColor\"/>\n    <text dy=\"1.25em\" style=\"font-size: 0.8em; letter-spacing: 1px\">\n        <textPath xlink:href=\"#arrow-1cb41240371848bebe90a050ecffdf09-0-11\" class=\"displacy-label\" startOffset=\"50%\" side=\"left\" fill=\"currentColor\" text-anchor=\"middle\">advmod</textPath>\n    </text>\n    <path class=\"displacy-arrowhead\" d=\"M1262,204.0 L1258,196.0 1266,196.0\" fill=\"currentColor\"/>\n</g>\n\n<g class=\"displacy-arrow\">\n    <path class=\"displacy-arc\" id=\"arrow-1cb41240371848bebe90a050ecffdf09-0-12\" stroke-width=\"2px\" d=\"M1162,202.0 1162,168.66666666666666 1344.0,168.66666666666666 1344.0,202.0\" fill=\"none\" stroke=\"currentColor\"/>\n    <text dy=\"1.25em\" style=\"font-size: 0.8em; letter-spacing: 1px\">\n        <textPath xlink:href=\"#arrow-1cb41240371848bebe90a050ecffdf09-0-12\" class=\"displacy-label\" startOffset=\"50%\" side=\"left\" fill=\"currentColor\" text-anchor=\"middle\">amod</textPath>\n    </text>\n    <path class=\"displacy-arrowhead\" d=\"M1344.0,204.0 L1348.0,196.0 1340.0,196.0\" fill=\"currentColor\"/>\n</g>\n</svg></span>"
     },
     "metadata": {},
     "output_type": "display_data"
    }
   ],
   "source": [
    "spacy.displacy.render(parsed_doc2, style='dep',jupyter=True, options=options)"
   ],
   "metadata": {
    "collapsed": false,
    "ExecuteTime": {
     "end_time": "2024-03-09T22:24:00.911298300Z",
     "start_time": "2024-03-09T22:24:00.895639400Z"
    }
   },
   "id": "c878c828fec49786"
  },
  {
   "cell_type": "code",
   "execution_count": 7,
   "outputs": [
    {
     "data": {
      "text/plain": "<IPython.core.display.HTML object>",
      "text/html": "<span class=\"tex2jax_ignore\"><svg xmlns=\"http://www.w3.org/2000/svg\" xmlns:xlink=\"http://www.w3.org/1999/xlink\" xml:lang=\"en\" id=\"63c72d032cd745a2970b38e4435b8429-0\" class=\"displacy\" width=\"750\" height=\"287.0\" direction=\"ltr\" style=\"max-width: none; height: 287.0px; color: #000000; background: #ffffff; font-family: Arial; direction: ltr\">\n<text class=\"displacy-token\" fill=\"currentColor\" text-anchor=\"middle\" y=\"197.0\">\n    <tspan class=\"displacy-word\" fill=\"currentColor\" x=\"50\">I</tspan>\n    <tspan class=\"displacy-tag\" dy=\"2em\" fill=\"currentColor\" x=\"50\">PRON</tspan>\n</text>\n\n<text class=\"displacy-token\" fill=\"currentColor\" text-anchor=\"middle\" y=\"197.0\">\n    <tspan class=\"displacy-word\" fill=\"currentColor\" x=\"150\">live</tspan>\n    <tspan class=\"displacy-tag\" dy=\"2em\" fill=\"currentColor\" x=\"150\">VERB</tspan>\n</text>\n\n<text class=\"displacy-token\" fill=\"currentColor\" text-anchor=\"middle\" y=\"197.0\">\n    <tspan class=\"displacy-word\" fill=\"currentColor\" x=\"250\">in</tspan>\n    <tspan class=\"displacy-tag\" dy=\"2em\" fill=\"currentColor\" x=\"250\">ADP</tspan>\n</text>\n\n<text class=\"displacy-token\" fill=\"currentColor\" text-anchor=\"middle\" y=\"197.0\">\n    <tspan class=\"displacy-word\" fill=\"currentColor\" x=\"350\">a</tspan>\n    <tspan class=\"displacy-tag\" dy=\"2em\" fill=\"currentColor\" x=\"350\">DET</tspan>\n</text>\n\n<text class=\"displacy-token\" fill=\"currentColor\" text-anchor=\"middle\" y=\"197.0\">\n    <tspan class=\"displacy-word\" fill=\"currentColor\" x=\"450\">common-</tspan>\n    <tspan class=\"displacy-tag\" dy=\"2em\" fill=\"currentColor\" x=\"450\">ADJ</tspan>\n</text>\n\n<text class=\"displacy-token\" fill=\"currentColor\" text-anchor=\"middle\" y=\"197.0\">\n    <tspan class=\"displacy-word\" fill=\"currentColor\" x=\"550\">law</tspan>\n    <tspan class=\"displacy-tag\" dy=\"2em\" fill=\"currentColor\" x=\"550\">NOUN</tspan>\n</text>\n\n<text class=\"displacy-token\" fill=\"currentColor\" text-anchor=\"middle\" y=\"197.0\">\n    <tspan class=\"displacy-word\" fill=\"currentColor\" x=\"650\">relationship.</tspan>\n    <tspan class=\"displacy-tag\" dy=\"2em\" fill=\"currentColor\" x=\"650\">NOUN</tspan>\n</text>\n\n<g class=\"displacy-arrow\">\n    <path class=\"displacy-arc\" id=\"arrow-63c72d032cd745a2970b38e4435b8429-0-0\" stroke-width=\"2px\" d=\"M62,152.0 62,135.33333333333334 144.0,135.33333333333334 144.0,152.0\" fill=\"none\" stroke=\"currentColor\"/>\n    <text dy=\"1.25em\" style=\"font-size: 0.8em; letter-spacing: 1px\">\n        <textPath xlink:href=\"#arrow-63c72d032cd745a2970b38e4435b8429-0-0\" class=\"displacy-label\" startOffset=\"50%\" side=\"left\" fill=\"currentColor\" text-anchor=\"middle\">nsubj</textPath>\n    </text>\n    <path class=\"displacy-arrowhead\" d=\"M62,154.0 L58,146.0 66,146.0\" fill=\"currentColor\"/>\n</g>\n\n<g class=\"displacy-arrow\">\n    <path class=\"displacy-arc\" id=\"arrow-63c72d032cd745a2970b38e4435b8429-0-1\" stroke-width=\"2px\" d=\"M162,152.0 162,135.33333333333334 244.0,135.33333333333334 244.0,152.0\" fill=\"none\" stroke=\"currentColor\"/>\n    <text dy=\"1.25em\" style=\"font-size: 0.8em; letter-spacing: 1px\">\n        <textPath xlink:href=\"#arrow-63c72d032cd745a2970b38e4435b8429-0-1\" class=\"displacy-label\" startOffset=\"50%\" side=\"left\" fill=\"currentColor\" text-anchor=\"middle\">prep</textPath>\n    </text>\n    <path class=\"displacy-arrowhead\" d=\"M244.0,154.0 L248.0,146.0 240.0,146.0\" fill=\"currentColor\"/>\n</g>\n\n<g class=\"displacy-arrow\">\n    <path class=\"displacy-arc\" id=\"arrow-63c72d032cd745a2970b38e4435b8429-0-2\" stroke-width=\"2px\" d=\"M362,152.0 362,118.66666666666666 647.0,118.66666666666666 647.0,152.0\" fill=\"none\" stroke=\"currentColor\"/>\n    <text dy=\"1.25em\" style=\"font-size: 0.8em; letter-spacing: 1px\">\n        <textPath xlink:href=\"#arrow-63c72d032cd745a2970b38e4435b8429-0-2\" class=\"displacy-label\" startOffset=\"50%\" side=\"left\" fill=\"currentColor\" text-anchor=\"middle\">det</textPath>\n    </text>\n    <path class=\"displacy-arrowhead\" d=\"M362,154.0 L358,146.0 366,146.0\" fill=\"currentColor\"/>\n</g>\n\n<g class=\"displacy-arrow\">\n    <path class=\"displacy-arc\" id=\"arrow-63c72d032cd745a2970b38e4435b8429-0-3\" stroke-width=\"2px\" d=\"M462,152.0 462,135.33333333333334 544.0,135.33333333333334 544.0,152.0\" fill=\"none\" stroke=\"currentColor\"/>\n    <text dy=\"1.25em\" style=\"font-size: 0.8em; letter-spacing: 1px\">\n        <textPath xlink:href=\"#arrow-63c72d032cd745a2970b38e4435b8429-0-3\" class=\"displacy-label\" startOffset=\"50%\" side=\"left\" fill=\"currentColor\" text-anchor=\"middle\">amod</textPath>\n    </text>\n    <path class=\"displacy-arrowhead\" d=\"M462,154.0 L458,146.0 466,146.0\" fill=\"currentColor\"/>\n</g>\n\n<g class=\"displacy-arrow\">\n    <path class=\"displacy-arc\" id=\"arrow-63c72d032cd745a2970b38e4435b8429-0-4\" stroke-width=\"2px\" d=\"M562,152.0 562,135.33333333333334 644.0,135.33333333333334 644.0,152.0\" fill=\"none\" stroke=\"currentColor\"/>\n    <text dy=\"1.25em\" style=\"font-size: 0.8em; letter-spacing: 1px\">\n        <textPath xlink:href=\"#arrow-63c72d032cd745a2970b38e4435b8429-0-4\" class=\"displacy-label\" startOffset=\"50%\" side=\"left\" fill=\"currentColor\" text-anchor=\"middle\">compound</textPath>\n    </text>\n    <path class=\"displacy-arrowhead\" d=\"M562,154.0 L558,146.0 566,146.0\" fill=\"currentColor\"/>\n</g>\n\n<g class=\"displacy-arrow\">\n    <path class=\"displacy-arc\" id=\"arrow-63c72d032cd745a2970b38e4435b8429-0-5\" stroke-width=\"2px\" d=\"M262,152.0 262,102.0 650.0,102.0 650.0,152.0\" fill=\"none\" stroke=\"currentColor\"/>\n    <text dy=\"1.25em\" style=\"font-size: 0.8em; letter-spacing: 1px\">\n        <textPath xlink:href=\"#arrow-63c72d032cd745a2970b38e4435b8429-0-5\" class=\"displacy-label\" startOffset=\"50%\" side=\"left\" fill=\"currentColor\" text-anchor=\"middle\">pobj</textPath>\n    </text>\n    <path class=\"displacy-arrowhead\" d=\"M650.0,154.0 L654.0,146.0 646.0,146.0\" fill=\"currentColor\"/>\n</g>\n</svg></span>"
     },
     "metadata": {},
     "output_type": "display_data"
    }
   ],
   "source": [
    "# Load the French language model\n",
    "nlp = spacy.load(\"en_core_web_sm\")\n",
    "parsed_doc1 = nlp(\"I live in a common-law relationship.\")\n",
    "options = {\n",
    "    'compact': True,  # Makes the layout more compact\n",
    "    'distance': 100,  # Controls the distance between tokens\n",
    "    'add_lemma': False,  # Whether to include lemmas\n",
    "}\n",
    "spacy.displacy.render(parsed_doc1, style='dep',jupyter=True, options=options)"
   ],
   "metadata": {
    "collapsed": false,
    "ExecuteTime": {
     "end_time": "2024-03-31T20:52:22.212016800Z",
     "start_time": "2024-03-31T20:52:21.939620600Z"
    }
   },
   "id": "14ef0f326b7ac"
  },
  {
   "cell_type": "code",
   "execution_count": null,
   "outputs": [],
   "source": [],
   "metadata": {
    "collapsed": false
   },
   "id": "14a362737d2dfc6a"
  }
 ],
 "metadata": {
  "kernelspec": {
   "display_name": "Python 3",
   "language": "python",
   "name": "python3"
  },
  "language_info": {
   "codemirror_mode": {
    "name": "ipython",
    "version": 2
   },
   "file_extension": ".py",
   "mimetype": "text/x-python",
   "name": "python",
   "nbconvert_exporter": "python",
   "pygments_lexer": "ipython2",
   "version": "2.7.6"
  }
 },
 "nbformat": 4,
 "nbformat_minor": 5
}
