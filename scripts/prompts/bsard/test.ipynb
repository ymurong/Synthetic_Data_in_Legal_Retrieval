{
 "cells": [
  {
   "cell_type": "code",
   "execution_count": 15,
   "id": "initial_id",
   "metadata": {
    "collapsed": true,
    "ExecuteTime": {
     "end_time": "2024-03-05T00:18:54.558204200Z",
     "start_time": "2024-03-05T00:18:54.547328400Z"
    }
   },
   "outputs": [],
   "source": [
    "import pandas as pd"
   ]
  },
  {
   "cell_type": "code",
   "execution_count": 16,
   "outputs": [],
   "source": [
    "df = pd.read_json(\"gpt4_generate_only_openai.jsonl\",lines=True)"
   ],
   "metadata": {
    "collapsed": false,
    "ExecuteTime": {
     "end_time": "2024-03-05T00:18:54.852894300Z",
     "start_time": "2024-03-05T00:18:54.822400200Z"
    }
   },
   "id": "db053adc8286b3df"
  },
  {
   "cell_type": "code",
   "execution_count": 17,
   "outputs": [
    {
     "data": {
      "text/plain": "    Unnamed: 0   id                                          reference  \\\n0          100  101  Art. 2.3.52, Code Bruxellois de l'Air, du Clim...   \n1          101  102  Art. 2.3.53, Code Bruxellois de l'Air, du Clim...   \n2          102  103  Art. 2.3.54, Code Bruxellois de l'Air, du Clim...   \n3          103  104  Art. 2.3.55, Code Bruxellois de l'Air, du Clim...   \n4          104  105  Art. 2.3.56, Code Bruxellois de l'Air, du Clim...   \n5          105  106  Art. 2.3.57, Code Bruxellois de l'Air, du Clim...   \n6          106  107  Art. 2.3.58, Code Bruxellois de l'Air, du Clim...   \n7          107  108  Art. 2.3.59, Code Bruxellois de l'Air, du Clim...   \n8          108  109  Art. 2.3.60, Code Bruxellois de l'Air, du Clim...   \n9          109  110  Art. 2.3.61, Code Bruxellois de l'Air, du Clim...   \n10         110  111  Art. 2.3.62, Code Bruxellois de l'Air, du Clim...   \n\n                                              article  law_type  \\\n0   § 1er. Les dispositions du présent chapitre so...  regional   \n1   § 1er. En vue de l'application des disposition...  regional   \n2   § 1er. Sans préjudice du paragraphe 4 du prése...  regional   \n3   § 1er. Il existe une taxe annuelle nommée \" ch...  regional   \n4   Les redevables de la charge environnementale s...  regional   \n5   La charge environnementale est perçue annuelle...  regional   \n6   § 1er. Le redevable de la charge environnement...  regional   \n7   § 1er. La charge environnementale est égalemen...  regional   \n8   Le redevable qui conteste tout élément de la c...  regional   \n9   § 1er. Sans préjudice de l'action visée à l'ar...  regional   \n10  Les articles 10, 12, 14, alinéa 1er, 15, 16, 1...  regional   \n\n                                                 code                  book  \\\n0   Code Bruxellois de l'Air, du Climat et de la M...  Mesures sectorielles   \n1   Code Bruxellois de l'Air, du Climat et de la M...  Mesures sectorielles   \n2   Code Bruxellois de l'Air, du Climat et de la M...  Mesures sectorielles   \n3   Code Bruxellois de l'Air, du Climat et de la M...  Mesures sectorielles   \n4   Code Bruxellois de l'Air, du Climat et de la M...  Mesures sectorielles   \n5   Code Bruxellois de l'Air, du Climat et de la M...  Mesures sectorielles   \n6   Code Bruxellois de l'Air, du Climat et de la M...  Mesures sectorielles   \n7   Code Bruxellois de l'Air, du Climat et de la M...  Mesures sectorielles   \n8   Code Bruxellois de l'Air, du Climat et de la M...  Mesures sectorielles   \n9   Code Bruxellois de l'Air, du Climat et de la M...  Mesures sectorielles   \n10  Code Bruxellois de l'Air, du Climat et de la M...  Mesures sectorielles   \n\n    part                                    act                    chapter  \\\n0    NaN  Dispositions relatives aux transports  Stationnement hors voirie   \n1    NaN  Dispositions relatives aux transports  Stationnement hors voirie   \n2    NaN  Dispositions relatives aux transports  Stationnement hors voirie   \n3    NaN  Dispositions relatives aux transports  Stationnement hors voirie   \n4    NaN  Dispositions relatives aux transports  Stationnement hors voirie   \n5    NaN  Dispositions relatives aux transports  Stationnement hors voirie   \n6    NaN  Dispositions relatives aux transports  Stationnement hors voirie   \n7    NaN  Dispositions relatives aux transports  Stationnement hors voirie   \n8    NaN  Dispositions relatives aux transports  Stationnement hors voirie   \n9    NaN  Dispositions relatives aux transports  Stationnement hors voirie   \n10   NaN  Dispositions relatives aux transports  Stationnement hors voirie   \n\n                                      section  subsection  \\\n0                         Champ d'application         NaN   \n1   Nombre d'emplacements de parcage autorisé         NaN   \n2   Nombre d'emplacements de parcage autorisé         NaN   \n3                     Charge environnementale         NaN   \n4                     Charge environnementale         NaN   \n5                     Charge environnementale         NaN   \n6                     Charge environnementale         NaN   \n7                     Charge environnementale         NaN   \n8                     Charge environnementale         NaN   \n9                     Charge environnementale         NaN   \n10                    Charge environnementale         NaN   \n\n                                          description  \\\n0   Mesures sectorielles, Dispositions relatives a...   \n1   Mesures sectorielles, Dispositions relatives a...   \n2   Mesures sectorielles, Dispositions relatives a...   \n3   Mesures sectorielles, Dispositions relatives a...   \n4   Mesures sectorielles, Dispositions relatives a...   \n5   Mesures sectorielles, Dispositions relatives a...   \n6   Mesures sectorielles, Dispositions relatives a...   \n7   Mesures sectorielles, Dispositions relatives a...   \n8   Mesures sectorielles, Dispositions relatives a...   \n9   Mesures sectorielles, Dispositions relatives a...   \n10  Mesures sectorielles, Dispositions relatives a...   \n\n                                               prompt  \\\n0   You will be given one belgian statutory law ar...   \n1   You will be given one belgian statutory law ar...   \n2   You will be given one belgian statutory law ar...   \n3   You will be given one belgian statutory law ar...   \n4   You will be given one belgian statutory law ar...   \n5   You will be given one belgian statutory law ar...   \n6   You will be given one belgian statutory law ar...   \n7   You will be given one belgian statutory law ar...   \n8   You will be given one belgian statutory law ar...   \n9   You will be given one belgian statutory law ar...   \n10  You will be given one belgian statutory law ar...   \n\n                                   synthetic_question  \n0   [context] Je souhaite créer un parking à Bruxe...  \n1   [context] Je recherche un nouvel appartement à...  \n2   [context] Je suis en train de construire un im...  \n3   [context] Je viens de prolonger mon permis d'e...  \n4   [context] Une entreprise a obtenu un permis d'...  \n5   [context] Les redevables reçoivent un avertiss...  \n6   [context] Je possède un immeuble avec des empl...  \n7   [context] Un propriétaire a été surpris en tra...  \n8   [context] Vous avez reçu un avis de taxe envir...  \n9   [context] Un redevable a des difficultés avec ...  \n10  [context] Une entreprise à Bruxelles doit paye...  ",
      "text/html": "<div>\n<style scoped>\n    .dataframe tbody tr th:only-of-type {\n        vertical-align: middle;\n    }\n\n    .dataframe tbody tr th {\n        vertical-align: top;\n    }\n\n    .dataframe thead th {\n        text-align: right;\n    }\n</style>\n<table border=\"1\" class=\"dataframe\">\n  <thead>\n    <tr style=\"text-align: right;\">\n      <th></th>\n      <th>Unnamed: 0</th>\n      <th>id</th>\n      <th>reference</th>\n      <th>article</th>\n      <th>law_type</th>\n      <th>code</th>\n      <th>book</th>\n      <th>part</th>\n      <th>act</th>\n      <th>chapter</th>\n      <th>section</th>\n      <th>subsection</th>\n      <th>description</th>\n      <th>prompt</th>\n      <th>synthetic_question</th>\n    </tr>\n  </thead>\n  <tbody>\n    <tr>\n      <th>0</th>\n      <td>100</td>\n      <td>101</td>\n      <td>Art. 2.3.52, Code Bruxellois de l'Air, du Clim...</td>\n      <td>§ 1er. Les dispositions du présent chapitre so...</td>\n      <td>regional</td>\n      <td>Code Bruxellois de l'Air, du Climat et de la M...</td>\n      <td>Mesures sectorielles</td>\n      <td>NaN</td>\n      <td>Dispositions relatives aux transports</td>\n      <td>Stationnement hors voirie</td>\n      <td>Champ d'application</td>\n      <td>NaN</td>\n      <td>Mesures sectorielles, Dispositions relatives a...</td>\n      <td>You will be given one belgian statutory law ar...</td>\n      <td>[context] Je souhaite créer un parking à Bruxe...</td>\n    </tr>\n    <tr>\n      <th>1</th>\n      <td>101</td>\n      <td>102</td>\n      <td>Art. 2.3.53, Code Bruxellois de l'Air, du Clim...</td>\n      <td>§ 1er. En vue de l'application des disposition...</td>\n      <td>regional</td>\n      <td>Code Bruxellois de l'Air, du Climat et de la M...</td>\n      <td>Mesures sectorielles</td>\n      <td>NaN</td>\n      <td>Dispositions relatives aux transports</td>\n      <td>Stationnement hors voirie</td>\n      <td>Nombre d'emplacements de parcage autorisé</td>\n      <td>NaN</td>\n      <td>Mesures sectorielles, Dispositions relatives a...</td>\n      <td>You will be given one belgian statutory law ar...</td>\n      <td>[context] Je recherche un nouvel appartement à...</td>\n    </tr>\n    <tr>\n      <th>2</th>\n      <td>102</td>\n      <td>103</td>\n      <td>Art. 2.3.54, Code Bruxellois de l'Air, du Clim...</td>\n      <td>§ 1er. Sans préjudice du paragraphe 4 du prése...</td>\n      <td>regional</td>\n      <td>Code Bruxellois de l'Air, du Climat et de la M...</td>\n      <td>Mesures sectorielles</td>\n      <td>NaN</td>\n      <td>Dispositions relatives aux transports</td>\n      <td>Stationnement hors voirie</td>\n      <td>Nombre d'emplacements de parcage autorisé</td>\n      <td>NaN</td>\n      <td>Mesures sectorielles, Dispositions relatives a...</td>\n      <td>You will be given one belgian statutory law ar...</td>\n      <td>[context] Je suis en train de construire un im...</td>\n    </tr>\n    <tr>\n      <th>3</th>\n      <td>103</td>\n      <td>104</td>\n      <td>Art. 2.3.55, Code Bruxellois de l'Air, du Clim...</td>\n      <td>§ 1er. Il existe une taxe annuelle nommée \" ch...</td>\n      <td>regional</td>\n      <td>Code Bruxellois de l'Air, du Climat et de la M...</td>\n      <td>Mesures sectorielles</td>\n      <td>NaN</td>\n      <td>Dispositions relatives aux transports</td>\n      <td>Stationnement hors voirie</td>\n      <td>Charge environnementale</td>\n      <td>NaN</td>\n      <td>Mesures sectorielles, Dispositions relatives a...</td>\n      <td>You will be given one belgian statutory law ar...</td>\n      <td>[context] Je viens de prolonger mon permis d'e...</td>\n    </tr>\n    <tr>\n      <th>4</th>\n      <td>104</td>\n      <td>105</td>\n      <td>Art. 2.3.56, Code Bruxellois de l'Air, du Clim...</td>\n      <td>Les redevables de la charge environnementale s...</td>\n      <td>regional</td>\n      <td>Code Bruxellois de l'Air, du Climat et de la M...</td>\n      <td>Mesures sectorielles</td>\n      <td>NaN</td>\n      <td>Dispositions relatives aux transports</td>\n      <td>Stationnement hors voirie</td>\n      <td>Charge environnementale</td>\n      <td>NaN</td>\n      <td>Mesures sectorielles, Dispositions relatives a...</td>\n      <td>You will be given one belgian statutory law ar...</td>\n      <td>[context] Une entreprise a obtenu un permis d'...</td>\n    </tr>\n    <tr>\n      <th>5</th>\n      <td>105</td>\n      <td>106</td>\n      <td>Art. 2.3.57, Code Bruxellois de l'Air, du Clim...</td>\n      <td>La charge environnementale est perçue annuelle...</td>\n      <td>regional</td>\n      <td>Code Bruxellois de l'Air, du Climat et de la M...</td>\n      <td>Mesures sectorielles</td>\n      <td>NaN</td>\n      <td>Dispositions relatives aux transports</td>\n      <td>Stationnement hors voirie</td>\n      <td>Charge environnementale</td>\n      <td>NaN</td>\n      <td>Mesures sectorielles, Dispositions relatives a...</td>\n      <td>You will be given one belgian statutory law ar...</td>\n      <td>[context] Les redevables reçoivent un avertiss...</td>\n    </tr>\n    <tr>\n      <th>6</th>\n      <td>106</td>\n      <td>107</td>\n      <td>Art. 2.3.58, Code Bruxellois de l'Air, du Clim...</td>\n      <td>§ 1er. Le redevable de la charge environnement...</td>\n      <td>regional</td>\n      <td>Code Bruxellois de l'Air, du Climat et de la M...</td>\n      <td>Mesures sectorielles</td>\n      <td>NaN</td>\n      <td>Dispositions relatives aux transports</td>\n      <td>Stationnement hors voirie</td>\n      <td>Charge environnementale</td>\n      <td>NaN</td>\n      <td>Mesures sectorielles, Dispositions relatives a...</td>\n      <td>You will be given one belgian statutory law ar...</td>\n      <td>[context] Je possède un immeuble avec des empl...</td>\n    </tr>\n    <tr>\n      <th>7</th>\n      <td>107</td>\n      <td>108</td>\n      <td>Art. 2.3.59, Code Bruxellois de l'Air, du Clim...</td>\n      <td>§ 1er. La charge environnementale est égalemen...</td>\n      <td>regional</td>\n      <td>Code Bruxellois de l'Air, du Climat et de la M...</td>\n      <td>Mesures sectorielles</td>\n      <td>NaN</td>\n      <td>Dispositions relatives aux transports</td>\n      <td>Stationnement hors voirie</td>\n      <td>Charge environnementale</td>\n      <td>NaN</td>\n      <td>Mesures sectorielles, Dispositions relatives a...</td>\n      <td>You will be given one belgian statutory law ar...</td>\n      <td>[context] Un propriétaire a été surpris en tra...</td>\n    </tr>\n    <tr>\n      <th>8</th>\n      <td>108</td>\n      <td>109</td>\n      <td>Art. 2.3.60, Code Bruxellois de l'Air, du Clim...</td>\n      <td>Le redevable qui conteste tout élément de la c...</td>\n      <td>regional</td>\n      <td>Code Bruxellois de l'Air, du Climat et de la M...</td>\n      <td>Mesures sectorielles</td>\n      <td>NaN</td>\n      <td>Dispositions relatives aux transports</td>\n      <td>Stationnement hors voirie</td>\n      <td>Charge environnementale</td>\n      <td>NaN</td>\n      <td>Mesures sectorielles, Dispositions relatives a...</td>\n      <td>You will be given one belgian statutory law ar...</td>\n      <td>[context] Vous avez reçu un avis de taxe envir...</td>\n    </tr>\n    <tr>\n      <th>9</th>\n      <td>109</td>\n      <td>110</td>\n      <td>Art. 2.3.61, Code Bruxellois de l'Air, du Clim...</td>\n      <td>§ 1er. Sans préjudice de l'action visée à l'ar...</td>\n      <td>regional</td>\n      <td>Code Bruxellois de l'Air, du Climat et de la M...</td>\n      <td>Mesures sectorielles</td>\n      <td>NaN</td>\n      <td>Dispositions relatives aux transports</td>\n      <td>Stationnement hors voirie</td>\n      <td>Charge environnementale</td>\n      <td>NaN</td>\n      <td>Mesures sectorielles, Dispositions relatives a...</td>\n      <td>You will be given one belgian statutory law ar...</td>\n      <td>[context] Un redevable a des difficultés avec ...</td>\n    </tr>\n    <tr>\n      <th>10</th>\n      <td>110</td>\n      <td>111</td>\n      <td>Art. 2.3.62, Code Bruxellois de l'Air, du Clim...</td>\n      <td>Les articles 10, 12, 14, alinéa 1er, 15, 16, 1...</td>\n      <td>regional</td>\n      <td>Code Bruxellois de l'Air, du Climat et de la M...</td>\n      <td>Mesures sectorielles</td>\n      <td>NaN</td>\n      <td>Dispositions relatives aux transports</td>\n      <td>Stationnement hors voirie</td>\n      <td>Charge environnementale</td>\n      <td>NaN</td>\n      <td>Mesures sectorielles, Dispositions relatives a...</td>\n      <td>You will be given one belgian statutory law ar...</td>\n      <td>[context] Une entreprise à Bruxelles doit paye...</td>\n    </tr>\n  </tbody>\n</table>\n</div>"
     },
     "execution_count": 17,
     "metadata": {},
     "output_type": "execute_result"
    }
   ],
   "source": [
    "df"
   ],
   "metadata": {
    "collapsed": false,
    "ExecuteTime": {
     "end_time": "2024-03-05T00:18:55.002236400Z",
     "start_time": "2024-03-05T00:18:54.963866500Z"
    }
   },
   "id": "354d4bbace123e5d"
  },
  {
   "cell_type": "code",
   "execution_count": 11,
   "outputs": [],
   "source": [],
   "metadata": {
    "collapsed": false,
    "ExecuteTime": {
     "end_time": "2024-03-04T23:53:04.247161700Z",
     "start_time": "2024-03-04T23:53:04.204501400Z"
    }
   },
   "id": "632651341afdfaf5"
  },
  {
   "cell_type": "code",
   "execution_count": null,
   "outputs": [],
   "source": [],
   "metadata": {
    "collapsed": false
   },
   "id": "628687bacda8244"
  }
 ],
 "metadata": {
  "kernelspec": {
   "display_name": "Python 3",
   "language": "python",
   "name": "python3"
  },
  "language_info": {
   "codemirror_mode": {
    "name": "ipython",
    "version": 2
   },
   "file_extension": ".py",
   "mimetype": "text/x-python",
   "name": "python",
   "nbconvert_exporter": "python",
   "pygments_lexer": "ipython2",
   "version": "2.7.6"
  }
 },
 "nbformat": 4,
 "nbformat_minor": 5
}
