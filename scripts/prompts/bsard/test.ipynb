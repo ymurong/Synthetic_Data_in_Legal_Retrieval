{
 "cells": [
  {
   "cell_type": "code",
   "execution_count": 19,
   "id": "initial_id",
   "metadata": {
    "collapsed": true,
    "ExecuteTime": {
     "end_time": "2024-03-05T12:02:11.772679500Z",
     "start_time": "2024-03-05T12:02:11.756700900Z"
    }
   },
   "outputs": [],
   "source": [
    "import pandas as pd"
   ]
  },
  {
   "cell_type": "code",
   "execution_count": 26,
   "outputs": [],
   "source": [
    "df = pd.read_json(\"gpt4_generate_only_openai.jsonl\",lines=True)"
   ],
   "metadata": {
    "collapsed": false,
    "ExecuteTime": {
     "end_time": "2024-03-05T12:07:09.219942300Z",
     "start_time": "2024-03-05T12:07:09.062191800Z"
    }
   },
   "id": "db053adc8286b3df"
  },
  {
   "cell_type": "code",
   "execution_count": 27,
   "outputs": [
    {
     "data": {
      "text/plain": "      Unnamed: 0    id                                          reference  \\\n0              0     1  Art. 1.1.1, Code Bruxellois de l'Air, du Clima...   \n1              1     2  Art. 1.1.2, Code Bruxellois de l'Air, du Clima...   \n2              2     3  Art. 1.2.1, Code Bruxellois de l'Air, du Clima...   \n3              3     4  Art. 1.3.1, Code Bruxellois de l'Air, du Clima...   \n4              4     5  Art. 1.4.1, Code Bruxellois de l'Air, du Clima...   \n...          ...   ...                                                ...   \n8716        8716  8717  Art. 1243/2, Code Réglementaire Wallon de l'Ac...   \n8717        8717  8718  Art. 1243/3, Code Réglementaire Wallon de l'Ac...   \n8718        8718  8719  Art. 1243/4, Code Réglementaire Wallon de l'Ac...   \n8719        8719  8720  Art. 1243/5, Code Réglementaire Wallon de l'Ac...   \n8720        8720  8721  Art. 1243/6, Code Réglementaire Wallon de l'Ac...   \n\n                                                article  law_type  \\\n0     Le présent Code règle une matière visée à l'ar...  regional   \n1     Le présent Code transpose en Région de Bruxell...  regional   \n2     Le présent Code poursuit les objectifs suivant...  regional   \n3     Au sens du présent Code, il faut entendre par ...  regional   \n4     Le plan régional Air-Climat-énergie, ci-après ...  regional   \n...                                                 ...       ...   \n8716  Le personnel des services répond aux normes de...  regional   \n8717  Les services répondent aux normes en matière d...  regional   \n8718  La part des prestations de membres du personne...  regional   \n8719  Le service assure en permanence une direction ...  regional   \n8720  Outre les normes d'encadrement définies dans l...  regional   \n\n                                                   code  \\\n0     Code Bruxellois de l'Air, du Climat et de la M...   \n1     Code Bruxellois de l'Air, du Climat et de la M...   \n2     Code Bruxellois de l'Air, du Climat et de la M...   \n3     Code Bruxellois de l'Air, du Climat et de la M...   \n4     Code Bruxellois de l'Air, du Climat et de la M...   \n...                                                 ...   \n8716  Code Réglementaire Wallon de l'Action sociale ...   \n8717  Code Réglementaire Wallon de l'Action sociale ...   \n8718  Code Réglementaire Wallon de l'Action sociale ...   \n8719  Code Réglementaire Wallon de l'Action sociale ...   \n8720  Code Réglementaire Wallon de l'Action sociale ...   \n\n                                       book  part  \\\n0                     Dispositions communes  None   \n1                     Dispositions communes  None   \n2                     Dispositions communes  None   \n3                     Dispositions communes  None   \n4                     Dispositions communes  None   \n...                                     ...   ...   \n8716  Intégration des personnes handicapées  None   \n8717  Intégration des personnes handicapées  None   \n8718  Intégration des personnes handicapées  None   \n8719  Intégration des personnes handicapées  None   \n8720  Intégration des personnes handicapées  None   \n\n                                                    act  \\\n0                                           Généralités   \n1                                           Généralités   \n2                                             Objectifs   \n3                                           Définitions   \n4                      Plan régional air-climat-énergie   \n...                                                 ...   \n8716  Services résidentiels et d'accueil de joursous...   \n8717  Services résidentiels et d'accueil de joursous...   \n8718  Services résidentiels et d'accueil de joursous...   \n8719  Services résidentiels et d'accueil de joursous...   \n8720  Services résidentiels et d'accueil de joursous...   \n\n                        chapter                section  \\\n0                          None                   None   \n1                          None                   None   \n2                          None                   None   \n3                          None                   None   \n4     Contenu et portée du plan                   None   \n...                         ...                    ...   \n8716                   Agrément  Conditions d'agrément   \n8717                   Agrément  Conditions d'agrément   \n8718                   Agrément  Conditions d'agrément   \n8719                   Agrément  Conditions d'agrément   \n8720                   Agrément  Conditions d'agrément   \n\n                             subsection  \\\n0                                  None   \n1                                  None   \n2                                  None   \n3                                  None   \n4                                  None   \n...                                 ...   \n8716  Conditions relatives au personnel   \n8717  Conditions relatives au personnel   \n8718  Conditions relatives au personnel   \n8719  Conditions relatives au personnel   \n8720  Conditions relatives au personnel   \n\n                                            description  \\\n0                    Dispositions communes, Généralités   \n1                    Dispositions communes, Généralités   \n2                      Dispositions communes, Objectifs   \n3                    Dispositions communes, Définitions   \n4     Dispositions communes, Plan régional air-clima...   \n...                                                 ...   \n8716  Intégration des personnes handicapées, Service...   \n8717  Intégration des personnes handicapées, Service...   \n8718  Intégration des personnes handicapées, Service...   \n8719  Intégration des personnes handicapées, Service...   \n8720  Intégration des personnes handicapées, Service...   \n\n                                                 prompt  \\\n0     You will be given one belgian statutory law ar...   \n1     You will be given one belgian statutory law ar...   \n2     You will be given one belgian statutory law ar...   \n3     You will be given one belgian statutory law ar...   \n4     You will be given one belgian statutory law ar...   \n...                                                 ...   \n8716  You will be given one belgian statutory law ar...   \n8717  You will be given one belgian statutory law ar...   \n8718  You will be given one belgian statutory law ar...   \n8719  You will be given one belgian statutory law ar...   \n8720  You will be given one belgian statutory law ar...   \n\n                                     synthetic_question  \n0     Quelles matières sont régies par le présent Co...  \n1     Quelle directive européenne est partiellement ...  \n2     Quelles sont les objectifs principaux poursuiv...  \n3     Quelle définition est donnée pour le terme \"Po...  \n4     Quelles informations minimales doivent figurer...  \n...                                                 ...  \n8716  Quelles normes de qualification doivent répond...  \n8717  Quels sont les articles des annexes qui défini...  \n8718  Quelles prestations de membres du personnel ne...  \n8719  Quelles sont les responsabilités d'un membre d...  \n8720  Quelles sont les fonctions requises pour les t...  \n\n[8721 rows x 15 columns]",
      "text/html": "<div>\n<style scoped>\n    .dataframe tbody tr th:only-of-type {\n        vertical-align: middle;\n    }\n\n    .dataframe tbody tr th {\n        vertical-align: top;\n    }\n\n    .dataframe thead th {\n        text-align: right;\n    }\n</style>\n<table border=\"1\" class=\"dataframe\">\n  <thead>\n    <tr style=\"text-align: right;\">\n      <th></th>\n      <th>Unnamed: 0</th>\n      <th>id</th>\n      <th>reference</th>\n      <th>article</th>\n      <th>law_type</th>\n      <th>code</th>\n      <th>book</th>\n      <th>part</th>\n      <th>act</th>\n      <th>chapter</th>\n      <th>section</th>\n      <th>subsection</th>\n      <th>description</th>\n      <th>prompt</th>\n      <th>synthetic_question</th>\n    </tr>\n  </thead>\n  <tbody>\n    <tr>\n      <th>0</th>\n      <td>0</td>\n      <td>1</td>\n      <td>Art. 1.1.1, Code Bruxellois de l'Air, du Clima...</td>\n      <td>Le présent Code règle une matière visée à l'ar...</td>\n      <td>regional</td>\n      <td>Code Bruxellois de l'Air, du Climat et de la M...</td>\n      <td>Dispositions communes</td>\n      <td>None</td>\n      <td>Généralités</td>\n      <td>None</td>\n      <td>None</td>\n      <td>None</td>\n      <td>Dispositions communes, Généralités</td>\n      <td>You will be given one belgian statutory law ar...</td>\n      <td>Quelles matières sont régies par le présent Co...</td>\n    </tr>\n    <tr>\n      <th>1</th>\n      <td>1</td>\n      <td>2</td>\n      <td>Art. 1.1.2, Code Bruxellois de l'Air, du Clima...</td>\n      <td>Le présent Code transpose en Région de Bruxell...</td>\n      <td>regional</td>\n      <td>Code Bruxellois de l'Air, du Climat et de la M...</td>\n      <td>Dispositions communes</td>\n      <td>None</td>\n      <td>Généralités</td>\n      <td>None</td>\n      <td>None</td>\n      <td>None</td>\n      <td>Dispositions communes, Généralités</td>\n      <td>You will be given one belgian statutory law ar...</td>\n      <td>Quelle directive européenne est partiellement ...</td>\n    </tr>\n    <tr>\n      <th>2</th>\n      <td>2</td>\n      <td>3</td>\n      <td>Art. 1.2.1, Code Bruxellois de l'Air, du Clima...</td>\n      <td>Le présent Code poursuit les objectifs suivant...</td>\n      <td>regional</td>\n      <td>Code Bruxellois de l'Air, du Climat et de la M...</td>\n      <td>Dispositions communes</td>\n      <td>None</td>\n      <td>Objectifs</td>\n      <td>None</td>\n      <td>None</td>\n      <td>None</td>\n      <td>Dispositions communes, Objectifs</td>\n      <td>You will be given one belgian statutory law ar...</td>\n      <td>Quelles sont les objectifs principaux poursuiv...</td>\n    </tr>\n    <tr>\n      <th>3</th>\n      <td>3</td>\n      <td>4</td>\n      <td>Art. 1.3.1, Code Bruxellois de l'Air, du Clima...</td>\n      <td>Au sens du présent Code, il faut entendre par ...</td>\n      <td>regional</td>\n      <td>Code Bruxellois de l'Air, du Climat et de la M...</td>\n      <td>Dispositions communes</td>\n      <td>None</td>\n      <td>Définitions</td>\n      <td>None</td>\n      <td>None</td>\n      <td>None</td>\n      <td>Dispositions communes, Définitions</td>\n      <td>You will be given one belgian statutory law ar...</td>\n      <td>Quelle définition est donnée pour le terme \"Po...</td>\n    </tr>\n    <tr>\n      <th>4</th>\n      <td>4</td>\n      <td>5</td>\n      <td>Art. 1.4.1, Code Bruxellois de l'Air, du Clima...</td>\n      <td>Le plan régional Air-Climat-énergie, ci-après ...</td>\n      <td>regional</td>\n      <td>Code Bruxellois de l'Air, du Climat et de la M...</td>\n      <td>Dispositions communes</td>\n      <td>None</td>\n      <td>Plan régional air-climat-énergie</td>\n      <td>Contenu et portée du plan</td>\n      <td>None</td>\n      <td>None</td>\n      <td>Dispositions communes, Plan régional air-clima...</td>\n      <td>You will be given one belgian statutory law ar...</td>\n      <td>Quelles informations minimales doivent figurer...</td>\n    </tr>\n    <tr>\n      <th>...</th>\n      <td>...</td>\n      <td>...</td>\n      <td>...</td>\n      <td>...</td>\n      <td>...</td>\n      <td>...</td>\n      <td>...</td>\n      <td>...</td>\n      <td>...</td>\n      <td>...</td>\n      <td>...</td>\n      <td>...</td>\n      <td>...</td>\n      <td>...</td>\n      <td>...</td>\n    </tr>\n    <tr>\n      <th>8716</th>\n      <td>8716</td>\n      <td>8717</td>\n      <td>Art. 1243/2, Code Réglementaire Wallon de l'Ac...</td>\n      <td>Le personnel des services répond aux normes de...</td>\n      <td>regional</td>\n      <td>Code Réglementaire Wallon de l'Action sociale ...</td>\n      <td>Intégration des personnes handicapées</td>\n      <td>None</td>\n      <td>Services résidentiels et d'accueil de joursous...</td>\n      <td>Agrément</td>\n      <td>Conditions d'agrément</td>\n      <td>Conditions relatives au personnel</td>\n      <td>Intégration des personnes handicapées, Service...</td>\n      <td>You will be given one belgian statutory law ar...</td>\n      <td>Quelles normes de qualification doivent répond...</td>\n    </tr>\n    <tr>\n      <th>8717</th>\n      <td>8717</td>\n      <td>8718</td>\n      <td>Art. 1243/3, Code Réglementaire Wallon de l'Ac...</td>\n      <td>Les services répondent aux normes en matière d...</td>\n      <td>regional</td>\n      <td>Code Réglementaire Wallon de l'Action sociale ...</td>\n      <td>Intégration des personnes handicapées</td>\n      <td>None</td>\n      <td>Services résidentiels et d'accueil de joursous...</td>\n      <td>Agrément</td>\n      <td>Conditions d'agrément</td>\n      <td>Conditions relatives au personnel</td>\n      <td>Intégration des personnes handicapées, Service...</td>\n      <td>You will be given one belgian statutory law ar...</td>\n      <td>Quels sont les articles des annexes qui défini...</td>\n    </tr>\n    <tr>\n      <th>8718</th>\n      <td>8718</td>\n      <td>8719</td>\n      <td>Art. 1243/4, Code Réglementaire Wallon de l'Ac...</td>\n      <td>La part des prestations de membres du personne...</td>\n      <td>regional</td>\n      <td>Code Réglementaire Wallon de l'Action sociale ...</td>\n      <td>Intégration des personnes handicapées</td>\n      <td>None</td>\n      <td>Services résidentiels et d'accueil de joursous...</td>\n      <td>Agrément</td>\n      <td>Conditions d'agrément</td>\n      <td>Conditions relatives au personnel</td>\n      <td>Intégration des personnes handicapées, Service...</td>\n      <td>You will be given one belgian statutory law ar...</td>\n      <td>Quelles prestations de membres du personnel ne...</td>\n    </tr>\n    <tr>\n      <th>8719</th>\n      <td>8719</td>\n      <td>8720</td>\n      <td>Art. 1243/5, Code Réglementaire Wallon de l'Ac...</td>\n      <td>Le service assure en permanence une direction ...</td>\n      <td>regional</td>\n      <td>Code Réglementaire Wallon de l'Action sociale ...</td>\n      <td>Intégration des personnes handicapées</td>\n      <td>None</td>\n      <td>Services résidentiels et d'accueil de joursous...</td>\n      <td>Agrément</td>\n      <td>Conditions d'agrément</td>\n      <td>Conditions relatives au personnel</td>\n      <td>Intégration des personnes handicapées, Service...</td>\n      <td>You will be given one belgian statutory law ar...</td>\n      <td>Quelles sont les responsabilités d'un membre d...</td>\n    </tr>\n    <tr>\n      <th>8720</th>\n      <td>8720</td>\n      <td>8721</td>\n      <td>Art. 1243/6, Code Réglementaire Wallon de l'Ac...</td>\n      <td>Outre les normes d'encadrement définies dans l...</td>\n      <td>regional</td>\n      <td>Code Réglementaire Wallon de l'Action sociale ...</td>\n      <td>Intégration des personnes handicapées</td>\n      <td>None</td>\n      <td>Services résidentiels et d'accueil de joursous...</td>\n      <td>Agrément</td>\n      <td>Conditions d'agrément</td>\n      <td>Conditions relatives au personnel</td>\n      <td>Intégration des personnes handicapées, Service...</td>\n      <td>You will be given one belgian statutory law ar...</td>\n      <td>Quelles sont les fonctions requises pour les t...</td>\n    </tr>\n  </tbody>\n</table>\n<p>8721 rows × 15 columns</p>\n</div>"
     },
     "execution_count": 27,
     "metadata": {},
     "output_type": "execute_result"
    }
   ],
   "source": [
    "df"
   ],
   "metadata": {
    "collapsed": false,
    "ExecuteTime": {
     "end_time": "2024-03-05T12:07:09.266379900Z",
     "start_time": "2024-03-05T12:07:09.234965400Z"
    }
   },
   "id": "354d4bbace123e5d"
  },
  {
   "cell_type": "code",
   "execution_count": 11,
   "outputs": [],
   "source": [],
   "metadata": {
    "collapsed": false,
    "ExecuteTime": {
     "end_time": "2024-03-04T23:53:04.247161700Z",
     "start_time": "2024-03-04T23:53:04.204501400Z"
    }
   },
   "id": "632651341afdfaf5"
  },
  {
   "cell_type": "code",
   "execution_count": null,
   "outputs": [],
   "source": [],
   "metadata": {
    "collapsed": false
   },
   "id": "628687bacda8244"
  }
 ],
 "metadata": {
  "kernelspec": {
   "display_name": "Python 3",
   "language": "python",
   "name": "python3"
  },
  "language_info": {
   "codemirror_mode": {
    "name": "ipython",
    "version": 2
   },
   "file_extension": ".py",
   "mimetype": "text/x-python",
   "name": "python",
   "nbconvert_exporter": "python",
   "pygments_lexer": "ipython2",
   "version": "2.7.6"
  }
 },
 "nbformat": 4,
 "nbformat_minor": 5
}
