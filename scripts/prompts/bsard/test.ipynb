{
 "cells": [
  {
   "cell_type": "code",
   "execution_count": 19,
   "id": "initial_id",
   "metadata": {
    "collapsed": true,
    "ExecuteTime": {
     "end_time": "2024-03-05T12:02:11.772679500Z",
     "start_time": "2024-03-05T12:02:11.756700900Z"
    }
   },
   "outputs": [],
   "source": [
    "import pandas as pd"
   ]
  },
  {
   "cell_type": "code",
   "execution_count": 22,
   "outputs": [],
   "source": [
    "df = pd.read_json(\"gpt4_generate_question_type_openai.jsonl\",lines=True)"
   ],
   "metadata": {
    "collapsed": false,
    "ExecuteTime": {
     "end_time": "2024-03-05T12:02:16.414603400Z",
     "start_time": "2024-03-05T12:02:16.278480600Z"
    }
   },
   "id": "db053adc8286b3df"
  },
  {
   "cell_type": "code",
   "execution_count": 23,
   "outputs": [
    {
     "data": {
      "text/plain": "      Unnamed: 0    id                                          reference  \\\n0              0     1  Art. 1.1.1, Code Bruxellois de l'Air, du Clima...   \n1              1     2  Art. 1.1.2, Code Bruxellois de l'Air, du Clima...   \n2              2     3  Art. 1.2.1, Code Bruxellois de l'Air, du Clima...   \n3              3     4  Art. 1.3.1, Code Bruxellois de l'Air, du Clima...   \n4              4     5  Art. 1.4.1, Code Bruxellois de l'Air, du Clima...   \n...          ...   ...                                                ...   \n6266        6266  6267  Art. 157, Code Pénal (Livre 2, Titre II, Chapi...   \n6267        6267  6268  Art. 158, Code Pénal (Livre 2, Titre II, Chapi...   \n6268        6268  6269  Art. 159, Code Pénal (Livre 2, Titre II, Chapi...   \n6269        6269  6270  Art. 160, Code Pénal (Livre 2, Titre III, Chap...   \n6270        6270  6271  Art. 161, Code Pénal (Livre 2, Titre III, Chap...   \n\n                                                article  law_type  \\\n0     Le présent Code règle une matière visée à l'ar...  regional   \n1     Le présent Code transpose en Région de Bruxell...  regional   \n2     Le présent Code poursuit les objectifs suivant...  regional   \n3     Au sens du présent Code, il faut entendre par ...  regional   \n4     Le plan régional Air-Climat-énergie, ci-après ...  regional   \n...                                                 ...       ...   \n6266  Les directeurs, commandants, gardiens et conci...   federal   \n6267  Seront punis d'une amende de deux cents eurosà...   federal   \n6268  Seront punis de la même peine les officiers du...   federal   \n6269  Quiconque aura contrefait des monnaies d'or ou...   federal   \n6270  Sera puni de la (réclusion de cinq ans à dix a...   federal   \n\n                                                   code  \\\n0     Code Bruxellois de l'Air, du Climat et de la M...   \n1     Code Bruxellois de l'Air, du Climat et de la M...   \n2     Code Bruxellois de l'Air, du Climat et de la M...   \n3     Code Bruxellois de l'Air, du Climat et de la M...   \n4     Code Bruxellois de l'Air, du Climat et de la M...   \n...                                                 ...   \n6266                                         Code Pénal   \n6267                                         Code Pénal   \n6268                                         Code Pénal   \n6269                                         Code Pénal   \n6270                                         Code Pénal   \n\n                                                   book  part  \\\n0                                 Dispositions communes   NaN   \n1                                 Dispositions communes   NaN   \n2                                 Dispositions communes   NaN   \n3                                 Dispositions communes   NaN   \n4                                 Dispositions communes   NaN   \n...                                                 ...   ...   \n6266  Des infractions et de leur repression en parti...   NaN   \n6267  Des infractions et de leur repression en parti...   NaN   \n6268  Des infractions et de leur repression en parti...   NaN   \n6269  Des infractions et de leur repression en parti...   NaN   \n6270  Des infractions et de leur repression en parti...   NaN   \n\n                                                    act  \\\n0                                           Généralités   \n1                                           Généralités   \n2                                             Objectifs   \n3                                           Définitions   \n4                      Plan régional air-climat-énergie   \n...                                                 ...   \n6266  Des crimes et des delits qui portent atteinte ...   \n6267  Des crimes et des delits qui portent atteinte ...   \n6268  Des crimes et des delits qui portent atteinte ...   \n6269   Des crimes et des delits contre la foi publique.   \n6270   Des crimes et des delits contre la foi publique.   \n\n                                                chapter section subsection  \\\n0                                                  None    None       None   \n1                                                  None    None       None   \n2                                                  None    None       None   \n3                                                  None    None       None   \n4                             Contenu et portée du plan    None       None   \n...                                                 ...     ...        ...   \n6266  Des atteintes portees par des fonctionnaires p...    None       None   \n6267  Des atteintes portees par des fonctionnaires p...    None       None   \n6268  Des atteintes portees par des fonctionnaires p...    None       None   \n6269                              De la fausse monnaie.    None       None   \n6270                              De la fausse monnaie.    None       None   \n\n                                            description  \\\n0                    Dispositions communes, Généralités   \n1                    Dispositions communes, Généralités   \n2                      Dispositions communes, Objectifs   \n3                    Dispositions communes, Définitions   \n4     Dispositions communes, Plan régional air-clima...   \n...                                                 ...   \n6266  Des infractions et de leur repression en parti...   \n6267  Des infractions et de leur repression en parti...   \n6268  Des infractions et de leur repression en parti...   \n6269  Des infractions et de leur repression en parti...   \n6270  Des infractions et de leur repression en parti...   \n\n                                                 prompt  \\\n0     You will be given one belgian statutory law ar...   \n1     You will be given one belgian statutory law ar...   \n2     You will be given one belgian statutory law ar...   \n3     You will be given one belgian statutory law ar...   \n4     You will be given one belgian statutory law ar...   \n...                                                 ...   \n6266  You will be given one belgian statutory law ar...   \n6267  You will be given one belgian statutory law ar...   \n6268  You will be given one belgian statutory law ar...   \n6269  You will be given one belgian statutory law ar...   \n6270  You will be given one belgian statutory law ar...   \n\n                                     synthetic_question  \n0     Est-ce que le présent Code régule une matière ...  \n1     Est-ce que le présent Code transpose en Région...  \n2     Quels sont les objectifs poursuivis par le pré...  \n3     La question est : Est-ce que les intercommunal...  \n4     Quels sont les objectifs à atteindre sur une p...  \n...                                                 ...  \n6266  Est-ce que les directeurs de maisons de dépôt ...  \n6267  Est-il possible qu'un juge, un officier du min...  \n6268  Est-ce que les officiers du ministère public p...  \n6269  Quel est le montant de la peine encourue par q...  \n6270  Peut-on être condamné pour altération de monna...  \n\n[6271 rows x 15 columns]",
      "text/html": "<div>\n<style scoped>\n    .dataframe tbody tr th:only-of-type {\n        vertical-align: middle;\n    }\n\n    .dataframe tbody tr th {\n        vertical-align: top;\n    }\n\n    .dataframe thead th {\n        text-align: right;\n    }\n</style>\n<table border=\"1\" class=\"dataframe\">\n  <thead>\n    <tr style=\"text-align: right;\">\n      <th></th>\n      <th>Unnamed: 0</th>\n      <th>id</th>\n      <th>reference</th>\n      <th>article</th>\n      <th>law_type</th>\n      <th>code</th>\n      <th>book</th>\n      <th>part</th>\n      <th>act</th>\n      <th>chapter</th>\n      <th>section</th>\n      <th>subsection</th>\n      <th>description</th>\n      <th>prompt</th>\n      <th>synthetic_question</th>\n    </tr>\n  </thead>\n  <tbody>\n    <tr>\n      <th>0</th>\n      <td>0</td>\n      <td>1</td>\n      <td>Art. 1.1.1, Code Bruxellois de l'Air, du Clima...</td>\n      <td>Le présent Code règle une matière visée à l'ar...</td>\n      <td>regional</td>\n      <td>Code Bruxellois de l'Air, du Climat et de la M...</td>\n      <td>Dispositions communes</td>\n      <td>NaN</td>\n      <td>Généralités</td>\n      <td>None</td>\n      <td>None</td>\n      <td>None</td>\n      <td>Dispositions communes, Généralités</td>\n      <td>You will be given one belgian statutory law ar...</td>\n      <td>Est-ce que le présent Code régule une matière ...</td>\n    </tr>\n    <tr>\n      <th>1</th>\n      <td>1</td>\n      <td>2</td>\n      <td>Art. 1.1.2, Code Bruxellois de l'Air, du Clima...</td>\n      <td>Le présent Code transpose en Région de Bruxell...</td>\n      <td>regional</td>\n      <td>Code Bruxellois de l'Air, du Climat et de la M...</td>\n      <td>Dispositions communes</td>\n      <td>NaN</td>\n      <td>Généralités</td>\n      <td>None</td>\n      <td>None</td>\n      <td>None</td>\n      <td>Dispositions communes, Généralités</td>\n      <td>You will be given one belgian statutory law ar...</td>\n      <td>Est-ce que le présent Code transpose en Région...</td>\n    </tr>\n    <tr>\n      <th>2</th>\n      <td>2</td>\n      <td>3</td>\n      <td>Art. 1.2.1, Code Bruxellois de l'Air, du Clima...</td>\n      <td>Le présent Code poursuit les objectifs suivant...</td>\n      <td>regional</td>\n      <td>Code Bruxellois de l'Air, du Climat et de la M...</td>\n      <td>Dispositions communes</td>\n      <td>NaN</td>\n      <td>Objectifs</td>\n      <td>None</td>\n      <td>None</td>\n      <td>None</td>\n      <td>Dispositions communes, Objectifs</td>\n      <td>You will be given one belgian statutory law ar...</td>\n      <td>Quels sont les objectifs poursuivis par le pré...</td>\n    </tr>\n    <tr>\n      <th>3</th>\n      <td>3</td>\n      <td>4</td>\n      <td>Art. 1.3.1, Code Bruxellois de l'Air, du Clima...</td>\n      <td>Au sens du présent Code, il faut entendre par ...</td>\n      <td>regional</td>\n      <td>Code Bruxellois de l'Air, du Climat et de la M...</td>\n      <td>Dispositions communes</td>\n      <td>NaN</td>\n      <td>Définitions</td>\n      <td>None</td>\n      <td>None</td>\n      <td>None</td>\n      <td>Dispositions communes, Définitions</td>\n      <td>You will be given one belgian statutory law ar...</td>\n      <td>La question est : Est-ce que les intercommunal...</td>\n    </tr>\n    <tr>\n      <th>4</th>\n      <td>4</td>\n      <td>5</td>\n      <td>Art. 1.4.1, Code Bruxellois de l'Air, du Clima...</td>\n      <td>Le plan régional Air-Climat-énergie, ci-après ...</td>\n      <td>regional</td>\n      <td>Code Bruxellois de l'Air, du Climat et de la M...</td>\n      <td>Dispositions communes</td>\n      <td>NaN</td>\n      <td>Plan régional air-climat-énergie</td>\n      <td>Contenu et portée du plan</td>\n      <td>None</td>\n      <td>None</td>\n      <td>Dispositions communes, Plan régional air-clima...</td>\n      <td>You will be given one belgian statutory law ar...</td>\n      <td>Quels sont les objectifs à atteindre sur une p...</td>\n    </tr>\n    <tr>\n      <th>...</th>\n      <td>...</td>\n      <td>...</td>\n      <td>...</td>\n      <td>...</td>\n      <td>...</td>\n      <td>...</td>\n      <td>...</td>\n      <td>...</td>\n      <td>...</td>\n      <td>...</td>\n      <td>...</td>\n      <td>...</td>\n      <td>...</td>\n      <td>...</td>\n      <td>...</td>\n    </tr>\n    <tr>\n      <th>6266</th>\n      <td>6266</td>\n      <td>6267</td>\n      <td>Art. 157, Code Pénal (Livre 2, Titre II, Chapi...</td>\n      <td>Les directeurs, commandants, gardiens et conci...</td>\n      <td>federal</td>\n      <td>Code Pénal</td>\n      <td>Des infractions et de leur repression en parti...</td>\n      <td>NaN</td>\n      <td>Des crimes et des delits qui portent atteinte ...</td>\n      <td>Des atteintes portees par des fonctionnaires p...</td>\n      <td>None</td>\n      <td>None</td>\n      <td>Des infractions et de leur repression en parti...</td>\n      <td>You will be given one belgian statutory law ar...</td>\n      <td>Est-ce que les directeurs de maisons de dépôt ...</td>\n    </tr>\n    <tr>\n      <th>6267</th>\n      <td>6267</td>\n      <td>6268</td>\n      <td>Art. 158, Code Pénal (Livre 2, Titre II, Chapi...</td>\n      <td>Seront punis d'une amende de deux cents eurosà...</td>\n      <td>federal</td>\n      <td>Code Pénal</td>\n      <td>Des infractions et de leur repression en parti...</td>\n      <td>NaN</td>\n      <td>Des crimes et des delits qui portent atteinte ...</td>\n      <td>Des atteintes portees par des fonctionnaires p...</td>\n      <td>None</td>\n      <td>None</td>\n      <td>Des infractions et de leur repression en parti...</td>\n      <td>You will be given one belgian statutory law ar...</td>\n      <td>Est-il possible qu'un juge, un officier du min...</td>\n    </tr>\n    <tr>\n      <th>6268</th>\n      <td>6268</td>\n      <td>6269</td>\n      <td>Art. 159, Code Pénal (Livre 2, Titre II, Chapi...</td>\n      <td>Seront punis de la même peine les officiers du...</td>\n      <td>federal</td>\n      <td>Code Pénal</td>\n      <td>Des infractions et de leur repression en parti...</td>\n      <td>NaN</td>\n      <td>Des crimes et des delits qui portent atteinte ...</td>\n      <td>Des atteintes portees par des fonctionnaires p...</td>\n      <td>None</td>\n      <td>None</td>\n      <td>Des infractions et de leur repression en parti...</td>\n      <td>You will be given one belgian statutory law ar...</td>\n      <td>Est-ce que les officiers du ministère public p...</td>\n    </tr>\n    <tr>\n      <th>6269</th>\n      <td>6269</td>\n      <td>6270</td>\n      <td>Art. 160, Code Pénal (Livre 2, Titre III, Chap...</td>\n      <td>Quiconque aura contrefait des monnaies d'or ou...</td>\n      <td>federal</td>\n      <td>Code Pénal</td>\n      <td>Des infractions et de leur repression en parti...</td>\n      <td>NaN</td>\n      <td>Des crimes et des delits contre la foi publique.</td>\n      <td>De la fausse monnaie.</td>\n      <td>None</td>\n      <td>None</td>\n      <td>Des infractions et de leur repression en parti...</td>\n      <td>You will be given one belgian statutory law ar...</td>\n      <td>Quel est le montant de la peine encourue par q...</td>\n    </tr>\n    <tr>\n      <th>6270</th>\n      <td>6270</td>\n      <td>6271</td>\n      <td>Art. 161, Code Pénal (Livre 2, Titre III, Chap...</td>\n      <td>Sera puni de la (réclusion de cinq ans à dix a...</td>\n      <td>federal</td>\n      <td>Code Pénal</td>\n      <td>Des infractions et de leur repression en parti...</td>\n      <td>NaN</td>\n      <td>Des crimes et des delits contre la foi publique.</td>\n      <td>De la fausse monnaie.</td>\n      <td>None</td>\n      <td>None</td>\n      <td>Des infractions et de leur repression en parti...</td>\n      <td>You will be given one belgian statutory law ar...</td>\n      <td>Peut-on être condamné pour altération de monna...</td>\n    </tr>\n  </tbody>\n</table>\n<p>6271 rows × 15 columns</p>\n</div>"
     },
     "execution_count": 23,
     "metadata": {},
     "output_type": "execute_result"
    }
   ],
   "source": [
    "df"
   ],
   "metadata": {
    "collapsed": false,
    "ExecuteTime": {
     "end_time": "2024-03-05T12:02:17.019649200Z",
     "start_time": "2024-03-05T12:02:16.976582100Z"
    }
   },
   "id": "354d4bbace123e5d"
  },
  {
   "cell_type": "code",
   "execution_count": 11,
   "outputs": [],
   "source": [],
   "metadata": {
    "collapsed": false,
    "ExecuteTime": {
     "end_time": "2024-03-04T23:53:04.247161700Z",
     "start_time": "2024-03-04T23:53:04.204501400Z"
    }
   },
   "id": "632651341afdfaf5"
  },
  {
   "cell_type": "code",
   "execution_count": null,
   "outputs": [],
   "source": [],
   "metadata": {
    "collapsed": false
   },
   "id": "628687bacda8244"
  }
 ],
 "metadata": {
  "kernelspec": {
   "display_name": "Python 3",
   "language": "python",
   "name": "python3"
  },
  "language_info": {
   "codemirror_mode": {
    "name": "ipython",
    "version": 2
   },
   "file_extension": ".py",
   "mimetype": "text/x-python",
   "name": "python",
   "nbconvert_exporter": "python",
   "pygments_lexer": "ipython2",
   "version": "2.7.6"
  }
 },
 "nbformat": 4,
 "nbformat_minor": 5
}
