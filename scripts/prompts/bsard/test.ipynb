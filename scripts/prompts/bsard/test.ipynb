{
 "cells": [
  {
   "cell_type": "code",
   "execution_count": 1,
   "id": "initial_id",
   "metadata": {
    "collapsed": true,
    "ExecuteTime": {
     "end_time": "2024-03-04T22:36:05.392654700Z",
     "start_time": "2024-03-04T22:36:04.424430100Z"
    }
   },
   "outputs": [],
   "source": [
    "import pandas as pd"
   ]
  },
  {
   "cell_type": "code",
   "execution_count": 4,
   "outputs": [],
   "source": [
    "df = pd.read_json(\"gpt4_generate_only_openai.jsonl\",lines=True)"
   ],
   "metadata": {
    "collapsed": false,
    "ExecuteTime": {
     "end_time": "2024-03-04T23:31:47.908314700Z",
     "start_time": "2024-03-04T23:31:47.885806100Z"
    }
   },
   "id": "db053adc8286b3df"
  },
  {
   "cell_type": "code",
   "execution_count": 5,
   "outputs": [
    {
     "data": {
      "text/plain": "    Unnamed: 0  id                                          reference  \\\n0            0   1  Art. 1.1.1, Code Bruxellois de l'Air, du Clima...   \n1            1   2  Art. 1.1.2, Code Bruxellois de l'Air, du Clima...   \n2            2   3  Art. 1.2.1, Code Bruxellois de l'Air, du Clima...   \n3            3   4  Art. 1.3.1, Code Bruxellois de l'Air, du Clima...   \n4            4   5  Art. 1.4.1, Code Bruxellois de l'Air, du Clima...   \n5            5   6  Art. 1.4.2, Code Bruxellois de l'Air, du Clima...   \n6            6   7  Art. 1.4.3, Code Bruxellois de l'Air, du Clima...   \n7            7   8  Art. 1.4.4, Code Bruxellois de l'Air, du Clima...   \n8            8   9  Art. 1.4.5, Code Bruxellois de l'Air, du Clima...   \n9            9  10  Art. 1.4.6, Code Bruxellois de l'Air, du Clima...   \n10          10  11  Art. 1.4.7, Code Bruxellois de l'Air, du Clima...   \n\n                                              article  law_type  \\\n0   Le présent Code règle une matière visée à l'ar...  regional   \n1   Le présent Code transpose en Région de Bruxell...  regional   \n2   Le présent Code poursuit les objectifs suivant...  regional   \n3   Au sens du présent Code, il faut entendre par ...  regional   \n4   Le plan régional Air-Climat-énergie, ci-après ...  regional   \n5   Les plans, les programmes et les documents d'o...  regional   \n6   Le plan est établi tous les cinq ans. Il reste...  regional   \n7   Le plan est soumis à une évaluation environnem...  regional   \n8   En collaboration avec les administrations régi...  regional   \n9   L'avant-projet de plan tel qu'approuvé par le ...  regional   \n10  Le Gouvernement transmet le projet de plan à B...  regional   \n\n                                                 code                   book  \\\n0   Code Bruxellois de l'Air, du Climat et de la M...  Dispositions communes   \n1   Code Bruxellois de l'Air, du Climat et de la M...  Dispositions communes   \n2   Code Bruxellois de l'Air, du Climat et de la M...  Dispositions communes   \n3   Code Bruxellois de l'Air, du Climat et de la M...  Dispositions communes   \n4   Code Bruxellois de l'Air, du Climat et de la M...  Dispositions communes   \n5   Code Bruxellois de l'Air, du Climat et de la M...  Dispositions communes   \n6   Code Bruxellois de l'Air, du Climat et de la M...  Dispositions communes   \n7   Code Bruxellois de l'Air, du Climat et de la M...  Dispositions communes   \n8   Code Bruxellois de l'Air, du Climat et de la M...  Dispositions communes   \n9   Code Bruxellois de l'Air, du Climat et de la M...  Dispositions communes   \n10  Code Bruxellois de l'Air, du Climat et de la M...  Dispositions communes   \n\n    part                               act                          chapter  \\\n0    NaN                       Généralités                             None   \n1    NaN                       Généralités                             None   \n2    NaN                         Objectifs                             None   \n3    NaN                       Définitions                             None   \n4    NaN  Plan régional air-climat-énergie        Contenu et portée du plan   \n5    NaN  Plan régional air-climat-énergie        Contenu et portée du plan   \n6    NaN  Plan régional air-climat-énergie        Contenu et portée du plan   \n7    NaN  Plan régional air-climat-énergie  Procédure d'élaboration du plan   \n8    NaN  Plan régional air-climat-énergie  Procédure d'élaboration du plan   \n9    NaN  Plan régional air-climat-énergie  Procédure d'élaboration du plan   \n10   NaN  Plan régional air-climat-énergie  Procédure d'élaboration du plan   \n\n                        section  subsection  \\\n0                          None         NaN   \n1                          None         NaN   \n2                          None         NaN   \n3                          None         NaN   \n4                          None         NaN   \n5                          None         NaN   \n6                          None         NaN   \n7   Evaluation environnementale         NaN   \n8   Evaluation environnementale         NaN   \n9   Evaluation environnementale         NaN   \n10  Evaluation environnementale         NaN   \n\n                                          description  \\\n0                  Dispositions communes, Généralités   \n1                  Dispositions communes, Généralités   \n2                    Dispositions communes, Objectifs   \n3                  Dispositions communes, Définitions   \n4   Dispositions communes, Plan régional air-clima...   \n5   Dispositions communes, Plan régional air-clima...   \n6   Dispositions communes, Plan régional air-clima...   \n7   Dispositions communes, Plan régional air-clima...   \n8   Dispositions communes, Plan régional air-clima...   \n9   Dispositions communes, Plan régional air-clima...   \n10  Dispositions communes, Plan régional air-clima...   \n\n                                               prompt  \\\n0   You will be given one belgian statutory law ar...   \n1   You will be given one belgian statutory law ar...   \n2   You will be given one belgian statutory law ar...   \n3   You will be given one belgian statutory law ar...   \n4   You will be given one belgian statutory law ar...   \n5   You will be given one belgian statutory law ar...   \n6   You will be given one belgian statutory law ar...   \n7   You will be given one belgian statutory law ar...   \n8   You will be given one belgian statutory law ar...   \n9   You will be given one belgian statutory law ar...   \n10  You will be given one belgian statutory law ar...   \n\n                                   synthetic_question  \n0   Quelle matière est régie par le présent Code s...  \n1   Quelles directives européennes sont partiellem...  \n2   Quelles sont les neuf principaux objectifs pou...  \n3   Quelles entités sont considérées comme faisant...  \n4   Quelles sont les parties composant le plan rég...  \n5   La politique d'aménagement du territoire et de...  \n6   À quelle fréquence est-il établi (le plan) et ...  \n7   Quelles sont les dispositions du présent Code ...  \n8   Quelles sont les administrations régionales co...  \n9   Quelles informations doivent être incluses dan...  \n10  Quelles autorités reçoivent le projet de plan ...  ",
      "text/html": "<div>\n<style scoped>\n    .dataframe tbody tr th:only-of-type {\n        vertical-align: middle;\n    }\n\n    .dataframe tbody tr th {\n        vertical-align: top;\n    }\n\n    .dataframe thead th {\n        text-align: right;\n    }\n</style>\n<table border=\"1\" class=\"dataframe\">\n  <thead>\n    <tr style=\"text-align: right;\">\n      <th></th>\n      <th>Unnamed: 0</th>\n      <th>id</th>\n      <th>reference</th>\n      <th>article</th>\n      <th>law_type</th>\n      <th>code</th>\n      <th>book</th>\n      <th>part</th>\n      <th>act</th>\n      <th>chapter</th>\n      <th>section</th>\n      <th>subsection</th>\n      <th>description</th>\n      <th>prompt</th>\n      <th>synthetic_question</th>\n    </tr>\n  </thead>\n  <tbody>\n    <tr>\n      <th>0</th>\n      <td>0</td>\n      <td>1</td>\n      <td>Art. 1.1.1, Code Bruxellois de l'Air, du Clima...</td>\n      <td>Le présent Code règle une matière visée à l'ar...</td>\n      <td>regional</td>\n      <td>Code Bruxellois de l'Air, du Climat et de la M...</td>\n      <td>Dispositions communes</td>\n      <td>NaN</td>\n      <td>Généralités</td>\n      <td>None</td>\n      <td>None</td>\n      <td>NaN</td>\n      <td>Dispositions communes, Généralités</td>\n      <td>You will be given one belgian statutory law ar...</td>\n      <td>Quelle matière est régie par le présent Code s...</td>\n    </tr>\n    <tr>\n      <th>1</th>\n      <td>1</td>\n      <td>2</td>\n      <td>Art. 1.1.2, Code Bruxellois de l'Air, du Clima...</td>\n      <td>Le présent Code transpose en Région de Bruxell...</td>\n      <td>regional</td>\n      <td>Code Bruxellois de l'Air, du Climat et de la M...</td>\n      <td>Dispositions communes</td>\n      <td>NaN</td>\n      <td>Généralités</td>\n      <td>None</td>\n      <td>None</td>\n      <td>NaN</td>\n      <td>Dispositions communes, Généralités</td>\n      <td>You will be given one belgian statutory law ar...</td>\n      <td>Quelles directives européennes sont partiellem...</td>\n    </tr>\n    <tr>\n      <th>2</th>\n      <td>2</td>\n      <td>3</td>\n      <td>Art. 1.2.1, Code Bruxellois de l'Air, du Clima...</td>\n      <td>Le présent Code poursuit les objectifs suivant...</td>\n      <td>regional</td>\n      <td>Code Bruxellois de l'Air, du Climat et de la M...</td>\n      <td>Dispositions communes</td>\n      <td>NaN</td>\n      <td>Objectifs</td>\n      <td>None</td>\n      <td>None</td>\n      <td>NaN</td>\n      <td>Dispositions communes, Objectifs</td>\n      <td>You will be given one belgian statutory law ar...</td>\n      <td>Quelles sont les neuf principaux objectifs pou...</td>\n    </tr>\n    <tr>\n      <th>3</th>\n      <td>3</td>\n      <td>4</td>\n      <td>Art. 1.3.1, Code Bruxellois de l'Air, du Clima...</td>\n      <td>Au sens du présent Code, il faut entendre par ...</td>\n      <td>regional</td>\n      <td>Code Bruxellois de l'Air, du Climat et de la M...</td>\n      <td>Dispositions communes</td>\n      <td>NaN</td>\n      <td>Définitions</td>\n      <td>None</td>\n      <td>None</td>\n      <td>NaN</td>\n      <td>Dispositions communes, Définitions</td>\n      <td>You will be given one belgian statutory law ar...</td>\n      <td>Quelles entités sont considérées comme faisant...</td>\n    </tr>\n    <tr>\n      <th>4</th>\n      <td>4</td>\n      <td>5</td>\n      <td>Art. 1.4.1, Code Bruxellois de l'Air, du Clima...</td>\n      <td>Le plan régional Air-Climat-énergie, ci-après ...</td>\n      <td>regional</td>\n      <td>Code Bruxellois de l'Air, du Climat et de la M...</td>\n      <td>Dispositions communes</td>\n      <td>NaN</td>\n      <td>Plan régional air-climat-énergie</td>\n      <td>Contenu et portée du plan</td>\n      <td>None</td>\n      <td>NaN</td>\n      <td>Dispositions communes, Plan régional air-clima...</td>\n      <td>You will be given one belgian statutory law ar...</td>\n      <td>Quelles sont les parties composant le plan rég...</td>\n    </tr>\n    <tr>\n      <th>5</th>\n      <td>5</td>\n      <td>6</td>\n      <td>Art. 1.4.2, Code Bruxellois de l'Air, du Clima...</td>\n      <td>Les plans, les programmes et les documents d'o...</td>\n      <td>regional</td>\n      <td>Code Bruxellois de l'Air, du Climat et de la M...</td>\n      <td>Dispositions communes</td>\n      <td>NaN</td>\n      <td>Plan régional air-climat-énergie</td>\n      <td>Contenu et portée du plan</td>\n      <td>None</td>\n      <td>NaN</td>\n      <td>Dispositions communes, Plan régional air-clima...</td>\n      <td>You will be given one belgian statutory law ar...</td>\n      <td>La politique d'aménagement du territoire et de...</td>\n    </tr>\n    <tr>\n      <th>6</th>\n      <td>6</td>\n      <td>7</td>\n      <td>Art. 1.4.3, Code Bruxellois de l'Air, du Clima...</td>\n      <td>Le plan est établi tous les cinq ans. Il reste...</td>\n      <td>regional</td>\n      <td>Code Bruxellois de l'Air, du Climat et de la M...</td>\n      <td>Dispositions communes</td>\n      <td>NaN</td>\n      <td>Plan régional air-climat-énergie</td>\n      <td>Contenu et portée du plan</td>\n      <td>None</td>\n      <td>NaN</td>\n      <td>Dispositions communes, Plan régional air-clima...</td>\n      <td>You will be given one belgian statutory law ar...</td>\n      <td>À quelle fréquence est-il établi (le plan) et ...</td>\n    </tr>\n    <tr>\n      <th>7</th>\n      <td>7</td>\n      <td>8</td>\n      <td>Art. 1.4.4, Code Bruxellois de l'Air, du Clima...</td>\n      <td>Le plan est soumis à une évaluation environnem...</td>\n      <td>regional</td>\n      <td>Code Bruxellois de l'Air, du Climat et de la M...</td>\n      <td>Dispositions communes</td>\n      <td>NaN</td>\n      <td>Plan régional air-climat-énergie</td>\n      <td>Procédure d'élaboration du plan</td>\n      <td>Evaluation environnementale</td>\n      <td>NaN</td>\n      <td>Dispositions communes, Plan régional air-clima...</td>\n      <td>You will be given one belgian statutory law ar...</td>\n      <td>Quelles sont les dispositions du présent Code ...</td>\n    </tr>\n    <tr>\n      <th>8</th>\n      <td>8</td>\n      <td>9</td>\n      <td>Art. 1.4.5, Code Bruxellois de l'Air, du Clima...</td>\n      <td>En collaboration avec les administrations régi...</td>\n      <td>regional</td>\n      <td>Code Bruxellois de l'Air, du Climat et de la M...</td>\n      <td>Dispositions communes</td>\n      <td>NaN</td>\n      <td>Plan régional air-climat-énergie</td>\n      <td>Procédure d'élaboration du plan</td>\n      <td>Evaluation environnementale</td>\n      <td>NaN</td>\n      <td>Dispositions communes, Plan régional air-clima...</td>\n      <td>You will be given one belgian statutory law ar...</td>\n      <td>Quelles sont les administrations régionales co...</td>\n    </tr>\n    <tr>\n      <th>9</th>\n      <td>9</td>\n      <td>10</td>\n      <td>Art. 1.4.6, Code Bruxellois de l'Air, du Clima...</td>\n      <td>L'avant-projet de plan tel qu'approuvé par le ...</td>\n      <td>regional</td>\n      <td>Code Bruxellois de l'Air, du Climat et de la M...</td>\n      <td>Dispositions communes</td>\n      <td>NaN</td>\n      <td>Plan régional air-climat-énergie</td>\n      <td>Procédure d'élaboration du plan</td>\n      <td>Evaluation environnementale</td>\n      <td>NaN</td>\n      <td>Dispositions communes, Plan régional air-clima...</td>\n      <td>You will be given one belgian statutory law ar...</td>\n      <td>Quelles informations doivent être incluses dan...</td>\n    </tr>\n    <tr>\n      <th>10</th>\n      <td>10</td>\n      <td>11</td>\n      <td>Art. 1.4.7, Code Bruxellois de l'Air, du Clima...</td>\n      <td>Le Gouvernement transmet le projet de plan à B...</td>\n      <td>regional</td>\n      <td>Code Bruxellois de l'Air, du Climat et de la M...</td>\n      <td>Dispositions communes</td>\n      <td>NaN</td>\n      <td>Plan régional air-climat-énergie</td>\n      <td>Procédure d'élaboration du plan</td>\n      <td>Evaluation environnementale</td>\n      <td>NaN</td>\n      <td>Dispositions communes, Plan régional air-clima...</td>\n      <td>You will be given one belgian statutory law ar...</td>\n      <td>Quelles autorités reçoivent le projet de plan ...</td>\n    </tr>\n  </tbody>\n</table>\n</div>"
     },
     "execution_count": 5,
     "metadata": {},
     "output_type": "execute_result"
    }
   ],
   "source": [
    "df"
   ],
   "metadata": {
    "collapsed": false,
    "ExecuteTime": {
     "end_time": "2024-03-04T23:31:48.873118Z",
     "start_time": "2024-03-04T23:31:48.845890600Z"
    }
   },
   "id": "354d4bbace123e5d"
  },
  {
   "cell_type": "code",
   "execution_count": null,
   "outputs": [],
   "source": [],
   "metadata": {
    "collapsed": false
   },
   "id": "632651341afdfaf5"
  }
 ],
 "metadata": {
  "kernelspec": {
   "display_name": "Python 3",
   "language": "python",
   "name": "python3"
  },
  "language_info": {
   "codemirror_mode": {
    "name": "ipython",
    "version": 2
   },
   "file_extension": ".py",
   "mimetype": "text/x-python",
   "name": "python",
   "nbconvert_exporter": "python",
   "pygments_lexer": "ipython2",
   "version": "2.7.6"
  }
 },
 "nbformat": 4,
 "nbformat_minor": 5
}
