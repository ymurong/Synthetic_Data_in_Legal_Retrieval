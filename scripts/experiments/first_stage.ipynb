{
 "cells": [
  {
   "cell_type": "code",
   "execution_count": 2,
   "outputs": [],
   "source": [
    "import pandas as pd"
   ],
   "metadata": {
    "collapsed": false,
    "ExecuteTime": {
     "end_time": "2024-05-18T16:57:06.859763900Z",
     "start_time": "2024-05-18T16:56:50.223560600Z"
    }
   },
   "id": "e3323168fca51ecd"
  },
  {
   "cell_type": "markdown",
   "source": [
    "The first stage is to find the best prompting strategy. For each statutory article, we generate one pseudo query. Then we train our camembert model on synthesized data and then evaluate against the testset.\n"
   ],
   "metadata": {
    "collapsed": false
   },
   "id": "e16d391c2d27045d"
  },
  {
   "cell_type": "markdown",
   "source": [
    "# Common Functions"
   ],
   "metadata": {
    "collapsed": false
   },
   "id": "3272dc383f1ca89"
  },
  {
   "cell_type": "code",
   "execution_count": null,
   "id": "initial_id",
   "metadata": {
    "collapsed": true
   },
   "outputs": [],
   "source": [
    "def create_incremental_data(method, end, start=0, base_path='/content/drive/MyDrive/UVA/Thesis/synthetic_data', ):\n",
    "  # List of CSV file paths\n",
    "  file_paths = file_paths = [\n",
    "        f\"{base_path}/{method}/train-{i}.csv\"\n",
    "        for i in range(start, end + 1)\n",
    "  ]\n",
    "\n",
    "  # Initialize an empty list to store DataFrames\n",
    "  dfs = []\n",
    "\n",
    "  # Loop through the file paths and read each file\n",
    "  for file_path in file_paths:\n",
    "      df = pd.read_csv(file_path)\n",
    "      dfs.append(df)\n",
    "\n",
    "  # Concatenate all DataFrames in the list into a single DataFrame\n",
    "  combined_df = pd.concat(dfs, ignore_index=True)\n",
    "\n",
    "  combined_df[[\"synthetic_question\", \"article_ids\"]].to_csv(f\"/content/drive/MyDrive/UVA/Thesis/synthetic_data/{method}/train-incremental.csv\")"
   ]
  },
  {
   "cell_type": "markdown",
   "source": [
    "# Experiments"
   ],
   "metadata": {
    "collapsed": false
   },
   "id": "61792c1b6b176570"
  },
  {
   "cell_type": "markdown",
   "source": [
    "## Synthesizing\n",
    "The frac means that we generate 5% of queries for each iteration. "
   ],
   "metadata": {
    "collapsed": false
   },
   "id": "80ae071f870e4b06"
  },
  {
   "cell_type": "code",
   "execution_count": null,
   "outputs": [],
   "source": [
    "promptings = [\n",
    "    \"generate_only.txt\",\n",
    "    \"generate_control_question_type.txt\",\n",
    "    \"generate_simple_ask_qcc_fewshots.txt\",\n",
    "    \"generate_describe_then_ask.txt\",\n",
    "    \"generate_describe_then_ask_qcc.txt\",\n",
    "    \"generate_describe_then_ask_fewshots.txt\",\n",
    "    \"generate_describe_then_ask_qcc_fewshots.txt\",\n",
    "]\n",
    "\n",
    "methods = [\n",
    "    \"simple_ask\",\n",
    "    \"simple_ask_tc\",\n",
    "    \"simple_ask_tc_fewshots\",\n",
    "    \"describe_then_ask\",\n",
    "    \"describe_then_ask_qcc\",\n",
    "    \"describe_then_ask_fewshots\",\n",
    "    \"describe_then_ask_qcc_fewshots\",\n",
    "]\n",
    "\n",
    "for prompting, method in zip(promptings, methods):\n",
    "    !python scripts/prompts/gpt_generate.py \\\n",
    "    --prompt scripts/prompts/bsard/{prompting} \\\n",
    "    --save_folder /content/drive/MyDrive/UVA/Thesis/synthetic_data/{method} \\\n",
    "    --corpus scripts/prompts/data/articles_fr.csv \\\n",
    "    --key \"xxxxxxxxx\" \\\n",
    "    --org_key \"xxxxxxx\" \\\n",
    "    --frac \"0.05\" \\\n",
    "    --iterations \"20\" \\\n",
    "    --exclude_index \"\""
   ],
   "metadata": {
    "collapsed": false
   },
   "id": "aaf884661437cd60"
  },
  {
   "cell_type": "markdown",
   "source": [
    "# Training"
   ],
   "metadata": {
    "collapsed": false
   },
   "id": "6a2f2beae00d5856"
  },
  {
   "cell_type": "code",
   "execution_count": null,
   "outputs": [],
   "source": [
    "import pandas as pd\n",
    "\n",
    "end = 19\n",
    "output_suffix = end/10\n",
    "model = \"camembert-base\"\n",
    "\n",
    "epochs = 90\n",
    "\n",
    "for method in methods:\n",
    "    output_path = f\"/content/drive/MyDrive/UVA/Thesis/training/synthesizing/output/{method}/{output_suffix}\"\n",
    "    queries_filepath = f\"/content/drive/MyDrive/UVA/Thesis/synthetic_data/{method}/train-incremental.csv\"\n",
    "    create_incremental_data(method=method,end=end)\n",
    "    !python scripts/baseline/bsard/experiments/train_biencoder_syn.py \\\n",
    "      --model {model} \\\n",
    "      --output_path {output_path} \\\n",
    "      --queries_filepath {queries_filepath} \\\n",
    "      --epochs {epochs}"
   ],
   "metadata": {
    "collapsed": false
   },
   "id": "ae658557c22aab5a"
  },
  {
   "cell_type": "markdown",
   "source": [
    "# Evaluation"
   ],
   "metadata": {
    "collapsed": false
   },
   "id": "3856313907222659"
  },
  {
   "cell_type": "code",
   "execution_count": null,
   "outputs": [],
   "source": [
    "your_checkpoint_path = \"your_checkpoint_path\"\n",
    "!python scripts/baseline/bsard/experiments/test_biencoder.py --checkpoint_path {your_checkpoint_path}"
   ],
   "metadata": {
    "collapsed": false
   },
   "id": "804a641a8b62a2bb"
  }
 ],
 "metadata": {
  "kernelspec": {
   "display_name": "Python 3",
   "language": "python",
   "name": "python3"
  },
  "language_info": {
   "codemirror_mode": {
    "name": "ipython",
    "version": 2
   },
   "file_extension": ".py",
   "mimetype": "text/x-python",
   "name": "python",
   "nbconvert_exporter": "python",
   "pygments_lexer": "ipython2",
   "version": "2.7.6"
  }
 },
 "nbformat": 4,
 "nbformat_minor": 5
}
